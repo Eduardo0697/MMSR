{
 "cells": [
  {
   "cell_type": "code",
   "execution_count": 7,
   "metadata": {
    "pycharm": {
     "is_executing": true
    }
   },
   "outputs": [],
   "source": [
    "import pandas as pd\n",
    "import numpy as np\n",
    "from os.path import exists\n",
    "from tqdm import tqdm\n",
    "import matplotlib.pyplot as plt\n",
    "# Variables that contains the file location\n",
    "from files import *\n",
    "from functions import get_genres\n",
    "import datatable as dt\n",
    "from collections import defaultdict"
   ]
  },
  {
   "cell_type": "markdown",
   "metadata": {},
   "source": [
    "# Data\n",
    "Load the Data"
   ]
  },
  {
   "cell_type": "markdown",
   "metadata": {
    "tags": []
   },
   "source": [
    "## Song informations"
   ]
  },
  {
   "cell_type": "code",
   "execution_count": 76,
   "metadata": {},
   "outputs": [],
   "source": [
    "# genres\n",
    "genres  = dt.fread(file_genres_2).to_pandas()\n",
    "genres.set_index('id', inplace=True)\n",
    "# song infos (artist, song, album name)\n",
    "info  = dt.fread(file_info_2).to_pandas()\n",
    "info.set_index('id', inplace=True)"
   ]
  },
  {
   "cell_type": "code",
   "execution_count": 77,
   "metadata": {},
   "outputs": [],
   "source": [
    "# convert genres to a list\n",
    "genres['genre']= genres.genre.apply(lambda x: get_genres(x))"
   ]
  },
  {
   "cell_type": "code",
   "execution_count": 78,
   "metadata": {},
   "outputs": [
    {
     "data": {
      "text/html": [
       "<div>\n",
       "<style scoped>\n",
       "    .dataframe tbody tr th:only-of-type {\n",
       "        vertical-align: middle;\n",
       "    }\n",
       "\n",
       "    .dataframe tbody tr th {\n",
       "        vertical-align: top;\n",
       "    }\n",
       "\n",
       "    .dataframe thead th {\n",
       "        text-align: right;\n",
       "    }\n",
       "</style>\n",
       "<table border=\"1\" class=\"dataframe\">\n",
       "  <thead>\n",
       "    <tr style=\"text-align: right;\">\n",
       "      <th></th>\n",
       "      <th>genre</th>\n",
       "    </tr>\n",
       "    <tr>\n",
       "      <th>id</th>\n",
       "      <th></th>\n",
       "    </tr>\n",
       "  </thead>\n",
       "  <tbody>\n",
       "    <tr>\n",
       "      <th>0009fFIM1eYThaPg</th>\n",
       "      <td>[pop]</td>\n",
       "    </tr>\n",
       "  </tbody>\n",
       "</table>\n",
       "</div>"
      ],
      "text/plain": [
       "                  genre\n",
       "id                     \n",
       "0009fFIM1eYThaPg  [pop]"
      ]
     },
     "execution_count": 78,
     "metadata": {},
     "output_type": "execute_result"
    }
   ],
   "source": [
    "genres.head(1)"
   ]
  },
  {
   "cell_type": "code",
   "execution_count": 5,
   "metadata": {},
   "outputs": [
    {
     "data": {
      "text/html": [
       "<div>\n",
       "<style scoped>\n",
       "    .dataframe tbody tr th:only-of-type {\n",
       "        vertical-align: middle;\n",
       "    }\n",
       "\n",
       "    .dataframe tbody tr th {\n",
       "        vertical-align: top;\n",
       "    }\n",
       "\n",
       "    .dataframe thead th {\n",
       "        text-align: right;\n",
       "    }\n",
       "</style>\n",
       "<table border=\"1\" class=\"dataframe\">\n",
       "  <thead>\n",
       "    <tr style=\"text-align: right;\">\n",
       "      <th></th>\n",
       "      <th>artist</th>\n",
       "      <th>song</th>\n",
       "      <th>album_name</th>\n",
       "    </tr>\n",
       "    <tr>\n",
       "      <th>id</th>\n",
       "      <th></th>\n",
       "      <th></th>\n",
       "      <th></th>\n",
       "    </tr>\n",
       "  </thead>\n",
       "  <tbody>\n",
       "    <tr>\n",
       "      <th>0009fFIM1eYThaPg</th>\n",
       "      <td>Cheryl</td>\n",
       "      <td>Rain on Me</td>\n",
       "      <td>3 Words</td>\n",
       "    </tr>\n",
       "  </tbody>\n",
       "</table>\n",
       "</div>"
      ],
      "text/plain": [
       "                  artist        song album_name\n",
       "id                                             \n",
       "0009fFIM1eYThaPg  Cheryl  Rain on Me    3 Words"
      ]
     },
     "execution_count": 5,
     "metadata": {},
     "output_type": "execute_result"
    }
   ],
   "source": [
    "info.head(1)"
   ]
  },
  {
   "cell_type": "markdown",
   "metadata": {
    "tags": []
   },
   "source": [
    "## Lyrics based features"
   ]
  },
  {
   "cell_type": "code",
   "execution_count": 6,
   "metadata": {},
   "outputs": [],
   "source": [
    "# lyrics based feature vectors\n",
    "tf_idf  = dt.fread(file_tfidf_2).to_pandas()\n",
    "tf_idf.set_index('id', inplace=True)\n",
    "\n",
    "word2vec  = dt.fread(file_word2vec_2, header=True).to_pandas()\n",
    "word2vec.set_index('id', inplace=True)\n",
    "\n",
    "bert = dt.fread(file_bert_2,header=True).to_pandas()\n",
    "bert.set_index('id', inplace=True)"
   ]
  },
  {
   "cell_type": "markdown",
   "metadata": {},
   "source": [
    "## Audio features"
   ]
  },
  {
   "cell_type": "markdown",
   "metadata": {},
   "source": [
    "### [Low-level] Essentia"
   ]
  },
  {
   "cell_type": "code",
   "execution_count": 7,
   "metadata": {
    "scrolled": true
   },
   "outputs": [
    {
     "data": {
      "text/html": [
       "<div>\n",
       "<style scoped>\n",
       "    .dataframe tbody tr th:only-of-type {\n",
       "        vertical-align: middle;\n",
       "    }\n",
       "\n",
       "    .dataframe tbody tr th {\n",
       "        vertical-align: top;\n",
       "    }\n",
       "\n",
       "    .dataframe thead th {\n",
       "        text-align: right;\n",
       "    }\n",
       "</style>\n",
       "<table border=\"1\" class=\"dataframe\">\n",
       "  <thead>\n",
       "    <tr style=\"text-align: right;\">\n",
       "      <th></th>\n",
       "      <th>lowlevel.average_loudness</th>\n",
       "      <th>lowlevel.barkbands.mean_0</th>\n",
       "      <th>lowlevel.barkbands.mean_1</th>\n",
       "      <th>lowlevel.barkbands.mean_2</th>\n",
       "      <th>lowlevel.barkbands.mean_3</th>\n",
       "      <th>lowlevel.barkbands.mean_4</th>\n",
       "      <th>lowlevel.barkbands.mean_5</th>\n",
       "      <th>lowlevel.barkbands.mean_6</th>\n",
       "      <th>lowlevel.barkbands.mean_7</th>\n",
       "      <th>lowlevel.barkbands.mean_8</th>\n",
       "      <th>...</th>\n",
       "      <th>tonal.thpcp_30</th>\n",
       "      <th>tonal.thpcp_31</th>\n",
       "      <th>tonal.thpcp_32</th>\n",
       "      <th>tonal.thpcp_33</th>\n",
       "      <th>tonal.thpcp_34</th>\n",
       "      <th>tonal.thpcp_35</th>\n",
       "      <th>tonal.tuning_diatonic_strength</th>\n",
       "      <th>tonal.tuning_equal_tempered_deviation</th>\n",
       "      <th>tonal.tuning_frequency</th>\n",
       "      <th>tonal.tuning_nontempered_energy_ratio</th>\n",
       "    </tr>\n",
       "    <tr>\n",
       "      <th>id</th>\n",
       "      <th></th>\n",
       "      <th></th>\n",
       "      <th></th>\n",
       "      <th></th>\n",
       "      <th></th>\n",
       "      <th></th>\n",
       "      <th></th>\n",
       "      <th></th>\n",
       "      <th></th>\n",
       "      <th></th>\n",
       "      <th></th>\n",
       "      <th></th>\n",
       "      <th></th>\n",
       "      <th></th>\n",
       "      <th></th>\n",
       "      <th></th>\n",
       "      <th></th>\n",
       "      <th></th>\n",
       "      <th></th>\n",
       "      <th></th>\n",
       "      <th></th>\n",
       "    </tr>\n",
       "  </thead>\n",
       "  <tbody>\n",
       "    <tr>\n",
       "      <th>0009fFIM1eYThaPg</th>\n",
       "      <td>0.933530</td>\n",
       "      <td>0.003060</td>\n",
       "      <td>0.015665</td>\n",
       "      <td>0.004106</td>\n",
       "      <td>0.001265</td>\n",
       "      <td>0.001988</td>\n",
       "      <td>0.001152</td>\n",
       "      <td>0.000906</td>\n",
       "      <td>0.000356</td>\n",
       "      <td>0.001064</td>\n",
       "      <td>...</td>\n",
       "      <td>0.752843</td>\n",
       "      <td>0.544830</td>\n",
       "      <td>0.394721</td>\n",
       "      <td>0.372330</td>\n",
       "      <td>0.422420</td>\n",
       "      <td>0.855395</td>\n",
       "      <td>0.563373</td>\n",
       "      <td>0.226941</td>\n",
       "      <td>434.193115</td>\n",
       "      <td>0.944264</td>\n",
       "    </tr>\n",
       "    <tr>\n",
       "      <th>0010xmHR6UICBOYT</th>\n",
       "      <td>0.985564</td>\n",
       "      <td>0.009209</td>\n",
       "      <td>0.078349</td>\n",
       "      <td>0.004850</td>\n",
       "      <td>0.001458</td>\n",
       "      <td>0.000622</td>\n",
       "      <td>0.000331</td>\n",
       "      <td>0.001254</td>\n",
       "      <td>0.003589</td>\n",
       "      <td>0.000960</td>\n",
       "      <td>...</td>\n",
       "      <td>0.119888</td>\n",
       "      <td>0.325183</td>\n",
       "      <td>0.882466</td>\n",
       "      <td>0.917528</td>\n",
       "      <td>0.421067</td>\n",
       "      <td>0.563627</td>\n",
       "      <td>0.500238</td>\n",
       "      <td>0.263457</td>\n",
       "      <td>434.193115</td>\n",
       "      <td>0.981752</td>\n",
       "    </tr>\n",
       "  </tbody>\n",
       "</table>\n",
       "<p>2 rows × 1034 columns</p>\n",
       "</div>"
      ],
      "text/plain": [
       "                  lowlevel.average_loudness  lowlevel.barkbands.mean_0  \\\n",
       "id                                                                       \n",
       "0009fFIM1eYThaPg                   0.933530                   0.003060   \n",
       "0010xmHR6UICBOYT                   0.985564                   0.009209   \n",
       "\n",
       "                  lowlevel.barkbands.mean_1  lowlevel.barkbands.mean_2  \\\n",
       "id                                                                       \n",
       "0009fFIM1eYThaPg                   0.015665                   0.004106   \n",
       "0010xmHR6UICBOYT                   0.078349                   0.004850   \n",
       "\n",
       "                  lowlevel.barkbands.mean_3  lowlevel.barkbands.mean_4  \\\n",
       "id                                                                       \n",
       "0009fFIM1eYThaPg                   0.001265                   0.001988   \n",
       "0010xmHR6UICBOYT                   0.001458                   0.000622   \n",
       "\n",
       "                  lowlevel.barkbands.mean_5  lowlevel.barkbands.mean_6  \\\n",
       "id                                                                       \n",
       "0009fFIM1eYThaPg                   0.001152                   0.000906   \n",
       "0010xmHR6UICBOYT                   0.000331                   0.001254   \n",
       "\n",
       "                  lowlevel.barkbands.mean_7  lowlevel.barkbands.mean_8  ...  \\\n",
       "id                                                                      ...   \n",
       "0009fFIM1eYThaPg                   0.000356                   0.001064  ...   \n",
       "0010xmHR6UICBOYT                   0.003589                   0.000960  ...   \n",
       "\n",
       "                  tonal.thpcp_30  tonal.thpcp_31  tonal.thpcp_32  \\\n",
       "id                                                                 \n",
       "0009fFIM1eYThaPg        0.752843        0.544830        0.394721   \n",
       "0010xmHR6UICBOYT        0.119888        0.325183        0.882466   \n",
       "\n",
       "                  tonal.thpcp_33  tonal.thpcp_34  tonal.thpcp_35  \\\n",
       "id                                                                 \n",
       "0009fFIM1eYThaPg        0.372330        0.422420        0.855395   \n",
       "0010xmHR6UICBOYT        0.917528        0.421067        0.563627   \n",
       "\n",
       "                  tonal.tuning_diatonic_strength  \\\n",
       "id                                                 \n",
       "0009fFIM1eYThaPg                        0.563373   \n",
       "0010xmHR6UICBOYT                        0.500238   \n",
       "\n",
       "                  tonal.tuning_equal_tempered_deviation  \\\n",
       "id                                                        \n",
       "0009fFIM1eYThaPg                               0.226941   \n",
       "0010xmHR6UICBOYT                               0.263457   \n",
       "\n",
       "                  tonal.tuning_frequency  \\\n",
       "id                                         \n",
       "0009fFIM1eYThaPg              434.193115   \n",
       "0010xmHR6UICBOYT              434.193115   \n",
       "\n",
       "                  tonal.tuning_nontempered_energy_ratio  \n",
       "id                                                       \n",
       "0009fFIM1eYThaPg                               0.944264  \n",
       "0010xmHR6UICBOYT                               0.981752  \n",
       "\n",
       "[2 rows x 1034 columns]"
      ]
     },
     "execution_count": 7,
     "metadata": {},
     "output_type": "execute_result"
    }
   ],
   "source": [
    "essentia  = dt.fread(file_essentia).to_pandas()\n",
    "essentia.set_index('id', inplace=True)\n",
    "essentia.head(2)"
   ]
  },
  {
   "cell_type": "markdown",
   "metadata": {},
   "source": [
    "### [Mid-level] BLF: Block-Level features"
   ]
  },
  {
   "cell_type": "code",
   "execution_count": 8,
   "metadata": {
    "tags": []
   },
   "outputs": [],
   "source": [
    "# BLF: Block-Level features\n",
    "\n",
    "blf_correlation  = dt.fread(file_blf_correlation).to_pandas()\n",
    "blf_correlation.set_index('id', inplace=True)\n",
    "\n",
    "blf_deltaspectral  = dt.fread(file_blf_deltaspectral).to_pandas()\n",
    "blf_deltaspectral.set_index('id', inplace=True)\n",
    "\n",
    "blf_spectral  = dt.fread(file_blf_spectral).to_pandas()\n",
    "blf_spectral.set_index('id', inplace=True)\n",
    "\n",
    "blf_spectralcontrast  = dt.fread(file_blf_spectralcontrast).to_pandas()\n",
    "blf_spectralcontrast.set_index('id', inplace=True)\n",
    "\n",
    "blf_vardeltaspectral  = dt.fread(file_blf_vardeltaspectral).to_pandas()\n",
    "blf_vardeltaspectral.set_index('id', inplace=True)\n",
    "\n",
    "blf_logfluc  = dt.fread(file_blf_logfluc)\n",
    "\n",
    "# This is done because in the csv it has an extra column name, \n",
    "# so in case someone with the original dataset tries to run it, it fixes that error\n",
    "# It looks weird, but it is because first i am loading the data into datatable and then pass it to dataframe\n",
    "new_cols = ['id']\n",
    "new_cols.extend(list(blf_logfluc.names[2:]))\n",
    "new_cols = tuple(new_cols)\n",
    "del blf_logfluc[:, -1]\n",
    "\n",
    "blf_logfluc.names = new_cols\n",
    "blf_logfluc = blf_logfluc.to_pandas()\n",
    "blf_logfluc.set_index('id', inplace=True)"
   ]
  },
  {
   "cell_type": "markdown",
   "metadata": {},
   "source": [
    "### [Mid-level] MFCC: Mel Frequency Cepstral Coefficients"
   ]
  },
  {
   "cell_type": "code",
   "execution_count": 9,
   "metadata": {},
   "outputs": [],
   "source": [
    "mfcc_bow  = dt.fread(file_mfcc_bow).to_pandas()\n",
    "mfcc_bow.set_index('id', inplace=True)\n",
    "\n",
    "mfcc_stats  = dt.fread(file_mfcc_stats).to_pandas()\n",
    "mfcc_stats.set_index('id', inplace=True)\n",
    "\n"
   ]
  },
  {
   "cell_type": "markdown",
   "metadata": {},
   "source": [
    "## Video features"
   ]
  },
  {
   "cell_type": "code",
   "execution_count": 10,
   "metadata": {},
   "outputs": [],
   "source": [
    "incp  = dt.fread(file_incp).to_pandas()\n",
    "incp.set_index('id', inplace=True)\n",
    "\n",
    "resnet  = dt.fread(file_resnet).to_pandas()\n",
    "resnet.set_index('id', inplace=True)\n",
    "\n",
    "vgg19  = dt.fread(file_vgg19).to_pandas()\n",
    "vgg19.set_index('id', inplace=True)"
   ]
  },
  {
   "cell_type": "markdown",
   "metadata": {},
   "source": [
    "# Genre Statistics"
   ]
  },
  {
   "cell_type": "code",
   "execution_count": 8,
   "metadata": {},
   "outputs": [
    {
     "data": {
      "text/html": [
       "<div>\n",
       "<style scoped>\n",
       "    .dataframe tbody tr th:only-of-type {\n",
       "        vertical-align: middle;\n",
       "    }\n",
       "\n",
       "    .dataframe tbody tr th {\n",
       "        vertical-align: top;\n",
       "    }\n",
       "\n",
       "    .dataframe thead th {\n",
       "        text-align: right;\n",
       "    }\n",
       "</style>\n",
       "<table border=\"1\" class=\"dataframe\">\n",
       "  <thead>\n",
       "    <tr style=\"text-align: right;\">\n",
       "      <th></th>\n",
       "      <th>Frequency</th>\n",
       "    </tr>\n",
       "  </thead>\n",
       "  <tbody>\n",
       "    <tr>\n",
       "      <th>rock</th>\n",
       "      <td>33912</td>\n",
       "    </tr>\n",
       "    <tr>\n",
       "      <th>pop</th>\n",
       "      <td>28841</td>\n",
       "    </tr>\n",
       "    <tr>\n",
       "      <th>alternative rock</th>\n",
       "      <td>17147</td>\n",
       "    </tr>\n",
       "    <tr>\n",
       "      <th>indie rock</th>\n",
       "      <td>11997</td>\n",
       "    </tr>\n",
       "    <tr>\n",
       "      <th>singer songwriter</th>\n",
       "      <td>10935</td>\n",
       "    </tr>\n",
       "    <tr>\n",
       "      <th>...</th>\n",
       "      <td>...</td>\n",
       "    </tr>\n",
       "    <tr>\n",
       "      <th>indie jazz</th>\n",
       "      <td>1</td>\n",
       "    </tr>\n",
       "    <tr>\n",
       "      <th>rap metalcore</th>\n",
       "      <td>1</td>\n",
       "    </tr>\n",
       "    <tr>\n",
       "      <th>atmospheric dnb</th>\n",
       "      <td>1</td>\n",
       "    </tr>\n",
       "    <tr>\n",
       "      <th>hungarian rock</th>\n",
       "      <td>1</td>\n",
       "    </tr>\n",
       "    <tr>\n",
       "      <th>viral pop</th>\n",
       "      <td>1</td>\n",
       "    </tr>\n",
       "  </tbody>\n",
       "</table>\n",
       "<p>1670 rows × 1 columns</p>\n",
       "</div>"
      ],
      "text/plain": [
       "                   Frequency\n",
       "rock                   33912\n",
       "pop                    28841\n",
       "alternative rock       17147\n",
       "indie rock             11997\n",
       "singer songwriter      10935\n",
       "...                      ...\n",
       "indie jazz                 1\n",
       "rap metalcore              1\n",
       "atmospheric dnb            1\n",
       "hungarian rock             1\n",
       "viral pop                  1\n",
       "\n",
       "[1670 rows x 1 columns]"
      ]
     },
     "execution_count": 8,
     "metadata": {},
     "output_type": "execute_result"
    }
   ],
   "source": [
    "# Number of songs per genre\n",
    "\n",
    "genre_frequencies = defaultdict(int)\n",
    "all_genres = genres.genre\n",
    "for song in all_genres:\n",
    "    for genre in song:\n",
    "        genre_frequencies[genre] += 1\n",
    "dictionary_genres = pd.DataFrame(genre_frequencies, index=[0]).T\n",
    "dictionary_genres.columns = ['Frequency']\n",
    "# sort it\n",
    "dictionary_genres.sort_values(by=['Frequency'], ascending=False, inplace=True)\n",
    "original_dict_size = len(dictionary_genres)\n",
    "dictionary_genres"
   ]
  },
  {
   "cell_type": "code",
   "execution_count": 12,
   "metadata": {},
   "outputs": [
    {
     "name": "stdout",
     "output_type": "stream",
     "text": [
      "Total of genres 1670\n"
     ]
    }
   ],
   "source": [
    "print(\"Total of genres\", original_dict_size)"
   ]
  },
  {
   "cell_type": "code",
   "execution_count": 13,
   "metadata": {},
   "outputs": [
    {
     "name": "stdout",
     "output_type": "stream",
     "text": [
      "No of genres with only one song: 1363\n"
     ]
    }
   ],
   "source": [
    "# Number of Genres with only one song\n",
    "print(\"No of genres with only one song:\",(dictionary_genres < 2).value_counts().values[0])"
   ]
  },
  {
   "cell_type": "code",
   "execution_count": 14,
   "metadata": {},
   "outputs": [
    {
     "data": {
      "image/png": "[encoded data removed]",
      "text/plain": [
       "<Figure size 500x500 with 1 Axes>"
      ]
     },
     "metadata": {},
     "output_type": "display_data"
    }
   ],
   "source": [
    "fig, ax = plt.subplots(1, 1, figsize=(5, 5))\n",
    "ax.plot(np.arange(len(dictionary_genres)), [np.log(f) for f in dictionary_genres['Frequency']])\n",
    "ax.set_xlabel('Rank')\n",
    "ax.set_ylabel('log(Frequency)')\n",
    "ax.set_yticks(np.arange(11))\n",
    "ax.set_title('Genre rank vs log of Frequency (Zipf\\'s law)')\n",
    "ax.grid(True)\n",
    "plt.savefig('./plots/genre_rang_vs_freq.png',bbox_inches='tight')"
   ]
  },
  {
   "cell_type": "code",
   "execution_count": 15,
   "metadata": {},
   "outputs": [
    {
     "name": "stdout",
     "output_type": "stream",
     "text": [
      "dictionary size: 1670\n",
      "\n"
     ]
    },
    {
     "data": {
      "image/png": "[encoded data removed]",
      "text/plain": [
       "<Figure size 1500x500 with 1 Axes>"
      ]
     },
     "metadata": {},
     "output_type": "display_data"
    }
   ],
   "source": [
    "max_frequency_rounded =  round(dictionary_genres['Frequency'][0], -3)\n",
    "bins = [0, 1000, 2000, 4000, 8000, max_frequency_rounded]\n",
    "# statistics before cut off\n",
    "print(f'dictionary size: {original_dict_size}\\n')\n",
    "\n",
    "fig, axs = plt.subplots(1, 1, figsize=(15, 5), sharey=True)\n",
    "axs.hist(dictionary_genres['Frequency'], bins=bins,edgecolor='black', linewidth=1.0)\n",
    "#axs.set_ylim(0, 100) \n",
    "axs.set_xticks(np.arange(0,max_frequency_rounded,2000))\n",
    "axs.set_title('Histogram of genre frequencies')\n",
    "axs.set_xlabel('frequency')\n",
    "axs.set_ylabel('count')\n",
    "axs.grid(False)\n",
    "plt.savefig('./plots/histo_genre_freq.png',bbox_inches='tight')"
   ]
  },
  {
   "cell_type": "code",
   "execution_count": 16,
   "metadata": {},
   "outputs": [
    {
     "data": {
      "image/png": "[encoded data removed]",
      "text/plain": [
       "<Figure size 800x300 with 1 Axes>"
      ]
     },
     "metadata": {},
     "output_type": "display_data"
    }
   ],
   "source": [
    "show_n = 20\n",
    "fig, axs = plt.subplots(1, 1, figsize=(8, 3), sharey=True)\n",
    "axs.bar(list(dictionary_genres.index)[:show_n], dictionary_genres['Frequency'][:show_n])\n",
    "axs.set_title('Top 20 Genres')\n",
    "axs.set_xlabel('Genre')\n",
    "axs.set_ylabel('Frequency')\n",
    "axs.tick_params(axis='x', labelrotation=75)\n",
    "axs.grid(False)\n",
    "plt.savefig('./plots/top20genres.png',bbox_inches='tight')"
   ]
  },
  {
   "cell_type": "code",
   "execution_count": 17,
   "metadata": {},
   "outputs": [
    {
     "name": "stdout",
     "output_type": "stream",
     "text": [
      "count    68641.000000\n",
      "mean         7.176279\n",
      "std          5.432006\n",
      "min          1.000000\n",
      "25%          3.000000\n",
      "50%          6.000000\n",
      "75%         10.000000\n",
      "max         54.000000\n",
      "Name: n_genres, dtype: float64\n"
     ]
    },
    {
     "data": {
      "image/png": "[encoded data removed]",
      "text/plain": [
       "<Figure size 640x480 with 1 Axes>"
      ]
     },
     "metadata": {},
     "output_type": "display_data"
    }
   ],
   "source": [
    "# count genres for each song\n",
    "genres['n_genres']= genres.genre.apply(lambda x: len(x))\n",
    "# get average number of genres\n",
    "print(genres['n_genres'].describe())\n",
    "genres['n_genres'].plot(kind='box', vert=False);\n",
    "# plt.boxplot(genres['n_genres'],vert=False, sym=\"\")\n",
    "plt.grid(True)\n",
    "plt.title(\"Number of genres per track boxplot\")\n",
    "plt.show()"
   ]
  },
  {
   "cell_type": "markdown",
   "metadata": {},
   "source": [
    "That means that at least 50% of the tracks only have between 3 and 10 genres.\n",
    "However, the track with more genres has up to 54 genres, and the tracks with less genres only have one genre"
   ]
  },
  {
   "cell_type": "code",
   "execution_count": 18,
   "metadata": {},
   "outputs": [
    {
     "data": {
      "text/plain": [
       "294.9622754491018"
      ]
     },
     "execution_count": 18,
     "metadata": {},
     "output_type": "execute_result"
    }
   ],
   "source": [
    "# average number of tracks that share one genre\n",
    "dictionary_genres.Frequency.mean()"
   ]
  },
  {
   "cell_type": "markdown",
   "metadata": {},
   "source": [
    "That means that in average 294 tracks share one genre."
   ]
  },
  {
   "cell_type": "code",
   "execution_count": 19,
   "metadata": {},
   "outputs": [],
   "source": [
    "# most common words in lyrics\n",
    "common_words = tf_idf.sum().sort_values(ascending=False)"
   ]
  },
  {
   "cell_type": "code",
   "execution_count": 20,
   "metadata": {
    "tags": []
   },
   "outputs": [
    {
     "data": {
      "image/png": "[encoded data removed]",
      "text/plain": [
       "<Figure size 500x300 with 1 Axes>"
      ]
     },
     "metadata": {},
     "output_type": "display_data"
    }
   ],
   "source": [
    "show_n = 20\n",
    "fig, axs = plt.subplots(1, 1, figsize=(5, 3), sharey=True)\n",
    "axs.bar(list(common_words.index)[:show_n], common_words[:show_n])\n",
    "axs.set_title('Top 20 Words in songs [tf-idf vectors]')\n",
    "axs.set_xlabel('Word')\n",
    "axs.set_ylabel('sum: tf-idf score')\n",
    "axs.tick_params(axis='x', labelrotation=75)\n",
    "axs.grid(False)\n",
    "plt.savefig('./plots/lyrics_top20words.png',bbox_inches='tight')"
   ]
  },
  {
   "cell_type": "markdown",
   "metadata": {},
   "source": [
    "# Feature statistics"
   ]
  },
  {
   "cell_type": "code",
   "execution_count": 9,
   "metadata": {},
   "outputs": [],
   "source": [
    "def get_song_by_genre(genre:str, data:pd.DataFrame):\n",
    "    # return song_ids which the genre fit\n",
    "    songs = []\n",
    "    index = data.index.to_list()\n",
    "    for i, s in enumerate(data.genre):\n",
    "        if genre in s:\n",
    "            songs.append(index[i])\n",
    "    return songs"
   ]
  },
  {
   "cell_type": "code",
   "execution_count": 22,
   "metadata": {},
   "outputs": [],
   "source": [
    "songs_gen1 = get_song_by_genre('metal', genres)\n",
    "songs_gen2 = get_song_by_genre('soul', genres)"
   ]
  },
  {
   "cell_type": "code",
   "execution_count": 23,
   "metadata": {},
   "outputs": [
    {
     "data": {
      "text/plain": [
       "lowlevel.average_loudness                  0.954720\n",
       "lowlevel.barkbands.mean_0                  0.000521\n",
       "lowlevel.barkbands.mean_1                  0.009539\n",
       "lowlevel.barkbands.mean_2                  0.005177\n",
       "lowlevel.barkbands.mean_3                  0.002779\n",
       "                                            ...    \n",
       "tonal.thpcp_35                             0.741682\n",
       "tonal.tuning_diatonic_strength             0.563986\n",
       "tonal.tuning_equal_tempered_deviation      0.162690\n",
       "tonal.tuning_frequency                   438.592018\n",
       "tonal.tuning_nontempered_energy_ratio      0.830550\n",
       "Length: 1034, dtype: float64"
      ]
     },
     "execution_count": 23,
     "metadata": {},
     "output_type": "execute_result"
    }
   ],
   "source": [
    "gen1 = essentia.loc[songs_gen1]\n",
    "gen1.mean()"
   ]
  },
  {
   "cell_type": "code",
   "execution_count": 24,
   "metadata": {},
   "outputs": [
    {
     "data": {
      "text/plain": [
       "lowlevel.average_loudness                  0.923373\n",
       "lowlevel.barkbands.mean_0                  0.000721\n",
       "lowlevel.barkbands.mean_1                  0.009442\n",
       "lowlevel.barkbands.mean_2                  0.003448\n",
       "lowlevel.barkbands.mean_3                  0.001957\n",
       "                                            ...    \n",
       "tonal.thpcp_35                             0.705236\n",
       "tonal.tuning_diatonic_strength             0.596303\n",
       "tonal.tuning_equal_tempered_deviation      0.150675\n",
       "tonal.tuning_frequency                   438.694964\n",
       "tonal.tuning_nontempered_energy_ratio      0.816796\n",
       "Length: 1034, dtype: float64"
      ]
     },
     "execution_count": 24,
     "metadata": {},
     "output_type": "execute_result"
    }
   ],
   "source": [
    "gen2 = essentia.loc[songs_gen2]\n",
    "gen2.mean()"
   ]
  },
  {
   "cell_type": "markdown",
   "metadata": {},
   "source": [
    "## Intersections on one Song"
   ]
  },
  {
   "cell_type": "code",
   "execution_count": 9,
   "metadata": {},
   "outputs": [],
   "source": [
    "def getSongIdByQuery(artist, track):\n",
    "    id_ = info[(info['artist'] == artist) & (info['song'] == track)]\n",
    "    if len(id_) == 0: # If the data entered dont return any song\n",
    "        return None\n",
    "    return id_.index.values[0]"
   ]
  },
  {
   "cell_type": "code",
   "execution_count": 12,
   "metadata": {},
   "outputs": [],
   "source": [
    "# Lyrics\n",
    "top_cosine_tfidf  = dt.fread(f_top_cosine_tfidf, header=True).to_pandas()\n",
    "top_cosine_tfidf.set_index('index', inplace=True)\n",
    "top_cosine_word2vec  = dt.fread(f_top_cosine_word2vec, header=True).to_pandas()\n",
    "top_cosine_word2vec.set_index('index', inplace=True)\n",
    "top_cosine_bert  = dt.fread(f_top_cosine_bert, header=True).to_pandas()\n",
    "top_cosine_bert.set_index('index', inplace=True)"
   ]
  },
  {
   "cell_type": "code",
   "execution_count": 13,
   "metadata": {},
   "outputs": [],
   "source": [
    "# Audio\n",
    "top_cosine_mfcc_bow  = dt.fread(f_top_cosine_mfcc_bow, header=True).to_pandas()\n",
    "top_cosine_mfcc_bow.set_index('index', inplace=True)\n",
    "top_cosine_mfcc_stats  = dt.fread(f_top_cosine_mfcc_stats, header=True).to_pandas()\n",
    "top_cosine_mfcc_stats.set_index('index', inplace=True)\n",
    "top_cosine_essentia  = dt.fread(f_top_cosine_essentia, header=True).to_pandas()\n",
    "top_cosine_essentia.set_index('index', inplace=True)\n",
    "top_cosine_blf_delta_spectral  = dt.fread(f_top_cosine_blf_delta_spectral, header=True).to_pandas()\n",
    "top_cosine_blf_delta_spectral.set_index('index', inplace=True)\n",
    "top_cosine_blf_correlation  = dt.fread(f_top_cosine_blf_correlation, header=True).to_pandas()\n",
    "top_cosine_blf_correlation.set_index('index', inplace=True)\n",
    "top_cosine_blf_logfluc  = dt.fread(f_top_cosine_blf_logfluc, header=True).to_pandas()\n",
    "top_cosine_blf_logfluc.set_index('index', inplace=True)\n",
    "top_cosine_blf_spectral  = dt.fread(f_top_cosine_blf_spectral, header=True).to_pandas()\n",
    "top_cosine_blf_spectral.set_index('index', inplace=True)\n",
    "top_cosine_blf_spectral_contrast  = dt.fread(f_top_cosine_blf_spectral_contrast, header=True).to_pandas()\n",
    "top_cosine_blf_spectral_contrast.set_index('index', inplace=True)\n",
    "top_cosine_blf_vardelta_spectral  = dt.fread(f_top_cosine_blf_vardelta_spectral, header=True).to_pandas()\n",
    "top_cosine_blf_vardelta_spectral.set_index('index', inplace=True)"
   ]
  },
  {
   "cell_type": "code",
   "execution_count": 14,
   "metadata": {},
   "outputs": [],
   "source": [
    "# Video\n",
    "top_cosine_incp  = dt.fread(f_top_cosine_incp, header=True).to_pandas()\n",
    "top_cosine_incp.set_index('index', inplace=True)\n",
    "top_cosine_vgg19  = dt.fread(f_top_cosine_vgg19, header=True).to_pandas()\n",
    "top_cosine_vgg19.set_index('index', inplace=True)\n",
    "top_cosine_resnet  = dt.fread(f_top_cosine_resnet, header=True).to_pandas()\n",
    "top_cosine_resnet.set_index('index', inplace=True)"
   ]
  },
  {
   "cell_type": "code",
   "execution_count": 19,
   "metadata": {},
   "outputs": [],
   "source": [
    "# lets create a dict so we can loop over it\n",
    "features = {\n",
    "    'tfidf': top_cosine_tfidf,\n",
    "    'word2vec': top_cosine_word2vec,\n",
    "    'bert': top_cosine_bert,\n",
    "    'mfcc_bow': top_cosine_mfcc_bow,\n",
    "    'mfcc_stats': top_cosine_mfcc_stats,\n",
    "    'essentia': top_cosine_essentia,\n",
    "    'blf_delta_spectral': top_cosine_blf_delta_spectral,\n",
    "    'blf_correlation': top_cosine_blf_correlation,\n",
    "    'blf_logfluc': top_cosine_blf_logfluc,\n",
    "    'blf_spectral': top_cosine_blf_spectral,\n",
    "    'blf_spectral_contrast': top_cosine_blf_spectral_contrast,\n",
    "    'blf_vardelta_spectral': top_cosine_blf_vardelta_spectral,\n",
    "    'incp': top_cosine_incp,\n",
    "    'vgg19': top_cosine_vgg19,\n",
    "    'resnet': top_cosine_resnet\n",
    "}"
   ]
  },
  {
   "cell_type": "code",
   "execution_count": 121,
   "metadata": {},
   "outputs": [],
   "source": [
    "# get example song\n",
    "song = getSongIdByQuery('The Chameleons', 'Nostalgia')\n",
    "gen = genres.genre.loc[song]\n",
    "k = 10"
   ]
  },
  {
   "cell_type": "code",
   "execution_count": 101,
   "metadata": {},
   "outputs": [],
   "source": [
    "# get a top 10 list of each\n",
    "topklist = {}\n",
    "for name, feature in zip(features.keys(), features.values()):\n",
    "    topklist[name] = feature.loc[song][:k]"
   ]
  },
  {
   "cell_type": "code",
   "execution_count": 103,
   "metadata": {},
   "outputs": [],
   "source": [
    "# get the genres of each song\n",
    "for name, songs in zip(topklist.keys(), topklist.values()):\n",
    "    g = genres.genre.loc[songs.values]\n",
    "    df = topklist[name].to_frame('songid')\n",
    "    topklist[name] = df['genres'] = g"
   ]
  },
  {
   "cell_type": "code",
   "execution_count": 104,
   "metadata": {},
   "outputs": [
    {
     "data": {
      "text/html": [
       "<div>\n",
       "<style scoped>\n",
       "    .dataframe tbody tr th:only-of-type {\n",
       "        vertical-align: middle;\n",
       "    }\n",
       "\n",
       "    .dataframe tbody tr th {\n",
       "        vertical-align: top;\n",
       "    }\n",
       "\n",
       "    .dataframe thead th {\n",
       "        text-align: right;\n",
       "    }\n",
       "</style>\n",
       "<table border=\"1\" class=\"dataframe\">\n",
       "  <thead>\n",
       "    <tr style=\"text-align: right;\">\n",
       "      <th></th>\n",
       "      <th>genre</th>\n",
       "    </tr>\n",
       "    <tr>\n",
       "      <th>id</th>\n",
       "      <th></th>\n",
       "    </tr>\n",
       "  </thead>\n",
       "  <tbody>\n",
       "    <tr>\n",
       "      <th>tqc0WIiaCUyFpbU0</th>\n",
       "      <td>[punk, rock, new wave, classic rock, alternati...</td>\n",
       "    </tr>\n",
       "    <tr>\n",
       "      <th>dqBAZj6zw8CsY4Cf</th>\n",
       "      <td>[rock, christian rock, hard rock, alternative ...</td>\n",
       "    </tr>\n",
       "    <tr>\n",
       "      <th>m71LtJ9HiCiE4ewm</th>\n",
       "      <td>[rock, punk, alternative rock, pop punk, skate...</td>\n",
       "    </tr>\n",
       "    <tr>\n",
       "      <th>mTYfNBxLlX14TmTK</th>\n",
       "      <td>[punk, rock, rockabilly, alternative rock, har...</td>\n",
       "    </tr>\n",
       "    <tr>\n",
       "      <th>dfMDtC99XxwJBTho</th>\n",
       "      <td>[pop]</td>\n",
       "    </tr>\n",
       "    <tr>\n",
       "      <th>n01h8e2sZgEOTzkf</th>\n",
       "      <td>[punk, rock, pop punk, alternative rock, grung...</td>\n",
       "    </tr>\n",
       "    <tr>\n",
       "      <th>e2KFUcizqLnGSPcy</th>\n",
       "      <td>[pop, rock, pop rock, folk, folk rock]</td>\n",
       "    </tr>\n",
       "    <tr>\n",
       "      <th>mc489rIzGdg83sG4</th>\n",
       "      <td>[indietronica, pop, new rave, indie pop, indie...</td>\n",
       "    </tr>\n",
       "    <tr>\n",
       "      <th>bberSed6okySBCjE</th>\n",
       "      <td>[rock, alternative rock, indie rock]</td>\n",
       "    </tr>\n",
       "    <tr>\n",
       "      <th>TjO2mDe3AnekjwiE</th>\n",
       "      <td>[alternative rock]</td>\n",
       "    </tr>\n",
       "  </tbody>\n",
       "</table>\n",
       "</div>"
      ],
      "text/plain": [
       "                                                              genre\n",
       "id                                                                 \n",
       "tqc0WIiaCUyFpbU0  [punk, rock, new wave, classic rock, alternati...\n",
       "dqBAZj6zw8CsY4Cf  [rock, christian rock, hard rock, alternative ...\n",
       "m71LtJ9HiCiE4ewm  [rock, punk, alternative rock, pop punk, skate...\n",
       "mTYfNBxLlX14TmTK  [punk, rock, rockabilly, alternative rock, har...\n",
       "dfMDtC99XxwJBTho                                              [pop]\n",
       "n01h8e2sZgEOTzkf  [punk, rock, pop punk, alternative rock, grung...\n",
       "e2KFUcizqLnGSPcy             [pop, rock, pop rock, folk, folk rock]\n",
       "mc489rIzGdg83sG4  [indietronica, pop, new rave, indie pop, indie...\n",
       "bberSed6okySBCjE               [rock, alternative rock, indie rock]\n",
       "TjO2mDe3AnekjwiE                                 [alternative rock]"
      ]
     },
     "execution_count": 104,
     "metadata": {},
     "output_type": "execute_result"
    }
   ],
   "source": [
    "topklist['bert'].to_frame()"
   ]
  },
  {
   "cell_type": "code",
   "execution_count": 132,
   "metadata": {},
   "outputs": [
    {
     "data": {
      "text/plain": [
       "array([ True,  True,  True,  True, False,  True,  True, False,  True,\n",
       "        True])"
      ]
     },
     "execution_count": 132,
     "metadata": {},
     "output_type": "execute_result"
    }
   ],
   "source": [
    "#for name, songs in zip(topklist.keys(), topklist.values()):\n",
    "\n",
    "matches = np.zeros(k)\n",
    "for i, s in enumerate(topklist['bert']):\n",
    "    matches[i] = len(set(gen) & set(s))\n",
    "    \n",
    "arr = matches > 0\n",
    "arr"
   ]
  },
  {
   "cell_type": "code",
   "execution_count": 133,
   "metadata": {},
   "outputs": [
    {
     "data": {
      "text/plain": [
       "array([5., 2., 2., 3., 0., 2., 1., 0., 2., 1.])"
      ]
     },
     "execution_count": 133,
     "metadata": {},
     "output_type": "execute_result"
    }
   ],
   "source": [
    "matches"
   ]
  },
  {
   "cell_type": "code",
   "execution_count": null,
   "metadata": {},
   "outputs": [],
   "source": []
  }
 ],
 "metadata": {
  "kernelspec": {
   "display_name": "Python 3 (ipykernel)",
   "language": "python",
   "name": "python3"
  },
  "language_info": {
   "codemirror_mode": {
    "name": "ipython",
    "version": 3
   },
   "file_extension": ".py",
   "mimetype": "text/x-python",
   "name": "python",
   "nbconvert_exporter": "python",
   "pygments_lexer": "ipython3",
   "version": "3.9.13"
  }
 },
 "nbformat": 4,
 "nbformat_minor": 4
}
