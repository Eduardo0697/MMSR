{
 "cells": [
  {
   "cell_type": "code",
   "execution_count": null,
   "metadata": {},
   "outputs": [],
   "source": [
    "import pandas as pd\n",
    "import numpy as np\n",
    "from tqdm import tqdm\n",
    "import datatable as dt"
   ]
  },
  {
   "cell_type": "code",
   "execution_count": null,
   "metadata": {},
   "outputs": [],
   "source": [
    "# DATA FILES PROVIDED Task1\n",
    "file_tfidf = \"./../MMSR_WT22_Task1_Data/id_lyrics_tf-idf_mmsr.tsv\"\n",
    "file_word2vec = \"./../MMSR_WT22_Task1_Data/id_lyrics_word2vec_mmsr.tsv\"\n",
    "file_bert = \"./../MMSR_WT22_Task1_Data/id_bert_mmsr.tsv\"\n",
    "file_genres = \"./../MMSR_WT22_Task1_Data/id_genres_mmsr.tsv\"\n",
    "file_info = \"./../MMSR_WT22_Task1_Data/id_information_mmsr.tsv\""
   ]
  },
  {
   "cell_type": "code",
   "execution_count": null,
   "metadata": {},
   "outputs": [],
   "source": [
    "# DATA FILES PROVIDED Task 2\n",
    "file_genres_2 = \"./../task2/id_genres_mmsr.tsv\"\n",
    "file_info_2 = \"./../task2/id_information_mmsr.tsv\"\n",
    "\n",
    "# EMD Layer, Lyrics Features\n",
    "file_tfidf_2 = \"./../task2/id_lyrics_tf-idf_mmsr.tsv\"\n",
    "file_word2vec_2 = \"./../task2/id_lyrics_word2vec_mmsr.tsv\"\n",
    "file_bert_2 = \"./../task2/id_lyrics_bert_mmsr.tsv\"\n",
    "\n",
    "## Audio Layer, Acoustic Features\n",
    "### Block Level features (BLFs)\n",
    "file_blf_correlation = \"./../task2/id_blf_correlation_mmsr.tsv\"\n",
    "file_blf_deltaspectral = \"./../task2/id_blf_deltaspectral_mmsr.tsv\"\n",
    "file_blf_logfluc = \"./../task2/id_blf_logfluc_mmsr.tsv\"\n",
    "file_blf_spectral = \"./../task2/id_blf_spectral_mmsr.tsv\"\n",
    "file_blf_spectralcontrast = \"./../task2/id_blf_spectralcontrast_mmsr.tsv\"\n",
    "file_blf_vardeltaspectral = \"./../task2/id_blf_vardeltaspectral_mmsr.tsv\"\n",
    "\n",
    "#### Mel Frequency Cepstral Coefficients (MFFCs)\n",
    "file_mfcc_bow = \"./../task2/id_mfcc_bow_mmsr.tsv\"\n",
    "file_mfcc_stats = \"./../task2/id_mfcc_stats_mmsr.tsv\"\n",
    "file_essentia = \"./../task2/id_essentia_mmsr.tsv\"\n",
    "\n",
    "## UGC Layer , Video Features\n",
    "## Derivative Content DC, Video Features\n",
    "file_resnet = \"./../task2/id_resnet_mmsr.tsv\"\n",
    "file_vgg19 = \"./../task2/id_vgg19_mmsr.tsv\"\n",
    "file_incp = \"./../task2/id_incp_mmsr.tsv\""
   ]
  },
  {
   "cell_type": "code",
   "execution_count": null,
   "metadata": {},
   "outputs": [],
   "source": [
    "%%time\n",
    "genres = dt.fread(file_genres_2).to_pandas()\n",
    "genres.set_index('id', inplace=True)\n",
    "# genres.head()"
   ]
  },
  {
   "cell_type": "code",
   "execution_count": null,
   "metadata": {},
   "outputs": [],
   "source": [
    "%%time\n",
    "info = dt.fread(file_info_2).to_pandas()\n",
    "info.set_index('id', inplace=True)\n",
    "# info.head()"
   ]
  },
  {
   "cell_type": "code",
   "execution_count": null,
   "metadata": {},
   "outputs": [],
   "source": [
    "%%time\n",
    "tf_idf = dt.fread(file_tfidf_2).to_pandas()\n",
    "tf_idf.set_index('id', inplace=True)\n",
    "# tf_idf.head()"
   ]
  },
  {
   "cell_type": "code",
   "execution_count": null,
   "metadata": {},
   "outputs": [],
   "source": [
    "%%time\n",
    "# First row is the head\n",
    "word2vec = dt.fread(file_word2vec_2, header=True).to_pandas()\n",
    "word2vec.set_index('id', inplace=True)\n",
    "# word2vec.head()"
   ]
  },
  {
   "cell_type": "code",
   "execution_count": null,
   "metadata": {},
   "outputs": [],
   "source": [
    "%%time\n",
    "# First row is the head\n",
    "bert = dt.fread(file_bert_2, header=True).to_pandas()\n",
    "bert.set_index('id', inplace=True)\n",
    "# bert.head()"
   ]
  },
  {
   "cell_type": "code",
   "execution_count": null,
   "metadata": {},
   "outputs": [],
   "source": [
    "%%time\n",
    "blf_correlation = dt.fread(file_blf_correlation).to_pandas()\n",
    "blf_correlation.set_index('id', inplace=True)\n",
    "# blf_correlation.head()"
   ]
  },
  {
   "cell_type": "code",
   "execution_count": null,
   "metadata": {},
   "outputs": [],
   "source": [
    "%%time\n",
    "blf_deltaspectral = dt.fread(file_blf_deltaspectral).to_pandas()\n",
    "blf_deltaspectral.set_index('id', inplace=True)\n",
    "# blf_deltaspectral.head()"
   ]
  },
  {
   "cell_type": "code",
   "execution_count": null,
   "metadata": {},
   "outputs": [],
   "source": [
    "%%time\n",
    "blf_logfluc = dt.fread(file_blf_logfluc)\n",
    "\n",
    "# This is done because in the csv it has an extra column name, \n",
    "# so in case someone with the original dataset tries to run it, it fixes that error\n",
    "# It looks weird, but it is because first i am loading the data into datatable and then pass it to dataframe\n",
    "new_cols = ['id']\n",
    "new_cols.extend(list(blf_logfluc.names[2:]))\n",
    "new_cols = tuple(new_cols)\n",
    "del blf_logfluc[:, -1]\n",
    "\n",
    "blf_logfluc.names = new_cols\n",
    "blf_logfluc = blf_logfluc.to_pandas()\n",
    "blf_logfluc.set_index('id', inplace=True)"
   ]
  },
  {
   "cell_type": "code",
   "execution_count": null,
   "metadata": {},
   "outputs": [],
   "source": [
    "# blf_logfluc.head()"
   ]
  },
  {
   "cell_type": "code",
   "execution_count": null,
   "metadata": {},
   "outputs": [],
   "source": [
    "%%time\n",
    "blf_spectral = dt.fread(file_blf_spectral).to_pandas()\n",
    "blf_spectral.set_index('id', inplace=True)\n",
    "# blf_spectral.head()"
   ]
  },
  {
   "cell_type": "code",
   "execution_count": null,
   "metadata": {},
   "outputs": [],
   "source": [
    "%%time\n",
    "blf_spectralcontrast = dt.fread(file_blf_spectralcontrast).to_pandas()\n",
    "blf_spectralcontrast.set_index('id', inplace=True)\n",
    "# blf_spectralcontrast.head()"
   ]
  },
  {
   "cell_type": "code",
   "execution_count": null,
   "metadata": {},
   "outputs": [],
   "source": [
    "%%time\n",
    "blf_vardeltaspectral = dt.fread(file_blf_vardeltaspectral).to_pandas()\n",
    "blf_vardeltaspectral.set_index('id', inplace=True)\n",
    "# blf_vardeltaspectral.head()"
   ]
  },
  {
   "cell_type": "code",
   "execution_count": null,
   "metadata": {},
   "outputs": [],
   "source": [
    "%%time\n",
    "essentia = dt.fread(file_essentia).to_pandas()\n",
    "essentia.set_index('id', inplace=True)\n",
    "# essentia.head()"
   ]
  },
  {
   "cell_type": "code",
   "execution_count": null,
   "metadata": {},
   "outputs": [],
   "source": [
    "%%time\n",
    "incp = dt.fread(file_incp).to_pandas()\n",
    "incp.set_index('id', inplace=True)\n",
    "# incp.head()"
   ]
  },
  {
   "cell_type": "code",
   "execution_count": null,
   "metadata": {},
   "outputs": [],
   "source": [
    "%%time\n",
    "mfcc_bow = dt.fread(file_mfcc_bow).to_pandas()\n",
    "mfcc_bow.set_index('id', inplace=True)\n",
    "# mfcc_bow.head()"
   ]
  },
  {
   "cell_type": "code",
   "execution_count": null,
   "metadata": {},
   "outputs": [],
   "source": [
    "%%time\n",
    "mfcc_stats = dt.fread(file_mfcc_stats).to_pandas()\n",
    "mfcc_stats.set_index('id', inplace=True)\n",
    "#  mfcc_stats.head()"
   ]
  },
  {
   "cell_type": "code",
   "execution_count": null,
   "metadata": {},
   "outputs": [],
   "source": [
    "%%time\n",
    "resnet = dt.fread(file_resnet).to_pandas()\n",
    "resnet.set_index('id', inplace=True)\n",
    "# resnet.head()"
   ]
  },
  {
   "cell_type": "code",
   "execution_count": null,
   "metadata": {},
   "outputs": [],
   "source": [
    "%%time\n",
    "vgg19 = dt.fread(file_vgg19).to_pandas()\n",
    "vgg19.set_index('id', inplace=True)\n",
    "# vgg19.head()"
   ]
  },
  {
   "cell_type": "code",
   "execution_count": null,
   "metadata": {},
   "outputs": [],
   "source": [
    "# Audio Features\n",
    "print(\"Lyrics Features\\n\")\n",
    "\n",
    "## Mel Frequency Cepstral Coefficients (MFFCs)\n",
    "print(\"tfidf dataset:   \", tf_idf.shape)\n",
    "print(\"word2vec dataset:\", word2vec.shape)\n",
    "print(\"bert dataset:    \", bert.shape)\n",
    "\n",
    "# Audio Features\n",
    "print(\"\\n\\nAudio Features\\n\")\n",
    "\n",
    "## Mel Frequency Cepstral Coefficients (MFFCs)\n",
    "print(\"mfcc bow dataset:  \", mfcc_bow.shape)\n",
    "print(\"mfcc stats dataset:\", mfcc_stats.shape)\n",
    "\n",
    "## Essentia: An Audio Analysis Library for Music Information Retrieval\n",
    "print(\"essentia dataset:  \", essentia.shape)\n",
    "\n",
    "## Block Level features (BLFs)\n",
    "print(\"blf correlation dataset:     \", blf_correlation.shape)\n",
    "print(\"blf delta spectral dataset:  \", blf_deltaspectral.shape)\n",
    "print(\"blf logfluc dataset:         \", blf_logfluc.shape)\n",
    "print(\"blf spectral dataset:        \", blf_spectral.shape)\n",
    "print(\"blf spectralcontrast dataset:\", blf_spectralcontrast.shape)\n",
    "print(\"blf vardeltaspectral dataset:\", blf_vardeltaspectral.shape)\n",
    "\n",
    "# Video Features\n",
    "print(\"\\n\\nVideo Features\\n\")\n",
    "\n",
    "## Derivative Content DC, Video Features\n",
    "print(\"incp dataset:      \", incp.shape)\n",
    "print(\"resnet dataset:    \", resnet.shape)\n",
    "print(\"vgg19 dataset:     \", vgg19.shape)"
   ]
  },
  {
   "cell_type": "markdown",
   "metadata": {},
   "source": [
    "## Similiraty functions"
   ]
  },
  {
   "cell_type": "code",
   "execution_count": null,
   "metadata": {},
   "outputs": [],
   "source": [
    "def get_cosine_similarity2(arr_a, arr_b):\n",
    "    norms_a = np.linalg.norm(arr_a, axis=-1)[:, np.newaxis]\n",
    "    norms_b = np.linalg.norm(arr_b, axis=-1)[:, np.newaxis]\n",
    "    divisor = norms_a * norms_b.T\n",
    "    dotp = arr_a @ arr_b.T\n",
    "    r = np.divide(dotp, divisor, np.zeros_like(divisor), where=divisor > 0)\n",
    "    return r\n",
    "\n",
    "\n",
    "def get_jaccard_similarity2(arr_a: np.array, arr_b: np.array):\n",
    "    norms_a = np.linalg.norm(arr_a, axis=-1)[:, np.newaxis]\n",
    "    norms_b = np.linalg.norm(arr_b, axis=-1)[:, np.newaxis]\n",
    "    divisor = norms_a + norms_b.T\n",
    "    dotp = arr_a @ arr_b.T\n",
    "    r = dotp / (divisor - dotp)\n",
    "    return r\n",
    "\n",
    "\n",
    "def get_innerProduct_similarity2(arr_a: np.array, arr_b: np.array):\n",
    "    return arr_a @ arr_b.T"
   ]
  },
  {
   "cell_type": "markdown",
   "metadata": {},
   "source": [
    "## Helper Functions"
   ]
  },
  {
   "cell_type": "code",
   "execution_count": null,
   "metadata": {},
   "outputs": [],
   "source": [
    "def getSongIdByQuery(artist, track):\n",
    "    id_ = info[(info['artist'] == artist) & (info['song'] == track)]\n",
    "    if len(id_) == 0:  # If the data entered dont return any song\n",
    "        return None\n",
    "    return id_.index.values[0]"
   ]
  },
  {
   "cell_type": "code",
   "execution_count": null,
   "metadata": {},
   "outputs": [],
   "source": [
    "# def topIdsQueries(dfQueries, topNumber):\n",
    "#     # Data frame to store the top 100 of each query\n",
    "#     top_idsongs = pd.DataFrame(index=dfQueries.index.values, columns=range(topNumber))\n",
    "#     for query in tqdm(dfQueries.index.values): # For each query done get the top 100 songs\n",
    "# #         top = dfQueries.loc[query].sort_values(ascending=False).drop(axis=0, index=[query]).head(topNumber) # Top n songs values\n",
    "#         top = dfQueries.loc[query].sort_values(ascending=False).head(topNumber)\n",
    "#         top_idsongs.loc[query] = top.index.values\n",
    "#     return top_idsongs"
   ]
  },
  {
   "cell_type": "code",
   "execution_count": null,
   "metadata": {},
   "outputs": [],
   "source": [
    "def compute_in_batches(arr_a: np.array, arr_b: np.array, simfunction, batches: int = 1):\n",
    "    # arr_a: full Data array\n",
    "    # arr_b: full Data array arr_a or just some songs\n",
    "    # batches: split arr_b into chunks for multiprocess and less RAM usage    \n",
    "    splits_b = np.array_split(arr_b, batches, axis=0)\n",
    "    r = []\n",
    "    for b in tqdm(splits_b):\n",
    "        r.append(reduce_precision_np(simfunction(arr_a, b)))\n",
    "    return np.concatenate(r, axis=1)"
   ]
  },
  {
   "cell_type": "code",
   "execution_count": null,
   "metadata": {},
   "outputs": [],
   "source": [
    "def compute_in_batches_topIds(results: np.array, idx_values: np.array, top: int = 100, batches: int = 1):\n",
    "    splits_b = np.array_split(results, batches, axis=0)\n",
    "    return np.concatenate([idx_values[np.argsort(b * -1, axis=1)][:, :top] for b in tqdm(splits_b)], axis=0)"
   ]
  },
  {
   "cell_type": "markdown",
   "metadata": {},
   "source": [
    "## Computation of Top 100 ids with different feature vectors cosine similarity"
   ]
  },
  {
   "cell_type": "markdown",
   "metadata": {},
   "source": [
    "### TF-IDF -- Cosine Similarity"
   ]
  },
  {
   "cell_type": "code",
   "execution_count": null,
   "metadata": {},
   "outputs": [],
   "source": [
    "result = compute_in_batches(tf_idf.to_numpy(), tf_idf.to_numpy(), simfunction=get_cosine_similarity2, batches=100)"
   ]
  },
  {
   "cell_type": "code",
   "execution_count": null,
   "metadata": {},
   "outputs": [],
   "source": [
    "print(result.shape)\n",
    "np.fill_diagonal(result, -1)"
   ]
  },
  {
   "cell_type": "code",
   "execution_count": null,
   "metadata": {},
   "outputs": [],
   "source": [
    "dt.Frame(pd.DataFrame(compute_in_batches_topIds(result, tf_idf.index.values, 100, 100),\n",
    "                      index=tf_idf.index.values).reset_index()).to_csv(\n",
    "    './TopIdsTask2/top_ids_cosine_tfidf_complete_.csv')"
   ]
  },
  {
   "cell_type": "code",
   "execution_count": null,
   "metadata": {},
   "outputs": [],
   "source": [
    "del result"
   ]
  },
  {
   "cell_type": "markdown",
   "metadata": {},
   "source": [
    "### Word2vec -- Cosine Similarity"
   ]
  },
  {
   "cell_type": "code",
   "execution_count": null,
   "metadata": {},
   "outputs": [],
   "source": [
    "result = compute_in_batches(word2vec.to_numpy(), word2vec.to_numpy(), simfunction=get_cosine_similarity2, batches=100)"
   ]
  },
  {
   "cell_type": "code",
   "execution_count": null,
   "metadata": {},
   "outputs": [],
   "source": [
    "print(result.shape)\n",
    "np.fill_diagonal(result, -1)"
   ]
  },
  {
   "cell_type": "code",
   "execution_count": null,
   "metadata": {},
   "outputs": [],
   "source": [
    "dt.Frame(pd.DataFrame(compute_in_batches_topIds(result, word2vec.index.values, 100, 100),\n",
    "                      index=word2vec.index.values).reset_index()).to_csv(\n",
    "    './TopIdsTask2/top_ids_cosine_word2vec_complete_.csv')"
   ]
  },
  {
   "cell_type": "code",
   "execution_count": null,
   "metadata": {},
   "outputs": [],
   "source": [
    "del result"
   ]
  },
  {
   "cell_type": "markdown",
   "metadata": {},
   "source": [
    "### Bert -- Cosine Similarity"
   ]
  },
  {
   "cell_type": "code",
   "execution_count": null,
   "metadata": {},
   "outputs": [],
   "source": [
    "result = compute_in_batches(bert.to_numpy(), bert.to_numpy(), simfunction=get_cosine_similarity2, batches=100)"
   ]
  },
  {
   "cell_type": "code",
   "execution_count": null,
   "metadata": {},
   "outputs": [],
   "source": [
    "print(result.shape)\n",
    "np.fill_diagonal(result, -1)"
   ]
  },
  {
   "cell_type": "code",
   "execution_count": null,
   "metadata": {},
   "outputs": [],
   "source": [
    "dt.Frame(pd.DataFrame(compute_in_batches_topIds(result, bert.index.values, 100, 100),\n",
    "                      index=bert.index.values).reset_index()).to_csv('./TopIdsTask2/top_ids_cosine_bert_complete_.csv')"
   ]
  },
  {
   "cell_type": "code",
   "execution_count": null,
   "metadata": {},
   "outputs": [],
   "source": [
    "del result"
   ]
  },
  {
   "cell_type": "markdown",
   "metadata": {},
   "source": [
    "### MFCC BoW -- Cosine Similarity"
   ]
  },
  {
   "cell_type": "code",
   "execution_count": null,
   "metadata": {},
   "outputs": [],
   "source": [
    "result = compute_in_batches(mfcc_bow.to_numpy(), mfcc_bow.to_numpy(), simfunction=get_cosine_similarity2, batches=100)"
   ]
  },
  {
   "cell_type": "code",
   "execution_count": null,
   "metadata": {},
   "outputs": [],
   "source": [
    "print(result.shape)\n",
    "np.fill_diagonal(result, -1)"
   ]
  },
  {
   "cell_type": "code",
   "execution_count": null,
   "metadata": {},
   "outputs": [],
   "source": [
    "dt.Frame(pd.DataFrame(compute_in_batches_topIds(result, mfcc_bow.index.values, 100, 100),\n",
    "                      index=mfcc_bow.index.values).reset_index()).to_csv(\n",
    "    './TopIdsTask2/top_ids_cosine_mfcc_bow_complete_.csv')"
   ]
  },
  {
   "cell_type": "code",
   "execution_count": null,
   "metadata": {},
   "outputs": [],
   "source": [
    "del result"
   ]
  },
  {
   "cell_type": "markdown",
   "metadata": {},
   "source": [
    "### MFCC stats -- Cosine Similarity"
   ]
  },
  {
   "cell_type": "code",
   "execution_count": null,
   "metadata": {},
   "outputs": [],
   "source": [
    "result = compute_in_batches(mfcc_stats.to_numpy(), mfcc_stats.to_numpy(), simfunction=get_cosine_similarity2,\n",
    "                            batches=100)"
   ]
  },
  {
   "cell_type": "code",
   "execution_count": null,
   "metadata": {},
   "outputs": [],
   "source": [
    "print(result.shape)\n",
    "np.fill_diagonal(result, -1)"
   ]
  },
  {
   "cell_type": "code",
   "execution_count": null,
   "metadata": {},
   "outputs": [],
   "source": [
    "dt.Frame(pd.DataFrame(compute_in_batches_topIds(result, mfcc_stats.index.values, 100, 100),\n",
    "                      index=mfcc_stats.index.values).reset_index()).to_csv(\n",
    "    './TopIdsTask2/top_ids_cosine_mfcc_stats_complete_.csv')"
   ]
  },
  {
   "cell_type": "code",
   "execution_count": null,
   "metadata": {},
   "outputs": [],
   "source": [
    "del result"
   ]
  },
  {
   "cell_type": "markdown",
   "metadata": {},
   "source": [
    "### Essentia -- Cosine Similarity"
   ]
  },
  {
   "cell_type": "code",
   "execution_count": null,
   "metadata": {},
   "outputs": [],
   "source": [
    "result = compute_in_batches(essentia.to_numpy(), essentia.to_numpy(), simfunction=get_cosine_similarity2, batches=100)"
   ]
  },
  {
   "cell_type": "code",
   "execution_count": null,
   "metadata": {},
   "outputs": [],
   "source": [
    "print(result.shape)\n",
    "np.fill_diagonal(result, -1)"
   ]
  },
  {
   "cell_type": "code",
   "execution_count": null,
   "metadata": {},
   "outputs": [],
   "source": [
    "dt.Frame(pd.DataFrame(compute_in_batches_topIds(result, essentia.index.values, 100, 100),\n",
    "                      index=essentia.index.values).reset_index()).to_csv(\n",
    "    './TopIdsTask2/top_ids_cosine_essentia_complete_.csv')"
   ]
  },
  {
   "cell_type": "code",
   "execution_count": null,
   "metadata": {},
   "outputs": [],
   "source": [
    "del result"
   ]
  },
  {
   "cell_type": "markdown",
   "metadata": {},
   "source": [
    "### INCP -- Cosine Similarity"
   ]
  },
  {
   "cell_type": "code",
   "execution_count": null,
   "metadata": {},
   "outputs": [],
   "source": [
    "result = compute_in_batches(incp.to_numpy(), incp.to_numpy(), simfunction=get_cosine_similarity2, batches=100)"
   ]
  },
  {
   "cell_type": "code",
   "execution_count": null,
   "metadata": {},
   "outputs": [],
   "source": [
    "print(result.shape)\n",
    "np.fill_diagonal(result, -1)"
   ]
  },
  {
   "cell_type": "code",
   "execution_count": null,
   "metadata": {},
   "outputs": [],
   "source": [
    "dt.Frame(pd.DataFrame(compute_in_batches_topIds(result, incp.index.values, 100, 100),\n",
    "                      index=incp.index.values).reset_index()).to_csv('./TopIdsTask2/top_ids_cosine_incp_complete_.csv')"
   ]
  },
  {
   "cell_type": "code",
   "execution_count": null,
   "metadata": {},
   "outputs": [],
   "source": [
    "del result"
   ]
  },
  {
   "cell_type": "markdown",
   "metadata": {},
   "source": [
    "### resnet -- Cosine Similarity"
   ]
  },
  {
   "cell_type": "code",
   "execution_count": null,
   "metadata": {},
   "outputs": [],
   "source": [
    "result = compute_in_batches(resnet.to_numpy(), resnet.to_numpy(), simfunction=get_cosine_similarity2, batches=100)"
   ]
  },
  {
   "cell_type": "code",
   "execution_count": null,
   "metadata": {},
   "outputs": [],
   "source": [
    "print(result.shape)\n",
    "np.fill_diagonal(result, -1)"
   ]
  },
  {
   "cell_type": "code",
   "execution_count": null,
   "metadata": {},
   "outputs": [],
   "source": [
    "dt.Frame(pd.DataFrame(compute_in_batches_topIds(result, resnet.index.values, 100, 100),\n",
    "                      index=resnet.index.values).reset_index()).to_csv(\n",
    "    './TopIdsTask2/top_ids_cosine_resnet_complete_.csv')"
   ]
  },
  {
   "cell_type": "code",
   "execution_count": null,
   "metadata": {},
   "outputs": [],
   "source": [
    "del result"
   ]
  },
  {
   "cell_type": "markdown",
   "metadata": {},
   "source": [
    "### vgg19 -- Cosine Similarity"
   ]
  },
  {
   "cell_type": "code",
   "execution_count": null,
   "metadata": {},
   "outputs": [],
   "source": [
    "result = compute_in_batches(vgg19.to_numpy(), vgg19.to_numpy(), simfunction=get_cosine_similarity2, batches=100)"
   ]
  },
  {
   "cell_type": "code",
   "execution_count": null,
   "metadata": {},
   "outputs": [],
   "source": [
    "print(result.shape)\n",
    "np.fill_diagonal(result, -1)"
   ]
  },
  {
   "cell_type": "code",
   "execution_count": null,
   "metadata": {},
   "outputs": [],
   "source": [
    "dt.Frame(pd.DataFrame(compute_in_batches_topIds(result, vgg19.index.values, 100, 100),\n",
    "                      index=vgg19.index.values).reset_index()).to_csv(\n",
    "    './TopIdsTask2/top_ids_cosine_vgg19_complete_.csv')"
   ]
  },
  {
   "cell_type": "code",
   "execution_count": null,
   "metadata": {},
   "outputs": [],
   "source": [
    "del result"
   ]
  },
  {
   "cell_type": "markdown",
   "metadata": {},
   "source": [
    "### BLF correlation -- Cosine Similarity"
   ]
  },
  {
   "cell_type": "code",
   "execution_count": null,
   "metadata": {},
   "outputs": [],
   "source": [
    "result = compute_in_batches(blf_correlation.to_numpy(), blf_correlation.to_numpy(), simfunction=get_cosine_similarity2,\n",
    "                            batches=100)"
   ]
  },
  {
   "cell_type": "code",
   "execution_count": null,
   "metadata": {},
   "outputs": [],
   "source": [
    "print(result.shape)\n",
    "np.fill_diagonal(result, -1)"
   ]
  },
  {
   "cell_type": "code",
   "execution_count": null,
   "metadata": {},
   "outputs": [],
   "source": [
    "dt.Frame(pd.DataFrame(compute_in_batches_topIds(result, blf_correlation.index.values, 100, 100),\n",
    "                      index=blf_correlation.index.values).reset_index()).to_csv(\n",
    "    './TopIdsTask2/top_ids_cosine_blf_correlation_complete_.csv')"
   ]
  },
  {
   "cell_type": "code",
   "execution_count": null,
   "metadata": {},
   "outputs": [],
   "source": [
    "del result"
   ]
  },
  {
   "cell_type": "markdown",
   "metadata": {},
   "source": [
    "### BLF delta spectral -- Cosine Similarity"
   ]
  },
  {
   "cell_type": "code",
   "execution_count": null,
   "metadata": {},
   "outputs": [],
   "source": [
    "result = compute_in_batches(blf_deltaspectral.to_numpy(), blf_deltaspectral.to_numpy(),\n",
    "                            simfunction=get_cosine_similarity2, batches=100)"
   ]
  },
  {
   "cell_type": "code",
   "execution_count": null,
   "metadata": {},
   "outputs": [],
   "source": [
    "print(result.shape)\n",
    "np.fill_diagonal(result, -1)"
   ]
  },
  {
   "cell_type": "code",
   "execution_count": null,
   "metadata": {},
   "outputs": [],
   "source": [
    "dt.Frame(pd.DataFrame(compute_in_batches_topIds(result, blf_deltaspectral.index.values, 100, 100),\n",
    "                      index=blf_deltaspectral.index.values).reset_index()).to_csv(\n",
    "    './TopIdsTask2/top_ids_cosine_blf_deltaspectral_complete_.csv')"
   ]
  },
  {
   "cell_type": "code",
   "execution_count": null,
   "metadata": {},
   "outputs": [],
   "source": [
    "del result"
   ]
  },
  {
   "cell_type": "markdown",
   "metadata": {},
   "source": [
    "### BLF logfluc -- Cosine Similarity"
   ]
  },
  {
   "cell_type": "code",
   "execution_count": null,
   "metadata": {},
   "outputs": [],
   "source": [
    "result = compute_in_batches(blf_logfluc.to_numpy(), blf_logfluc.to_numpy(), simfunction=get_cosine_similarity2,\n",
    "                            batches=100)"
   ]
  },
  {
   "cell_type": "code",
   "execution_count": null,
   "metadata": {},
   "outputs": [],
   "source": [
    "print(result.shape)\n",
    "np.fill_diagonal(result, -1)"
   ]
  },
  {
   "cell_type": "code",
   "execution_count": null,
   "metadata": {},
   "outputs": [],
   "source": [
    "dt.Frame(pd.DataFrame(compute_in_batches_topIds(result, blf_logfluc.index.values, 100, 100),\n",
    "                      index=blf_logfluc.index.values).reset_index()).to_csv(\n",
    "    './TopIdsTask2/top_ids_cosine_blf_logfluc_complete_.csv')"
   ]
  },
  {
   "cell_type": "code",
   "execution_count": null,
   "metadata": {},
   "outputs": [],
   "source": [
    "del result"
   ]
  },
  {
   "cell_type": "markdown",
   "metadata": {},
   "source": [
    "### BLF spectral -- Cosine Similarity"
   ]
  },
  {
   "cell_type": "code",
   "execution_count": null,
   "metadata": {},
   "outputs": [],
   "source": [
    "result = compute_in_batches(blf_spectral.to_numpy(), blf_spectral.to_numpy(), simfunction=get_cosine_similarity2,\n",
    "                            batches=100)"
   ]
  },
  {
   "cell_type": "code",
   "execution_count": null,
   "metadata": {},
   "outputs": [],
   "source": [
    "print(result.shape)\n",
    "np.fill_diagonal(result, -1)"
   ]
  },
  {
   "cell_type": "code",
   "execution_count": null,
   "metadata": {},
   "outputs": [],
   "source": [
    "dt.Frame(pd.DataFrame(compute_in_batches_topIds(result, blf_spectral.index.values, 100, 100),\n",
    "                      index=blf_spectral.index.values).reset_index()).to_csv(\n",
    "    './TopIdsTask2/top_ids_cosine_blf_spectral_complete_.csv')"
   ]
  },
  {
   "cell_type": "code",
   "execution_count": null,
   "metadata": {},
   "outputs": [],
   "source": [
    "del result"
   ]
  },
  {
   "cell_type": "markdown",
   "metadata": {},
   "source": [
    "### BLF spectral contrast -- Cosine Similarity"
   ]
  },
  {
   "cell_type": "code",
   "execution_count": null,
   "metadata": {},
   "outputs": [],
   "source": [
    "result = compute_in_batches(blf_spectralcontrast.to_numpy(), blf_spectralcontrast.to_numpy(),\n",
    "                            simfunction=get_cosine_similarity2, batches=100)"
   ]
  },
  {
   "cell_type": "code",
   "execution_count": null,
   "metadata": {},
   "outputs": [],
   "source": [
    "print(result.shape)\n",
    "np.fill_diagonal(result, -1)"
   ]
  },
  {
   "cell_type": "code",
   "execution_count": null,
   "metadata": {},
   "outputs": [],
   "source": [
    "dt.Frame(pd.DataFrame(compute_in_batches_topIds(result, blf_spectralcontrast.index.values, 100, 100),\n",
    "                      index=blf_spectralcontrast.index.values).reset_index()).to_csv(\n",
    "    './TopIdsTask2/top_ids_cosine_blf_spectralcontrast_complete_.csv')"
   ]
  },
  {
   "cell_type": "code",
   "execution_count": null,
   "metadata": {},
   "outputs": [],
   "source": [
    "del result"
   ]
  },
  {
   "cell_type": "markdown",
   "metadata": {},
   "source": [
    "### BLF var delta spectral-- Cosine Similarity"
   ]
  },
  {
   "cell_type": "code",
   "execution_count": null,
   "metadata": {},
   "outputs": [],
   "source": [
    "result = compute_in_batches(blf_vardeltaspectral.to_numpy(), blf_vardeltaspectral.to_numpy(),\n",
    "                            simfunction=get_cosine_similarity2, batches=100)"
   ]
  },
  {
   "cell_type": "code",
   "execution_count": null,
   "metadata": {},
   "outputs": [],
   "source": [
    "print(result.shape)\n",
    "np.fill_diagonal(result, -1)"
   ]
  },
  {
   "cell_type": "code",
   "execution_count": null,
   "metadata": {},
   "outputs": [],
   "source": [
    "dt.Frame(pd.DataFrame(compute_in_batches_topIds(result, blf_vardeltaspectral.index.values, 100, 100),\n",
    "                      index=blf_vardeltaspectral.index.values).reset_index()).to_csv(\n",
    "    './TopIdsTask2/top_ids_cosine_blf_vardeltaspectral_complete_.csv')"
   ]
  },
  {
   "cell_type": "code",
   "execution_count": null,
   "metadata": {},
   "outputs": [],
   "source": [
    "del result"
   ]
  },
  {
   "cell_type": "markdown",
   "metadata": {},
   "source": [
    "## TOP 100 Ids using each song as a query with jaccard similarity"
   ]
  },
  {
   "cell_type": "markdown",
   "metadata": {},
   "source": [
    "### TF-IDF -- Jaccard Similarity"
   ]
  },
  {
   "cell_type": "code",
   "execution_count": null,
   "metadata": {},
   "outputs": [],
   "source": [
    "result = compute_in_batches(tf_idf.to_numpy(), tf_idf.to_numpy(), simfunction=get_jaccard_similarity2, batches=100)"
   ]
  },
  {
   "cell_type": "code",
   "execution_count": null,
   "metadata": {},
   "outputs": [],
   "source": [
    "print(result.shape)\n",
    "np.fill_diagonal(result, -1)"
   ]
  },
  {
   "cell_type": "code",
   "execution_count": null,
   "metadata": {},
   "outputs": [],
   "source": [
    "dt.Frame(pd.DataFrame(compute_in_batches_topIds(result, tf_idf.index.values, 100, 500),\n",
    "                      index=tf_idf.index.values).reset_index()).to_csv(\n",
    "    './TopIdsTask2/top_ids_jaccard_tfidf_complete.csv')"
   ]
  },
  {
   "cell_type": "code",
   "execution_count": null,
   "metadata": {},
   "outputs": [],
   "source": [
    "del result"
   ]
  },
  {
   "cell_type": "markdown",
   "metadata": {},
   "source": [
    "### Word2vec -- Jaccard Similarity"
   ]
  },
  {
   "cell_type": "code",
   "execution_count": null,
   "metadata": {},
   "outputs": [],
   "source": [
    "result = compute_in_batches(word2vec.to_numpy(), word2vec.to_numpy(), simfunction=get_jaccard_similarity2, batches=100)"
   ]
  },
  {
   "cell_type": "code",
   "execution_count": null,
   "metadata": {},
   "outputs": [],
   "source": [
    "print(result.shape)\n",
    "np.fill_diagonal(result, -1)"
   ]
  },
  {
   "cell_type": "code",
   "execution_count": null,
   "metadata": {},
   "outputs": [],
   "source": [
    "dt.Frame(pd.DataFrame(compute_in_batches_topIds(result, word2vec.index.values, 100, 100),\n",
    "                      index=word2vec.index.values).reset_index()).to_csv(\n",
    "    './TopIdsTask2/top_ids_jaccard_word2vec_complete.csv')"
   ]
  },
  {
   "cell_type": "code",
   "execution_count": null,
   "metadata": {},
   "outputs": [],
   "source": [
    "del result"
   ]
  },
  {
   "cell_type": "markdown",
   "metadata": {},
   "source": [
    "### Bert -- jaccard Similarity"
   ]
  },
  {
   "cell_type": "code",
   "execution_count": null,
   "metadata": {},
   "outputs": [],
   "source": [
    "result = compute_in_batches(bert.to_numpy(), bert.to_numpy(), simfunction=get_jaccard_similarity2, batches=100)"
   ]
  },
  {
   "cell_type": "code",
   "execution_count": null,
   "metadata": {},
   "outputs": [],
   "source": [
    "print(result.shape)\n",
    "np.fill_diagonal(result, -1)"
   ]
  },
  {
   "cell_type": "code",
   "execution_count": null,
   "metadata": {},
   "outputs": [],
   "source": [
    "dt.Frame(pd.DataFrame(compute_in_batches_topIds(result, bert.index.values, 100, 100),\n",
    "                      index=bert.index.values).reset_index()).to_csv('./TopIdsTask2/top_ids_jaccard_bert_complete.csv')"
   ]
  },
  {
   "cell_type": "code",
   "execution_count": null,
   "metadata": {},
   "outputs": [],
   "source": [
    "del result"
   ]
  },
  {
   "cell_type": "markdown",
   "metadata": {},
   "source": [
    "### MFCC BoW -- jaccard Similarity"
   ]
  },
  {
   "cell_type": "code",
   "execution_count": null,
   "metadata": {},
   "outputs": [],
   "source": [
    "result = compute_in_batches(mfcc_bow.to_numpy(), mfcc_bow.to_numpy(), simfunction=get_jaccard_similarity2, batches=100)"
   ]
  },
  {
   "cell_type": "code",
   "execution_count": null,
   "metadata": {},
   "outputs": [],
   "source": [
    "print(result.shape)\n",
    "np.fill_diagonal(result, -1)"
   ]
  },
  {
   "cell_type": "code",
   "execution_count": null,
   "metadata": {},
   "outputs": [],
   "source": [
    "dt.Frame(pd.DataFrame(compute_in_batches_topIds(result, mfcc_bow.index.values, 100, 100),\n",
    "                      index=mfcc_bow.index.values).reset_index()).to_csv(\n",
    "    './TopIdsTask2/top_ids_jaccard_mfcc_bow_complete.csv')"
   ]
  },
  {
   "cell_type": "code",
   "execution_count": null,
   "metadata": {},
   "outputs": [],
   "source": [
    "del result"
   ]
  },
  {
   "cell_type": "markdown",
   "metadata": {},
   "source": [
    "### MFCC stats -- jaccard Similarity"
   ]
  },
  {
   "cell_type": "code",
   "execution_count": null,
   "metadata": {},
   "outputs": [],
   "source": [
    "result = compute_in_batches(mfcc_stats.to_numpy(), mfcc_stats.to_numpy(), simfunction=get_jaccard_similarity2,\n",
    "                            batches=100)"
   ]
  },
  {
   "cell_type": "code",
   "execution_count": null,
   "metadata": {},
   "outputs": [],
   "source": [
    "print(result.shape)\n",
    "np.fill_diagonal(result, -1)"
   ]
  },
  {
   "cell_type": "code",
   "execution_count": null,
   "metadata": {},
   "outputs": [],
   "source": [
    "dt.Frame(pd.DataFrame(compute_in_batches_topIds(result, mfcc_stats.index.values, 100, 100),\n",
    "                      index=mfcc_stats.index.values).reset_index()).to_csv(\n",
    "    './TopIdsTask2/top_ids_jaccard_mfcc_stats_complete.csv')"
   ]
  },
  {
   "cell_type": "code",
   "execution_count": null,
   "metadata": {},
   "outputs": [],
   "source": [
    "del result"
   ]
  },
  {
   "cell_type": "markdown",
   "metadata": {},
   "source": [
    "### Essentia -- jaccard Similarity"
   ]
  },
  {
   "cell_type": "code",
   "execution_count": null,
   "metadata": {},
   "outputs": [],
   "source": [
    "result = compute_in_batches(essentia.to_numpy(), essentia.to_numpy(), simfunction=get_jaccard_similarity2, batches=100)"
   ]
  },
  {
   "cell_type": "code",
   "execution_count": null,
   "metadata": {},
   "outputs": [],
   "source": [
    "print(result.shape)\n",
    "np.fill_diagonal(result, -1)"
   ]
  },
  {
   "cell_type": "code",
   "execution_count": null,
   "metadata": {},
   "outputs": [],
   "source": [
    "dt.Frame(pd.DataFrame(compute_in_batches_topIds(result, essentia.index.values, 100, 100),\n",
    "                      index=essentia.index.values).reset_index()).to_csv(\n",
    "    './TopIdsTask2/top_ids_jaccard_essentia_complete.csv')"
   ]
  },
  {
   "cell_type": "code",
   "execution_count": null,
   "metadata": {},
   "outputs": [],
   "source": [
    "del result"
   ]
  },
  {
   "cell_type": "markdown",
   "metadata": {},
   "source": [
    "### INCP -- jaccard Similarity"
   ]
  },
  {
   "cell_type": "code",
   "execution_count": null,
   "metadata": {},
   "outputs": [],
   "source": [
    "result = compute_in_batches(incp.to_numpy(), incp.to_numpy(), simfunction=get_jaccard_similarity2, batches=100)"
   ]
  },
  {
   "cell_type": "code",
   "execution_count": null,
   "metadata": {},
   "outputs": [],
   "source": [
    "print(result.shape)\n",
    "np.fill_diagonal(result, -1)"
   ]
  },
  {
   "cell_type": "code",
   "execution_count": null,
   "metadata": {},
   "outputs": [],
   "source": [
    "dt.Frame(pd.DataFrame(compute_in_batches_topIds(result, incp.index.values, 100, 100),\n",
    "                      index=incp.index.values).reset_index()).to_csv('./TopIdsTask2/top_ids_jaccard_incp_complete.csv')"
   ]
  },
  {
   "cell_type": "code",
   "execution_count": null,
   "metadata": {},
   "outputs": [],
   "source": [
    "del result"
   ]
  },
  {
   "cell_type": "markdown",
   "metadata": {},
   "source": [
    "### resnet -- jaccard Similarity"
   ]
  },
  {
   "cell_type": "code",
   "execution_count": null,
   "metadata": {},
   "outputs": [],
   "source": [
    "result = compute_in_batches(resnet.to_numpy(), resnet.to_numpy(), simfunction=get_jaccard_similarity2, batches=100)"
   ]
  },
  {
   "cell_type": "code",
   "execution_count": null,
   "metadata": {},
   "outputs": [],
   "source": [
    "print(result.shape)\n",
    "np.fill_diagonal(result, -1)"
   ]
  },
  {
   "cell_type": "code",
   "execution_count": null,
   "metadata": {},
   "outputs": [],
   "source": [
    "dt.Frame(pd.DataFrame(compute_in_batches_topIds(result, resnet.index.values, 100, 100),\n",
    "                      index=resnet.index.values).reset_index()).to_csv(\n",
    "    './TopIdsTask2/top_ids_jaccard_resnet_complete.csv')"
   ]
  },
  {
   "cell_type": "code",
   "execution_count": null,
   "metadata": {},
   "outputs": [],
   "source": [
    "del result"
   ]
  },
  {
   "cell_type": "markdown",
   "metadata": {},
   "source": [
    "### vgg19 -- jaccard Similarity"
   ]
  },
  {
   "cell_type": "code",
   "execution_count": null,
   "metadata": {},
   "outputs": [],
   "source": [
    "result = compute_in_batches(vgg19.to_numpy(), vgg19.to_numpy(), simfunction=get_jaccard_similarity2, batches=100)"
   ]
  },
  {
   "cell_type": "code",
   "execution_count": null,
   "metadata": {},
   "outputs": [],
   "source": [
    "print(result.shape)\n",
    "np.fill_diagonal(result, -1)"
   ]
  },
  {
   "cell_type": "code",
   "execution_count": null,
   "metadata": {},
   "outputs": [],
   "source": [
    "dt.Frame(pd.DataFrame(compute_in_batches_topIds(result, vgg19.index.values, 100, 100),\n",
    "                      index=vgg19.index.values).reset_index()).to_csv(\n",
    "    './TopIdsTask2/top_ids_jaccard_vgg19_complete.csv')"
   ]
  },
  {
   "cell_type": "code",
   "execution_count": null,
   "metadata": {},
   "outputs": [],
   "source": [
    "del result"
   ]
  },
  {
   "cell_type": "markdown",
   "metadata": {},
   "source": [
    "### BLF correlation -- jaccard Similarity"
   ]
  },
  {
   "cell_type": "code",
   "execution_count": null,
   "metadata": {},
   "outputs": [],
   "source": [
    "result = compute_in_batches(blf_correlation.to_numpy(), blf_correlation.to_numpy(), simfunction=get_jaccard_similarity2,\n",
    "                            batches=100)"
   ]
  },
  {
   "cell_type": "code",
   "execution_count": null,
   "metadata": {},
   "outputs": [],
   "source": [
    "print(result.shape)\n",
    "np.fill_diagonal(result, -1)"
   ]
  },
  {
   "cell_type": "code",
   "execution_count": null,
   "metadata": {},
   "outputs": [],
   "source": [
    "dt.Frame(pd.DataFrame(compute_in_batches_topIds(result, blf_correlation.index.values, 100, 100),\n",
    "                      index=blf_correlation.index.values).reset_index()).to_csv(\n",
    "    './TopIdsTask2/top_ids_jaccard_blf_correlation_complete.csv')"
   ]
  },
  {
   "cell_type": "code",
   "execution_count": null,
   "metadata": {},
   "outputs": [],
   "source": [
    "del result"
   ]
  },
  {
   "cell_type": "markdown",
   "metadata": {},
   "source": [
    "### BLF delta spectral -- jaccard Similarity"
   ]
  },
  {
   "cell_type": "code",
   "execution_count": null,
   "metadata": {},
   "outputs": [],
   "source": [
    "result = compute_in_batches(blf_deltaspectral.to_numpy(), blf_deltaspectral.to_numpy(),\n",
    "                            simfunction=get_jaccard_similarity2, batches=100)"
   ]
  },
  {
   "cell_type": "code",
   "execution_count": null,
   "metadata": {},
   "outputs": [],
   "source": [
    "print(result.shape)\n",
    "np.fill_diagonal(result, -1)"
   ]
  },
  {
   "cell_type": "code",
   "execution_count": null,
   "metadata": {},
   "outputs": [],
   "source": [
    "dt.Frame(pd.DataFrame(compute_in_batches_topIds(result, blf_deltaspectral.index.values, 100, 100),\n",
    "                      index=blf_deltaspectral.index.values).reset_index()).to_csv(\n",
    "    './TopIdsTask2/top_ids_jaccard_blf_deltaspectral_complete.csv')"
   ]
  },
  {
   "cell_type": "code",
   "execution_count": null,
   "metadata": {},
   "outputs": [],
   "source": [
    "del result"
   ]
  },
  {
   "cell_type": "markdown",
   "metadata": {},
   "source": [
    "### BLF logfluc -- jaccard Similarity"
   ]
  },
  {
   "cell_type": "code",
   "execution_count": null,
   "metadata": {},
   "outputs": [],
   "source": [
    "result = compute_in_batches(blf_logfluc.to_numpy(), blf_logfluc.to_numpy(), simfunction=get_jaccard_similarity2,\n",
    "                            batches=100)"
   ]
  },
  {
   "cell_type": "code",
   "execution_count": null,
   "metadata": {},
   "outputs": [],
   "source": [
    "print(result.shape)\n",
    "np.fill_diagonal(result, -1)"
   ]
  },
  {
   "cell_type": "code",
   "execution_count": null,
   "metadata": {},
   "outputs": [],
   "source": [
    "dt.Frame(pd.DataFrame(compute_in_batches_topIds(result, blf_logfluc.index.values, 100, 100),\n",
    "                      index=blf_logfluc.index.values).reset_index()).to_csv(\n",
    "    './TopIdsTask2/top_ids_jaccard_blf_logfluc_complete.csv')"
   ]
  },
  {
   "cell_type": "code",
   "execution_count": null,
   "metadata": {},
   "outputs": [],
   "source": [
    "del result"
   ]
  },
  {
   "cell_type": "markdown",
   "metadata": {},
   "source": [
    "### BLF spectral -- jaccard Similarity"
   ]
  },
  {
   "cell_type": "code",
   "execution_count": null,
   "metadata": {},
   "outputs": [],
   "source": [
    "result = compute_in_batches(blf_spectral.to_numpy(), blf_spectral.to_numpy(), simfunction=get_jaccard_similarity2,\n",
    "                            batches=100)"
   ]
  },
  {
   "cell_type": "code",
   "execution_count": null,
   "metadata": {},
   "outputs": [],
   "source": [
    "print(result.shape)\n",
    "np.fill_diagonal(result, -1)"
   ]
  },
  {
   "cell_type": "code",
   "execution_count": null,
   "metadata": {},
   "outputs": [],
   "source": [
    "dt.Frame(pd.DataFrame(compute_in_batches_topIds(result, blf_spectral.index.values, 100, 100),\n",
    "                      index=blf_spectral.index.values).reset_index()).to_csv(\n",
    "    './TopIdsTask2/top_ids_jaccard_blf_spectral_complete.csv')"
   ]
  },
  {
   "cell_type": "code",
   "execution_count": null,
   "metadata": {},
   "outputs": [],
   "source": [
    "del result"
   ]
  },
  {
   "cell_type": "markdown",
   "metadata": {},
   "source": [
    "### BLF spectral contrast -- jaccard Similarity"
   ]
  },
  {
   "cell_type": "code",
   "execution_count": null,
   "metadata": {},
   "outputs": [],
   "source": [
    "result = compute_in_batches(blf_spectralcontrast.to_numpy(), blf_spectralcontrast.to_numpy(),\n",
    "                            simfunction=get_jaccard_similarity2, batches=100)"
   ]
  },
  {
   "cell_type": "code",
   "execution_count": null,
   "metadata": {},
   "outputs": [],
   "source": [
    "print(result.shape)\n",
    "np.fill_diagonal(result, -1)"
   ]
  },
  {
   "cell_type": "code",
   "execution_count": null,
   "metadata": {},
   "outputs": [],
   "source": [
    "dt.Frame(pd.DataFrame(compute_in_batches_topIds(result, blf_spectralcontrast.index.values, 100, 100),\n",
    "                      index=blf_spectralcontrast.index.values).reset_index()).to_csv(\n",
    "    './TopIdsTask2/top_ids_jaccard_blf_spectralcontrast_complete.csv')"
   ]
  },
  {
   "cell_type": "code",
   "execution_count": null,
   "metadata": {},
   "outputs": [],
   "source": [
    "del result"
   ]
  },
  {
   "cell_type": "markdown",
   "metadata": {},
   "source": [
    "### BLF var delta spectral-- jaccard Similarity"
   ]
  },
  {
   "cell_type": "code",
   "execution_count": null,
   "metadata": {},
   "outputs": [],
   "source": [
    "result = compute_in_batches(blf_vardeltaspectral.to_numpy(), blf_vardeltaspectral.to_numpy(),\n",
    "                            simfunction=get_jaccard_similarity2, batches=100)"
   ]
  },
  {
   "cell_type": "code",
   "execution_count": null,
   "metadata": {},
   "outputs": [],
   "source": [
    "print(result.shape)\n",
    "np.fill_diagonal(result, -1)"
   ]
  },
  {
   "cell_type": "code",
   "execution_count": null,
   "metadata": {},
   "outputs": [],
   "source": [
    "dt.Frame(pd.DataFrame(compute_in_batches_topIds(result, blf_vardeltaspectral.index.values, 100, 100),\n",
    "                      index=blf_vardeltaspectral.index.values).reset_index()).to_csv(\n",
    "    './TopIdsTask2/top_ids_jaccard_blf_vardeltaspectral_complete.csv')"
   ]
  },
  {
   "cell_type": "code",
   "execution_count": null,
   "metadata": {},
   "outputs": [],
   "source": [
    "del result"
   ]
  },
  {
   "cell_type": "markdown",
   "metadata": {},
   "source": [
    "## Combination of features\n",
    "\n",
    "[Lyrics][Audio][Video]\n",
    "\n",
    "- Lyrics Features used\n",
    "    - tfidf\n",
    "    - word2vec\n",
    "\n",
    "- Audio Features used\n",
    "    - mfcc bow\n",
    "    - essentia\n",
    "    - blf delta spectral\n",
    "    \n",
    "-  Video Features used\n",
    "    - incp\n",
    "    - vgg19\n",
    "\n",
    "- Combinations with **jaccard** and **cosine**\n",
    "\n",
    "    - tfidf-mfccbow-incp\n",
    "    - bert-mfccbow-incp\n",
    "\n",
    "    - tfidf_essentia_incp\n",
    "    - bert-essentia-incp\n",
    "\n",
    "    - tfidf-blfdeltaspectral-incp\n",
    "    - bert-blfdeltaspectral-incp\n",
    "\n",
    "    - tfidf-mfccbow-vgg19\n",
    "    - bert-mfccbow-vgg19\n",
    "\n",
    "    - tfidf_essentia_vgg19\n",
    "    - bert-essentia-vgg19\n",
    "\n",
    "    - tfidf-blfdeltaspectral-vgg19\n",
    "    - bert-blfdeltaspectral-vgg19"
   ]
  },
  {
   "cell_type": "markdown",
   "metadata": {},
   "source": [
    "###  Cosine Similarity `tfidf-mfcc_bow-incp`"
   ]
  },
  {
   "cell_type": "code",
   "execution_count": null,
   "metadata": {},
   "outputs": [],
   "source": [
    "tfidf_mfcc_bow_incp = tf_idf.join(mfcc_bow, on='id').join(incp, on='id')"
   ]
  },
  {
   "cell_type": "code",
   "execution_count": null,
   "metadata": {},
   "outputs": [],
   "source": [
    "result = compute_in_batches(tfidf_mfcc_bow_incp.to_numpy(), tfidf_mfcc_bow_incp.to_numpy(),\n",
    "                            simfunction=get_cosine_similarity2, batches=100)"
   ]
  },
  {
   "cell_type": "code",
   "execution_count": null,
   "metadata": {},
   "outputs": [],
   "source": [
    "print(result.shape)\n",
    "np.fill_diagonal(result, -1)"
   ]
  },
  {
   "cell_type": "code",
   "execution_count": null,
   "metadata": {},
   "outputs": [],
   "source": [
    "dt.Frame(pd.DataFrame(compute_in_batches_topIds(result, tfidf_mfcc_bow_incp.index.values, 100, 100),\n",
    "                      index=tfidf_mfcc_bow_incp.index.values).reset_index()).to_csv(\n",
    "    './TopIdsTask2/top_ids_cosine_tfidf_mfcc_bow_incp_complete.csv')"
   ]
  },
  {
   "cell_type": "code",
   "execution_count": null,
   "metadata": {},
   "outputs": [],
   "source": [
    "del result, tfidf_mfcc_bow_incp"
   ]
  },
  {
   "cell_type": "code",
   "execution_count": null,
   "metadata": {},
   "outputs": [],
   "source": [
    "del tfidf_mfcc_bow_incp"
   ]
  },
  {
   "cell_type": "markdown",
   "metadata": {},
   "source": [
    "###  Cosine Similarity `bert-mfcc_bow-incp`"
   ]
  },
  {
   "cell_type": "code",
   "execution_count": null,
   "metadata": {},
   "outputs": [],
   "source": [
    "bert_mfcc_bow_incp = bert.join(mfcc_bow, on='id').join(incp, on='id')"
   ]
  },
  {
   "cell_type": "code",
   "execution_count": null,
   "metadata": {},
   "outputs": [],
   "source": [
    "result = compute_in_batches(bert_mfcc_bow_incp.to_numpy(), bert_mfcc_bow_incp.to_numpy(),\n",
    "                            simfunction=get_cosine_similarity2, batches=100)"
   ]
  },
  {
   "cell_type": "code",
   "execution_count": null,
   "metadata": {},
   "outputs": [],
   "source": [
    "print(result.shape)\n",
    "np.fill_diagonal(result, -1)"
   ]
  },
  {
   "cell_type": "code",
   "execution_count": null,
   "metadata": {},
   "outputs": [],
   "source": [
    "dt.Frame(pd.DataFrame(compute_in_batches_topIds(result, bert_mfcc_bow_incp.index.values, 100, 100),\n",
    "                      index=bert_mfcc_bow_incp.index.values).reset_index()).to_csv(\n",
    "    './TopIdsTask2/top_ids_cosine_bert_mfcc_bow_incp_complete.csv')"
   ]
  },
  {
   "cell_type": "code",
   "execution_count": null,
   "metadata": {},
   "outputs": [],
   "source": [
    "del result"
   ]
  },
  {
   "cell_type": "code",
   "execution_count": null,
   "metadata": {},
   "outputs": [],
   "source": [
    "del bert_mfcc_bow_incp"
   ]
  },
  {
   "cell_type": "markdown",
   "metadata": {},
   "source": [
    "###  Cosine Similarity `tfidf-essentia-incp`"
   ]
  },
  {
   "cell_type": "code",
   "execution_count": null,
   "metadata": {},
   "outputs": [],
   "source": [
    "tfidf_essentia_incp = tf_idf.join(essentia, on='id').join(incp, on='id')"
   ]
  },
  {
   "cell_type": "code",
   "execution_count": null,
   "metadata": {},
   "outputs": [],
   "source": [
    "result = compute_in_batches(tfidf_essentia_incp.to_numpy(), tfidf_essentia_incp.to_numpy(),\n",
    "                            simfunction=get_cosine_similarity2, batches=100)"
   ]
  },
  {
   "cell_type": "code",
   "execution_count": null,
   "metadata": {},
   "outputs": [],
   "source": [
    "print(result.shape)\n",
    "np.fill_diagonal(result, -1)"
   ]
  },
  {
   "cell_type": "code",
   "execution_count": null,
   "metadata": {},
   "outputs": [],
   "source": [
    "dt.Frame(pd.DataFrame(compute_in_batches_topIds(result, tfidf_essentia_incp.index.values, 100, 100),\n",
    "                      index=tfidf_essentia_incp.index.values).reset_index()).to_csv(\n",
    "    './TopIdsTask2/top_ids_cosine_tfidf_essentia_incp_complete.csv')"
   ]
  },
  {
   "cell_type": "code",
   "execution_count": null,
   "metadata": {},
   "outputs": [],
   "source": [
    "del result, tfidf_essentia_incp"
   ]
  },
  {
   "cell_type": "markdown",
   "metadata": {},
   "source": [
    "###  Cosine Similarity `bert-essentia-incp`"
   ]
  },
  {
   "cell_type": "code",
   "execution_count": null,
   "metadata": {},
   "outputs": [],
   "source": [
    "bert_essentia_incp = bert.join(essentia, on='id').join(incp, on='id')"
   ]
  },
  {
   "cell_type": "code",
   "execution_count": null,
   "metadata": {},
   "outputs": [],
   "source": [
    "result = compute_in_batches(bert_essentia_incp.to_numpy(), bert_essentia_incp.to_numpy(),\n",
    "                            simfunction=get_cosine_similarity2, batches=100)"
   ]
  },
  {
   "cell_type": "code",
   "execution_count": null,
   "metadata": {},
   "outputs": [],
   "source": [
    "print(result.shape)\n",
    "np.fill_diagonal(result, -1)"
   ]
  },
  {
   "cell_type": "code",
   "execution_count": null,
   "metadata": {},
   "outputs": [],
   "source": [
    "dt.Frame(pd.DataFrame(compute_in_batches_topIds(result, bert_essentia_incp.index.values, 100, 100),\n",
    "                      index=bert_essentia_incp.index.values).reset_index()).to_csv(\n",
    "    './TopIdsTask2/top_ids_cosine_bert_essentia_incp_complete.csv')"
   ]
  },
  {
   "cell_type": "code",
   "execution_count": null,
   "metadata": {},
   "outputs": [],
   "source": [
    "del result, bert_essentia_incp"
   ]
  },
  {
   "cell_type": "markdown",
   "metadata": {},
   "source": [
    "###  Cosine Similarity `tfidf-blf_delta_spectral-incp`"
   ]
  },
  {
   "cell_type": "code",
   "execution_count": null,
   "metadata": {},
   "outputs": [],
   "source": [
    "tfidf_blfdeltaspectral_incp = tf_idf.join(blf_deltaspectral, on='id').join(incp, on='id')"
   ]
  },
  {
   "cell_type": "code",
   "execution_count": null,
   "metadata": {},
   "outputs": [],
   "source": [
    "result = compute_in_batches(tfidf_blfdeltaspectral_incp.to_numpy(), tfidf_blfdeltaspectral_incp.to_numpy(),\n",
    "                            simfunction=get_cosine_similarity2, batches=100)"
   ]
  },
  {
   "cell_type": "code",
   "execution_count": null,
   "metadata": {},
   "outputs": [],
   "source": [
    "print(result.shape)\n",
    "np.fill_diagonal(result, -1)"
   ]
  },
  {
   "cell_type": "code",
   "execution_count": null,
   "metadata": {},
   "outputs": [],
   "source": [
    "dt.Frame(pd.DataFrame(compute_in_batches_topIds(result, tfidf_blfdeltaspectral_incp.index.values, 100, 100),\n",
    "                      index=tfidf_blfdeltaspectral_incp.index.values).reset_index()).to_csv(\n",
    "    './TopIdsTask2/top_ids_cosine_tfidf_blfdeltaspectral_incp_complete.csv')"
   ]
  },
  {
   "cell_type": "code",
   "execution_count": null,
   "metadata": {},
   "outputs": [],
   "source": [
    "del result, tfidf_blfdeltaspectral_incp"
   ]
  },
  {
   "cell_type": "markdown",
   "metadata": {},
   "source": [
    "###  Cosine Similarity `bert-blf_delta_spectral-incp`"
   ]
  },
  {
   "cell_type": "code",
   "execution_count": null,
   "metadata": {},
   "outputs": [],
   "source": [
    "bert_blfdeltaspectral_incp = bert.join(blf_deltaspectral, on='id').join(incp, on='id')"
   ]
  },
  {
   "cell_type": "code",
   "execution_count": null,
   "metadata": {},
   "outputs": [],
   "source": [
    "result = compute_in_batches(bert_blfdeltaspectral_incp.to_numpy(), bert_blfdeltaspectral_incp.to_numpy(),\n",
    "                            simfunction=get_cosine_similarity2, batches=100)"
   ]
  },
  {
   "cell_type": "code",
   "execution_count": null,
   "metadata": {},
   "outputs": [],
   "source": [
    "print(result.shape)\n",
    "np.fill_diagonal(result, -1)"
   ]
  },
  {
   "cell_type": "code",
   "execution_count": null,
   "metadata": {},
   "outputs": [],
   "source": [
    "dt.Frame(pd.DataFrame(compute_in_batches_topIds(result, bert_blfdeltaspectral_incp.index.values, 100, 100),\n",
    "                      index=bert_blfdeltaspectral_incp.index.values).reset_index()).to_csv(\n",
    "    './TopIdsTask2/top_ids_cosine_bert_blfdeltaspectral_incp_complete.csv')"
   ]
  },
  {
   "cell_type": "code",
   "execution_count": null,
   "metadata": {},
   "outputs": [],
   "source": [
    "del result, bert_blfdeltaspectral_incp"
   ]
  },
  {
   "cell_type": "code",
   "execution_count": null,
   "metadata": {},
   "outputs": [],
   "source": [
    "# %whos"
   ]
  },
  {
   "cell_type": "code",
   "execution_count": null,
   "metadata": {},
   "outputs": [],
   "source": []
  },
  {
   "cell_type": "markdown",
   "metadata": {},
   "source": [
    "###  Cosine Similarity `tfidf-mfcc_bow-vgg19`"
   ]
  },
  {
   "cell_type": "code",
   "execution_count": null,
   "metadata": {},
   "outputs": [],
   "source": [
    "tfidf_mfcc_bow_vgg19 = tf_idf.join(mfcc_bow, on='id').join(vgg19, on='id')"
   ]
  },
  {
   "cell_type": "code",
   "execution_count": null,
   "metadata": {},
   "outputs": [],
   "source": [
    "result = compute_in_batches(tfidf_mfcc_bow_vgg19.to_numpy(), tfidf_mfcc_bow_vgg19.to_numpy(),\n",
    "                            simfunction=get_cosine_similarity2, batches=100)"
   ]
  },
  {
   "cell_type": "code",
   "execution_count": null,
   "metadata": {},
   "outputs": [],
   "source": [
    "print(result.shape)\n",
    "np.fill_diagonal(result, -1)"
   ]
  },
  {
   "cell_type": "code",
   "execution_count": null,
   "metadata": {},
   "outputs": [],
   "source": [
    "dt.Frame(pd.DataFrame(compute_in_batches_topIds(result, tfidf_mfcc_bow_vgg19.index.values, 100, 100),\n",
    "                      index=tfidf_mfcc_bow_vgg19.index.values).reset_index()).to_csv(\n",
    "    './TopIdsTask2/top_ids_cosine_tfidf_mfcc_bow_vgg19_complete.csv')"
   ]
  },
  {
   "cell_type": "code",
   "execution_count": null,
   "metadata": {},
   "outputs": [],
   "source": [
    "del result, tfidf_mfcc_bow_vgg19"
   ]
  },
  {
   "cell_type": "markdown",
   "metadata": {},
   "source": [
    "###  Cosine Similarity `bert-mfcc_bow-vgg19`"
   ]
  },
  {
   "cell_type": "code",
   "execution_count": null,
   "metadata": {},
   "outputs": [],
   "source": [
    "bert_mfcc_bow_vgg19 = bert.join(mfcc_bow, on='id').join(vgg19, on='id')"
   ]
  },
  {
   "cell_type": "code",
   "execution_count": null,
   "metadata": {},
   "outputs": [],
   "source": [
    "result = compute_in_batches(bert_mfcc_bow_vgg19.to_numpy(), bert_mfcc_bow_vgg19.to_numpy(),\n",
    "                            simfunction=get_cosine_similarity2, batches=100)"
   ]
  },
  {
   "cell_type": "code",
   "execution_count": null,
   "metadata": {},
   "outputs": [],
   "source": [
    "print(result.shape)\n",
    "np.fill_diagonal(result, -1)"
   ]
  },
  {
   "cell_type": "code",
   "execution_count": null,
   "metadata": {},
   "outputs": [],
   "source": [
    "dt.Frame(pd.DataFrame(compute_in_batches_topIds(result, bert_mfcc_bow_vgg19.index.values, 100, 100),\n",
    "                      index=bert_mfcc_bow_vgg19.index.values).reset_index()).to_csv(\n",
    "    './TopIdsTask2/top_ids_cosine_bert_mfcc_bow_vgg19_complete.csv')"
   ]
  },
  {
   "cell_type": "code",
   "execution_count": null,
   "metadata": {},
   "outputs": [],
   "source": [
    "del result, bert_mfcc_bow_vgg19"
   ]
  },
  {
   "cell_type": "markdown",
   "metadata": {},
   "source": [
    "###  Cosine Similarity `tfidf-essentia-vgg19`"
   ]
  },
  {
   "cell_type": "code",
   "execution_count": null,
   "metadata": {},
   "outputs": [],
   "source": [
    "tfidf_essentia_vgg19 = tf_idf.join(essentia, on='id').join(vgg19, on='id')"
   ]
  },
  {
   "cell_type": "code",
   "execution_count": null,
   "metadata": {},
   "outputs": [],
   "source": [
    "result = compute_in_batches(tfidf_essentia_vgg19.to_numpy(), tfidf_essentia_vgg19.to_numpy(),\n",
    "                            simfunction=get_cosine_similarity2, batches=100)"
   ]
  },
  {
   "cell_type": "code",
   "execution_count": null,
   "metadata": {},
   "outputs": [],
   "source": [
    "print(result.shape)\n",
    "np.fill_diagonal(result, -1)"
   ]
  },
  {
   "cell_type": "code",
   "execution_count": null,
   "metadata": {},
   "outputs": [],
   "source": [
    "dt.Frame(pd.DataFrame(compute_in_batches_topIds(result, tfidf_essentia_vgg19.index.values, 100, 100),\n",
    "                      index=tfidf_essentia_vgg19.index.values).reset_index()).to_csv(\n",
    "    './TopIdsTask2/top_ids_cosine_tfidf_essentia_vgg19_complete.csv')"
   ]
  },
  {
   "cell_type": "code",
   "execution_count": null,
   "metadata": {},
   "outputs": [],
   "source": [
    "del result, tfidf_essentia_vgg19"
   ]
  },
  {
   "cell_type": "markdown",
   "metadata": {},
   "source": [
    "###  Cosine Similarity `bert-essentia-vgg19`"
   ]
  },
  {
   "cell_type": "code",
   "execution_count": null,
   "metadata": {},
   "outputs": [],
   "source": [
    "bert_essentia_vgg19 = bert.join(essentia, on='id').join(vgg19, on='id')"
   ]
  },
  {
   "cell_type": "code",
   "execution_count": null,
   "metadata": {},
   "outputs": [],
   "source": [
    "result = compute_in_batches(bert_essentia_vgg19.to_numpy(), bert_essentia_vgg19.to_numpy(),\n",
    "                            simfunction=get_cosine_similarity2, batches=100)"
   ]
  },
  {
   "cell_type": "code",
   "execution_count": null,
   "metadata": {},
   "outputs": [],
   "source": [
    "print(result.shape)\n",
    "np.fill_diagonal(result, -1)"
   ]
  },
  {
   "cell_type": "code",
   "execution_count": null,
   "metadata": {},
   "outputs": [],
   "source": [
    "dt.Frame(pd.DataFrame(compute_in_batches_topIds(result, bert_essentia_vgg19.index.values, 100, 100),\n",
    "                      index=bert_essentia_vgg19.index.values).reset_index()).to_csv(\n",
    "    './TopIdsTask2/top_ids_cosine_bert_essentia_vgg19_complete.csv')"
   ]
  },
  {
   "cell_type": "code",
   "execution_count": null,
   "metadata": {},
   "outputs": [],
   "source": [
    "del result, bert_essentia_vgg19"
   ]
  },
  {
   "cell_type": "markdown",
   "metadata": {},
   "source": [
    "###  Cosine Similarity `tfidf-blf_delta_spectral-vgg19`"
   ]
  },
  {
   "cell_type": "code",
   "execution_count": null,
   "metadata": {},
   "outputs": [],
   "source": [
    "tfidf_blfdeltaspectral_vgg19 = tf_idf.join(blf_deltaspectral, on='id').join(vgg19, on='id')"
   ]
  },
  {
   "cell_type": "code",
   "execution_count": null,
   "metadata": {},
   "outputs": [],
   "source": [
    "result = compute_in_batches(tfidf_blfdeltaspectral_vgg19.to_numpy(), tfidf_blfdeltaspectral_vgg19.to_numpy(),\n",
    "                            simfunction=get_cosine_similarity2, batches=100)"
   ]
  },
  {
   "cell_type": "code",
   "execution_count": null,
   "metadata": {},
   "outputs": [],
   "source": [
    "print(result.shape)\n",
    "np.fill_diagonal(result, -1)"
   ]
  },
  {
   "cell_type": "code",
   "execution_count": null,
   "metadata": {},
   "outputs": [],
   "source": [
    "dt.Frame(pd.DataFrame(compute_in_batches_topIds(result, tfidf_blfdeltaspectral_vgg19.index.values, 100, 100),\n",
    "                      index=tfidf_blfdeltaspectral_vgg19.index.values).reset_index()).to_csv(\n",
    "    './TopIdsTask2/top_ids_cosine_tfidf_blfdeltaspectral_vgg19_complete.csv')"
   ]
  },
  {
   "cell_type": "code",
   "execution_count": null,
   "metadata": {},
   "outputs": [],
   "source": [
    "del result, tfidf_blfdeltaspectral_vgg19"
   ]
  },
  {
   "cell_type": "markdown",
   "metadata": {},
   "source": [
    "###  Cosine Similarity `bert-blf_delta_spectral-vgg19`"
   ]
  },
  {
   "cell_type": "code",
   "execution_count": null,
   "metadata": {},
   "outputs": [],
   "source": [
    "bert_blfdeltaspectral_vgg19 = bert.join(blf_deltaspectral, on='id').join(vgg19, on='id')"
   ]
  },
  {
   "cell_type": "code",
   "execution_count": null,
   "metadata": {},
   "outputs": [],
   "source": [
    "result = compute_in_batches(bert_blfdeltaspectral_vgg19.to_numpy(), bert_blfdeltaspectral_vgg19.to_numpy(),\n",
    "                            simfunction=get_cosine_similarity2, batches=100)"
   ]
  },
  {
   "cell_type": "code",
   "execution_count": null,
   "metadata": {},
   "outputs": [],
   "source": [
    "print(result.shape)\n",
    "np.fill_diagonal(result, -1)"
   ]
  },
  {
   "cell_type": "code",
   "execution_count": null,
   "metadata": {},
   "outputs": [],
   "source": [
    "dt.Frame(pd.DataFrame(compute_in_batches_topIds(result, bert_blfdeltaspectral_vgg19.index.values, 100, 100),\n",
    "                      index=bert_blfdeltaspectral_vgg19.index.values).reset_index()).to_csv(\n",
    "    './TopIdsTask2/top_ids_cosine_bert_blfdeltaspectral_vgg19_complete.csv')"
   ]
  },
  {
   "cell_type": "code",
   "execution_count": null,
   "metadata": {},
   "outputs": [],
   "source": [
    "del result, bert_blfdeltaspectral_vgg19"
   ]
  },
  {
   "cell_type": "markdown",
   "metadata": {},
   "source": [
    "## Jaccard"
   ]
  },
  {
   "cell_type": "code",
   "execution_count": null,
   "metadata": {},
   "outputs": [],
   "source": []
  },
  {
   "cell_type": "markdown",
   "metadata": {},
   "source": [
    "###  Jaccard Similarity `tfidf-mfcc_bow-incp`"
   ]
  },
  {
   "cell_type": "code",
   "execution_count": null,
   "metadata": {},
   "outputs": [],
   "source": [
    "tfidf_mfcc_bow_incp = tf_idf.join(mfcc_bow, on='id').join(incp, on='id')"
   ]
  },
  {
   "cell_type": "code",
   "execution_count": null,
   "metadata": {},
   "outputs": [],
   "source": [
    "result = compute_in_batches(tfidf_mfcc_bow_incp.to_numpy(), tfidf_mfcc_bow_incp.to_numpy(),\n",
    "                            simfunction=get_jaccard_similarity2, batches=100)"
   ]
  },
  {
   "cell_type": "code",
   "execution_count": null,
   "metadata": {},
   "outputs": [],
   "source": [
    "print(result.shape)\n",
    "np.fill_diagonal(result, -1)"
   ]
  },
  {
   "cell_type": "code",
   "execution_count": null,
   "metadata": {},
   "outputs": [],
   "source": [
    "dt.Frame(pd.DataFrame(compute_in_batches_topIds(result, tfidf_mfcc_bow_incp.index.values, 100, 100),\n",
    "                      index=tfidf_mfcc_bow_incp.index.values).reset_index()).to_csv(\n",
    "    './TopIdsTask2/top_ids_jaccard_tfidf_mfcc_bow_incp_complete.csv')"
   ]
  },
  {
   "cell_type": "code",
   "execution_count": null,
   "metadata": {},
   "outputs": [],
   "source": [
    "del result, tfidf_mfcc_bow_incp"
   ]
  },
  {
   "cell_type": "markdown",
   "metadata": {},
   "source": [
    "###  Jaccard Similarity `bert-mfcc_bow-incp`"
   ]
  },
  {
   "cell_type": "code",
   "execution_count": null,
   "metadata": {},
   "outputs": [],
   "source": [
    "bert_mfcc_bow_incp = bert.join(mfcc_bow, on='id').join(incp, on='id')"
   ]
  },
  {
   "cell_type": "code",
   "execution_count": null,
   "metadata": {},
   "outputs": [],
   "source": [
    "result = compute_in_batches(bert_mfcc_bow_incp.to_numpy(), bert_mfcc_bow_incp.to_numpy(),\n",
    "                            simfunction=get_jaccard_similarity2, batches=100)"
   ]
  },
  {
   "cell_type": "code",
   "execution_count": null,
   "metadata": {},
   "outputs": [],
   "source": [
    "print(result.shape)\n",
    "np.fill_diagonal(result, -1)"
   ]
  },
  {
   "cell_type": "code",
   "execution_count": null,
   "metadata": {},
   "outputs": [],
   "source": [
    "dt.Frame(pd.DataFrame(compute_in_batches_topIds(result, bert_mfcc_bow_incp.index.values, 100, 100),\n",
    "                      index=bert_mfcc_bow_incp.index.values).reset_index()).to_csv(\n",
    "    './TopIdsTask2/top_ids_jaccard_bert_mfcc_bow_incp_complete.csv')"
   ]
  },
  {
   "cell_type": "code",
   "execution_count": null,
   "metadata": {},
   "outputs": [],
   "source": [
    "del result, bert_mfcc_bow_incp"
   ]
  },
  {
   "cell_type": "markdown",
   "metadata": {},
   "source": [
    "###  Jaccard Similarity `tfidf-essentia-incp`"
   ]
  },
  {
   "cell_type": "code",
   "execution_count": null,
   "metadata": {},
   "outputs": [],
   "source": [
    "tfidf_essentia_incp = tf_idf.join(essentia, on='id').join(incp, on='id')"
   ]
  },
  {
   "cell_type": "code",
   "execution_count": null,
   "metadata": {},
   "outputs": [],
   "source": [
    "result = compute_in_batches(tfidf_essentia_incp.to_numpy(), tfidf_essentia_incp.to_numpy(),\n",
    "                            simfunction=get_jaccard_similarity2, batches=100)"
   ]
  },
  {
   "cell_type": "code",
   "execution_count": null,
   "metadata": {},
   "outputs": [],
   "source": [
    "print(result.shape)\n",
    "np.fill_diagonal(result, -1)"
   ]
  },
  {
   "cell_type": "code",
   "execution_count": null,
   "metadata": {},
   "outputs": [],
   "source": [
    "dt.Frame(pd.DataFrame(compute_in_batches_topIds(result, tfidf_essentia_incp.index.values, 100, 100),\n",
    "                      index=tfidf_essentia_incp.index.values).reset_index()).to_csv(\n",
    "    './TopIdsTask2/top_ids_jaccard_tfidf_essentia_incp_complete.csv')"
   ]
  },
  {
   "cell_type": "code",
   "execution_count": null,
   "metadata": {},
   "outputs": [],
   "source": [
    "del result, tfidf_essentia_incp"
   ]
  },
  {
   "cell_type": "markdown",
   "metadata": {},
   "source": [
    "###  Jaccard Similarity `bert-essentia-incp`"
   ]
  },
  {
   "cell_type": "code",
   "execution_count": null,
   "metadata": {},
   "outputs": [],
   "source": [
    "bert_essentia_incp = bert.join(essentia, on='id').join(incp, on='id')"
   ]
  },
  {
   "cell_type": "code",
   "execution_count": null,
   "metadata": {},
   "outputs": [],
   "source": [
    "result = compute_in_batches(bert_essentia_incp.to_numpy(), bert_essentia_incp.to_numpy(),\n",
    "                            simfunction=get_jaccard_similarity2, batches=100)"
   ]
  },
  {
   "cell_type": "code",
   "execution_count": null,
   "metadata": {},
   "outputs": [],
   "source": [
    "print(result.shape)\n",
    "np.fill_diagonal(result, -1)"
   ]
  },
  {
   "cell_type": "code",
   "execution_count": null,
   "metadata": {},
   "outputs": [],
   "source": [
    "dt.Frame(pd.DataFrame(compute_in_batches_topIds(result, bert_essentia_incp.index.values, 100, 100),\n",
    "                      index=bert_essentia_incp.index.values).reset_index()).to_csv(\n",
    "    './TopIdsTask2/top_ids_jaccard_bert_essentia_incp_complete.csv')"
   ]
  },
  {
   "cell_type": "code",
   "execution_count": null,
   "metadata": {},
   "outputs": [],
   "source": [
    "del result, bert_essentia_incp"
   ]
  },
  {
   "cell_type": "markdown",
   "metadata": {},
   "source": [
    "###  Jaccard Similarity `tfidf-blf_delta_spectral-incp`"
   ]
  },
  {
   "cell_type": "code",
   "execution_count": null,
   "metadata": {},
   "outputs": [],
   "source": [
    "tfidf_blfdeltaspectral_incp = tf_idf.join(blf_deltaspectral, on='id').join(incp, on='id')"
   ]
  },
  {
   "cell_type": "code",
   "execution_count": null,
   "metadata": {},
   "outputs": [],
   "source": [
    "result = compute_in_batches(tfidf_blfdeltaspectral_incp.to_numpy(), tfidf_blfdeltaspectral_incp.to_numpy(),\n",
    "                            simfunction=get_jaccard_similarity2, batches=100)"
   ]
  },
  {
   "cell_type": "code",
   "execution_count": null,
   "metadata": {},
   "outputs": [],
   "source": [
    "print(result.shape)\n",
    "np.fill_diagonal(result, -1)"
   ]
  },
  {
   "cell_type": "code",
   "execution_count": null,
   "metadata": {},
   "outputs": [],
   "source": [
    "dt.Frame(pd.DataFrame(compute_in_batches_topIds(result, tfidf_blfdeltaspectral_incp.index.values, 100, 100),\n",
    "                      index=tfidf_blfdeltaspectral_incp.index.values).reset_index()).to_csv(\n",
    "    './TopIdsTask2/top_ids_jaccard_tfidf_blfdeltaspectral_incp_complete.csv')"
   ]
  },
  {
   "cell_type": "code",
   "execution_count": null,
   "metadata": {},
   "outputs": [],
   "source": [
    "del result, tfidf_blfdeltaspectral_incp"
   ]
  },
  {
   "cell_type": "markdown",
   "metadata": {},
   "source": [
    "###  Jaccard Similarity `bert-blf_delta_spectral-incp`"
   ]
  },
  {
   "cell_type": "code",
   "execution_count": null,
   "metadata": {},
   "outputs": [],
   "source": [
    "bert_blfdeltaspectral_incp = bert.join(blf_deltaspectral, on='id').join(incp, on='id')"
   ]
  },
  {
   "cell_type": "code",
   "execution_count": null,
   "metadata": {},
   "outputs": [],
   "source": [
    "result = compute_in_batches(bert_blfdeltaspectral_incp.to_numpy(), bert_blfdeltaspectral_incp.to_numpy(),\n",
    "                            simfunction=get_jaccard_similarity2, batches=100)"
   ]
  },
  {
   "cell_type": "code",
   "execution_count": null,
   "metadata": {},
   "outputs": [],
   "source": [
    "print(result.shape)\n",
    "np.fill_diagonal(result, -1)"
   ]
  },
  {
   "cell_type": "code",
   "execution_count": null,
   "metadata": {},
   "outputs": [],
   "source": [
    "dt.Frame(pd.DataFrame(compute_in_batches_topIds(result, bert_blfdeltaspectral_incp.index.values, 100, 100),\n",
    "                      index=bert_blfdeltaspectral_incp.index.values).reset_index()).to_csv(\n",
    "    './TopIdsTask2/top_ids_jaccard_bert_blfdeltaspectral_incp_complete.csv')"
   ]
  },
  {
   "cell_type": "code",
   "execution_count": null,
   "metadata": {},
   "outputs": [],
   "source": [
    "del result, bert_blfdeltaspectral_incp"
   ]
  },
  {
   "cell_type": "code",
   "execution_count": null,
   "metadata": {},
   "outputs": [],
   "source": [
    "# %whos"
   ]
  },
  {
   "cell_type": "code",
   "execution_count": null,
   "metadata": {},
   "outputs": [],
   "source": []
  },
  {
   "cell_type": "markdown",
   "metadata": {},
   "source": [
    "###  Jaccard Similarity `tfidf-mfcc_bow-vgg19`"
   ]
  },
  {
   "cell_type": "code",
   "execution_count": null,
   "metadata": {},
   "outputs": [],
   "source": [
    "tfidf_mfcc_bow_vgg19 = tf_idf.join(mfcc_bow, on='id').join(vgg19, on='id')"
   ]
  },
  {
   "cell_type": "code",
   "execution_count": null,
   "metadata": {},
   "outputs": [],
   "source": [
    "result = compute_in_batches(tfidf_mfcc_bow_vgg19.to_numpy(), tfidf_mfcc_bow_vgg19.to_numpy(),\n",
    "                            simfunction=get_jaccard_similarity2, batches=100)"
   ]
  },
  {
   "cell_type": "code",
   "execution_count": null,
   "metadata": {},
   "outputs": [],
   "source": [
    "print(result.shape)\n",
    "np.fill_diagonal(result, -1)"
   ]
  },
  {
   "cell_type": "code",
   "execution_count": null,
   "metadata": {},
   "outputs": [],
   "source": [
    "dt.Frame(pd.DataFrame(compute_in_batches_topIds(result, tfidf_mfcc_bow_vgg19.index.values, 100, 100),\n",
    "                      index=tfidf_mfcc_bow_vgg19.index.values).reset_index()).to_csv(\n",
    "    './TopIdsTask2/top_ids_jaccard_tfidf_mfcc_bow_vgg19_complete.csv')"
   ]
  },
  {
   "cell_type": "code",
   "execution_count": null,
   "metadata": {},
   "outputs": [],
   "source": [
    "del result, tfidf_mfcc_bow_vgg19"
   ]
  },
  {
   "cell_type": "markdown",
   "metadata": {},
   "source": [
    "###  Jaccard Similarity `bert-mfcc_bow-vgg19`"
   ]
  },
  {
   "cell_type": "code",
   "execution_count": null,
   "metadata": {},
   "outputs": [],
   "source": [
    "bert_mfcc_bow_vgg19 = bert.join(mfcc_bow, on='id').join(vgg19, on='id')"
   ]
  },
  {
   "cell_type": "code",
   "execution_count": null,
   "metadata": {},
   "outputs": [],
   "source": [
    "result = compute_in_batches(bert_mfcc_bow_vgg19.to_numpy(), bert_mfcc_bow_vgg19.to_numpy(),\n",
    "                            simfunction=get_jaccard_similarity2, batches=100)"
   ]
  },
  {
   "cell_type": "code",
   "execution_count": null,
   "metadata": {},
   "outputs": [],
   "source": [
    "print(result.shape)\n",
    "np.fill_diagonal(result, -1)"
   ]
  },
  {
   "cell_type": "code",
   "execution_count": null,
   "metadata": {},
   "outputs": [],
   "source": [
    "dt.Frame(pd.DataFrame(compute_in_batches_topIds(result, bert_mfcc_bow_vgg19.index.values, 100, 100),\n",
    "                      index=bert_mfcc_bow_vgg19.index.values).reset_index()).to_csv(\n",
    "    './TopIdsTask2/top_ids_jaccard_bert_mfcc_bow_vgg19_complete.csv')"
   ]
  },
  {
   "cell_type": "code",
   "execution_count": null,
   "metadata": {},
   "outputs": [],
   "source": [
    "del result, bert_mfcc_bow_vgg19"
   ]
  },
  {
   "cell_type": "markdown",
   "metadata": {},
   "source": [
    "###  Jaccard Similarity `tfidf-essentia-vgg19`"
   ]
  },
  {
   "cell_type": "code",
   "execution_count": null,
   "metadata": {},
   "outputs": [],
   "source": [
    "tfidf_essentia_vgg19 = tf_idf.join(essentia, on='id').join(vgg19, on='id')"
   ]
  },
  {
   "cell_type": "code",
   "execution_count": null,
   "metadata": {},
   "outputs": [],
   "source": [
    "result = compute_in_batches(tfidf_essentia_vgg19.to_numpy(), tfidf_essentia_vgg19.to_numpy(),\n",
    "                            simfunction=get_jaccard_similarity2, batches=100)"
   ]
  },
  {
   "cell_type": "code",
   "execution_count": null,
   "metadata": {},
   "outputs": [],
   "source": [
    "print(result.shape)\n",
    "np.fill_diagonal(result, -1)"
   ]
  },
  {
   "cell_type": "code",
   "execution_count": null,
   "metadata": {},
   "outputs": [],
   "source": [
    "dt.Frame(pd.DataFrame(compute_in_batches_topIds(result, tfidf_essentia_vgg19.index.values, 100, 100),\n",
    "                      index=tfidf_essentia_vgg19.index.values).reset_index()).to_csv(\n",
    "    './TopIdsTask2/top_ids_jaccard_tfidf_essentia_vgg19_complete.csv')"
   ]
  },
  {
   "cell_type": "code",
   "execution_count": null,
   "metadata": {},
   "outputs": [],
   "source": [
    "del result, tfidf_essentia_vgg19"
   ]
  },
  {
   "cell_type": "markdown",
   "metadata": {},
   "source": [
    "###  Jaccard Similarity `bert-essentia-vgg19`"
   ]
  },
  {
   "cell_type": "code",
   "execution_count": null,
   "metadata": {},
   "outputs": [],
   "source": [
    "bert_essentia_vgg19 = bert.join(essentia, on='id').join(vgg19, on='id')"
   ]
  },
  {
   "cell_type": "code",
   "execution_count": null,
   "metadata": {},
   "outputs": [],
   "source": [
    "result = compute_in_batches(bert_essentia_vgg19.to_numpy(), bert_essentia_vgg19.to_numpy(),\n",
    "                            simfunction=get_jaccard_similarity2, batches=100)"
   ]
  },
  {
   "cell_type": "code",
   "execution_count": null,
   "metadata": {},
   "outputs": [],
   "source": [
    "print(result.shape)\n",
    "np.fill_diagonal(result, -1)"
   ]
  },
  {
   "cell_type": "code",
   "execution_count": null,
   "metadata": {},
   "outputs": [],
   "source": [
    "dt.Frame(pd.DataFrame(compute_in_batches_topIds(result, bert_essentia_vgg19.index.values, 100, 100),\n",
    "                      index=bert_essentia_vgg19.index.values).reset_index()).to_csv(\n",
    "    './TopIdsTask2/top_ids_jaccard_bert_essentia_vgg19_complete.csv')"
   ]
  },
  {
   "cell_type": "code",
   "execution_count": null,
   "metadata": {},
   "outputs": [],
   "source": [
    "del result, bert_essentia_vgg19"
   ]
  },
  {
   "cell_type": "markdown",
   "metadata": {},
   "source": [
    "###  Jaccard Similarity `tfidf-blf_delta_spectral-vgg19`"
   ]
  },
  {
   "cell_type": "code",
   "execution_count": null,
   "metadata": {},
   "outputs": [],
   "source": [
    "tfidf_blfdeltaspectral_vgg19 = tf_idf.join(blf_deltaspectral, on='id').join(vgg19, on='id')"
   ]
  },
  {
   "cell_type": "code",
   "execution_count": null,
   "metadata": {},
   "outputs": [],
   "source": [
    "result = compute_in_batches(tfidf_blfdeltaspectral_vgg19.to_numpy(), tfidf_blfdeltaspectral_vgg19.to_numpy(),\n",
    "                            simfunction=get_jaccard_similarity2, batches=100)"
   ]
  },
  {
   "cell_type": "code",
   "execution_count": null,
   "metadata": {},
   "outputs": [],
   "source": [
    "print(result.shape)\n",
    "np.fill_diagonal(result, -1)"
   ]
  },
  {
   "cell_type": "code",
   "execution_count": null,
   "metadata": {},
   "outputs": [],
   "source": [
    "dt.Frame(pd.DataFrame(compute_in_batches_topIds(result, tfidf_blfdeltaspectral_vgg19.index.values, 100, 100),\n",
    "                      index=tfidf_blfdeltaspectral_vgg19.index.values).reset_index()).to_csv(\n",
    "    './TopIdsTask2/top_ids_jaccard_tfidf_blfdeltaspectral_vgg19_complete.csv')"
   ]
  },
  {
   "cell_type": "code",
   "execution_count": null,
   "metadata": {},
   "outputs": [],
   "source": [
    "del result, tfidf_blfdeltaspectral_vgg19"
   ]
  },
  {
   "cell_type": "markdown",
   "metadata": {},
   "source": [
    "###  Jaccard Similarity `bert-blf_delta_spectral-vgg19`"
   ]
  },
  {
   "cell_type": "code",
   "execution_count": null,
   "metadata": {},
   "outputs": [],
   "source": [
    "bert_blfdeltaspectral_vgg19 = bert.join(blf_deltaspectral, on='id').join(vgg19, on='id')"
   ]
  },
  {
   "cell_type": "code",
   "execution_count": null,
   "metadata": {},
   "outputs": [],
   "source": [
    "result = compute_in_batches(bert_blfdeltaspectral_vgg19.to_numpy(), bert_blfdeltaspectral_vgg19.to_numpy(),\n",
    "                            simfunction=get_jaccard_similarity2, batches=100)"
   ]
  },
  {
   "cell_type": "code",
   "execution_count": null,
   "metadata": {},
   "outputs": [],
   "source": [
    "print(result.shape)\n",
    "np.fill_diagonal(result, -1)"
   ]
  },
  {
   "cell_type": "code",
   "execution_count": null,
   "metadata": {},
   "outputs": [],
   "source": [
    "dt.Frame(pd.DataFrame(compute_in_batches_topIds(result, bert_blfdeltaspectral_vgg19.index.values, 100, 100),\n",
    "                      index=bert_blfdeltaspectral_vgg19.index.values).reset_index()).to_csv(\n",
    "    './TopIdsTask2/top_ids_jaccard_bert_blfdeltaspectral_vgg19_complete.csv')"
   ]
  },
  {
   "cell_type": "code",
   "execution_count": null,
   "metadata": {},
   "outputs": [],
   "source": [
    "del result, bert_blfdeltaspectral_vgg19"
   ]
  }
 ],
 "metadata": {
  "kernelspec": {
   "display_name": "Python3 (new)",
   "language": "python",
   "name": "python3"
  },
  "language_info": {
   "codemirror_mode": {
    "name": "ipython",
    "version": 3
   },
   "file_extension": ".py",
   "mimetype": "text/x-python",
   "name": "python",
   "nbconvert_exporter": "python",
   "pygments_lexer": "ipython3",
   "version": "3.8.13"
  }
 },
 "nbformat": 4,
 "nbformat_minor": 4
}
