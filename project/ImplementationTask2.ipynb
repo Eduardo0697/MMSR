{
 "cells": [
  {
   "cell_type": "code",
   "execution_count": 34,
   "metadata": {},
   "outputs": [],
   "source": [
    "import pandas as pd\n",
    "import numpy as np\n",
    "from os.path import exists\n",
    "from tqdm import tqdm\n",
    "import re\n",
    "import datatable as dt\n",
    "from files import *"
   ]
  },
  {
   "cell_type": "code",
   "execution_count": 2,
   "metadata": {},
   "outputs": [
    {
     "name": "stdout",
     "output_type": "stream",
     "text": [
      "CPU times: user 532 ms, sys: 20.2 ms, total: 552 ms\n",
      "Wall time: 69.4 ms\n"
     ]
    }
   ],
   "source": [
    "%%time\n",
    "genres  = dt.fread(file_genres_2).to_pandas()\n",
    "genres.set_index('id', inplace=True)\n",
    "# genres.head()"
   ]
  },
  {
   "cell_type": "code",
   "execution_count": 3,
   "metadata": {},
   "outputs": [
    {
     "name": "stdout",
     "output_type": "stream",
     "text": [
      "CPU times: user 518 ms, sys: 18.6 ms, total: 536 ms\n",
      "Wall time: 79 ms\n"
     ]
    }
   ],
   "source": [
    "%%time\n",
    "info  = dt.fread(file_info_2).to_pandas()\n",
    "info.set_index('id', inplace=True)\n",
    "# info.head()"
   ]
  },
  {
   "cell_type": "code",
   "execution_count": 35,
   "metadata": {},
   "outputs": [
    {
     "name": "stdout",
     "output_type": "stream",
     "text": [
      "CPU times: user 3.86 s, sys: 1.23 s, total: 5.09 s\n",
      "Wall time: 1.24 s\n"
     ]
    }
   ],
   "source": [
    "%%time\n",
    "tf_idf  = dt.fread(file_tfidf_2).to_pandas()\n",
    "tf_idf.set_index('id', inplace=True)\n",
    "# tf_idf.head()"
   ]
  },
  {
   "cell_type": "code",
   "execution_count": 5,
   "metadata": {},
   "outputs": [
    {
     "name": "stdout",
     "output_type": "stream",
     "text": [
      "CPU times: user 2.12 s, sys: 323 ms, total: 2.44 s\n",
      "Wall time: 343 ms\n"
     ]
    }
   ],
   "source": [
    "%%time\n",
    "# First row is the head\n",
    "word2vec  = dt.fread(file_word2vec_2, header=True).to_pandas()\n",
    "word2vec.set_index('id', inplace=True)\n",
    "# word2vec.head()"
   ]
  },
  {
   "cell_type": "code",
   "execution_count": 6,
   "metadata": {},
   "outputs": [
    {
     "name": "stdout",
     "output_type": "stream",
     "text": [
      "CPU times: user 5.08 s, sys: 820 ms, total: 5.9 s\n",
      "Wall time: 900 ms\n"
     ]
    }
   ],
   "source": [
    "%%time\n",
    "# First row is the head\n",
    "bert = dt.fread(file_bert_2,header=True).to_pandas()\n",
    "bert.set_index('id', inplace=True)\n",
    "# bert.head()"
   ]
  },
  {
   "cell_type": "code",
   "execution_count": 7,
   "metadata": {},
   "outputs": [
    {
     "name": "stdout",
     "output_type": "stream",
     "text": [
      "CPU times: user 5.68 s, sys: 2.35 s, total: 8.03 s\n",
      "Wall time: 1.54 s\n"
     ]
    }
   ],
   "source": [
    "%%time\n",
    "blf_correlation  = dt.fread(file_blf_correlation).to_pandas()\n",
    "blf_correlation.set_index('id', inplace=True)\n",
    "# blf_correlation.head()"
   ]
  },
  {
   "cell_type": "code",
   "execution_count": 8,
   "metadata": {},
   "outputs": [
    {
     "name": "stdout",
     "output_type": "stream",
     "text": [
      "CPU times: user 4.98 s, sys: 1.93 s, total: 6.91 s\n",
      "Wall time: 1.44 s\n"
     ]
    }
   ],
   "source": [
    "%%time\n",
    "blf_deltaspectral  = dt.fread(file_blf_deltaspectral).to_pandas()\n",
    "blf_deltaspectral.set_index('id', inplace=True)\n",
    "# blf_deltaspectral.head()"
   ]
  },
  {
   "cell_type": "code",
   "execution_count": 9,
   "metadata": {},
   "outputs": [
    {
     "name": "stdout",
     "output_type": "stream",
     "text": [
      "CPU times: user 16.3 s, sys: 9.94 s, total: 26.2 s\n",
      "Wall time: 4.61 s\n"
     ]
    }
   ],
   "source": [
    "%%time\n",
    "blf_logfluc  = dt.fread(file_blf_logfluc)\n",
    "\n",
    "# This is done because in the csv it has an extra column name, \n",
    "# so in case someone with the original dataset tries to run it, it fixes that error\n",
    "# It looks weird, but it is because first i am loading the data into datatable and then pass it to dataframe\n",
    "new_cols = ['id']\n",
    "new_cols.extend(list(blf_logfluc.names[2:]))\n",
    "new_cols = tuple(new_cols)\n",
    "del blf_logfluc[:, -1]\n",
    "\n",
    "blf_logfluc.names = new_cols\n",
    "blf_logfluc = blf_logfluc.to_pandas()\n",
    "blf_logfluc.set_index('id', inplace=True)"
   ]
  },
  {
   "cell_type": "code",
   "execution_count": 10,
   "metadata": {},
   "outputs": [],
   "source": [
    "# blf_logfluc.head()"
   ]
  },
  {
   "cell_type": "code",
   "execution_count": 11,
   "metadata": {},
   "outputs": [
    {
     "name": "stdout",
     "output_type": "stream",
     "text": [
      "CPU times: user 3.62 s, sys: 1.2 s, total: 4.82 s\n",
      "Wall time: 938 ms\n"
     ]
    }
   ],
   "source": [
    "%%time\n",
    "blf_spectral  = dt.fread(file_blf_spectral).to_pandas()\n",
    "blf_spectral.set_index('id', inplace=True)\n",
    "# blf_spectral.head()"
   ]
  },
  {
   "cell_type": "code",
   "execution_count": 12,
   "metadata": {},
   "outputs": [
    {
     "name": "stdout",
     "output_type": "stream",
     "text": [
      "CPU times: user 2.91 s, sys: 1.09 s, total: 4 s\n",
      "Wall time: 833 ms\n"
     ]
    }
   ],
   "source": [
    "%%time\n",
    "blf_spectralcontrast  = dt.fread(file_blf_spectralcontrast).to_pandas()\n",
    "blf_spectralcontrast.set_index('id', inplace=True)\n",
    "# blf_spectralcontrast.head()"
   ]
  },
  {
   "cell_type": "code",
   "execution_count": 13,
   "metadata": {},
   "outputs": [
    {
     "name": "stdout",
     "output_type": "stream",
     "text": [
      "CPU times: user 4.85 s, sys: 1.83 s, total: 6.68 s\n",
      "Wall time: 1.39 s\n"
     ]
    }
   ],
   "source": [
    "%%time\n",
    "blf_vardeltaspectral  = dt.fread(file_blf_vardeltaspectral).to_pandas()\n",
    "blf_vardeltaspectral.set_index('id', inplace=True)\n",
    "# blf_vardeltaspectral.head()"
   ]
  },
  {
   "cell_type": "code",
   "execution_count": 14,
   "metadata": {},
   "outputs": [
    {
     "name": "stdout",
     "output_type": "stream",
     "text": [
      "CPU times: user 4.3 s, sys: 1.61 s, total: 5.91 s\n",
      "Wall time: 1.32 s\n"
     ]
    }
   ],
   "source": [
    "%%time\n",
    "essentia  = dt.fread(file_essentia).to_pandas()\n",
    "essentia.set_index('id', inplace=True)\n",
    "# essentia.head()"
   ]
  },
  {
   "cell_type": "code",
   "execution_count": 15,
   "metadata": {},
   "outputs": [
    {
     "name": "stdout",
     "output_type": "stream",
     "text": [
      "CPU times: user 16.9 s, sys: 11.6 s, total: 28.5 s\n",
      "Wall time: 6.11 s\n"
     ]
    }
   ],
   "source": [
    "%%time\n",
    "incp  = dt.fread(file_incp).to_pandas()\n",
    "incp.set_index('id', inplace=True)\n",
    "# incp.head()"
   ]
  },
  {
   "cell_type": "code",
   "execution_count": 16,
   "metadata": {},
   "outputs": [
    {
     "name": "stdout",
     "output_type": "stream",
     "text": [
      "CPU times: user 2.38 s, sys: 545 ms, total: 2.92 s\n",
      "Wall time: 553 ms\n"
     ]
    }
   ],
   "source": [
    "%%time\n",
    "mfcc_bow  = dt.fread(file_mfcc_bow).to_pandas()\n",
    "mfcc_bow.set_index('id', inplace=True)\n",
    "# mfcc_bow.head()"
   ]
  },
  {
   "cell_type": "code",
   "execution_count": 17,
   "metadata": {},
   "outputs": [
    {
     "name": "stdout",
     "output_type": "stream",
     "text": [
      "CPU times: user 996 ms, sys: 303 ms, total: 1.3 s\n",
      "Wall time: 206 ms\n"
     ]
    }
   ],
   "source": [
    "%%time\n",
    "mfcc_stats  = dt.fread(file_mfcc_stats).to_pandas()\n",
    "mfcc_stats.set_index('id', inplace=True)\n",
    "#  mfcc_stats.head()"
   ]
  },
  {
   "cell_type": "code",
   "execution_count": 18,
   "metadata": {},
   "outputs": [
    {
     "name": "stdout",
     "output_type": "stream",
     "text": [
      "CPU times: user 16.7 s, sys: 10 s, total: 26.8 s\n",
      "Wall time: 5.44 s\n"
     ]
    }
   ],
   "source": [
    "%%time\n",
    "resnet  = dt.fread(file_resnet).to_pandas()\n",
    "resnet.set_index('id', inplace=True)\n",
    "# resnet.head()"
   ]
  },
  {
   "cell_type": "code",
   "execution_count": 19,
   "metadata": {},
   "outputs": [
    {
     "name": "stdout",
     "output_type": "stream",
     "text": [
      "CPU times: user 40.2 s, sys: 33.7 s, total: 1min 13s\n",
      "Wall time: 13.1 s\n"
     ]
    }
   ],
   "source": [
    "%%time\n",
    "vgg19  = dt.fread(file_vgg19).to_pandas()\n",
    "vgg19.set_index('id', inplace=True)\n",
    "# vgg19.head()"
   ]
  },
  {
   "cell_type": "code",
   "execution_count": 20,
   "metadata": {},
   "outputs": [
    {
     "name": "stdout",
     "output_type": "stream",
     "text": [
      "Lyrics Features\n",
      "\n",
      "tfidf dataset:    (68641, 1000)\n",
      "word2vec dataset: (68641, 300)\n",
      "bert dataset:     (68641, 768)\n",
      "\n",
      "\n",
      "Audio Features\n",
      "\n",
      "mfcc bow dataset:   (68641, 500)\n",
      "mfcc stats dataset: (68641, 104)\n",
      "essentia dataset:   (68641, 1034)\n",
      "blf correlation dataset:      (68641, 1326)\n",
      "blf delta spectral dataset:   (68641, 1372)\n",
      "blf logfluc dataset:          (68641, 3626)\n",
      "blf spectral dataset:         (68641, 980)\n",
      "blf spectralcontrast dataset: (68641, 800)\n",
      "blf vardeltaspectral dataset: (68641, 1344)\n",
      "\n",
      "\n",
      "Video Features\n",
      "\n",
      "incp dataset:       (68641, 4096)\n",
      "resnet dataset:     (68641, 4096)\n",
      "vgg19 dataset:      (68641, 8192)\n"
     ]
    }
   ],
   "source": [
    "# Audio Features\n",
    "print(\"Lyrics Features\\n\")\n",
    "## Mel Frequency Cepstral Coefficients (MFFCs)\n",
    "print(\"tfidf dataset:   \", tf_idf.shape)\n",
    "print(\"word2vec dataset:\", word2vec.shape)\n",
    "print(\"bert dataset:    \", bert.shape)\n",
    "\n",
    "# Audio Features\n",
    "print(\"\\n\\nAudio Features\\n\")\n",
    "## Mel Frequency Cepstral Coefficients (MFFCs)\n",
    "print(\"mfcc bow dataset:  \", mfcc_bow.shape)\n",
    "print(\"mfcc stats dataset:\", mfcc_stats.shape)\n",
    "\n",
    "## Essentia: An Audio Analysis Library for Music Information Retrieval\n",
    "print(\"essentia dataset:  \", essentia.shape)\n",
    "\n",
    "## Block Level features (BLFs)\n",
    "\n",
    "print(\"blf correlation dataset:     \", blf_correlation.shape)\n",
    "print(\"blf delta spectral dataset:  \", blf_deltaspectral.shape)\n",
    "print(\"blf logfluc dataset:         \", blf_logfluc.shape)\n",
    "print(\"blf spectral dataset:        \", blf_spectral.shape)\n",
    "print(\"blf spectralcontrast dataset:\", blf_spectralcontrast.shape)\n",
    "print(\"blf vardeltaspectral dataset:\", blf_vardeltaspectral.shape)\n",
    "\n",
    "\n",
    "# Video Features\n",
    "print(\"\\n\\nVideo Features\\n\")\n",
    "## Derivative Content DC, Video Features\n",
    "print(\"incp dataset:      \", incp.shape)\n",
    "print(\"resnet dataset:    \", resnet.shape)\n",
    "print(\"vgg19 dataset:     \", vgg19.shape)"
   ]
  },
  {
   "cell_type": "markdown",
   "metadata": {},
   "source": [
    "## Similiraty functions"
   ]
  },
  {
   "cell_type": "code",
   "execution_count": 21,
   "metadata": {},
   "outputs": [],
   "source": [
    "def get_cosine_similarity2(arr_a, arr_b):\n",
    "    norms_a = np.linalg.norm(arr_a, axis=-1)[:, np.newaxis]\n",
    "    norms_b = np.linalg.norm(arr_b, axis=-1)[:, np.newaxis]\n",
    "    divisor = norms_a * norms_b.T\n",
    "    dotp = arr_a @ arr_b.T\n",
    "    r = np.divide(dotp, divisor, np.zeros_like(divisor), where=divisor > 0)\n",
    "    return r\n",
    "\n",
    "def get_jaccard_similarity2(arr_a: np.array, arr_b: np.array):\n",
    "    norms_a = np.linalg.norm(arr_a, axis=-1)[:, np.newaxis]\n",
    "    norms_b = np.linalg.norm(arr_b, axis=-1)[:, np.newaxis]\n",
    "    divisor = norms_a + norms_b.T\n",
    "    dotp = arr_a @ arr_b.T\n",
    "    r = dotp / (divisor-dotp)\n",
    "    return r\n",
    "\n",
    "def get_innerProduct_similarity2(arr_a: np.array, arr_b: np.array):\n",
    "    return arr_a @ arr_b.T"
   ]
  },
  {
   "cell_type": "markdown",
   "metadata": {},
   "source": [
    "## Helper Functions"
   ]
  },
  {
   "cell_type": "code",
   "execution_count": 22,
   "metadata": {},
   "outputs": [],
   "source": [
    "def getSongIdByQuery(artist, track, info):\n",
    "    id_ = info[(info['artist'] == artist) & (info['song'] == track)]\n",
    "    if len(id_) == 0: # If the data entered dont return any song\n",
    "        return None\n",
    "    return id_.index.values[0]"
   ]
  },
  {
   "cell_type": "code",
   "execution_count": 23,
   "metadata": {},
   "outputs": [],
   "source": [
    "def compute_in_batches(arr_a: np.array, arr_b: np.array, simfunction, batches:int = 1):\n",
    "    # arr_a: full Data array\n",
    "    # arr_b: full Data array arr_a or just some songs\n",
    "    # batches: split arr_b into chunks for multiprocess and less RAM usage    \n",
    "    splits_b = np.array_split(arr_b, batches, axis=0)\n",
    "    r = []\n",
    "    for b in tqdm(splits_b):\n",
    "        r.append(simfunction(arr_a, b))\n",
    "    return np.concatenate(r, axis=1)"
   ]
  },
  {
   "cell_type": "code",
   "execution_count": 24,
   "metadata": {},
   "outputs": [],
   "source": [
    "def compute_in_batches_topIds(results: np.array, idx_values: np.array, top: int=100, batches:int = 1 ):\n",
    "    splits_b = np.array_split(results, batches, axis=0)\n",
    "    return np.concatenate([idx_values[np.argsort(b * -1, axis=1)][:,:top] for b in tqdm(splits_b)], axis=0)"
   ]
  },
  {
   "cell_type": "markdown",
   "metadata": {},
   "source": [
    "## Computation of Top 100 ids with different feature vectors cosine similarity"
   ]
  },
  {
   "cell_type": "markdown",
   "metadata": {},
   "source": [
    "### TF-IDF -- Cosine Similarity"
   ]
  },
  {
   "cell_type": "code",
   "execution_count": 29,
   "metadata": {},
   "outputs": [
    {
     "name": "stderr",
     "output_type": "stream",
     "text": [
      "100%|█████████████████████████████████████████| 100/100 [01:48<00:00,  1.09s/it]\n"
     ]
    }
   ],
   "source": [
    "result = compute_in_batches(tf_idf.to_numpy(),tf_idf.to_numpy(), simfunction = get_cosine_similarity2, batches=100)"
   ]
  },
  {
   "cell_type": "code",
   "execution_count": 30,
   "metadata": {},
   "outputs": [
    {
     "name": "stdout",
     "output_type": "stream",
     "text": [
      "(68641, 68641)\n"
     ]
    }
   ],
   "source": [
    "print(result.shape)\n",
    "np.fill_diagonal(result, -1)"
   ]
  },
  {
   "cell_type": "code",
   "execution_count": 32,
   "metadata": {},
   "outputs": [
    {
     "name": "stderr",
     "output_type": "stream",
     "text": [
      "100%|█████████████████████████████████████████| 100/100 [07:31<00:00,  4.51s/it]\n"
     ]
    }
   ],
   "source": [
    "dt.Frame(pd.DataFrame(compute_in_batches_topIds(result,tf_idf.index.values,100,100), index=tf_idf.index.values ).reset_index()).to_csv('./TopIdsTask2/top_ids_cosine_tfidf_complete_.csv')"
   ]
  },
  {
   "cell_type": "code",
   "execution_count": 33,
   "metadata": {},
   "outputs": [],
   "source": [
    "del result"
   ]
  },
  {
   "cell_type": "markdown",
   "metadata": {},
   "source": [
    "### Word2vec -- Cosine Similarity"
   ]
  },
  {
   "cell_type": "code",
   "execution_count": 34,
   "metadata": {},
   "outputs": [
    {
     "name": "stderr",
     "output_type": "stream",
     "text": [
      "100%|█████████████████████████████████████████| 100/100 [00:50<00:00,  2.00it/s]\n"
     ]
    }
   ],
   "source": [
    "result = compute_in_batches(word2vec.to_numpy(),word2vec.to_numpy(), simfunction = get_cosine_similarity2, batches=100)"
   ]
  },
  {
   "cell_type": "code",
   "execution_count": 35,
   "metadata": {},
   "outputs": [
    {
     "name": "stdout",
     "output_type": "stream",
     "text": [
      "(68641, 68641)\n"
     ]
    }
   ],
   "source": [
    "print(result.shape)\n",
    "np.fill_diagonal(result, -1)"
   ]
  },
  {
   "cell_type": "code",
   "execution_count": 36,
   "metadata": {},
   "outputs": [
    {
     "name": "stderr",
     "output_type": "stream",
     "text": [
      "100%|█████████████████████████████████████████| 100/100 [08:39<00:00,  5.20s/it]\n"
     ]
    }
   ],
   "source": [
    "dt.Frame(pd.DataFrame(compute_in_batches_topIds(result,word2vec.index.values,100,100), index=word2vec.index.values ).reset_index()).to_csv('./TopIdsTask2/top_ids_cosine_word2vec_complete_.csv')"
   ]
  },
  {
   "cell_type": "code",
   "execution_count": 37,
   "metadata": {},
   "outputs": [],
   "source": [
    "del result"
   ]
  },
  {
   "cell_type": "markdown",
   "metadata": {},
   "source": [
    "### Bert -- Cosine Similarity"
   ]
  },
  {
   "cell_type": "code",
   "execution_count": 39,
   "metadata": {},
   "outputs": [
    {
     "name": "stderr",
     "output_type": "stream",
     "text": [
      "100%|█████████████████████████████████████████| 100/100 [01:16<00:00,  1.31it/s]\n"
     ]
    }
   ],
   "source": [
    "result = compute_in_batches(bert.to_numpy(),bert.to_numpy(), simfunction = get_cosine_similarity2, batches=100)"
   ]
  },
  {
   "cell_type": "code",
   "execution_count": 40,
   "metadata": {},
   "outputs": [
    {
     "name": "stdout",
     "output_type": "stream",
     "text": [
      "(68641, 68641)\n"
     ]
    }
   ],
   "source": [
    "print(result.shape)\n",
    "np.fill_diagonal(result, -1)"
   ]
  },
  {
   "cell_type": "code",
   "execution_count": 41,
   "metadata": {},
   "outputs": [
    {
     "name": "stderr",
     "output_type": "stream",
     "text": [
      "100%|█████████████████████████████████████████| 100/100 [07:13<00:00,  4.33s/it]\n"
     ]
    }
   ],
   "source": [
    "dt.Frame(pd.DataFrame(compute_in_batches_topIds(result,bert.index.values,100,100), index=bert.index.values ).reset_index()).to_csv('./TopIdsTask2/top_ids_cosine_bert_complete_.csv')"
   ]
  },
  {
   "cell_type": "code",
   "execution_count": 42,
   "metadata": {},
   "outputs": [],
   "source": [
    "del result"
   ]
  },
  {
   "cell_type": "markdown",
   "metadata": {},
   "source": [
    "### MFCC BoW -- Cosine Similarity"
   ]
  },
  {
   "cell_type": "code",
   "execution_count": 46,
   "metadata": {},
   "outputs": [
    {
     "name": "stderr",
     "output_type": "stream",
     "text": [
      "100%|█████████████████████████████████████████| 100/100 [01:01<00:00,  1.61it/s]\n"
     ]
    }
   ],
   "source": [
    "result = compute_in_batches(mfcc_bow.to_numpy(),mfcc_bow.to_numpy(), simfunction = get_cosine_similarity2, batches=100)"
   ]
  },
  {
   "cell_type": "code",
   "execution_count": 47,
   "metadata": {},
   "outputs": [
    {
     "name": "stdout",
     "output_type": "stream",
     "text": [
      "(68641, 68641)\n"
     ]
    }
   ],
   "source": [
    "print(result.shape)\n",
    "np.fill_diagonal(result, -1)"
   ]
  },
  {
   "cell_type": "code",
   "execution_count": 48,
   "metadata": {},
   "outputs": [
    {
     "name": "stderr",
     "output_type": "stream",
     "text": [
      "100%|█████████████████████████████████████████| 100/100 [07:17<00:00,  4.37s/it]\n"
     ]
    }
   ],
   "source": [
    "dt.Frame(pd.DataFrame(compute_in_batches_topIds(result,mfcc_bow.index.values,100,100), index=mfcc_bow.index.values ).reset_index()).to_csv('./TopIdsTask2/top_ids_cosine_mfcc_bow_complete_.csv')"
   ]
  },
  {
   "cell_type": "code",
   "execution_count": 49,
   "metadata": {},
   "outputs": [],
   "source": [
    "del result"
   ]
  },
  {
   "cell_type": "markdown",
   "metadata": {},
   "source": [
    "### MFCC stats -- Cosine Similarity"
   ]
  },
  {
   "cell_type": "code",
   "execution_count": 53,
   "metadata": {},
   "outputs": [
    {
     "name": "stderr",
     "output_type": "stream",
     "text": [
      "100%|█████████████████████████████████████████| 100/100 [00:40<00:00,  2.45it/s]\n"
     ]
    }
   ],
   "source": [
    "result = compute_in_batches(mfcc_stats.to_numpy(),mfcc_stats.to_numpy(), simfunction = get_cosine_similarity2, batches=100)"
   ]
  },
  {
   "cell_type": "code",
   "execution_count": 54,
   "metadata": {},
   "outputs": [
    {
     "name": "stdout",
     "output_type": "stream",
     "text": [
      "(68641, 68641)\n"
     ]
    }
   ],
   "source": [
    "print(result.shape)\n",
    "np.fill_diagonal(result, -1)"
   ]
  },
  {
   "cell_type": "code",
   "execution_count": 55,
   "metadata": {},
   "outputs": [
    {
     "name": "stderr",
     "output_type": "stream",
     "text": [
      "100%|█████████████████████████████████████████| 100/100 [07:17<00:00,  4.38s/it]\n"
     ]
    }
   ],
   "source": [
    "dt.Frame(pd.DataFrame(compute_in_batches_topIds(result,mfcc_stats.index.values,100,100), index=mfcc_stats.index.values ).reset_index()).to_csv('./TopIdsTask2/top_ids_cosine_mfcc_stats_complete_.csv')"
   ]
  },
  {
   "cell_type": "code",
   "execution_count": 56,
   "metadata": {},
   "outputs": [],
   "source": [
    "del result"
   ]
  },
  {
   "cell_type": "markdown",
   "metadata": {},
   "source": [
    "### Essentia -- Cosine Similarity"
   ]
  },
  {
   "cell_type": "code",
   "execution_count": 60,
   "metadata": {},
   "outputs": [
    {
     "name": "stderr",
     "output_type": "stream",
     "text": [
      "100%|█████████████████████████████████████████| 100/100 [01:42<00:00,  1.03s/it]\n"
     ]
    }
   ],
   "source": [
    "result = compute_in_batches(essentia.to_numpy(),essentia.to_numpy(), simfunction = get_cosine_similarity2, batches=100)"
   ]
  },
  {
   "cell_type": "code",
   "execution_count": 61,
   "metadata": {},
   "outputs": [
    {
     "name": "stdout",
     "output_type": "stream",
     "text": [
      "(68641, 68641)\n"
     ]
    }
   ],
   "source": [
    "print(result.shape)\n",
    "np.fill_diagonal(result, -1)"
   ]
  },
  {
   "cell_type": "code",
   "execution_count": 62,
   "metadata": {},
   "outputs": [
    {
     "name": "stderr",
     "output_type": "stream",
     "text": [
      "100%|█████████████████████████████████████████| 100/100 [07:26<00:00,  4.46s/it]\n"
     ]
    }
   ],
   "source": [
    "dt.Frame(pd.DataFrame(compute_in_batches_topIds(result,essentia.index.values,100,100), index=essentia.index.values ).reset_index()).to_csv('./TopIdsTask2/top_ids_cosine_essentia_complete_.csv')"
   ]
  },
  {
   "cell_type": "code",
   "execution_count": 63,
   "metadata": {},
   "outputs": [],
   "source": [
    "del result"
   ]
  },
  {
   "cell_type": "markdown",
   "metadata": {},
   "source": [
    "### INCP -- Cosine Similarity"
   ]
  },
  {
   "cell_type": "code",
   "execution_count": 67,
   "metadata": {},
   "outputs": [
    {
     "name": "stderr",
     "output_type": "stream",
     "text": [
      "100%|█████████████████████████████████████████| 100/100 [05:35<00:00,  3.35s/it]\n"
     ]
    }
   ],
   "source": [
    "result = compute_in_batches(incp.to_numpy(),incp.to_numpy(), simfunction = get_cosine_similarity2, batches=100)"
   ]
  },
  {
   "cell_type": "code",
   "execution_count": 68,
   "metadata": {},
   "outputs": [
    {
     "name": "stdout",
     "output_type": "stream",
     "text": [
      "(68641, 68641)\n"
     ]
    }
   ],
   "source": [
    "print(result.shape)\n",
    "np.fill_diagonal(result, -1)"
   ]
  },
  {
   "cell_type": "code",
   "execution_count": 69,
   "metadata": {},
   "outputs": [
    {
     "name": "stderr",
     "output_type": "stream",
     "text": [
      "100%|█████████████████████████████████████████| 100/100 [07:46<00:00,  4.66s/it]\n"
     ]
    }
   ],
   "source": [
    "dt.Frame(pd.DataFrame(compute_in_batches_topIds(result,incp.index.values,100,100), index=incp.index.values ).reset_index()).to_csv('./TopIdsTask2/top_ids_cosine_incp_complete_.csv')"
   ]
  },
  {
   "cell_type": "code",
   "execution_count": 70,
   "metadata": {},
   "outputs": [],
   "source": [
    "del result"
   ]
  },
  {
   "cell_type": "markdown",
   "metadata": {},
   "source": [
    "### resnet -- Cosine Similarity"
   ]
  },
  {
   "cell_type": "code",
   "execution_count": 76,
   "metadata": {},
   "outputs": [
    {
     "name": "stderr",
     "output_type": "stream",
     "text": [
      "100%|█████████████████████████████████████████| 100/100 [05:14<00:00,  3.15s/it]\n"
     ]
    }
   ],
   "source": [
    "result = compute_in_batches(resnet.to_numpy(),resnet.to_numpy(), simfunction = get_cosine_similarity2, batches=100)"
   ]
  },
  {
   "cell_type": "code",
   "execution_count": 77,
   "metadata": {},
   "outputs": [
    {
     "name": "stdout",
     "output_type": "stream",
     "text": [
      "(68641, 68641)\n"
     ]
    }
   ],
   "source": [
    "print(result.shape)\n",
    "np.fill_diagonal(result, -1)"
   ]
  },
  {
   "cell_type": "code",
   "execution_count": 78,
   "metadata": {},
   "outputs": [
    {
     "name": "stderr",
     "output_type": "stream",
     "text": [
      "100%|█████████████████████████████████████████| 100/100 [09:10<00:00,  5.50s/it]\n"
     ]
    }
   ],
   "source": [
    "dt.Frame(pd.DataFrame(compute_in_batches_topIds(result,resnet.index.values,100,100), index=resnet.index.values ).reset_index()).to_csv('./TopIdsTask2/top_ids_cosine_resnet_complete_.csv')"
   ]
  },
  {
   "cell_type": "code",
   "execution_count": 79,
   "metadata": {},
   "outputs": [],
   "source": [
    "del result"
   ]
  },
  {
   "cell_type": "markdown",
   "metadata": {},
   "source": [
    "### vgg19 -- Cosine Similarity"
   ]
  },
  {
   "cell_type": "code",
   "execution_count": 87,
   "metadata": {},
   "outputs": [
    {
     "name": "stderr",
     "output_type": "stream",
     "text": [
      "100%|█████████████████████████████████████████| 100/100 [10:59<00:00,  6.60s/it]\n"
     ]
    }
   ],
   "source": [
    "result = compute_in_batches(vgg19.to_numpy(),vgg19.to_numpy(), simfunction = get_cosine_similarity2, batches=100)"
   ]
  },
  {
   "cell_type": "code",
   "execution_count": 88,
   "metadata": {},
   "outputs": [
    {
     "name": "stdout",
     "output_type": "stream",
     "text": [
      "(68641, 68641)\n"
     ]
    }
   ],
   "source": [
    "print(result.shape)\n",
    "np.fill_diagonal(result, -1)"
   ]
  },
  {
   "cell_type": "code",
   "execution_count": 89,
   "metadata": {},
   "outputs": [
    {
     "name": "stderr",
     "output_type": "stream",
     "text": [
      "100%|█████████████████████████████████████████| 100/100 [10:04<00:00,  6.04s/it]\n"
     ]
    }
   ],
   "source": [
    "dt.Frame(pd.DataFrame(compute_in_batches_topIds(result,vgg19.index.values,100,100), index=vgg19.index.values ).reset_index()).to_csv('./TopIdsTask2/top_ids_cosine_vgg19_complete_.csv')"
   ]
  },
  {
   "cell_type": "code",
   "execution_count": 90,
   "metadata": {},
   "outputs": [],
   "source": [
    "del result"
   ]
  },
  {
   "cell_type": "markdown",
   "metadata": {},
   "source": [
    "### BLF correlation -- Cosine Similarity"
   ]
  },
  {
   "cell_type": "code",
   "execution_count": 97,
   "metadata": {},
   "outputs": [
    {
     "name": "stderr",
     "output_type": "stream",
     "text": [
      "100%|█████████████████████████████████████████| 100/100 [03:33<00:00,  2.14s/it]\n"
     ]
    }
   ],
   "source": [
    "result = compute_in_batches(blf_correlation.to_numpy(),blf_correlation.to_numpy(), simfunction = get_cosine_similarity2, batches=100)"
   ]
  },
  {
   "cell_type": "code",
   "execution_count": 98,
   "metadata": {},
   "outputs": [
    {
     "name": "stdout",
     "output_type": "stream",
     "text": [
      "(68641, 68641)\n"
     ]
    }
   ],
   "source": [
    "print(result.shape)\n",
    "np.fill_diagonal(result, -1)"
   ]
  },
  {
   "cell_type": "code",
   "execution_count": 99,
   "metadata": {},
   "outputs": [
    {
     "name": "stderr",
     "output_type": "stream",
     "text": [
      "100%|█████████████████████████████████████████| 100/100 [09:36<00:00,  5.77s/it]\n"
     ]
    }
   ],
   "source": [
    "dt.Frame(pd.DataFrame(compute_in_batches_topIds(result,blf_correlation.index.values,100,100), index=blf_correlation.index.values ).reset_index()).to_csv('./TopIdsTask2/top_ids_cosine_blf_correlation_complete_.csv')"
   ]
  },
  {
   "cell_type": "code",
   "execution_count": 100,
   "metadata": {},
   "outputs": [],
   "source": [
    "del result"
   ]
  },
  {
   "cell_type": "markdown",
   "metadata": {},
   "source": [
    "### BLF delta spectral -- Cosine Similarity"
   ]
  },
  {
   "cell_type": "code",
   "execution_count": 101,
   "metadata": {},
   "outputs": [
    {
     "name": "stderr",
     "output_type": "stream",
     "text": [
      "100%|█████████████████████████████████████████| 100/100 [02:06<00:00,  1.26s/it]\n"
     ]
    }
   ],
   "source": [
    "result = compute_in_batches(blf_deltaspectral.to_numpy(),blf_deltaspectral.to_numpy(), simfunction = get_cosine_similarity2, batches=100)"
   ]
  },
  {
   "cell_type": "code",
   "execution_count": 102,
   "metadata": {},
   "outputs": [
    {
     "name": "stdout",
     "output_type": "stream",
     "text": [
      "(68641, 68641)\n"
     ]
    }
   ],
   "source": [
    "print(result.shape)\n",
    "np.fill_diagonal(result, -1)"
   ]
  },
  {
   "cell_type": "code",
   "execution_count": 103,
   "metadata": {},
   "outputs": [
    {
     "name": "stderr",
     "output_type": "stream",
     "text": [
      "100%|█████████████████████████████████████████| 100/100 [08:08<00:00,  4.89s/it]\n"
     ]
    }
   ],
   "source": [
    "dt.Frame(pd.DataFrame(compute_in_batches_topIds(result,blf_deltaspectral.index.values,100,100), index=blf_deltaspectral.index.values ).reset_index()).to_csv('./TopIdsTask2/top_ids_cosine_blf_deltaspectral_complete_.csv')"
   ]
  },
  {
   "cell_type": "code",
   "execution_count": 104,
   "metadata": {},
   "outputs": [],
   "source": [
    "del result"
   ]
  },
  {
   "cell_type": "markdown",
   "metadata": {},
   "source": [
    "### BLF logfluc -- Cosine Similarity"
   ]
  },
  {
   "cell_type": "code",
   "execution_count": 35,
   "metadata": {},
   "outputs": [
    {
     "name": "stderr",
     "output_type": "stream",
     "text": [
      "100%|█████████████████████████████████████████| 100/100 [05:05<00:00,  3.05s/it]\n"
     ]
    }
   ],
   "source": [
    "result = compute_in_batches(blf_logfluc.to_numpy(),blf_logfluc.to_numpy(), simfunction = get_cosine_similarity2, batches=100)"
   ]
  },
  {
   "cell_type": "code",
   "execution_count": 36,
   "metadata": {},
   "outputs": [
    {
     "name": "stdout",
     "output_type": "stream",
     "text": [
      "(68641, 68641)\n"
     ]
    }
   ],
   "source": [
    "print(result.shape)\n",
    "np.fill_diagonal(result, -1)"
   ]
  },
  {
   "cell_type": "code",
   "execution_count": 37,
   "metadata": {},
   "outputs": [
    {
     "name": "stderr",
     "output_type": "stream",
     "text": [
      "100%|█████████████████████████████████████████| 100/100 [07:47<00:00,  4.68s/it]\n"
     ]
    }
   ],
   "source": [
    "dt.Frame(pd.DataFrame(compute_in_batches_topIds(result,blf_logfluc.index.values,100,100), index=blf_logfluc.index.values ).reset_index()).to_csv('./TopIdsTask2/top_ids_cosine_blf_logfluc_complete_.csv')"
   ]
  },
  {
   "cell_type": "code",
   "execution_count": 38,
   "metadata": {},
   "outputs": [],
   "source": [
    "del result"
   ]
  },
  {
   "cell_type": "markdown",
   "metadata": {},
   "source": [
    "### BLF spectral -- Cosine Similarity"
   ]
  },
  {
   "cell_type": "code",
   "execution_count": 19,
   "metadata": {},
   "outputs": [
    {
     "name": "stderr",
     "output_type": "stream",
     "text": [
      "100%|█████████████████████████████████████████| 100/100 [01:58<00:00,  1.18s/it]\n"
     ]
    }
   ],
   "source": [
    "result = compute_in_batches(blf_spectral.to_numpy(),blf_spectral.to_numpy(), simfunction = get_cosine_similarity2, batches=100)"
   ]
  },
  {
   "cell_type": "code",
   "execution_count": 20,
   "metadata": {},
   "outputs": [
    {
     "name": "stdout",
     "output_type": "stream",
     "text": [
      "(68641, 68641)\n"
     ]
    }
   ],
   "source": [
    "print(result.shape)\n",
    "np.fill_diagonal(result, -1)"
   ]
  },
  {
   "cell_type": "code",
   "execution_count": 21,
   "metadata": {},
   "outputs": [
    {
     "name": "stderr",
     "output_type": "stream",
     "text": [
      "100%|█████████████████████████████████████████| 100/100 [08:10<00:00,  4.91s/it]\n"
     ]
    }
   ],
   "source": [
    "dt.Frame(pd.DataFrame(compute_in_batches_topIds(result,blf_spectral.index.values,100,100), index=blf_spectral.index.values ).reset_index()).to_csv('./TopIdsTask2/top_ids_cosine_blf_spectral_complete_.csv')"
   ]
  },
  {
   "cell_type": "code",
   "execution_count": 22,
   "metadata": {},
   "outputs": [],
   "source": [
    "del result"
   ]
  },
  {
   "cell_type": "markdown",
   "metadata": {},
   "source": [
    "### BLF spectral contrast -- Cosine Similarity"
   ]
  },
  {
   "cell_type": "code",
   "execution_count": 23,
   "metadata": {},
   "outputs": [
    {
     "name": "stderr",
     "output_type": "stream",
     "text": [
      "100%|█████████████████████████████████████████| 100/100 [01:25<00:00,  1.17it/s]\n"
     ]
    }
   ],
   "source": [
    "result = compute_in_batches(blf_spectralcontrast.to_numpy(),blf_spectralcontrast.to_numpy(), simfunction = get_cosine_similarity2, batches=100)"
   ]
  },
  {
   "cell_type": "code",
   "execution_count": 24,
   "metadata": {},
   "outputs": [
    {
     "name": "stdout",
     "output_type": "stream",
     "text": [
      "(68641, 68641)\n"
     ]
    }
   ],
   "source": [
    "print(result.shape)\n",
    "np.fill_diagonal(result, -1)"
   ]
  },
  {
   "cell_type": "code",
   "execution_count": 25,
   "metadata": {},
   "outputs": [
    {
     "name": "stderr",
     "output_type": "stream",
     "text": [
      "100%|█████████████████████████████████████████| 100/100 [08:39<00:00,  5.19s/it]\n"
     ]
    }
   ],
   "source": [
    "dt.Frame(pd.DataFrame(compute_in_batches_topIds(result,blf_spectralcontrast.index.values,100,100), index=blf_spectralcontrast.index.values ).reset_index()).to_csv('./TopIdsTask2/top_ids_cosine_blf_spectralcontrast_complete_.csv')"
   ]
  },
  {
   "cell_type": "code",
   "execution_count": 26,
   "metadata": {},
   "outputs": [],
   "source": [
    "del result"
   ]
  },
  {
   "cell_type": "markdown",
   "metadata": {},
   "source": [
    "### BLF var delta spectral-- Cosine Similarity"
   ]
  },
  {
   "cell_type": "code",
   "execution_count": 27,
   "metadata": {},
   "outputs": [
    {
     "name": "stderr",
     "output_type": "stream",
     "text": [
      "100%|█████████████████████████████████████████| 100/100 [02:10<00:00,  1.30s/it]\n"
     ]
    }
   ],
   "source": [
    "result = compute_in_batches(blf_vardeltaspectral.to_numpy(),blf_vardeltaspectral.to_numpy(), simfunction = get_cosine_similarity2, batches=100)"
   ]
  },
  {
   "cell_type": "code",
   "execution_count": 28,
   "metadata": {},
   "outputs": [
    {
     "name": "stdout",
     "output_type": "stream",
     "text": [
      "(68641, 68641)\n"
     ]
    }
   ],
   "source": [
    "print(result.shape)\n",
    "np.fill_diagonal(result, -1)"
   ]
  },
  {
   "cell_type": "code",
   "execution_count": 29,
   "metadata": {},
   "outputs": [
    {
     "name": "stderr",
     "output_type": "stream",
     "text": [
      "100%|█████████████████████████████████████████| 100/100 [07:24<00:00,  4.45s/it]\n"
     ]
    }
   ],
   "source": [
    "dt.Frame(pd.DataFrame(compute_in_batches_topIds(result,blf_vardeltaspectral.index.values,100,100), index=blf_vardeltaspectral.index.values ).reset_index()).to_csv('./TopIdsTask2/top_ids_cosine_blf_vardeltaspectral_complete_.csv')"
   ]
  },
  {
   "cell_type": "code",
   "execution_count": 30,
   "metadata": {},
   "outputs": [],
   "source": [
    "del result"
   ]
  },
  {
   "cell_type": "markdown",
   "metadata": {},
   "source": [
    "## TOP 100 Ids using each song as a query with jaccard similarity"
   ]
  },
  {
   "cell_type": "markdown",
   "metadata": {},
   "source": [
    "### TF-IDF -- Jaccard Similarity"
   ]
  },
  {
   "cell_type": "code",
   "execution_count": 24,
   "metadata": {},
   "outputs": [
    {
     "name": "stderr",
     "output_type": "stream",
     "text": [
      "100%|█████████████████████████████████████████| 100/100 [02:05<00:00,  1.26s/it]\n"
     ]
    }
   ],
   "source": [
    "result = compute_in_batches(tf_idf.to_numpy(),tf_idf.to_numpy(), simfunction = get_jaccard_similarity2, batches=100)"
   ]
  },
  {
   "cell_type": "code",
   "execution_count": 25,
   "metadata": {},
   "outputs": [
    {
     "name": "stdout",
     "output_type": "stream",
     "text": [
      "(68641, 68641)\n"
     ]
    }
   ],
   "source": [
    "print(result.shape)\n",
    "np.fill_diagonal(result, -1)"
   ]
  },
  {
   "cell_type": "code",
   "execution_count": 26,
   "metadata": {},
   "outputs": [
    {
     "name": "stderr",
     "output_type": "stream",
     "text": [
      "100%|█████████████████████████████████████████| 500/500 [07:41<00:00,  1.08it/s]\n"
     ]
    }
   ],
   "source": [
    "dt.Frame(pd.DataFrame(compute_in_batches_topIds(result,tf_idf.index.values,100,500), index=tf_idf.index.values ).reset_index()).to_csv('./TopIdsTask2/top_ids_jaccard_tfidf_complete.csv')"
   ]
  },
  {
   "cell_type": "code",
   "execution_count": 27,
   "metadata": {},
   "outputs": [],
   "source": [
    "del result"
   ]
  },
  {
   "cell_type": "markdown",
   "metadata": {},
   "source": [
    "### Word2vec -- Jaccard Similarity"
   ]
  },
  {
   "cell_type": "code",
   "execution_count": 28,
   "metadata": {},
   "outputs": [
    {
     "name": "stderr",
     "output_type": "stream",
     "text": [
      " 70%|█████████████████████████████▍            | 70/100 [00:35<00:14,  2.02it/s]/var/folders/7d/_gpk9ss57ds45n_1n6vsctt40000gn/T/ipykernel_19488/3723662741.py:14: RuntimeWarning: invalid value encountered in true_divide\n",
      "  r = dotp / (divisor-dotp)\n",
      "100%|█████████████████████████████████████████| 100/100 [00:51<00:00,  1.95it/s]\n"
     ]
    }
   ],
   "source": [
    "result = compute_in_batches(word2vec.to_numpy(),word2vec.to_numpy(), simfunction = get_jaccard_similarity2, batches=100)"
   ]
  },
  {
   "cell_type": "code",
   "execution_count": 29,
   "metadata": {},
   "outputs": [
    {
     "name": "stdout",
     "output_type": "stream",
     "text": [
      "(68641, 68641)\n"
     ]
    }
   ],
   "source": [
    "print(result.shape)\n",
    "np.fill_diagonal(result, -1)"
   ]
  },
  {
   "cell_type": "code",
   "execution_count": 30,
   "metadata": {},
   "outputs": [
    {
     "name": "stderr",
     "output_type": "stream",
     "text": [
      "100%|█████████████████████████████████████████| 100/100 [07:29<00:00,  4.50s/it]\n"
     ]
    }
   ],
   "source": [
    "dt.Frame(pd.DataFrame(compute_in_batches_topIds(result,word2vec.index.values,100,100), index=word2vec.index.values ).reset_index()).to_csv('./TopIdsTask2/top_ids_jaccard_word2vec_complete.csv')"
   ]
  },
  {
   "cell_type": "code",
   "execution_count": 31,
   "metadata": {},
   "outputs": [],
   "source": [
    "del result"
   ]
  },
  {
   "cell_type": "markdown",
   "metadata": {},
   "source": [
    "### Bert -- jaccard Similarity"
   ]
  },
  {
   "cell_type": "code",
   "execution_count": 32,
   "metadata": {},
   "outputs": [
    {
     "name": "stderr",
     "output_type": "stream",
     "text": [
      "100%|█████████████████████████████████████████| 100/100 [01:14<00:00,  1.34it/s]\n"
     ]
    }
   ],
   "source": [
    "result = compute_in_batches(bert.to_numpy(),bert.to_numpy(), simfunction = get_jaccard_similarity2, batches=100)"
   ]
  },
  {
   "cell_type": "code",
   "execution_count": 33,
   "metadata": {},
   "outputs": [
    {
     "name": "stdout",
     "output_type": "stream",
     "text": [
      "(68641, 68641)\n"
     ]
    }
   ],
   "source": [
    "print(result.shape)\n",
    "np.fill_diagonal(result, -1)"
   ]
  },
  {
   "cell_type": "code",
   "execution_count": 34,
   "metadata": {},
   "outputs": [
    {
     "name": "stderr",
     "output_type": "stream",
     "text": [
      "100%|█████████████████████████████████████████| 100/100 [07:32<00:00,  4.52s/it]\n"
     ]
    }
   ],
   "source": [
    "dt.Frame(pd.DataFrame(compute_in_batches_topIds(result,bert.index.values,100,100), index=bert.index.values ).reset_index()).to_csv('./TopIdsTask2/top_ids_jaccard_bert_complete.csv')"
   ]
  },
  {
   "cell_type": "code",
   "execution_count": 35,
   "metadata": {},
   "outputs": [],
   "source": [
    "del result"
   ]
  },
  {
   "cell_type": "markdown",
   "metadata": {},
   "source": [
    "### MFCC BoW -- jaccard Similarity"
   ]
  },
  {
   "cell_type": "code",
   "execution_count": 36,
   "metadata": {},
   "outputs": [
    {
     "name": "stderr",
     "output_type": "stream",
     "text": [
      "100%|█████████████████████████████████████████| 100/100 [01:00<00:00,  1.64it/s]\n"
     ]
    }
   ],
   "source": [
    "result = compute_in_batches(mfcc_bow.to_numpy(),mfcc_bow.to_numpy(), simfunction = get_jaccard_similarity2, batches=100)"
   ]
  },
  {
   "cell_type": "code",
   "execution_count": 37,
   "metadata": {},
   "outputs": [
    {
     "name": "stdout",
     "output_type": "stream",
     "text": [
      "(68641, 68641)\n"
     ]
    }
   ],
   "source": [
    "print(result.shape)\n",
    "np.fill_diagonal(result, -1)"
   ]
  },
  {
   "cell_type": "code",
   "execution_count": 38,
   "metadata": {},
   "outputs": [
    {
     "name": "stderr",
     "output_type": "stream",
     "text": [
      "100%|█████████████████████████████████████████| 100/100 [07:37<00:00,  4.57s/it]\n"
     ]
    }
   ],
   "source": [
    "dt.Frame(pd.DataFrame(compute_in_batches_topIds(result,mfcc_bow.index.values,100,100), index=mfcc_bow.index.values ).reset_index()).to_csv('./TopIdsTask2/top_ids_jaccard_mfcc_bow_complete.csv')"
   ]
  },
  {
   "cell_type": "code",
   "execution_count": 39,
   "metadata": {},
   "outputs": [],
   "source": [
    "del result"
   ]
  },
  {
   "cell_type": "markdown",
   "metadata": {},
   "source": [
    "### MFCC stats -- jaccard Similarity"
   ]
  },
  {
   "cell_type": "code",
   "execution_count": 40,
   "metadata": {},
   "outputs": [
    {
     "name": "stderr",
     "output_type": "stream",
     "text": [
      "100%|█████████████████████████████████████████| 100/100 [00:40<00:00,  2.46it/s]\n"
     ]
    }
   ],
   "source": [
    "result = compute_in_batches(mfcc_stats.to_numpy(),mfcc_stats.to_numpy(), simfunction = get_jaccard_similarity2, batches=100)"
   ]
  },
  {
   "cell_type": "code",
   "execution_count": 41,
   "metadata": {},
   "outputs": [
    {
     "name": "stdout",
     "output_type": "stream",
     "text": [
      "(68641, 68641)\n"
     ]
    }
   ],
   "source": [
    "print(result.shape)\n",
    "np.fill_diagonal(result, -1)"
   ]
  },
  {
   "cell_type": "code",
   "execution_count": 42,
   "metadata": {},
   "outputs": [
    {
     "name": "stderr",
     "output_type": "stream",
     "text": [
      "100%|█████████████████████████████████████████| 100/100 [07:33<00:00,  4.54s/it]\n"
     ]
    }
   ],
   "source": [
    "dt.Frame(pd.DataFrame(compute_in_batches_topIds(result,mfcc_stats.index.values,100,100), index=mfcc_stats.index.values ).reset_index()).to_csv('./TopIdsTask2/top_ids_jaccard_mfcc_stats_complete.csv')"
   ]
  },
  {
   "cell_type": "code",
   "execution_count": 43,
   "metadata": {},
   "outputs": [],
   "source": [
    "del result"
   ]
  },
  {
   "cell_type": "markdown",
   "metadata": {},
   "source": [
    "### Essentia -- jaccard Similarity"
   ]
  },
  {
   "cell_type": "code",
   "execution_count": 44,
   "metadata": {},
   "outputs": [
    {
     "name": "stderr",
     "output_type": "stream",
     "text": [
      "100%|█████████████████████████████████████████| 100/100 [01:43<00:00,  1.04s/it]\n"
     ]
    }
   ],
   "source": [
    "result = compute_in_batches(essentia.to_numpy(),essentia.to_numpy(), simfunction = get_jaccard_similarity2, batches=100)"
   ]
  },
  {
   "cell_type": "code",
   "execution_count": 45,
   "metadata": {},
   "outputs": [
    {
     "name": "stdout",
     "output_type": "stream",
     "text": [
      "(68641, 68641)\n"
     ]
    }
   ],
   "source": [
    "print(result.shape)\n",
    "np.fill_diagonal(result, -1)"
   ]
  },
  {
   "cell_type": "code",
   "execution_count": 46,
   "metadata": {},
   "outputs": [
    {
     "name": "stderr",
     "output_type": "stream",
     "text": [
      "100%|█████████████████████████████████████████| 100/100 [07:01<00:00,  4.22s/it]\n"
     ]
    }
   ],
   "source": [
    "dt.Frame(pd.DataFrame(compute_in_batches_topIds(result,essentia.index.values,100,100), index=essentia.index.values ).reset_index()).to_csv('./TopIdsTask2/top_ids_jaccard_essentia_complete.csv')"
   ]
  },
  {
   "cell_type": "code",
   "execution_count": 47,
   "metadata": {},
   "outputs": [],
   "source": [
    "del result"
   ]
  },
  {
   "cell_type": "markdown",
   "metadata": {},
   "source": [
    "### INCP -- jaccard Similarity"
   ]
  },
  {
   "cell_type": "code",
   "execution_count": 48,
   "metadata": {},
   "outputs": [
    {
     "name": "stderr",
     "output_type": "stream",
     "text": [
      "100%|█████████████████████████████████████████| 100/100 [05:15<00:00,  3.16s/it]\n"
     ]
    }
   ],
   "source": [
    "result = compute_in_batches(incp.to_numpy(),incp.to_numpy(), simfunction = get_jaccard_similarity2, batches=100)"
   ]
  },
  {
   "cell_type": "code",
   "execution_count": 49,
   "metadata": {},
   "outputs": [
    {
     "name": "stdout",
     "output_type": "stream",
     "text": [
      "(68641, 68641)\n"
     ]
    }
   ],
   "source": [
    "print(result.shape)\n",
    "np.fill_diagonal(result, -1)"
   ]
  },
  {
   "cell_type": "code",
   "execution_count": 50,
   "metadata": {},
   "outputs": [
    {
     "name": "stderr",
     "output_type": "stream",
     "text": [
      "100%|█████████████████████████████████████████| 100/100 [07:42<00:00,  4.63s/it]\n"
     ]
    }
   ],
   "source": [
    "dt.Frame(pd.DataFrame(compute_in_batches_topIds(result,incp.index.values,100,100), index=incp.index.values ).reset_index()).to_csv('./TopIdsTask2/top_ids_jaccard_incp_complete.csv')"
   ]
  },
  {
   "cell_type": "code",
   "execution_count": 51,
   "metadata": {},
   "outputs": [],
   "source": [
    "del result"
   ]
  },
  {
   "cell_type": "markdown",
   "metadata": {},
   "source": [
    "### resnet -- jaccard Similarity"
   ]
  },
  {
   "cell_type": "code",
   "execution_count": 52,
   "metadata": {},
   "outputs": [
    {
     "name": "stderr",
     "output_type": "stream",
     "text": [
      "100%|█████████████████████████████████████████| 100/100 [05:13<00:00,  3.13s/it]\n"
     ]
    }
   ],
   "source": [
    "result = compute_in_batches(resnet.to_numpy(),resnet.to_numpy(), simfunction = get_jaccard_similarity2, batches=100)"
   ]
  },
  {
   "cell_type": "code",
   "execution_count": 53,
   "metadata": {},
   "outputs": [
    {
     "name": "stdout",
     "output_type": "stream",
     "text": [
      "(68641, 68641)\n"
     ]
    }
   ],
   "source": [
    "print(result.shape)\n",
    "np.fill_diagonal(result, -1)"
   ]
  },
  {
   "cell_type": "code",
   "execution_count": 54,
   "metadata": {},
   "outputs": [
    {
     "name": "stderr",
     "output_type": "stream",
     "text": [
      "100%|█████████████████████████████████████████| 100/100 [08:44<00:00,  5.25s/it]\n"
     ]
    }
   ],
   "source": [
    "dt.Frame(pd.DataFrame(compute_in_batches_topIds(result,resnet.index.values,100,100), index=resnet.index.values ).reset_index()).to_csv('./TopIdsTask2/top_ids_jaccard_resnet_complete.csv')"
   ]
  },
  {
   "cell_type": "code",
   "execution_count": 55,
   "metadata": {},
   "outputs": [],
   "source": [
    "del result"
   ]
  },
  {
   "cell_type": "markdown",
   "metadata": {},
   "source": [
    "### vgg19 -- jaccard Similarity"
   ]
  },
  {
   "cell_type": "code",
   "execution_count": 56,
   "metadata": {},
   "outputs": [
    {
     "name": "stderr",
     "output_type": "stream",
     "text": [
      "100%|█████████████████████████████████████████| 100/100 [17:03<00:00, 10.23s/it]\n"
     ]
    }
   ],
   "source": [
    "result = compute_in_batches(vgg19.to_numpy(),vgg19.to_numpy(), simfunction = get_jaccard_similarity2, batches=100)"
   ]
  },
  {
   "cell_type": "code",
   "execution_count": 57,
   "metadata": {},
   "outputs": [
    {
     "name": "stdout",
     "output_type": "stream",
     "text": [
      "(68641, 68641)\n"
     ]
    }
   ],
   "source": [
    "print(result.shape)\n",
    "np.fill_diagonal(result, -1)"
   ]
  },
  {
   "cell_type": "code",
   "execution_count": 58,
   "metadata": {},
   "outputs": [
    {
     "name": "stderr",
     "output_type": "stream",
     "text": [
      "100%|█████████████████████████████████████████| 100/100 [10:57<00:00,  6.58s/it]\n"
     ]
    }
   ],
   "source": [
    "dt.Frame(pd.DataFrame(compute_in_batches_topIds(result,vgg19.index.values,100,100), index=vgg19.index.values ).reset_index()).to_csv('./TopIdsTask2/top_ids_jaccard_vgg19_complete.csv')"
   ]
  },
  {
   "cell_type": "code",
   "execution_count": 59,
   "metadata": {},
   "outputs": [],
   "source": [
    "del result"
   ]
  },
  {
   "cell_type": "markdown",
   "metadata": {},
   "source": [
    "### BLF correlation -- jaccard Similarity"
   ]
  },
  {
   "cell_type": "code",
   "execution_count": 60,
   "metadata": {},
   "outputs": [
    {
     "name": "stderr",
     "output_type": "stream",
     "text": [
      " 72%|██████████████████████████████▏           | 72/100 [02:41<00:59,  2.14s/it]/var/folders/7d/_gpk9ss57ds45n_1n6vsctt40000gn/T/ipykernel_19488/3723662741.py:14: RuntimeWarning: invalid value encountered in true_divide\n",
      "  r = dotp / (divisor-dotp)\n",
      "100%|█████████████████████████████████████████| 100/100 [03:42<00:00,  2.23s/it]\n"
     ]
    }
   ],
   "source": [
    "result = compute_in_batches(blf_correlation.to_numpy(),blf_correlation.to_numpy(), simfunction = get_jaccard_similarity2, batches=100)"
   ]
  },
  {
   "cell_type": "code",
   "execution_count": 61,
   "metadata": {},
   "outputs": [
    {
     "name": "stdout",
     "output_type": "stream",
     "text": [
      "(68641, 68641)\n"
     ]
    }
   ],
   "source": [
    "print(result.shape)\n",
    "np.fill_diagonal(result, -1)"
   ]
  },
  {
   "cell_type": "code",
   "execution_count": 62,
   "metadata": {},
   "outputs": [
    {
     "name": "stderr",
     "output_type": "stream",
     "text": [
      "100%|█████████████████████████████████████████| 100/100 [10:26<00:00,  6.26s/it]\n"
     ]
    }
   ],
   "source": [
    "dt.Frame(pd.DataFrame(compute_in_batches_topIds(result,blf_correlation.index.values,100,100), index=blf_correlation.index.values ).reset_index()).to_csv('./TopIdsTask2/top_ids_jaccard_blf_correlation_complete.csv')"
   ]
  },
  {
   "cell_type": "code",
   "execution_count": 63,
   "metadata": {},
   "outputs": [],
   "source": [
    "del result"
   ]
  },
  {
   "cell_type": "markdown",
   "metadata": {},
   "source": [
    "### BLF delta spectral -- jaccard Similarity"
   ]
  },
  {
   "cell_type": "code",
   "execution_count": 64,
   "metadata": {},
   "outputs": [
    {
     "name": "stderr",
     "output_type": "stream",
     "text": [
      " 72%|██████████████████████████████▏           | 72/100 [02:39<00:59,  2.14s/it]/var/folders/7d/_gpk9ss57ds45n_1n6vsctt40000gn/T/ipykernel_19488/3723662741.py:14: RuntimeWarning: invalid value encountered in true_divide\n",
      "  r = dotp / (divisor-dotp)\n",
      "100%|█████████████████████████████████████████| 100/100 [03:41<00:00,  2.22s/it]\n"
     ]
    }
   ],
   "source": [
    "result = compute_in_batches(blf_deltaspectral.to_numpy(),blf_deltaspectral.to_numpy(), simfunction = get_jaccard_similarity2, batches=100)"
   ]
  },
  {
   "cell_type": "code",
   "execution_count": 65,
   "metadata": {},
   "outputs": [
    {
     "name": "stdout",
     "output_type": "stream",
     "text": [
      "(68641, 68641)\n"
     ]
    }
   ],
   "source": [
    "print(result.shape)\n",
    "np.fill_diagonal(result, -1)"
   ]
  },
  {
   "cell_type": "code",
   "execution_count": 66,
   "metadata": {},
   "outputs": [
    {
     "name": "stderr",
     "output_type": "stream",
     "text": [
      "100%|█████████████████████████████████████████| 100/100 [10:27<00:00,  6.27s/it]\n"
     ]
    }
   ],
   "source": [
    "dt.Frame(pd.DataFrame(compute_in_batches_topIds(result,blf_deltaspectral.index.values,100,100), index=blf_deltaspectral.index.values ).reset_index()).to_csv('./TopIdsTask2/top_ids_jaccard_blf_deltaspectral_complete.csv')"
   ]
  },
  {
   "cell_type": "code",
   "execution_count": 67,
   "metadata": {},
   "outputs": [],
   "source": [
    "del result"
   ]
  },
  {
   "cell_type": "markdown",
   "metadata": {},
   "source": [
    "### BLF logfluc -- jaccard Similarity"
   ]
  },
  {
   "cell_type": "code",
   "execution_count": 68,
   "metadata": {},
   "outputs": [
    {
     "name": "stderr",
     "output_type": "stream",
     "text": [
      " 50%|█████████████████████                     | 50/100 [04:05<04:03,  4.87s/it]/var/folders/7d/_gpk9ss57ds45n_1n6vsctt40000gn/T/ipykernel_19488/3723662741.py:14: RuntimeWarning: invalid value encountered in true_divide\n",
      "  r = dotp / (divisor-dotp)\n",
      "100%|█████████████████████████████████████████| 100/100 [08:06<00:00,  4.86s/it]\n"
     ]
    }
   ],
   "source": [
    "result = compute_in_batches(blf_logfluc.to_numpy(),blf_logfluc.to_numpy(), simfunction = get_jaccard_similarity2, batches=100)"
   ]
  },
  {
   "cell_type": "code",
   "execution_count": 69,
   "metadata": {},
   "outputs": [
    {
     "name": "stdout",
     "output_type": "stream",
     "text": [
      "(68641, 68641)\n"
     ]
    }
   ],
   "source": [
    "print(result.shape)\n",
    "np.fill_diagonal(result, -1)"
   ]
  },
  {
   "cell_type": "code",
   "execution_count": 70,
   "metadata": {},
   "outputs": [
    {
     "name": "stderr",
     "output_type": "stream",
     "text": [
      "100%|█████████████████████████████████████████| 100/100 [10:20<00:00,  6.21s/it]\n"
     ]
    }
   ],
   "source": [
    "dt.Frame(pd.DataFrame(compute_in_batches_topIds(result,blf_logfluc.index.values,100,100), index=blf_logfluc.index.values ).reset_index()).to_csv('./TopIdsTask2/top_ids_jaccard_blf_logfluc_complete.csv')"
   ]
  },
  {
   "cell_type": "code",
   "execution_count": 71,
   "metadata": {},
   "outputs": [],
   "source": [
    "del result"
   ]
  },
  {
   "cell_type": "markdown",
   "metadata": {},
   "source": [
    "### BLF spectral -- jaccard Similarity"
   ]
  },
  {
   "cell_type": "code",
   "execution_count": 72,
   "metadata": {},
   "outputs": [
    {
     "name": "stderr",
     "output_type": "stream",
     "text": [
      " 72%|██████████████████████████████▏           | 72/100 [02:03<00:47,  1.68s/it]/var/folders/7d/_gpk9ss57ds45n_1n6vsctt40000gn/T/ipykernel_19488/3723662741.py:14: RuntimeWarning: invalid value encountered in true_divide\n",
      "  r = dotp / (divisor-dotp)\n",
      "100%|█████████████████████████████████████████| 100/100 [02:51<00:00,  1.72s/it]\n"
     ]
    }
   ],
   "source": [
    "result = compute_in_batches(blf_spectral.to_numpy(),blf_spectral.to_numpy(), simfunction = get_jaccard_similarity2, batches=100)"
   ]
  },
  {
   "cell_type": "code",
   "execution_count": 73,
   "metadata": {},
   "outputs": [
    {
     "name": "stdout",
     "output_type": "stream",
     "text": [
      "(68641, 68641)\n"
     ]
    }
   ],
   "source": [
    "print(result.shape)\n",
    "np.fill_diagonal(result, -1)"
   ]
  },
  {
   "cell_type": "code",
   "execution_count": 74,
   "metadata": {},
   "outputs": [
    {
     "name": "stderr",
     "output_type": "stream",
     "text": [
      "100%|█████████████████████████████████████████| 100/100 [10:32<00:00,  6.33s/it]\n"
     ]
    }
   ],
   "source": [
    "dt.Frame(pd.DataFrame(compute_in_batches_topIds(result,blf_spectral.index.values,100,100), index=blf_spectral.index.values ).reset_index()).to_csv('./TopIdsTask2/top_ids_jaccard_blf_spectral_complete.csv')"
   ]
  },
  {
   "cell_type": "code",
   "execution_count": 75,
   "metadata": {},
   "outputs": [],
   "source": [
    "del result"
   ]
  },
  {
   "cell_type": "markdown",
   "metadata": {},
   "source": [
    "### BLF spectral contrast -- jaccard Similarity"
   ]
  },
  {
   "cell_type": "code",
   "execution_count": 76,
   "metadata": {},
   "outputs": [
    {
     "name": "stderr",
     "output_type": "stream",
     "text": [
      "  3%|█▎                                         | 3/100 [00:06<02:57,  1.83s/it]/var/folders/7d/_gpk9ss57ds45n_1n6vsctt40000gn/T/ipykernel_19488/3723662741.py:14: RuntimeWarning: invalid value encountered in true_divide\n",
      "  r = dotp / (divisor-dotp)\n",
      "100%|█████████████████████████████████████████| 100/100 [02:21<00:00,  1.42s/it]\n"
     ]
    }
   ],
   "source": [
    "result = compute_in_batches(blf_spectralcontrast.to_numpy(),blf_spectralcontrast.to_numpy(), simfunction = get_jaccard_similarity2, batches=100)"
   ]
  },
  {
   "cell_type": "code",
   "execution_count": 77,
   "metadata": {},
   "outputs": [
    {
     "name": "stdout",
     "output_type": "stream",
     "text": [
      "(68641, 68641)\n"
     ]
    }
   ],
   "source": [
    "print(result.shape)\n",
    "np.fill_diagonal(result, -1)"
   ]
  },
  {
   "cell_type": "code",
   "execution_count": 78,
   "metadata": {},
   "outputs": [
    {
     "name": "stderr",
     "output_type": "stream",
     "text": [
      "100%|█████████████████████████████████████████| 100/100 [10:33<00:00,  6.33s/it]\n"
     ]
    }
   ],
   "source": [
    "dt.Frame(pd.DataFrame(compute_in_batches_topIds(result,blf_spectralcontrast.index.values,100,100), index=blf_spectralcontrast.index.values ).reset_index()).to_csv('./TopIdsTask2/top_ids_jaccard_blf_spectralcontrast_complete.csv')"
   ]
  },
  {
   "cell_type": "code",
   "execution_count": 79,
   "metadata": {},
   "outputs": [],
   "source": [
    "del result"
   ]
  },
  {
   "cell_type": "markdown",
   "metadata": {},
   "source": [
    "### BLF var delta spectral-- jaccard Similarity"
   ]
  },
  {
   "cell_type": "code",
   "execution_count": 80,
   "metadata": {},
   "outputs": [
    {
     "name": "stderr",
     "output_type": "stream",
     "text": [
      " 72%|██████████████████████████████▏           | 72/100 [02:31<00:58,  2.09s/it]/var/folders/7d/_gpk9ss57ds45n_1n6vsctt40000gn/T/ipykernel_19488/3723662741.py:14: RuntimeWarning: invalid value encountered in true_divide\n",
      "  r = dotp / (divisor-dotp)\n",
      "100%|█████████████████████████████████████████| 100/100 [03:33<00:00,  2.13s/it]\n"
     ]
    }
   ],
   "source": [
    "result = compute_in_batches(blf_vardeltaspectral.to_numpy(),blf_vardeltaspectral.to_numpy(), simfunction = get_jaccard_similarity2, batches=100)"
   ]
  },
  {
   "cell_type": "code",
   "execution_count": 81,
   "metadata": {},
   "outputs": [
    {
     "name": "stdout",
     "output_type": "stream",
     "text": [
      "(68641, 68641)\n"
     ]
    }
   ],
   "source": [
    "print(result.shape)\n",
    "np.fill_diagonal(result, -1)"
   ]
  },
  {
   "cell_type": "code",
   "execution_count": 82,
   "metadata": {},
   "outputs": [
    {
     "name": "stderr",
     "output_type": "stream",
     "text": [
      "100%|█████████████████████████████████████████| 100/100 [10:29<00:00,  6.29s/it]\n"
     ]
    }
   ],
   "source": [
    "dt.Frame(pd.DataFrame(compute_in_batches_topIds(result,blf_vardeltaspectral.index.values,100,100), index=blf_vardeltaspectral.index.values ).reset_index()).to_csv('./TopIdsTask2/top_ids_jaccard_blf_vardeltaspectral_complete.csv')"
   ]
  },
  {
   "cell_type": "code",
   "execution_count": 83,
   "metadata": {},
   "outputs": [],
   "source": [
    "del result"
   ]
  },
  {
   "cell_type": "markdown",
   "metadata": {},
   "source": [
    "## Combination of features\n",
    "\n",
    "[Lyrics][Audio][Video]\n",
    "\n",
    "- Lyrics Features used\n",
    "    - tfidf\n",
    "    - word2vec\n",
    "\n",
    "- Audio Features used\n",
    "    - mfcc bow\n",
    "    - essentia\n",
    "    - blf delta spectral\n",
    "    \n",
    "-  Video Features used\n",
    "    - incp\n",
    "    - vgg19\n",
    "\n",
    "- Combinations with **jaccard** and **cosine**\n",
    "\n",
    "    - tfidf-mfccbow-incp\n",
    "    - bert-mfccbow-incp\n",
    "\n",
    "    - tfidf_essentia_incp\n",
    "    - bert-essentia-incp\n",
    "\n",
    "    - tfidf-blfdeltaspectral-incp\n",
    "    - bert-blfdeltaspectral-incp\n",
    "\n",
    "    - tfidf-mfccbow-vgg19\n",
    "    - bert-mfccbow-vgg19\n",
    "\n",
    "    - tfidf_essentia_vgg19\n",
    "    - bert-essentia-vgg19\n",
    "\n",
    "    - tfidf-blfdeltaspectral-vgg19\n",
    "    - bert-blfdeltaspectral-vgg19"
   ]
  },
  {
   "cell_type": "markdown",
   "metadata": {},
   "source": [
    "###  Cosine Similarity `tfidf-mfcc_bow-incp`"
   ]
  },
  {
   "cell_type": "code",
   "execution_count": 96,
   "metadata": {},
   "outputs": [],
   "source": [
    "tfidf_mfcc_bow_incp =tf_idf.join(mfcc_bow, on='id').join(incp, on='id')"
   ]
  },
  {
   "cell_type": "code",
   "execution_count": 97,
   "metadata": {},
   "outputs": [
    {
     "name": "stderr",
     "output_type": "stream",
     "text": [
      "100%|█████████████████████████████████████████| 100/100 [07:49<00:00,  4.69s/it]\n"
     ]
    }
   ],
   "source": [
    "result = compute_in_batches(tfidf_mfcc_bow_incp.to_numpy(),tfidf_mfcc_bow_incp.to_numpy(), simfunction = get_cosine_similarity2, batches=100)"
   ]
  },
  {
   "cell_type": "code",
   "execution_count": 98,
   "metadata": {},
   "outputs": [
    {
     "name": "stdout",
     "output_type": "stream",
     "text": [
      "(68641, 68641)\n"
     ]
    }
   ],
   "source": [
    "print(result.shape)\n",
    "np.fill_diagonal(result, -1)"
   ]
  },
  {
   "cell_type": "code",
   "execution_count": 99,
   "metadata": {},
   "outputs": [
    {
     "name": "stderr",
     "output_type": "stream",
     "text": [
      "100%|█████████████████████████████████████████| 100/100 [07:50<00:00,  4.71s/it]\n"
     ]
    }
   ],
   "source": [
    "dt.Frame(pd.DataFrame(compute_in_batches_topIds(result,tfidf_mfcc_bow_incp.index.values,100,100), index=tfidf_mfcc_bow_incp.index.values ).reset_index()).to_csv('./TopIdsTask2/top_ids_cosine_tfidf_mfcc_bow_incp_complete.csv')"
   ]
  },
  {
   "cell_type": "code",
   "execution_count": 100,
   "metadata": {},
   "outputs": [],
   "source": [
    "del result , tfidf_mfcc_bow_incp"
   ]
  },
  {
   "cell_type": "code",
   "execution_count": 106,
   "metadata": {},
   "outputs": [],
   "source": [
    "del tfidf_mfcc_bow_incp"
   ]
  },
  {
   "cell_type": "markdown",
   "metadata": {},
   "source": [
    "###  Cosine Similarity `bert-mfcc_bow-incp`"
   ]
  },
  {
   "cell_type": "code",
   "execution_count": 101,
   "metadata": {},
   "outputs": [],
   "source": [
    "bert_mfcc_bow_incp =bert.join(mfcc_bow, on='id').join(incp, on='id')"
   ]
  },
  {
   "cell_type": "code",
   "execution_count": 102,
   "metadata": {},
   "outputs": [
    {
     "name": "stderr",
     "output_type": "stream",
     "text": [
      "100%|█████████████████████████████████████████| 100/100 [07:11<00:00,  4.31s/it]\n"
     ]
    }
   ],
   "source": [
    "result = compute_in_batches(bert_mfcc_bow_incp.to_numpy(),bert_mfcc_bow_incp.to_numpy(), simfunction = get_cosine_similarity2, batches=100)"
   ]
  },
  {
   "cell_type": "code",
   "execution_count": 103,
   "metadata": {},
   "outputs": [
    {
     "name": "stdout",
     "output_type": "stream",
     "text": [
      "(68641, 68641)\n"
     ]
    }
   ],
   "source": [
    "print(result.shape)\n",
    "np.fill_diagonal(result, -1)"
   ]
  },
  {
   "cell_type": "code",
   "execution_count": 104,
   "metadata": {},
   "outputs": [
    {
     "name": "stderr",
     "output_type": "stream",
     "text": [
      "100%|█████████████████████████████████████████| 100/100 [07:33<00:00,  4.53s/it]\n"
     ]
    }
   ],
   "source": [
    "dt.Frame(pd.DataFrame(compute_in_batches_topIds(result,bert_mfcc_bow_incp.index.values,100,100), index=bert_mfcc_bow_incp.index.values ).reset_index()).to_csv('./TopIdsTask2/top_ids_cosine_bert_mfcc_bow_incp_complete.csv')"
   ]
  },
  {
   "cell_type": "code",
   "execution_count": 105,
   "metadata": {},
   "outputs": [],
   "source": [
    "del result"
   ]
  },
  {
   "cell_type": "code",
   "execution_count": 107,
   "metadata": {},
   "outputs": [],
   "source": [
    "del bert_mfcc_bow_incp"
   ]
  },
  {
   "cell_type": "markdown",
   "metadata": {},
   "source": [
    "###  Cosine Similarity `tfidf-essentia-incp`"
   ]
  },
  {
   "cell_type": "code",
   "execution_count": 108,
   "metadata": {},
   "outputs": [],
   "source": [
    "tfidf_essentia_incp =tf_idf.join(essentia, on='id').join(incp, on='id')"
   ]
  },
  {
   "cell_type": "code",
   "execution_count": 109,
   "metadata": {},
   "outputs": [
    {
     "name": "stderr",
     "output_type": "stream",
     "text": [
      "100%|█████████████████████████████████████████| 100/100 [12:09<00:00,  7.30s/it]\n"
     ]
    }
   ],
   "source": [
    "result = compute_in_batches(tfidf_essentia_incp.to_numpy(),tfidf_essentia_incp.to_numpy(), simfunction = get_cosine_similarity2, batches=100)"
   ]
  },
  {
   "cell_type": "code",
   "execution_count": 110,
   "metadata": {},
   "outputs": [
    {
     "name": "stdout",
     "output_type": "stream",
     "text": [
      "(68641, 68641)\n"
     ]
    }
   ],
   "source": [
    "print(result.shape)\n",
    "np.fill_diagonal(result, -1)"
   ]
  },
  {
   "cell_type": "code",
   "execution_count": 111,
   "metadata": {},
   "outputs": [
    {
     "name": "stderr",
     "output_type": "stream",
     "text": [
      "100%|█████████████████████████████████████████| 100/100 [07:39<00:00,  4.60s/it]\n"
     ]
    }
   ],
   "source": [
    "dt.Frame(pd.DataFrame(compute_in_batches_topIds(result,tfidf_essentia_incp.index.values,100,100), index=tfidf_essentia_incp.index.values ).reset_index()).to_csv('./TopIdsTask2/top_ids_cosine_tfidf_essentia_incp_complete.csv')"
   ]
  },
  {
   "cell_type": "code",
   "execution_count": 112,
   "metadata": {},
   "outputs": [],
   "source": [
    "del result, tfidf_essentia_incp"
   ]
  },
  {
   "cell_type": "markdown",
   "metadata": {},
   "source": [
    "###  Cosine Similarity `bert-essentia-incp`"
   ]
  },
  {
   "cell_type": "code",
   "execution_count": 113,
   "metadata": {},
   "outputs": [],
   "source": [
    "bert_essentia_incp =bert.join(essentia, on='id').join(incp, on='id')"
   ]
  },
  {
   "cell_type": "code",
   "execution_count": 114,
   "metadata": {},
   "outputs": [
    {
     "name": "stderr",
     "output_type": "stream",
     "text": [
      "100%|█████████████████████████████████████████| 100/100 [07:21<00:00,  4.42s/it]\n"
     ]
    }
   ],
   "source": [
    "result = compute_in_batches(bert_essentia_incp.to_numpy(),bert_essentia_incp.to_numpy(), simfunction = get_cosine_similarity2, batches=100)"
   ]
  },
  {
   "cell_type": "code",
   "execution_count": 115,
   "metadata": {},
   "outputs": [
    {
     "name": "stdout",
     "output_type": "stream",
     "text": [
      "(68641, 68641)\n"
     ]
    }
   ],
   "source": [
    "print(result.shape)\n",
    "np.fill_diagonal(result, -1)"
   ]
  },
  {
   "cell_type": "code",
   "execution_count": 116,
   "metadata": {},
   "outputs": [
    {
     "name": "stderr",
     "output_type": "stream",
     "text": [
      "100%|█████████████████████████████████████████| 100/100 [07:45<00:00,  4.66s/it]\n"
     ]
    }
   ],
   "source": [
    "dt.Frame(pd.DataFrame(compute_in_batches_topIds(result,bert_essentia_incp.index.values,100,100), index=bert_essentia_incp.index.values ).reset_index()).to_csv('./TopIdsTask2/top_ids_cosine_bert_essentia_incp_complete.csv')"
   ]
  },
  {
   "cell_type": "code",
   "execution_count": 117,
   "metadata": {},
   "outputs": [],
   "source": [
    "del result, bert_essentia_incp"
   ]
  },
  {
   "cell_type": "markdown",
   "metadata": {},
   "source": [
    "###  Cosine Similarity `tfidf-blf_delta_spectral-incp`"
   ]
  },
  {
   "cell_type": "code",
   "execution_count": 118,
   "metadata": {},
   "outputs": [],
   "source": [
    "tfidf_blfdeltaspectral_incp =tf_idf.join(blf_deltaspectral, on='id').join(incp, on='id')"
   ]
  },
  {
   "cell_type": "code",
   "execution_count": 119,
   "metadata": {},
   "outputs": [
    {
     "name": "stderr",
     "output_type": "stream",
     "text": [
      "100%|█████████████████████████████████████████| 100/100 [07:57<00:00,  4.77s/it]\n"
     ]
    }
   ],
   "source": [
    "result = compute_in_batches(tfidf_blfdeltaspectral_incp.to_numpy(),tfidf_blfdeltaspectral_incp.to_numpy(), simfunction = get_cosine_similarity2, batches=100)"
   ]
  },
  {
   "cell_type": "code",
   "execution_count": 120,
   "metadata": {},
   "outputs": [
    {
     "name": "stdout",
     "output_type": "stream",
     "text": [
      "(68641, 68641)\n"
     ]
    }
   ],
   "source": [
    "print(result.shape)\n",
    "np.fill_diagonal(result, -1)"
   ]
  },
  {
   "cell_type": "code",
   "execution_count": 121,
   "metadata": {},
   "outputs": [
    {
     "name": "stderr",
     "output_type": "stream",
     "text": [
      "100%|█████████████████████████████████████████| 100/100 [07:38<00:00,  4.58s/it]\n"
     ]
    }
   ],
   "source": [
    "dt.Frame(pd.DataFrame(compute_in_batches_topIds(result,tfidf_blfdeltaspectral_incp.index.values,100,100), index=tfidf_blfdeltaspectral_incp.index.values ).reset_index()).to_csv('./TopIdsTask2/top_ids_cosine_tfidf_blfdeltaspectral_incp_complete.csv')"
   ]
  },
  {
   "cell_type": "code",
   "execution_count": 122,
   "metadata": {},
   "outputs": [],
   "source": [
    "del result, tfidf_blfdeltaspectral_incp"
   ]
  },
  {
   "cell_type": "markdown",
   "metadata": {},
   "source": [
    "###  Cosine Similarity `bert-blf_delta_spectral-incp`"
   ]
  },
  {
   "cell_type": "code",
   "execution_count": 123,
   "metadata": {},
   "outputs": [],
   "source": [
    "bert_blfdeltaspectral_incp =bert.join(blf_deltaspectral, on='id').join(incp, on='id')"
   ]
  },
  {
   "cell_type": "code",
   "execution_count": 124,
   "metadata": {},
   "outputs": [
    {
     "name": "stderr",
     "output_type": "stream",
     "text": [
      "100%|█████████████████████████████████████████| 100/100 [09:03<00:00,  5.43s/it]\n"
     ]
    }
   ],
   "source": [
    "result = compute_in_batches(bert_blfdeltaspectral_incp.to_numpy(),bert_blfdeltaspectral_incp.to_numpy(), simfunction = get_cosine_similarity2, batches=100)"
   ]
  },
  {
   "cell_type": "code",
   "execution_count": 125,
   "metadata": {},
   "outputs": [
    {
     "name": "stdout",
     "output_type": "stream",
     "text": [
      "(68641, 68641)\n"
     ]
    }
   ],
   "source": [
    "print(result.shape)\n",
    "np.fill_diagonal(result, -1)"
   ]
  },
  {
   "cell_type": "code",
   "execution_count": 126,
   "metadata": {},
   "outputs": [
    {
     "name": "stderr",
     "output_type": "stream",
     "text": [
      "100%|█████████████████████████████████████████| 100/100 [07:28<00:00,  4.49s/it]\n"
     ]
    }
   ],
   "source": [
    "dt.Frame(pd.DataFrame(compute_in_batches_topIds(result,bert_blfdeltaspectral_incp.index.values,100,100), index=bert_blfdeltaspectral_incp.index.values ).reset_index()).to_csv('./TopIdsTask2/top_ids_cosine_bert_blfdeltaspectral_incp_complete.csv')"
   ]
  },
  {
   "cell_type": "code",
   "execution_count": 127,
   "metadata": {},
   "outputs": [],
   "source": [
    "del result, bert_blfdeltaspectral_incp"
   ]
  },
  {
   "cell_type": "code",
   "execution_count": 128,
   "metadata": {},
   "outputs": [],
   "source": [
    "# %whos"
   ]
  },
  {
   "cell_type": "code",
   "execution_count": null,
   "metadata": {},
   "outputs": [],
   "source": []
  },
  {
   "cell_type": "markdown",
   "metadata": {},
   "source": [
    "###  Cosine Similarity `tfidf-mfcc_bow-vgg19`"
   ]
  },
  {
   "cell_type": "code",
   "execution_count": 129,
   "metadata": {},
   "outputs": [],
   "source": [
    "tfidf_mfcc_bow_vgg19 =tf_idf.join(mfcc_bow, on='id').join(vgg19, on='id')"
   ]
  },
  {
   "cell_type": "code",
   "execution_count": 130,
   "metadata": {},
   "outputs": [
    {
     "name": "stderr",
     "output_type": "stream",
     "text": [
      "100%|█████████████████████████████████████████| 100/100 [11:35<00:00,  6.96s/it]\n"
     ]
    }
   ],
   "source": [
    "result = compute_in_batches(tfidf_mfcc_bow_vgg19.to_numpy(),tfidf_mfcc_bow_vgg19.to_numpy(), simfunction = get_cosine_similarity2, batches=100)"
   ]
  },
  {
   "cell_type": "code",
   "execution_count": 131,
   "metadata": {},
   "outputs": [
    {
     "name": "stdout",
     "output_type": "stream",
     "text": [
      "(68641, 68641)\n"
     ]
    }
   ],
   "source": [
    "print(result.shape)\n",
    "np.fill_diagonal(result, -1)"
   ]
  },
  {
   "cell_type": "code",
   "execution_count": 132,
   "metadata": {},
   "outputs": [
    {
     "name": "stderr",
     "output_type": "stream",
     "text": [
      "100%|█████████████████████████████████████████| 100/100 [07:36<00:00,  4.56s/it]\n"
     ]
    }
   ],
   "source": [
    "dt.Frame(pd.DataFrame(compute_in_batches_topIds(result,tfidf_mfcc_bow_vgg19.index.values,100,100), index=tfidf_mfcc_bow_vgg19.index.values ).reset_index()).to_csv('./TopIdsTask2/top_ids_cosine_tfidf_mfcc_bow_vgg19_complete.csv')"
   ]
  },
  {
   "cell_type": "code",
   "execution_count": 133,
   "metadata": {},
   "outputs": [],
   "source": [
    "del result , tfidf_mfcc_bow_vgg19"
   ]
  },
  {
   "cell_type": "markdown",
   "metadata": {},
   "source": [
    "###  Cosine Similarity `bert-mfcc_bow-vgg19`"
   ]
  },
  {
   "cell_type": "code",
   "execution_count": 134,
   "metadata": {},
   "outputs": [],
   "source": [
    "bert_mfcc_bow_vgg19 =bert.join(mfcc_bow, on='id').join(vgg19, on='id')"
   ]
  },
  {
   "cell_type": "code",
   "execution_count": 135,
   "metadata": {},
   "outputs": [
    {
     "name": "stderr",
     "output_type": "stream",
     "text": [
      "100%|█████████████████████████████████████████| 100/100 [11:28<00:00,  6.88s/it]\n"
     ]
    }
   ],
   "source": [
    "result = compute_in_batches(bert_mfcc_bow_vgg19.to_numpy(),bert_mfcc_bow_vgg19.to_numpy(), simfunction = get_cosine_similarity2, batches=100)"
   ]
  },
  {
   "cell_type": "code",
   "execution_count": 136,
   "metadata": {},
   "outputs": [
    {
     "name": "stdout",
     "output_type": "stream",
     "text": [
      "(68641, 68641)\n"
     ]
    }
   ],
   "source": [
    "print(result.shape)\n",
    "np.fill_diagonal(result, -1)"
   ]
  },
  {
   "cell_type": "code",
   "execution_count": 137,
   "metadata": {},
   "outputs": [
    {
     "name": "stderr",
     "output_type": "stream",
     "text": [
      "100%|█████████████████████████████████████████| 100/100 [07:29<00:00,  4.50s/it]\n"
     ]
    }
   ],
   "source": [
    "dt.Frame(pd.DataFrame(compute_in_batches_topIds(result,bert_mfcc_bow_vgg19.index.values,100,100), index=bert_mfcc_bow_vgg19.index.values ).reset_index()).to_csv('./TopIdsTask2/top_ids_cosine_bert_mfcc_bow_vgg19_complete.csv')"
   ]
  },
  {
   "cell_type": "code",
   "execution_count": 138,
   "metadata": {},
   "outputs": [],
   "source": [
    "del result, bert_mfcc_bow_vgg19"
   ]
  },
  {
   "cell_type": "markdown",
   "metadata": {},
   "source": [
    "###  Cosine Similarity `tfidf-essentia-vgg19`"
   ]
  },
  {
   "cell_type": "code",
   "execution_count": 139,
   "metadata": {},
   "outputs": [],
   "source": [
    "tfidf_essentia_vgg19 =tf_idf.join(essentia, on='id').join(vgg19, on='id')"
   ]
  },
  {
   "cell_type": "code",
   "execution_count": 140,
   "metadata": {},
   "outputs": [
    {
     "name": "stderr",
     "output_type": "stream",
     "text": [
      "100%|█████████████████████████████████████████| 100/100 [12:20<00:00,  7.40s/it]\n"
     ]
    }
   ],
   "source": [
    "result = compute_in_batches(tfidf_essentia_vgg19.to_numpy(),tfidf_essentia_vgg19.to_numpy(), simfunction = get_cosine_similarity2, batches=100)"
   ]
  },
  {
   "cell_type": "code",
   "execution_count": 141,
   "metadata": {},
   "outputs": [
    {
     "name": "stdout",
     "output_type": "stream",
     "text": [
      "(68641, 68641)\n"
     ]
    }
   ],
   "source": [
    "print(result.shape)\n",
    "np.fill_diagonal(result, -1)"
   ]
  },
  {
   "cell_type": "code",
   "execution_count": 142,
   "metadata": {},
   "outputs": [
    {
     "name": "stderr",
     "output_type": "stream",
     "text": [
      "100%|█████████████████████████████████████████| 100/100 [07:38<00:00,  4.58s/it]\n"
     ]
    }
   ],
   "source": [
    "dt.Frame(pd.DataFrame(compute_in_batches_topIds(result,tfidf_essentia_vgg19.index.values,100,100), index=tfidf_essentia_vgg19.index.values ).reset_index()).to_csv('./TopIdsTask2/top_ids_cosine_tfidf_essentia_vgg19_complete.csv')"
   ]
  },
  {
   "cell_type": "code",
   "execution_count": 143,
   "metadata": {},
   "outputs": [],
   "source": [
    "del result, tfidf_essentia_vgg19"
   ]
  },
  {
   "cell_type": "markdown",
   "metadata": {},
   "source": [
    "###  Cosine Similarity `bert-essentia-vgg19`"
   ]
  },
  {
   "cell_type": "code",
   "execution_count": 144,
   "metadata": {},
   "outputs": [],
   "source": [
    "bert_essentia_vgg19 =bert.join(essentia, on='id').join(vgg19, on='id')"
   ]
  },
  {
   "cell_type": "code",
   "execution_count": 145,
   "metadata": {},
   "outputs": [
    {
     "name": "stderr",
     "output_type": "stream",
     "text": [
      "100%|█████████████████████████████████████████| 100/100 [12:13<00:00,  7.33s/it]\n"
     ]
    }
   ],
   "source": [
    "result = compute_in_batches(bert_essentia_vgg19.to_numpy(),bert_essentia_vgg19.to_numpy(), simfunction = get_cosine_similarity2, batches=100)"
   ]
  },
  {
   "cell_type": "code",
   "execution_count": 146,
   "metadata": {},
   "outputs": [
    {
     "name": "stdout",
     "output_type": "stream",
     "text": [
      "(68641, 68641)\n"
     ]
    }
   ],
   "source": [
    "print(result.shape)\n",
    "np.fill_diagonal(result, -1)"
   ]
  },
  {
   "cell_type": "code",
   "execution_count": 147,
   "metadata": {},
   "outputs": [
    {
     "name": "stderr",
     "output_type": "stream",
     "text": [
      "100%|█████████████████████████████████████████| 100/100 [07:35<00:00,  4.55s/it]\n"
     ]
    }
   ],
   "source": [
    "dt.Frame(pd.DataFrame(compute_in_batches_topIds(result,bert_essentia_vgg19.index.values,100,100), index=bert_essentia_vgg19.index.values ).reset_index()).to_csv('./TopIdsTask2/top_ids_cosine_bert_essentia_vgg19_complete.csv')"
   ]
  },
  {
   "cell_type": "code",
   "execution_count": 148,
   "metadata": {},
   "outputs": [],
   "source": [
    "del result, bert_essentia_vgg19"
   ]
  },
  {
   "cell_type": "markdown",
   "metadata": {},
   "source": [
    "###  Cosine Similarity `tfidf-blf_delta_spectral-vgg19`"
   ]
  },
  {
   "cell_type": "code",
   "execution_count": 149,
   "metadata": {},
   "outputs": [],
   "source": [
    "tfidf_blfdeltaspectral_vgg19 =tf_idf.join(blf_deltaspectral, on='id').join(vgg19, on='id')"
   ]
  },
  {
   "cell_type": "code",
   "execution_count": 150,
   "metadata": {},
   "outputs": [
    {
     "name": "stderr",
     "output_type": "stream",
     "text": [
      "100%|█████████████████████████████████████████| 100/100 [12:44<00:00,  7.65s/it]\n"
     ]
    }
   ],
   "source": [
    "result = compute_in_batches(tfidf_blfdeltaspectral_vgg19.to_numpy(),tfidf_blfdeltaspectral_vgg19.to_numpy(), simfunction = get_cosine_similarity2, batches=100)"
   ]
  },
  {
   "cell_type": "code",
   "execution_count": 151,
   "metadata": {},
   "outputs": [
    {
     "name": "stdout",
     "output_type": "stream",
     "text": [
      "(68641, 68641)\n"
     ]
    }
   ],
   "source": [
    "print(result.shape)\n",
    "np.fill_diagonal(result, -1)"
   ]
  },
  {
   "cell_type": "code",
   "execution_count": 152,
   "metadata": {},
   "outputs": [
    {
     "name": "stderr",
     "output_type": "stream",
     "text": [
      "100%|█████████████████████████████████████████| 100/100 [07:31<00:00,  4.51s/it]\n"
     ]
    }
   ],
   "source": [
    "dt.Frame(pd.DataFrame(compute_in_batches_topIds(result,tfidf_blfdeltaspectral_vgg19.index.values,100,100), index=tfidf_blfdeltaspectral_vgg19.index.values ).reset_index()).to_csv('./TopIdsTask2/top_ids_cosine_tfidf_blfdeltaspectral_vgg19_complete.csv')"
   ]
  },
  {
   "cell_type": "code",
   "execution_count": 153,
   "metadata": {},
   "outputs": [],
   "source": [
    "del result, tfidf_blfdeltaspectral_vgg19"
   ]
  },
  {
   "cell_type": "markdown",
   "metadata": {},
   "source": [
    "###  Cosine Similarity `bert-blf_delta_spectral-vgg19`"
   ]
  },
  {
   "cell_type": "code",
   "execution_count": 154,
   "metadata": {},
   "outputs": [],
   "source": [
    "bert_blfdeltaspectral_vgg19 =bert.join(blf_deltaspectral, on='id').join(vgg19, on='id')"
   ]
  },
  {
   "cell_type": "code",
   "execution_count": 155,
   "metadata": {},
   "outputs": [
    {
     "name": "stderr",
     "output_type": "stream",
     "text": [
      "100%|█████████████████████████████████████████| 100/100 [12:27<00:00,  7.47s/it]\n"
     ]
    }
   ],
   "source": [
    "result = compute_in_batches(bert_blfdeltaspectral_vgg19.to_numpy(),bert_blfdeltaspectral_vgg19.to_numpy(), simfunction = get_cosine_similarity2, batches=100)"
   ]
  },
  {
   "cell_type": "code",
   "execution_count": 156,
   "metadata": {},
   "outputs": [
    {
     "name": "stdout",
     "output_type": "stream",
     "text": [
      "(68641, 68641)\n"
     ]
    }
   ],
   "source": [
    "print(result.shape)\n",
    "np.fill_diagonal(result, -1)"
   ]
  },
  {
   "cell_type": "code",
   "execution_count": 157,
   "metadata": {},
   "outputs": [
    {
     "name": "stderr",
     "output_type": "stream",
     "text": [
      "100%|█████████████████████████████████████████| 100/100 [07:29<00:00,  4.50s/it]\n"
     ]
    }
   ],
   "source": [
    "dt.Frame(pd.DataFrame(compute_in_batches_topIds(result,bert_blfdeltaspectral_vgg19.index.values,100,100), index=bert_blfdeltaspectral_vgg19.index.values ).reset_index()).to_csv('./TopIdsTask2/top_ids_cosine_bert_blfdeltaspectral_vgg19_complete.csv')"
   ]
  },
  {
   "cell_type": "code",
   "execution_count": 158,
   "metadata": {},
   "outputs": [],
   "source": [
    "del result, bert_blfdeltaspectral_vgg19"
   ]
  },
  {
   "cell_type": "markdown",
   "metadata": {},
   "source": [
    "## Jaccard"
   ]
  },
  {
   "cell_type": "code",
   "execution_count": null,
   "metadata": {},
   "outputs": [],
   "source": []
  },
  {
   "cell_type": "markdown",
   "metadata": {},
   "source": [
    "###  Jaccard Similarity `tfidf-mfcc_bow-incp`"
   ]
  },
  {
   "cell_type": "code",
   "execution_count": 159,
   "metadata": {},
   "outputs": [],
   "source": [
    "tfidf_mfcc_bow_incp =tf_idf.join(mfcc_bow, on='id').join(incp, on='id')"
   ]
  },
  {
   "cell_type": "code",
   "execution_count": 160,
   "metadata": {},
   "outputs": [
    {
     "name": "stderr",
     "output_type": "stream",
     "text": [
      "100%|█████████████████████████████████████████| 100/100 [07:37<00:00,  4.57s/it]\n"
     ]
    }
   ],
   "source": [
    "result = compute_in_batches(tfidf_mfcc_bow_incp.to_numpy(),tfidf_mfcc_bow_incp.to_numpy(), simfunction = get_jaccard_similarity2, batches=100)"
   ]
  },
  {
   "cell_type": "code",
   "execution_count": 161,
   "metadata": {},
   "outputs": [
    {
     "name": "stdout",
     "output_type": "stream",
     "text": [
      "(68641, 68641)\n"
     ]
    }
   ],
   "source": [
    "print(result.shape)\n",
    "np.fill_diagonal(result, -1)"
   ]
  },
  {
   "cell_type": "code",
   "execution_count": 162,
   "metadata": {},
   "outputs": [
    {
     "name": "stderr",
     "output_type": "stream",
     "text": [
      "100%|█████████████████████████████████████████| 100/100 [07:50<00:00,  4.71s/it]\n"
     ]
    }
   ],
   "source": [
    "dt.Frame(pd.DataFrame(compute_in_batches_topIds(result,tfidf_mfcc_bow_incp.index.values,100,100), index=tfidf_mfcc_bow_incp.index.values ).reset_index()).to_csv('./TopIdsTask2/top_ids_jaccard_tfidf_mfcc_bow_incp_complete.csv')"
   ]
  },
  {
   "cell_type": "code",
   "execution_count": 163,
   "metadata": {},
   "outputs": [],
   "source": [
    "del result , tfidf_mfcc_bow_incp"
   ]
  },
  {
   "cell_type": "markdown",
   "metadata": {},
   "source": [
    "###  Jaccard Similarity `bert-mfcc_bow-incp`"
   ]
  },
  {
   "cell_type": "code",
   "execution_count": 164,
   "metadata": {},
   "outputs": [],
   "source": [
    "bert_mfcc_bow_incp =bert.join(mfcc_bow, on='id').join(incp, on='id')"
   ]
  },
  {
   "cell_type": "code",
   "execution_count": 165,
   "metadata": {},
   "outputs": [
    {
     "name": "stderr",
     "output_type": "stream",
     "text": [
      "100%|█████████████████████████████████████████| 100/100 [06:52<00:00,  4.12s/it]\n"
     ]
    }
   ],
   "source": [
    "result = compute_in_batches(bert_mfcc_bow_incp.to_numpy(),bert_mfcc_bow_incp.to_numpy(), simfunction = get_jaccard_similarity2, batches=100)"
   ]
  },
  {
   "cell_type": "code",
   "execution_count": 166,
   "metadata": {},
   "outputs": [
    {
     "name": "stdout",
     "output_type": "stream",
     "text": [
      "(68641, 68641)\n"
     ]
    }
   ],
   "source": [
    "print(result.shape)\n",
    "np.fill_diagonal(result, -1)"
   ]
  },
  {
   "cell_type": "code",
   "execution_count": 167,
   "metadata": {},
   "outputs": [
    {
     "name": "stderr",
     "output_type": "stream",
     "text": [
      "100%|█████████████████████████████████████████| 100/100 [07:50<00:00,  4.70s/it]\n"
     ]
    }
   ],
   "source": [
    "dt.Frame(pd.DataFrame(compute_in_batches_topIds(result,bert_mfcc_bow_incp.index.values,100,100), index=bert_mfcc_bow_incp.index.values ).reset_index()).to_csv('./TopIdsTask2/top_ids_jaccard_bert_mfcc_bow_incp_complete.csv')"
   ]
  },
  {
   "cell_type": "code",
   "execution_count": 168,
   "metadata": {},
   "outputs": [],
   "source": [
    "del result,  bert_mfcc_bow_incp"
   ]
  },
  {
   "cell_type": "markdown",
   "metadata": {},
   "source": [
    "###  Jaccard Similarity `tfidf-essentia-incp`"
   ]
  },
  {
   "cell_type": "code",
   "execution_count": 169,
   "metadata": {},
   "outputs": [],
   "source": [
    "tfidf_essentia_incp =tf_idf.join(essentia, on='id').join(incp, on='id')"
   ]
  },
  {
   "cell_type": "code",
   "execution_count": 170,
   "metadata": {},
   "outputs": [
    {
     "name": "stderr",
     "output_type": "stream",
     "text": [
      "100%|█████████████████████████████████████████| 100/100 [07:28<00:00,  4.48s/it]\n"
     ]
    }
   ],
   "source": [
    "result = compute_in_batches(tfidf_essentia_incp.to_numpy(),tfidf_essentia_incp.to_numpy(), simfunction = get_jaccard_similarity2, batches=100)"
   ]
  },
  {
   "cell_type": "code",
   "execution_count": 171,
   "metadata": {},
   "outputs": [
    {
     "name": "stdout",
     "output_type": "stream",
     "text": [
      "(68641, 68641)\n"
     ]
    }
   ],
   "source": [
    "print(result.shape)\n",
    "np.fill_diagonal(result, -1)"
   ]
  },
  {
   "cell_type": "code",
   "execution_count": 172,
   "metadata": {},
   "outputs": [
    {
     "name": "stderr",
     "output_type": "stream",
     "text": [
      "100%|█████████████████████████████████████████| 100/100 [07:04<00:00,  4.24s/it]\n"
     ]
    }
   ],
   "source": [
    "dt.Frame(pd.DataFrame(compute_in_batches_topIds(result,tfidf_essentia_incp.index.values,100,100), index=tfidf_essentia_incp.index.values ).reset_index()).to_csv('./TopIdsTask2/top_ids_jaccard_tfidf_essentia_incp_complete.csv')"
   ]
  },
  {
   "cell_type": "code",
   "execution_count": 173,
   "metadata": {},
   "outputs": [],
   "source": [
    "del result, tfidf_essentia_incp"
   ]
  },
  {
   "cell_type": "markdown",
   "metadata": {},
   "source": [
    "###  Jaccard Similarity `bert-essentia-incp`"
   ]
  },
  {
   "cell_type": "code",
   "execution_count": 174,
   "metadata": {},
   "outputs": [],
   "source": [
    "bert_essentia_incp =bert.join(essentia, on='id').join(incp, on='id')"
   ]
  },
  {
   "cell_type": "code",
   "execution_count": 175,
   "metadata": {},
   "outputs": [
    {
     "name": "stderr",
     "output_type": "stream",
     "text": [
      "100%|█████████████████████████████████████████| 100/100 [07:15<00:00,  4.36s/it]\n"
     ]
    }
   ],
   "source": [
    "result = compute_in_batches(bert_essentia_incp.to_numpy(),bert_essentia_incp.to_numpy(), simfunction = get_jaccard_similarity2, batches=100)"
   ]
  },
  {
   "cell_type": "code",
   "execution_count": 176,
   "metadata": {},
   "outputs": [
    {
     "name": "stdout",
     "output_type": "stream",
     "text": [
      "(68641, 68641)\n"
     ]
    }
   ],
   "source": [
    "print(result.shape)\n",
    "np.fill_diagonal(result, -1)"
   ]
  },
  {
   "cell_type": "code",
   "execution_count": 177,
   "metadata": {},
   "outputs": [
    {
     "name": "stderr",
     "output_type": "stream",
     "text": [
      "100%|█████████████████████████████████████████| 100/100 [07:04<00:00,  4.24s/it]\n"
     ]
    }
   ],
   "source": [
    "dt.Frame(pd.DataFrame(compute_in_batches_topIds(result,bert_essentia_incp.index.values,100,100), index=bert_essentia_incp.index.values ).reset_index()).to_csv('./TopIdsTask2/top_ids_jaccard_bert_essentia_incp_complete.csv')"
   ]
  },
  {
   "cell_type": "code",
   "execution_count": 178,
   "metadata": {},
   "outputs": [],
   "source": [
    "del result, bert_essentia_incp"
   ]
  },
  {
   "cell_type": "markdown",
   "metadata": {},
   "source": [
    "###  Jaccard Similarity `tfidf-blf_delta_spectral-incp`"
   ]
  },
  {
   "cell_type": "code",
   "execution_count": 179,
   "metadata": {},
   "outputs": [],
   "source": [
    "tfidf_blfdeltaspectral_incp =tf_idf.join(blf_deltaspectral, on='id').join(incp, on='id')"
   ]
  },
  {
   "cell_type": "code",
   "execution_count": 180,
   "metadata": {},
   "outputs": [
    {
     "name": "stderr",
     "output_type": "stream",
     "text": [
      "100%|█████████████████████████████████████████| 100/100 [07:51<00:00,  4.72s/it]\n"
     ]
    }
   ],
   "source": [
    "result = compute_in_batches(tfidf_blfdeltaspectral_incp.to_numpy(),tfidf_blfdeltaspectral_incp.to_numpy(), simfunction = get_jaccard_similarity2, batches=100)"
   ]
  },
  {
   "cell_type": "code",
   "execution_count": 181,
   "metadata": {},
   "outputs": [
    {
     "name": "stdout",
     "output_type": "stream",
     "text": [
      "(68641, 68641)\n"
     ]
    }
   ],
   "source": [
    "print(result.shape)\n",
    "np.fill_diagonal(result, -1)"
   ]
  },
  {
   "cell_type": "code",
   "execution_count": 182,
   "metadata": {},
   "outputs": [
    {
     "name": "stderr",
     "output_type": "stream",
     "text": [
      "100%|█████████████████████████████████████████| 100/100 [07:33<00:00,  4.54s/it]\n"
     ]
    }
   ],
   "source": [
    "dt.Frame(pd.DataFrame(compute_in_batches_topIds(result,tfidf_blfdeltaspectral_incp.index.values,100,100), index=tfidf_blfdeltaspectral_incp.index.values ).reset_index()).to_csv('./TopIdsTask2/top_ids_jaccard_tfidf_blfdeltaspectral_incp_complete.csv')"
   ]
  },
  {
   "cell_type": "code",
   "execution_count": 183,
   "metadata": {},
   "outputs": [],
   "source": [
    "del result, tfidf_blfdeltaspectral_incp"
   ]
  },
  {
   "cell_type": "markdown",
   "metadata": {},
   "source": [
    "###  Jaccard Similarity `bert-blf_delta_spectral-incp`"
   ]
  },
  {
   "cell_type": "code",
   "execution_count": 184,
   "metadata": {},
   "outputs": [],
   "source": [
    "bert_blfdeltaspectral_incp =bert.join(blf_deltaspectral, on='id').join(incp, on='id')"
   ]
  },
  {
   "cell_type": "code",
   "execution_count": 185,
   "metadata": {},
   "outputs": [
    {
     "name": "stderr",
     "output_type": "stream",
     "text": [
      "100%|█████████████████████████████████████████| 100/100 [07:39<00:00,  4.59s/it]\n"
     ]
    }
   ],
   "source": [
    "result = compute_in_batches(bert_blfdeltaspectral_incp.to_numpy(),bert_blfdeltaspectral_incp.to_numpy(), simfunction = get_jaccard_similarity2, batches=100)"
   ]
  },
  {
   "cell_type": "code",
   "execution_count": 186,
   "metadata": {},
   "outputs": [
    {
     "name": "stdout",
     "output_type": "stream",
     "text": [
      "(68641, 68641)\n"
     ]
    }
   ],
   "source": [
    "print(result.shape)\n",
    "np.fill_diagonal(result, -1)"
   ]
  },
  {
   "cell_type": "code",
   "execution_count": 187,
   "metadata": {},
   "outputs": [
    {
     "name": "stderr",
     "output_type": "stream",
     "text": [
      "100%|█████████████████████████████████████████| 100/100 [07:34<00:00,  4.54s/it]\n"
     ]
    }
   ],
   "source": [
    "dt.Frame(pd.DataFrame(compute_in_batches_topIds(result,bert_blfdeltaspectral_incp.index.values,100,100), index=bert_blfdeltaspectral_incp.index.values ).reset_index()).to_csv('./TopIdsTask2/top_ids_jaccard_bert_blfdeltaspectral_incp_complete.csv')"
   ]
  },
  {
   "cell_type": "code",
   "execution_count": 188,
   "metadata": {},
   "outputs": [],
   "source": [
    "del result, bert_blfdeltaspectral_incp"
   ]
  },
  {
   "cell_type": "code",
   "execution_count": 189,
   "metadata": {},
   "outputs": [],
   "source": [
    "# %whos"
   ]
  },
  {
   "cell_type": "code",
   "execution_count": null,
   "metadata": {},
   "outputs": [],
   "source": []
  },
  {
   "cell_type": "markdown",
   "metadata": {},
   "source": [
    "###  Jaccard Similarity `tfidf-mfcc_bow-vgg19`"
   ]
  },
  {
   "cell_type": "code",
   "execution_count": 190,
   "metadata": {},
   "outputs": [],
   "source": [
    "tfidf_mfcc_bow_vgg19 =tf_idf.join(mfcc_bow, on='id').join(vgg19, on='id')"
   ]
  },
  {
   "cell_type": "code",
   "execution_count": 191,
   "metadata": {},
   "outputs": [
    {
     "name": "stderr",
     "output_type": "stream",
     "text": [
      "100%|█████████████████████████████████████████| 100/100 [11:35<00:00,  6.95s/it]\n"
     ]
    }
   ],
   "source": [
    "result = compute_in_batches(tfidf_mfcc_bow_vgg19.to_numpy(),tfidf_mfcc_bow_vgg19.to_numpy(), simfunction = get_jaccard_similarity2, batches=100)"
   ]
  },
  {
   "cell_type": "code",
   "execution_count": 192,
   "metadata": {},
   "outputs": [
    {
     "name": "stdout",
     "output_type": "stream",
     "text": [
      "(68641, 68641)\n"
     ]
    }
   ],
   "source": [
    "print(result.shape)\n",
    "np.fill_diagonal(result, -1)"
   ]
  },
  {
   "cell_type": "code",
   "execution_count": 193,
   "metadata": {},
   "outputs": [
    {
     "name": "stderr",
     "output_type": "stream",
     "text": [
      "100%|█████████████████████████████████████████| 100/100 [07:48<00:00,  4.69s/it]\n"
     ]
    }
   ],
   "source": [
    "dt.Frame(pd.DataFrame(compute_in_batches_topIds(result,tfidf_mfcc_bow_vgg19.index.values,100,100), index=tfidf_mfcc_bow_vgg19.index.values ).reset_index()).to_csv('./TopIdsTask2/top_ids_jaccard_tfidf_mfcc_bow_vgg19_complete.csv')"
   ]
  },
  {
   "cell_type": "code",
   "execution_count": 194,
   "metadata": {},
   "outputs": [],
   "source": [
    "del result , tfidf_mfcc_bow_vgg19"
   ]
  },
  {
   "cell_type": "markdown",
   "metadata": {},
   "source": [
    "###  Jaccard Similarity `bert-mfcc_bow-vgg19`"
   ]
  },
  {
   "cell_type": "code",
   "execution_count": 195,
   "metadata": {},
   "outputs": [],
   "source": [
    "bert_mfcc_bow_vgg19 =bert.join(mfcc_bow, on='id').join(vgg19, on='id')"
   ]
  },
  {
   "cell_type": "code",
   "execution_count": 196,
   "metadata": {},
   "outputs": [
    {
     "name": "stderr",
     "output_type": "stream",
     "text": [
      "100%|█████████████████████████████████████████| 100/100 [11:29<00:00,  6.90s/it]\n"
     ]
    }
   ],
   "source": [
    "result = compute_in_batches(bert_mfcc_bow_vgg19.to_numpy(),bert_mfcc_bow_vgg19.to_numpy(), simfunction = get_jaccard_similarity2, batches=100)"
   ]
  },
  {
   "cell_type": "code",
   "execution_count": 197,
   "metadata": {},
   "outputs": [
    {
     "name": "stdout",
     "output_type": "stream",
     "text": [
      "(68641, 68641)\n"
     ]
    }
   ],
   "source": [
    "print(result.shape)\n",
    "np.fill_diagonal(result, -1)"
   ]
  },
  {
   "cell_type": "code",
   "execution_count": 198,
   "metadata": {},
   "outputs": [
    {
     "name": "stderr",
     "output_type": "stream",
     "text": [
      "100%|█████████████████████████████████████████| 100/100 [08:36<00:00,  5.16s/it]\n"
     ]
    }
   ],
   "source": [
    "dt.Frame(pd.DataFrame(compute_in_batches_topIds(result,bert_mfcc_bow_vgg19.index.values,100,100), index=bert_mfcc_bow_vgg19.index.values ).reset_index()).to_csv('./TopIdsTask2/top_ids_jaccard_bert_mfcc_bow_vgg19_complete.csv')"
   ]
  },
  {
   "cell_type": "code",
   "execution_count": 199,
   "metadata": {},
   "outputs": [],
   "source": [
    "del result, bert_mfcc_bow_vgg19"
   ]
  },
  {
   "cell_type": "markdown",
   "metadata": {},
   "source": [
    "###  Jaccard Similarity `tfidf-essentia-vgg19`"
   ]
  },
  {
   "cell_type": "code",
   "execution_count": 200,
   "metadata": {},
   "outputs": [],
   "source": [
    "tfidf_essentia_vgg19 =tf_idf.join(essentia, on='id').join(vgg19, on='id')"
   ]
  },
  {
   "cell_type": "code",
   "execution_count": 201,
   "metadata": {},
   "outputs": [
    {
     "name": "stderr",
     "output_type": "stream",
     "text": [
      "100%|█████████████████████████████████████████| 100/100 [12:16<00:00,  7.36s/it]\n"
     ]
    }
   ],
   "source": [
    "result = compute_in_batches(tfidf_essentia_vgg19.to_numpy(),tfidf_essentia_vgg19.to_numpy(), simfunction = get_jaccard_similarity2, batches=100)"
   ]
  },
  {
   "cell_type": "code",
   "execution_count": 202,
   "metadata": {},
   "outputs": [
    {
     "name": "stdout",
     "output_type": "stream",
     "text": [
      "(68641, 68641)\n"
     ]
    }
   ],
   "source": [
    "print(result.shape)\n",
    "np.fill_diagonal(result, -1)"
   ]
  },
  {
   "cell_type": "code",
   "execution_count": 203,
   "metadata": {},
   "outputs": [
    {
     "name": "stderr",
     "output_type": "stream",
     "text": [
      "100%|█████████████████████████████████████████| 100/100 [07:06<00:00,  4.26s/it]\n"
     ]
    }
   ],
   "source": [
    "dt.Frame(pd.DataFrame(compute_in_batches_topIds(result,tfidf_essentia_vgg19.index.values,100,100), index=tfidf_essentia_vgg19.index.values ).reset_index()).to_csv('./TopIdsTask2/top_ids_jaccard_tfidf_essentia_vgg19_complete.csv')"
   ]
  },
  {
   "cell_type": "code",
   "execution_count": 204,
   "metadata": {},
   "outputs": [],
   "source": [
    "del result, tfidf_essentia_vgg19"
   ]
  },
  {
   "cell_type": "markdown",
   "metadata": {},
   "source": [
    "###  Jaccard Similarity `bert-essentia-vgg19`"
   ]
  },
  {
   "cell_type": "code",
   "execution_count": 205,
   "metadata": {},
   "outputs": [],
   "source": [
    "bert_essentia_vgg19 =bert.join(essentia, on='id').join(vgg19, on='id')"
   ]
  },
  {
   "cell_type": "code",
   "execution_count": 206,
   "metadata": {},
   "outputs": [
    {
     "name": "stderr",
     "output_type": "stream",
     "text": [
      "100%|█████████████████████████████████████████| 100/100 [11:59<00:00,  7.19s/it]\n"
     ]
    }
   ],
   "source": [
    "result = compute_in_batches(bert_essentia_vgg19.to_numpy(),bert_essentia_vgg19.to_numpy(), simfunction = get_jaccard_similarity2, batches=100)"
   ]
  },
  {
   "cell_type": "code",
   "execution_count": 207,
   "metadata": {},
   "outputs": [
    {
     "name": "stdout",
     "output_type": "stream",
     "text": [
      "(68641, 68641)\n"
     ]
    }
   ],
   "source": [
    "print(result.shape)\n",
    "np.fill_diagonal(result, -1)"
   ]
  },
  {
   "cell_type": "code",
   "execution_count": 208,
   "metadata": {},
   "outputs": [
    {
     "name": "stderr",
     "output_type": "stream",
     "text": [
      "100%|█████████████████████████████████████████| 100/100 [07:08<00:00,  4.28s/it]\n"
     ]
    }
   ],
   "source": [
    "dt.Frame(pd.DataFrame(compute_in_batches_topIds(result,bert_essentia_vgg19.index.values,100,100), index=bert_essentia_vgg19.index.values ).reset_index()).to_csv('./TopIdsTask2/top_ids_jaccard_bert_essentia_vgg19_complete.csv')"
   ]
  },
  {
   "cell_type": "code",
   "execution_count": 209,
   "metadata": {},
   "outputs": [],
   "source": [
    "del result, bert_essentia_vgg19"
   ]
  },
  {
   "cell_type": "markdown",
   "metadata": {},
   "source": [
    "###  Jaccard Similarity `tfidf-blf_delta_spectral-vgg19`"
   ]
  },
  {
   "cell_type": "code",
   "execution_count": 210,
   "metadata": {},
   "outputs": [],
   "source": [
    "tfidf_blfdeltaspectral_vgg19 =tf_idf.join(blf_deltaspectral, on='id').join(vgg19, on='id')"
   ]
  },
  {
   "cell_type": "code",
   "execution_count": 211,
   "metadata": {},
   "outputs": [
    {
     "name": "stderr",
     "output_type": "stream",
     "text": [
      "100%|█████████████████████████████████████████| 100/100 [19:02<00:00, 11.43s/it]\n"
     ]
    }
   ],
   "source": [
    "result = compute_in_batches(tfidf_blfdeltaspectral_vgg19.to_numpy(),tfidf_blfdeltaspectral_vgg19.to_numpy(), simfunction = get_jaccard_similarity2, batches=100)"
   ]
  },
  {
   "cell_type": "code",
   "execution_count": 212,
   "metadata": {},
   "outputs": [
    {
     "name": "stdout",
     "output_type": "stream",
     "text": [
      "(68641, 68641)\n"
     ]
    }
   ],
   "source": [
    "print(result.shape)\n",
    "np.fill_diagonal(result, -1)"
   ]
  },
  {
   "cell_type": "code",
   "execution_count": 213,
   "metadata": {},
   "outputs": [
    {
     "name": "stderr",
     "output_type": "stream",
     "text": [
      "100%|█████████████████████████████████████████| 100/100 [09:40<00:00,  5.81s/it]\n"
     ]
    }
   ],
   "source": [
    "dt.Frame(pd.DataFrame(compute_in_batches_topIds(result,tfidf_blfdeltaspectral_vgg19.index.values,100,100), index=tfidf_blfdeltaspectral_vgg19.index.values ).reset_index()).to_csv('./TopIdsTask2/top_ids_jaccard_tfidf_blfdeltaspectral_vgg19_complete.csv')"
   ]
  },
  {
   "cell_type": "code",
   "execution_count": 214,
   "metadata": {},
   "outputs": [],
   "source": [
    "del result, tfidf_blfdeltaspectral_vgg19"
   ]
  },
  {
   "cell_type": "markdown",
   "metadata": {},
   "source": [
    "###  Jaccard Similarity `bert-blf_delta_spectral-vgg19`"
   ]
  },
  {
   "cell_type": "code",
   "execution_count": 215,
   "metadata": {},
   "outputs": [],
   "source": [
    "bert_blfdeltaspectral_vgg19 =bert.join(blf_deltaspectral, on='id').join(vgg19, on='id')"
   ]
  },
  {
   "cell_type": "code",
   "execution_count": 216,
   "metadata": {},
   "outputs": [
    {
     "name": "stderr",
     "output_type": "stream",
     "text": [
      "100%|█████████████████████████████████████████| 100/100 [12:22<00:00,  7.43s/it]\n"
     ]
    }
   ],
   "source": [
    "result = compute_in_batches(bert_blfdeltaspectral_vgg19.to_numpy(),bert_blfdeltaspectral_vgg19.to_numpy(), simfunction = get_jaccard_similarity2, batches=100)"
   ]
  },
  {
   "cell_type": "code",
   "execution_count": 217,
   "metadata": {},
   "outputs": [
    {
     "name": "stdout",
     "output_type": "stream",
     "text": [
      "(68641, 68641)\n"
     ]
    }
   ],
   "source": [
    "print(result.shape)\n",
    "np.fill_diagonal(result, -1)"
   ]
  },
  {
   "cell_type": "code",
   "execution_count": 218,
   "metadata": {},
   "outputs": [
    {
     "name": "stderr",
     "output_type": "stream",
     "text": [
      "100%|█████████████████████████████████████████| 100/100 [07:40<00:00,  4.61s/it]\n"
     ]
    }
   ],
   "source": [
    "dt.Frame(pd.DataFrame(compute_in_batches_topIds(result,bert_blfdeltaspectral_vgg19.index.values,100,100), index=bert_blfdeltaspectral_vgg19.index.values ).reset_index()).to_csv('./TopIdsTask2/top_ids_jaccard_bert_blfdeltaspectral_vgg19_complete.csv')"
   ]
  },
  {
   "cell_type": "code",
   "execution_count": 219,
   "metadata": {},
   "outputs": [],
   "source": [
    "del result, bert_blfdeltaspectral_vgg19"
   ]
  },
  {
   "cell_type": "markdown",
   "metadata": {},
   "source": [
    "## Generate Baseline\n",
    "\n",
    "The baseline that we took in consideration is a random selection of songs"
   ]
  },
  {
   "cell_type": "code",
   "execution_count": 43,
   "metadata": {},
   "outputs": [
    {
     "name": "stdout",
     "output_type": "stream",
     "text": [
      "(68641, 100)\n"
     ]
    },
    {
     "name": "stderr",
     "output_type": "stream",
     "text": [
      "100%|██████████████████████████████████████████████████████████████████████████████████████████████████████| 68641/68641 [00:55<00:00, 1243.23it/s]\n"
     ]
    }
   ],
   "source": [
    "top_random_ids = np.empty((68641, 100))\n",
    "print(top_random_ids.shape)\n",
    "np.random.seed(42)\n",
    "for i in tqdm(range(68641)):\n",
    "    top_random_ids[i] = np.random.choice(68641, 100,replace=False)"
   ]
  },
  {
   "cell_type": "code",
   "execution_count": 62,
   "metadata": {},
   "outputs": [
    {
     "data": {
      "text/plain": [
       "array([51329., 19980., 15110., 63047.,  9736.])"
      ]
     },
     "execution_count": 62,
     "metadata": {},
     "output_type": "execute_result"
    }
   ],
   "source": [
    "top_random_ids[0,:5]"
   ]
  },
  {
   "cell_type": "code",
   "execution_count": 63,
   "metadata": {},
   "outputs": [
    {
     "data": {
      "text/plain": [
       "array(['zCRCrMUDW7Zg4NrA', 'vooe9Ftwnnx7UhQw', 'iChfD2M03EUdi0xE',\n",
       "       'Cl7k1xDo7R5M02vn', 'z21tWq5rTMGe6h02'], dtype=object)"
      ]
     },
     "execution_count": 63,
     "metadata": {},
     "output_type": "execute_result"
    }
   ],
   "source": [
    "baseline_topids = np.take(tf_idf.index.values, top_random_ids.astype(int), axis=0)\n",
    "baseline_topids[0,:5]"
   ]
  },
  {
   "cell_type": "code",
   "execution_count": 64,
   "metadata": {},
   "outputs": [
    {
     "data": {
      "text/plain": [
       "(68641, 100)"
      ]
     },
     "execution_count": 64,
     "metadata": {},
     "output_type": "execute_result"
    }
   ],
   "source": [
    "baseline_topids.shape"
   ]
  },
  {
   "cell_type": "code",
   "execution_count": 66,
   "metadata": {},
   "outputs": [],
   "source": [
    "dt.Frame(pd.DataFrame(baseline_topids, index=tf_idf.index.values ).reset_index()).to_csv('./TopIdsTask2/top_ids_baseline_complete.csv')"
   ]
  },
  {
   "cell_type": "code",
   "execution_count": null,
   "metadata": {},
   "outputs": [],
   "source": []
  }
 ],
 "metadata": {
  "kernelspec": {
   "display_name": "Python3 (new)",
   "language": "python",
   "name": "python3"
  },
  "language_info": {
   "codemirror_mode": {
    "name": "ipython",
    "version": 3
   },
   "file_extension": ".py",
   "mimetype": "text/x-python",
   "name": "python",
   "nbconvert_exporter": "python",
   "pygments_lexer": "ipython3",
   "version": "3.8.13"
  }
 },
 "nbformat": 4,
 "nbformat_minor": 4
}
