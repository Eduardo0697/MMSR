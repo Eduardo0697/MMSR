{
 "cells": [
  {
   "cell_type": "markdown",
   "metadata": {},
   "source": [
    "# Evaluation of the system with the top ids already generated"
   ]
  },
  {
   "cell_type": "markdown",
   "metadata": {},
   "source": [
    "- Lyrics Features used\n",
    "    - tfidf\n",
    "    - word2vec\n",
    "\n",
    "- Audio Features used\n",
    "    - mfcc bow\n",
    "    - essentia\n",
    "    - blf delta spectral\n",
    "    \n",
    "-  Video Features used\n",
    "    - incp\n",
    "    - vgg19\n",
    "\n",
    "- Combinations of [Lyrics][Audio][Video]\n",
    "\n",
    "    - tfidf-mfccbow-incp\n",
    "    - bert-mfccbow-incp\n",
    "\n",
    "    - tfidf_essentia_incp\n",
    "    - bert-essentia-incp\n",
    "\n",
    "    - tfidf-blfdeltaspectral-incp\n",
    "    - bert-blfdeltaspectral-incp\n",
    "\n",
    "    - tfidf-mfccbow-vgg19\n",
    "    - bert-mfccbow-vgg19\n",
    "\n",
    "    - tfidf_essentia_vgg19\n",
    "    - bert-essentia-vgg19\n",
    "\n",
    "    - tfidf-blfdeltaspectral-vgg19\n",
    "    - bert-blfdeltaspectral-vgg19"
   ]
  },
  {
   "cell_type": "code",
   "execution_count": null,
   "metadata": {},
   "outputs": [],
   "source": []
  },
  {
   "cell_type": "code",
   "execution_count": 1,
   "metadata": {},
   "outputs": [
    {
     "data": {
      "text/html": [
       "<style type='text/css'>\n",
       ".datatable table.frame { margin-bottom: 0; }\n",
       ".datatable table.frame thead { border-bottom: none; }\n",
       ".datatable table.frame tr.coltypes td {  color: #FFFFFF;  line-height: 6px;  padding: 0 0.5em;}\n",
       ".datatable .bool    { background: #DDDD99; }\n",
       ".datatable .object  { background: #565656; }\n",
       ".datatable .int     { background: #5D9E5D; }\n",
       ".datatable .float   { background: #4040CC; }\n",
       ".datatable .str     { background: #CC4040; }\n",
       ".datatable .time    { background: #40CC40; }\n",
       ".datatable .row_index {  background: var(--jp-border-color3);  border-right: 1px solid var(--jp-border-color0);  color: var(--jp-ui-font-color3);  font-size: 9px;}\n",
       ".datatable .frame tbody td { text-align: left; }\n",
       ".datatable .frame tr.coltypes .row_index {  background: var(--jp-border-color0);}\n",
       ".datatable th:nth-child(2) { padding-left: 12px; }\n",
       ".datatable .hellipsis {  color: var(--jp-cell-editor-border-color);}\n",
       ".datatable .vellipsis {  background: var(--jp-layout-color0);  color: var(--jp-cell-editor-border-color);}\n",
       ".datatable .na {  color: var(--jp-cell-editor-border-color);  font-size: 80%;}\n",
       ".datatable .sp {  opacity: 0.25;}\n",
       ".datatable .footer { font-size: 9px; }\n",
       ".datatable .frame_dimensions {  background: var(--jp-border-color3);  border-top: 1px solid var(--jp-border-color0);  color: var(--jp-ui-font-color3);  display: inline-block;  opacity: 0.6;  padding: 1px 10px 1px 5px;}\n",
       ".datatable .frame thead tr.colnames {  background-image: url('data:image/png;base64,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');  background-repeat: repeat-x;  background-size: 14px;  height: 28px;}\n",
       "</style>\n"
      ],
      "text/plain": [
       "<IPython.core.display.HTML object>"
      ]
     },
     "metadata": {},
     "output_type": "display_data"
    }
   ],
   "source": [
    "import pandas as pd\n",
    "import numpy as np\n",
    "from os.path import exists\n",
    "from tqdm import tqdm\n",
    "import re\n",
    "import datatable as dt\n",
    "from matplotlib import pyplot as plt"
   ]
  },
  {
   "cell_type": "code",
   "execution_count": 2,
   "metadata": {},
   "outputs": [],
   "source": [
    "# DATA FILES PROVIDED Task 2\n",
    "file_genres_2   = \"./../task2/id_genres_mmsr.tsv\"\n",
    "file_info_2     = \"./../task2/id_information_mmsr.tsv\""
   ]
  },
  {
   "cell_type": "code",
   "execution_count": 3,
   "metadata": {},
   "outputs": [],
   "source": [
    "# Individual Features with jaccard and cosine\n",
    "\n",
    "f_top_cosine_tfidf    = './TopIdsTask2/top_ids_cosine_tfidf_complete_.csv'\n",
    "f_top_cosine_word2vec = './TopIdsTask2/top_ids_cosine_word2vec_complete_.csv'\n",
    "f_top_cosine_mfcc_bow = './TopIdsTask2/top_ids_cosine_mfcc_bow_complete_.csv'\n",
    "f_top_cosine_essentia = './TopIdsTask2/top_ids_cosine_essentia_complete_.csv'\n",
    "f_top_cosine_incp     = './TopIdsTask2/top_ids_cosine_incp_complete_.csv'\n",
    "f_top_cosine_vgg19    = './TopIdsTask2/top_ids_cosine_vgg19_complete_.csv'\n",
    "f_top_cosine_blf_delta_spectral = 'top_ids_cosine_blf_deltaspectral_complete_.csv'\n",
    "\n",
    "f_top_jaccard_tfidf    = './TopIdsTask2/top_ids_jaccard_tfidf_complete.csv'\n",
    "f_top_jaccard_word2vec = './TopIdsTask2/top_ids_jaccard_word2vec_complete.csv'\n",
    "f_top_jaccard_mfcc_bow = './TopIdsTask2/top_ids_jaccard_mfcc_bow_complete.csv'\n",
    "f_top_jaccard_essentia = './TopIdsTask2/top_ids_jaccard_essentia_complete.csv'\n",
    "f_top_jaccard_incp     = './TopIdsTask2/top_ids_jaccard_incp_complete.csv'\n",
    "f_top_jaccard_vgg19    = './TopIdsTask2/top_ids_jaccard_vgg19_complete.csv'\n",
    "f_top_jaccard_blf_delta_spectral = './TopIdsTask2/top_ids_jaccard_blf_spectralcontrast_complete.csv'\n",
    "\n",
    "# Features combined [Lyrics] [Audio] [Video] with Jaccard and cosine\n",
    "\n",
    "f_top_cosine_tfidf_mfcc_bow_incp  = './TopIdsTask2/top_ids_cosine_tfidf_mfcc_bow_incp_complete.csv'\n",
    "f_top_cosine_tfidf_mfcc_bow_vgg19 = './TopIdsTask2/top_ids_cosine_tfidf_mfcc_bow_vgg19_complete.csv'\n",
    "f_top_cosine_tfidf_essentia_incp  = './TopIdsTask2/top_ids_cosine_tfidf_essentia_incp_complete.csv'\n",
    "f_top_cosine_tfidf_essentia_vgg19 = './TopIdsTask2/top_ids_cosine_tfidf_essentia_vgg19_complete.csv'\n",
    "f_top_cosine_tfidf_blf_delta_spectral_incp  = './TopIdsTask2/top_ids_cosine_tfidf_blfdeltaspectral_incp_complete.csv'\n",
    "f_top_cosine_tfidf_blf_delta_spectral_vgg19 = './TopIdsTask2/top_ids_cosine_tfidf_blfdeltaspectral_vgg19_complete.csv'\n",
    "f_top_cosine_bert_mfcc_bow_incp  = './TopIdsTask2/top_ids_cosine_bert_mfcc_bow_incp_complete.csv'\n",
    "f_top_cosine_bert_mfcc_bow_vgg19 = './TopIdsTask2/top_ids_cosine_bert_mfcc_bow_vgg19_complete.csv'\n",
    "f_top_cosine_bert_essentia_incp  = './TopIdsTask2/top_ids_cosine_bert_essentia_incp_complete.csv'\n",
    "f_top_cosine_bert_essentia_vgg19 = './TopIdsTask2/top_ids_cosine_bert_essentia_vgg19_complete.csv'\n",
    "f_top_cosine_bert_blf_delta_spectral_incp  = './TopIdsTask2/top_ids_cosine_bert_blfdeltaspectral_incp_complete.csv'\n",
    "f_top_cosine_bert_blf_delta_spectral_vgg19 = './TopIdsTask2/top_ids_cosine_bert_blfdeltaspectral_vgg19_complete.csv'\n",
    "\n",
    "f_top_jaccard_tfidf_mfcc_bow_incp  = './TopIdsTask2/top_ids_jaccard_tfidf_mfcc_bow_incp_complete.csv'\n",
    "f_top_jaccard_tfidf_mfcc_bow_vgg19 = './TopIdsTask2/top_ids_jaccard_tfidf_mfcc_bow_vgg19_complete.csv'\n",
    "f_top_jaccard_tfidf_essentia_incp  = './TopIdsTask2/top_ids_cosine_tfidf_essentia_incp_complete.csv'\n",
    "f_top_jaccard_tfidf_essentia_vgg19 = './TopIdsTask2/top_ids_cosine_tfidf_essentia_vgg19_complete.csv'\n",
    "f_top_jaccard_tfidf_blf_delta_spectral_incp = './TopIdsTask2/top_ids_jaccard_tfidf_blfdeltaspectral_incp_complete.csv'\n",
    "f_top_jaccard_tfidf_blf_delta_spectral_vgg19 = './TopIdsTask2/top_ids_jaccard_tfidf_blfdeltaspectral_vgg19_complete.csv'\n",
    "f_top_jaccard_bert_mfcc_bow_incp  = './TopIdsTask2/top_ids_jaccard_bert_mfcc_bow_incp_complete.csv'\n",
    "f_top_jaccard_bert_mfcc_bow_vgg19 = './TopIdsTask2/top_ids_jaccard_bert_mfcc_bow_vgg19_complete.csv'\n",
    "f_top_jaccard_bert_essentia_incp  = './TopIdsTask2/top_ids_jaccard_bert_essentia_incp_complete.csv'\n",
    "f_top_jaccard_bert_essentia_vgg19 = './TopIdsTask2/top_ids_jaccard_bert_essentia_vgg19_complete.csv'\n",
    "f_top_jaccard_bert_blf_delta_spectral_incp  = './TopIdsTask2/top_ids_jaccard_bert_blfdeltaspectral_incp_complete.csv'\n",
    "f_top_jaccard_bert_blf_delta_spectral_vgg19 = './TopIdsTask2/top_ids_jaccard_bert_blfdeltaspectral_vgg19_complete.csv'"
   ]
  },
  {
   "cell_type": "code",
   "execution_count": 4,
   "metadata": {},
   "outputs": [],
   "source": [
    "genres  = dt.fread(file_genres_2).to_pandas()\n",
    "genres.set_index('id', inplace=True)\n",
    "# genres.head()"
   ]
  },
  {
   "cell_type": "code",
   "execution_count": null,
   "metadata": {},
   "outputs": [],
   "source": [
    "info  = dt.fread(file_info_2).to_pandas()\n",
    "info.set_index('id', inplace=True)\n",
    "# info.head()"
   ]
  },
  {
   "cell_type": "code",
   "execution_count": 5,
   "metadata": {},
   "outputs": [],
   "source": [
    "top_cosine_tfidf  = dt.fread(f_top_cosine_tfidf, header=True).to_pandas()\n",
    "top_cosine_tfidf.set_index('index', inplace=True)"
   ]
  },
  {
   "cell_type": "code",
   "execution_count": 6,
   "metadata": {},
   "outputs": [],
   "source": [
    "top_cosine_word2vec  = dt.fread(f_top_cosine_word2vec, header=True).to_pandas()\n",
    "top_cosine_word2vec.set_index('index', inplace=True)\n",
    "top_cosine_mfcc_bow  = dt.fread(f_top_cosine_mfcc_bow, header=True).to_pandas()\n",
    "top_cosine_mfcc_bow.set_index('index', inplace=True)"
   ]
  },
  {
   "cell_type": "code",
   "execution_count": null,
   "metadata": {},
   "outputs": [],
   "source": [
    "top_cosine_essentia  = dt.fread(f_top_cosine_essentia, header=True).to_pandas()\n",
    "top_cosine_essentia.set_index('index', inplace=True)\n",
    "top_cosine_incp  = dt.fread(f_top_cosine_incp, header=True).to_pandas()\n",
    "top_cosine_incp.set_index('index', inplace=True)"
   ]
  },
  {
   "cell_type": "code",
   "execution_count": null,
   "metadata": {},
   "outputs": [],
   "source": [
    "top_cosine_vgg19  = dt.fread(f_top_cosine_vgg19, header=True).to_pandas()\n",
    "top_cosine_vgg19.set_index('index', inplace=True)\n",
    "top_cosine_blf_delta_spectral  = dt.fread(f_top_cosine_blf_delta_spectral, header=True).to_pandas()\n",
    "top_cosine_blf_delta_spectral.set_index('index', inplace=True)"
   ]
  },
  {
   "cell_type": "code",
   "execution_count": null,
   "metadata": {},
   "outputs": [],
   "source": [
    "top_jaccard_tfidf  = dt.fread(f_top_jaccard_tfidf, header=True).to_pandas()\n",
    "top_jaccard_tfidf.set_index('index', inplace=True)"
   ]
  },
  {
   "cell_type": "code",
   "execution_count": null,
   "metadata": {},
   "outputs": [],
   "source": [
    "top_jaccard_word2vec  = dt.fread(f_top_jaccard_word2vec, header=True).to_pandas()\n",
    "top_jaccard_word2vec.set_index('index', inplace=True)\n",
    "top_jaccard_mfcc_bow  = dt.fread(f_top_jaccard_mfcc_bow, header=True).to_pandas()\n",
    "top_jaccard_mfcc_bow.set_index('index', inplace=True)"
   ]
  },
  {
   "cell_type": "code",
   "execution_count": null,
   "metadata": {},
   "outputs": [],
   "source": [
    "top_jaccard_essentia  = dt.fread(f_top_jaccard_essentia, header=True).to_pandas()\n",
    "top_jaccard_essentia.set_index('index', inplace=True)\n",
    "top_jaccard_incp  = dt.fread(f_top_jaccard_incp, header=True).to_pandas()\n",
    "top_jaccard_incp.set_index('index', inplace=True)"
   ]
  },
  {
   "cell_type": "code",
   "execution_count": null,
   "metadata": {},
   "outputs": [],
   "source": [
    "top_jaccard_vgg19  = dt.fread(f_top_jaccard_vgg19, header=True).to_pandas()\n",
    "top_jaccard_vgg19.set_index('index', inplace=True)\n",
    "top_jaccard_blf_delta_spectral  = dt.fread(f_top_jaccard_blf_delta_spectral, header=True).to_pandas()\n",
    "top_jaccard_blf_delta_spectral.set_index('index', inplace=True)"
   ]
  },
  {
   "cell_type": "code",
   "execution_count": null,
   "metadata": {},
   "outputs": [],
   "source": []
  },
  {
   "cell_type": "code",
   "execution_count": null,
   "metadata": {},
   "outputs": [],
   "source": [
    "top_cosine_tfidf_mfcc_bow_incp  = dt.fread(f_top_cosine_tfidf_mfcc_bow_incp, header=True).to_pandas()\n",
    "top_cosine_tfidf_mfcc_bow_incp.set_index('index', inplace=True)\n",
    "top_cosine_tfidf_mfcc_bow_vgg19  = dt.fread(f_top_cosine_tfidf_mfcc_bow_vgg19, header=True).to_pandas()\n",
    "top_cosine_tfidf_mfcc_bow_vgg19.set_index('index', inplace=True)"
   ]
  },
  {
   "cell_type": "code",
   "execution_count": null,
   "metadata": {},
   "outputs": [],
   "source": [
    "top_cosine_tfidf_essentia_incp  = dt.fread(f_top_cosine_tfidf_essentia_incp, header=True).to_pandas()\n",
    "top_cosine_tfidf_essentia_incp.set_index('index', inplace=True)\n",
    "top_cosine_tfidf_essentia_vgg19  = dt.fread(f_top_cosine_tfidf_essentia_vgg19, header=True).to_pandas()\n",
    "top_cosine_tfidf_essentia_vgg19.set_index('index', inplace=True)"
   ]
  },
  {
   "cell_type": "code",
   "execution_count": null,
   "metadata": {},
   "outputs": [],
   "source": [
    "top_cosine_tfidf_blf_delta_spectral_incp  = dt.fread(f_top_cosine_tfidf_blf_delta_spectral_incp, header=True).to_pandas()\n",
    "top_cosine_tfidf_blf_delta_spectral_incp.set_index('index', inplace=True)\n",
    "top_cosine_tfidf_blf_delta_spectral_vgg19  = dt.fread(f_top_cosine_tfidf_blf_delta_spectral_vgg19, header=True).to_pandas()\n",
    "top_cosine_tfidf_blf_delta_spectral_vgg19.set_index('index', inplace=True)"
   ]
  },
  {
   "cell_type": "code",
   "execution_count": null,
   "metadata": {},
   "outputs": [],
   "source": [
    "top_cosine_bert_mfcc_bow_incp  = dt.fread(f_top_cosine_bert_mfcc_bow_incp, header=True).to_pandas()\n",
    "top_cosine_bert_mfcc_bow_incp.set_index('index', inplace=True)\n",
    "top_cosine_bert_mfcc_bow_vgg19  = dt.fread(f_top_cosine_bert_mfcc_bow_vgg19, header=True).to_pandas()\n",
    "top_cosine_bert_mfcc_bow_vgg19.set_index('index', inplace=True)"
   ]
  },
  {
   "cell_type": "code",
   "execution_count": null,
   "metadata": {},
   "outputs": [],
   "source": [
    "top_cosine_bert_essentia_incp  = dt.fread(f_top_cosine_bert_essentia_incp, header=True).to_pandas()\n",
    "top_cosine_bert_essentia_incp.set_index('index', inplace=True)\n",
    "top_cosine_bert_essentia_vgg19  = dt.fread(f_top_cosine_bert_essentia_vgg19, header=True).to_pandas()\n",
    "top_cosine_bert_essentia_vgg19.set_index('index', inplace=True)"
   ]
  },
  {
   "cell_type": "code",
   "execution_count": null,
   "metadata": {},
   "outputs": [],
   "source": [
    "top_cosine_bert_blf_delta_spectral_incp  = dt.fread(f_top_cosine_bert_blf_delta_spectral_incp, header=True).to_pandas()\n",
    "top_cosine_bert_blf_delta_spectral_incp.set_index('index', inplace=True)\n",
    "top_cosine_bert_blf_delta_spectral_vgg19  = dt.fread(f_top_cosine_bert_blf_delta_spectral_vgg19, header=True).to_pandas()\n",
    "top_cosine_bert_blf_delta_spectral_vgg19.set_index('index', inplace=True)"
   ]
  },
  {
   "cell_type": "code",
   "execution_count": null,
   "metadata": {},
   "outputs": [],
   "source": []
  },
  {
   "cell_type": "code",
   "execution_count": null,
   "metadata": {},
   "outputs": [],
   "source": [
    "top_jaccard_tfidf_mfcc_bow_incp  = dt.fread(f_top_jaccard_tfidf_mfcc_bow_incp, header=True).to_pandas()\n",
    "top_jaccard_tfidf_mfcc_bow_incp.set_index('index', inplace=True)\n",
    "top_jaccard_tfidf_mfcc_bow_vgg19  = dt.fread(f_top_jaccard_tfidf_mfcc_bow_vgg19, header=True).to_pandas()\n",
    "top_jaccard_tfidf_mfcc_bow_vgg19.set_index('index', inplace=True)"
   ]
  },
  {
   "cell_type": "code",
   "execution_count": null,
   "metadata": {},
   "outputs": [],
   "source": [
    "top_jaccard_tfidf_essentia_incp  = dt.fread(f_top_jaccard_tfidf_essentia_incp, header=True).to_pandas()\n",
    "top_jaccard_tfidf_essentia_incp.set_index('index', inplace=True)\n",
    "top_jaccard_tfidf_essentia_vgg19  = dt.fread(f_top_jaccard_tfidf_essentia_vgg19, header=True).to_pandas()\n",
    "top_jaccard_tfidf_essentia_vgg19.set_index('index', inplace=True)"
   ]
  },
  {
   "cell_type": "code",
   "execution_count": null,
   "metadata": {},
   "outputs": [],
   "source": [
    "top_jaccard_tfidf_blf_delta_spectral_incp  = dt.fread(f_top_jaccard_tfidf_blf_delta_spectral_incp, header=True).to_pandas()\n",
    "top_jaccard_tfidf_blf_delta_spectral_incp.set_index('index', inplace=True)\n",
    "top_jaccard_tfidf_blf_delta_spectral_vgg19  = dt.fread(f_top_jaccard_tfidf_blf_delta_spectral_vgg19, header=True).to_pandas()\n",
    "top_jaccard_tfidf_blf_delta_spectral_vgg19.set_index('index', inplace=True)"
   ]
  },
  {
   "cell_type": "code",
   "execution_count": null,
   "metadata": {},
   "outputs": [],
   "source": [
    "top_jaccard_bert_mfcc_bow_incp  = dt.fread(f_top_jaccard_bert_mfcc_bow_incp, header=True).to_pandas()\n",
    "top_jaccard_bert_mfcc_bow_incp.set_index('index', inplace=True)\n",
    "top_jaccard_bert_mfcc_bow_vgg19  = dt.fread(f_top_jaccard_bert_mfcc_bow_vgg19, header=True).to_pandas()\n",
    "top_jaccard_bert_mfcc_bow_vgg19.set_index('index', inplace=True)"
   ]
  },
  {
   "cell_type": "code",
   "execution_count": null,
   "metadata": {},
   "outputs": [],
   "source": [
    "top_jaccard_bert_essentia_incp  = dt.fread(f_top_jaccard_bert_essentia_incp, header=True).to_pandas()\n",
    "top_jaccard_bert_essentia_incp.set_index('index', inplace=True)\n",
    "top_jaccard_bert_essentia_vgg19  = dt.fread(f_top_jaccard_bert_essentia_vgg19, header=True).to_pandas()\n",
    "top_jaccard_bert_essentia_vgg19.set_index('index', inplace=True)"
   ]
  },
  {
   "cell_type": "code",
   "execution_count": null,
   "metadata": {},
   "outputs": [],
   "source": [
    "top_jaccard_bert_blf_delta_spectral_incp  = dt.fread(f_top_jaccard_bert_blf_delta_spectral_incp, header=True).to_pandas()\n",
    "top_jaccard_bert_blf_delta_spectral_incp.set_index('index', inplace=True)\n",
    "top_jaccard_bert_blf_delta_spectral_vgg19  = dt.fread(f_top_jaccard_bert_blf_delta_spectral_vgg19, header=True).to_pandas()\n",
    "top_jaccard_bert_blf_delta_spectral_vgg19.set_index('index', inplace=True)"
   ]
  },
  {
   "cell_type": "markdown",
   "metadata": {},
   "source": [
    "## Evaluation metrics"
   ]
  },
  {
   "cell_type": "code",
   "execution_count": 7,
   "metadata": {},
   "outputs": [],
   "source": [
    "# Check if any genre of the song one is in the genres of song two, if yes returns True\n",
    "def isResultRelevant(songOneGenres, songTwoGenres):\n",
    "    return any(item in get_genres(songOneGenres) for item in get_genres(songTwoGenres))"
   ]
  },
  {
   "cell_type": "code",
   "execution_count": 8,
   "metadata": {},
   "outputs": [],
   "source": [
    "# Helpers for evaluation\n",
    "def get_genres(field):\n",
    "    return re.findall(r\"\\'(.*?)\\'\", field)"
   ]
  },
  {
   "cell_type": "code",
   "execution_count": null,
   "metadata": {},
   "outputs": [],
   "source": [
    "def ndcgMean(dfTopIds, topNumber):\n",
    "    ndcg = []\n",
    "\n",
    "    for queryId in tqdm(dfTopIds.index.values):\n",
    "        \n",
    "        topIds = dfTopIds.loc[queryId].values[:topNumber]\n",
    "        querySongGenres = genres.loc[[queryId], 'genre'].values[0]\n",
    "        topSongsGenres = genres.loc[topIds, 'genre'].values\n",
    "        \n",
    "        relevant_results = [isResultRelevant(querySongGenres, songGenre) for songGenre in topSongsGenres]\n",
    "        sorted_results = sorted(relevant_results, reverse=True)\n",
    "\n",
    "        dcg = np.sum([ res/np.log2(i+1) if i+1 > 1 else float(res) for i,res in enumerate(relevant_results)])\n",
    "        idcg = np.sum([ res/np.log2(i+1) if i+1 > 1 else float(res) for i,res in enumerate(sorted_results)])\n",
    "        \n",
    "        if idcg == 0: # Case when there is no relevant result in the top@K\n",
    "            ndcg.append(0)\n",
    "        else:\n",
    "            ndcg.append(dcg / idcg)\n",
    "#         print(dcg, idcg)\n",
    "    return (ndcg, np.mean(ndcg))"
   ]
  },
  {
   "cell_type": "code",
   "execution_count": null,
   "metadata": {},
   "outputs": [],
   "source": [
    "def meanReciprocalRank(dfTopIds, topNumber):\n",
    "    RR = []\n",
    "    for queryId in tqdm(dfTopIds.index.values):\n",
    "        \n",
    "        topIds = dfTopIds.loc[queryId].values[:topNumber]\n",
    "        querySongGenres = genres.loc[[queryId], 'genre'].values[0]\n",
    "        topSongsGenres = genres.loc[topIds, 'genre'].values\n",
    "        relevant_results = [isResultRelevant(querySongGenres, songGenre) for songGenre in topSongsGenres]\n",
    "\n",
    "        if True in relevant_results:\n",
    "            min_idx_rel = relevant_results.index(True) + 1\n",
    "            RR.append(1/min_idx_rel)\n",
    "        else: # Case when there is no relevant result in the top@K\n",
    "            RR.append(0)\n",
    "\n",
    "       \n",
    "    return np.mean(RR)"
   ]
  },
  {
   "cell_type": "code",
   "execution_count": 22,
   "metadata": {},
   "outputs": [],
   "source": [
    "def meanAveragePrecision(dfTopIds, topNumber):\n",
    "    \n",
    "    AP_ = []\n",
    "    for queryId in tqdm(dfTopIds.index.values):\n",
    "        \n",
    "        topIds = dfTopIds.loc[queryId].values[:topNumber]\n",
    "        querySongGenres = genres.loc[[queryId], 'genre'].values[0]\n",
    "        topSongsGenres = genres.loc[topIds, 'genre'].values\n",
    "        relevant_results = [isResultRelevant(querySongGenres, songGenre) for songGenre in topSongsGenres]\n",
    "        REL = np.sum(relevant_results)\n",
    "        if REL == 0: # Case when there is no relevant result in the top@K\n",
    "            AP = 0\n",
    "        else:\n",
    "#             AP = (1/REL) * np.sum([relevant_results[i] * (np.sum(relevant_results[:i+1]) / (i+1)) for i in range(topNumber)])\n",
    "            AP = (1/REL) * np.sum(np.multiply(relevant_results, np.divide(np.cumsum(relevant_results,axis=0), np.arange(1,topNumber+1))))\n",
    "        \n",
    "        \n",
    "        AP_.append(AP)\n",
    "        \n",
    "    return np.mean(AP_)"
   ]
  },
  {
   "cell_type": "code",
   "execution_count": 24,
   "metadata": {},
   "outputs": [],
   "source": [
    "# meanAveragePrecision(top_cosine_tfidf.iloc[:200], 100)"
   ]
  },
  {
   "cell_type": "code",
   "execution_count": 25,
   "metadata": {},
   "outputs": [],
   "source": [
    "def getMetrics(dfTopIds, topNumber):\n",
    "\n",
    "    RR = []\n",
    "    AP_ = []\n",
    "    ndcg = []\n",
    "\n",
    "    for queryId in tqdm(dfTopIds.index.values):\n",
    "        \n",
    "        topIds = dfTopIds.loc[queryId].values[:topNumber]\n",
    "        querySongGenres = genres.loc[[queryId], 'genre'].values[0]\n",
    "        topSongsGenres = genres.loc[topIds, 'genre'].values\n",
    "        \n",
    "        relevant_results = [isResultRelevant(querySongGenres, songGenre) for songGenre in topSongsGenres]\n",
    "        sorted_results = sorted(relevant_results, reverse=True)\n",
    "\n",
    "        # MAP\n",
    "        REL = np.sum(relevant_results)\n",
    "        if REL == 0: # Case when there is no relevant result in the top@K\n",
    "            AP = 0\n",
    "        else:\n",
    "            AP = (1/REL) * np.sum(np.multiply(relevant_results, np.divide(np.cumsum(relevant_results,axis=0), np.arange(1,topNumber+1))))\n",
    "        AP_.append(AP)\n",
    "\n",
    "        # MRR\n",
    "        if True in relevant_results:\n",
    "            min_idx_rel = relevant_results.index(True) + 1\n",
    "            RR.append(1/min_idx_rel)\n",
    "        else: # Case when there is no relevant result in the top@K\n",
    "            RR.append(0)\n",
    "\n",
    "        # NDCG\n",
    "        dcg = np.sum([ res/np.log2(i+1) if i+1 > 1 else float(res) for i,res in enumerate(relevant_results)])\n",
    "        # print([ res/np.log2(i+1) if i+1 > 1 else float(res) for i,res in enumerate(relevant_results)])\n",
    "        idcg = np.sum([ res/np.log2(i+1) if i+1 > 1 else float(res) for i,res in enumerate(sorted_results)])\n",
    "        if idcg == 0: # Case when there is no relevant result in the top@K\n",
    "            ndcg.append(0)\n",
    "        else:\n",
    "            ndcg.append(dcg / idcg)\n",
    "    return (np.mean(AP_), np.mean(RR), np.mean(ndcg))"
   ]
  },
  {
   "cell_type": "code",
   "execution_count": null,
   "metadata": {},
   "outputs": [],
   "source": [
    "meanAveragePrecision(top_cosine_tfidf, 100)"
   ]
  },
  {
   "cell_type": "code",
   "execution_count": null,
   "metadata": {},
   "outputs": [],
   "source": [
    "meanReciprocalRank(top_cosine_tfidf, 100)"
   ]
  },
  {
   "cell_type": "code",
   "execution_count": null,
   "metadata": {},
   "outputs": [],
   "source": [
    "a,b = ndcgMean(top_cosine_tfidf, 100)\n",
    "print(b)"
   ]
  },
  {
   "cell_type": "code",
   "execution_count": 26,
   "metadata": {},
   "outputs": [
    {
     "name": "stderr",
     "output_type": "stream",
     "text": [
      "100%|████████████████████████████████████| 68641/68641 [03:04<00:00, 371.87it/s]"
     ]
    },
    {
     "name": "stdout",
     "output_type": "stream",
     "text": [
      "0.5337171610996247 0.6795536730569883 0.7495106356324637\n"
     ]
    },
    {
     "name": "stderr",
     "output_type": "stream",
     "text": [
      "\n"
     ]
    }
   ],
   "source": [
    "MAP, MRR, Mean_ndcg = getMetrics(top_cosine_tfidf, 100)\n",
    "print(MAP, MRR, Mean_ndcg)"
   ]
  },
  {
   "cell_type": "code",
   "execution_count": 9,
   "metadata": {},
   "outputs": [],
   "source": [
    "def Precision(dfTopIds, topNumber):\n",
    "    \n",
    "    precision = np.zeros((dfTopIds.shape[0], topNumber))\n",
    "    recall = np.zeros((dfTopIds.shape[0], topNumber))\n",
    "    precision_max = np.zeros((dfTopIds.shape[0], topNumber))\n",
    "    \n",
    "    for idx,queryId in tqdm(enumerate(dfTopIds.index.values)):\n",
    "        \n",
    "        topIds = dfTopIds.loc[queryId].values[:topNumber]\n",
    "        querySongGenres = genres.loc[[queryId], 'genre'].values[0]\n",
    "        topSongsGenres = genres.loc[topIds, 'genre'].values\n",
    "        relevant_results = [isResultRelevant(querySongGenres, songGenre) for songGenre in topSongsGenres]\n",
    "        REL = np.sum(relevant_results)\n",
    "\n",
    "        if REL != 0: # Case when there is no relevant result in the top@K\n",
    "#             P[idx] = [(np.sum(relevant_results[:i+1]) / (i+1)) for i in range(topNumber)]\n",
    "            precision[idx] = np.divide(np.cumsum(relevant_results,axis=0), np.arange(1,topNumber+1))\n",
    "#             R[idx] = [(np.sum(relevant_results[:i+1]) / (REL)) for i in range(topNumber)]\n",
    "            recall[idx] = np.divide(np.cumsum(relevant_results,axis=0), REL)\n",
    "            precision_max[idx] = [ np.max(precision[idx,i:]) for i,val in enumerate(precision[idx])]\n",
    "\n",
    "    return precision, recall, precision_max"
   ]
  },
  {
   "cell_type": "code",
   "execution_count": 10,
   "metadata": {},
   "outputs": [
    {
     "name": "stderr",
     "output_type": "stream",
     "text": [
      "68641it [02:51, 400.43it/s]\n",
      "68641it [02:40, 428.28it/s]\n",
      "68641it [02:32, 451.19it/s]\n"
     ]
    }
   ],
   "source": [
    "# p_, r_, p1, r1= Precision(top_cosine_tfidf.iloc[:500], 100)\n",
    "p, r, p_max = Precision(top_cosine_tfidf, 100)\n",
    "p1, r1, p1_max = Precision(top_cosine_word2vec, 100)\n",
    "p2, r2, p2_max = Precision(top_cosine_mfcc_bow, 100)"
   ]
  },
  {
   "cell_type": "code",
   "execution_count": 11,
   "metadata": {},
   "outputs": [],
   "source": []
  },
  {
   "cell_type": "code",
   "execution_count": 12,
   "metadata": {},
   "outputs": [
    {
     "data": {
      "image/png": "[encoded data removed]",
      "text/plain": [
       "<Figure size 640x480 with 1 Axes>"
      ]
     },
     "metadata": {},
     "output_type": "display_data"
    }
   ],
   "source": [
    "plt.plot(np.mean(r, axis=0), np.mean(p_max, axis=0), color='r', label='tfid cosine')\n",
    "plt.plot(np.mean(r1, axis=0), np.mean(p1_max, axis=0), color='g', label='word2vec cosine')\n",
    "plt.plot(np.mean(r2, axis=0), np.mean(p2_max, axis=0), color='b', label='mfcc-bow cosine')\n",
    "plt.grid()\n",
    "plt.legend()\n",
    "plt.show()"
   ]
  },
  {
   "cell_type": "code",
   "execution_count": null,
   "metadata": {},
   "outputs": [],
   "source": []
  },
  {
   "cell_type": "code",
   "execution_count": null,
   "metadata": {},
   "outputs": [],
   "source": [
    "\n"
   ]
  }
 ],
 "metadata": {
  "kernelspec": {
   "display_name": "Python3 (new)",
   "language": "python",
   "name": "python3"
  },
  "language_info": {
   "codemirror_mode": {
    "name": "ipython",
    "version": 3
   },
   "file_extension": ".py",
   "mimetype": "text/x-python",
   "name": "python",
   "nbconvert_exporter": "python",
   "pygments_lexer": "ipython3",
   "version": "3.8.13"
  }
 },
 "nbformat": 4,
 "nbformat_minor": 4
}
