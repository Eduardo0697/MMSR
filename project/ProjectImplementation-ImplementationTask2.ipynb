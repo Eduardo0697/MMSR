{
 "cells": [
  {
   "cell_type": "code",
   "execution_count": 1,
   "metadata": {},
   "outputs": [
    {
     "data": {
      "text/html": [
       "<style type='text/css'>\n",
       ".datatable table.frame { margin-bottom: 0; }\n",
       ".datatable table.frame thead { border-bottom: none; }\n",
       ".datatable table.frame tr.coltypes td {  color: #FFFFFF;  line-height: 6px;  padding: 0 0.5em;}\n",
       ".datatable .bool    { background: #DDDD99; }\n",
       ".datatable .object  { background: #565656; }\n",
       ".datatable .int     { background: #5D9E5D; }\n",
       ".datatable .float   { background: #4040CC; }\n",
       ".datatable .str     { background: #CC4040; }\n",
       ".datatable .time    { background: #40CC40; }\n",
       ".datatable .row_index {  background: var(--jp-border-color3);  border-right: 1px solid var(--jp-border-color0);  color: var(--jp-ui-font-color3);  font-size: 9px;}\n",
       ".datatable .frame tbody td { text-align: left; }\n",
       ".datatable .frame tr.coltypes .row_index {  background: var(--jp-border-color0);}\n",
       ".datatable th:nth-child(2) { padding-left: 12px; }\n",
       ".datatable .hellipsis {  color: var(--jp-cell-editor-border-color);}\n",
       ".datatable .vellipsis {  background: var(--jp-layout-color0);  color: var(--jp-cell-editor-border-color);}\n",
       ".datatable .na {  color: var(--jp-cell-editor-border-color);  font-size: 80%;}\n",
       ".datatable .sp {  opacity: 0.25;}\n",
       ".datatable .footer { font-size: 9px; }\n",
       ".datatable .frame_dimensions {  background: var(--jp-border-color3);  border-top: 1px solid var(--jp-border-color0);  color: var(--jp-ui-font-color3);  display: inline-block;  opacity: 0.6;  padding: 1px 10px 1px 5px;}\n",
       ".datatable .frame thead tr.colnames {  background-image: url('data:image/png;base64,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');  background-repeat: repeat-x;  background-size: 14px;  height: 28px;}\n",
       "</style>\n"
      ],
      "text/plain": [
       "<IPython.core.display.HTML object>"
      ]
     },
     "metadata": {},
     "output_type": "display_data"
    }
   ],
   "source": [
    "import pandas as pd\n",
    "import numpy as np\n",
    "from os.path import exists\n",
    "from tqdm import tqdm\n",
    "import re\n",
    "import datatable as dt"
   ]
  },
  {
   "cell_type": "code",
   "execution_count": 2,
   "metadata": {},
   "outputs": [],
   "source": [
    "# DATA FILES PROVIDED Task1\n",
    "file_tfidf = \"./../MMSR_WT22_Task1_Data/id_lyrics_tf-idf_mmsr.tsv\"\n",
    "file_word2vec = \"./../MMSR_WT22_Task1_Data/id_lyrics_word2vec_mmsr.tsv\"\n",
    "file_bert = \"./../MMSR_WT22_Task1_Data/id_bert_mmsr.tsv\"\n",
    "file_genres = \"./../MMSR_WT22_Task1_Data/id_genres_mmsr.tsv\"\n",
    "file_info = \"./../MMSR_WT22_Task1_Data/id_information_mmsr.tsv\""
   ]
  },
  {
   "cell_type": "code",
   "execution_count": 3,
   "metadata": {},
   "outputs": [],
   "source": [
    "# DATA FILES PROVIDED Task 2\n",
    "file_genres_2   = \"./../task2/id_genres_mmsr.tsv\"\n",
    "file_info_2     = \"./../task2/id_information_mmsr.tsv\"\n",
    "\n",
    "# EMD Layer, Lyrics Features\n",
    "file_tfidf_2    = \"./../task2/id_lyrics_tf-idf_mmsr.tsv\"\n",
    "file_word2vec_2 = \"./../task2/id_lyrics_word2vec_mmsr.tsv\"\n",
    "file_bert_2     = \"./../task2/id_lyrics_bert_mmsr.tsv\"\n",
    "\n",
    "## Audio Layer, Acoustic Features\n",
    "### Block Level features (BLFs)\n",
    "file_blf_correlation      = \"./../task2/id_blf_correlation_mmsr.tsv\"\n",
    "file_blf_deltaspectral    = \"./../task2/id_blf_deltaspectral_mmsr.tsv\"\n",
    "file_blf_logfluc          = \"./../task2/id_blf_logfluc_mmsr.tsv\"\n",
    "file_blf_spectral         = \"./../task2/id_blf_spectral_mmsr.tsv\"\n",
    "file_blf_spectralcontrast = \"./../task2/id_blf_spectralcontrast_mmsr.tsv\"\n",
    "file_blf_vardeltaspectral = \"./../task2/id_blf_vardeltaspectral_mmsr.tsv\"\n",
    "#### Mel Frequency Cepstral Coefficients (MFFCs)\n",
    "file_mfcc_bow   = \"./../task2/id_mfcc_bow_mmsr.tsv\"\n",
    "file_mfcc_stats = \"./../task2/id_mfcc_stats_mmsr.tsv\"\n",
    "file_essentia   = \"./../task2/id_essentia_mmsr.tsv\"\n",
    "\n",
    "## UGC Layer , Video Features\n",
    "## Derivative Content DC, Video Features\n",
    "file_resnet   = \"./../task2/id_resnet_mmsr.tsv\"\n",
    "file_vgg19    = \"./../task2/id_vgg19_mmsr.tsv\"\n",
    "file_incp       = \"./../task2/id_incp_mmsr.tsv\""
   ]
  },
  {
   "cell_type": "code",
   "execution_count": 4,
   "metadata": {},
   "outputs": [
    {
     "name": "stdout",
     "output_type": "stream",
     "text": [
      "CPU times: user 546 ms, sys: 26.5 ms, total: 573 ms\n",
      "Wall time: 88.6 ms\n"
     ]
    }
   ],
   "source": [
    "%%time\n",
    "genres  = dt.fread(file_genres_2).to_pandas()\n",
    "genres.set_index('id', inplace=True)\n",
    "# genres.head()"
   ]
  },
  {
   "cell_type": "code",
   "execution_count": 5,
   "metadata": {},
   "outputs": [
    {
     "name": "stdout",
     "output_type": "stream",
     "text": [
      "CPU times: user 545 ms, sys: 22 ms, total: 567 ms\n",
      "Wall time: 88.7 ms\n"
     ]
    }
   ],
   "source": [
    "%%time\n",
    "info  = dt.fread(file_info_2).to_pandas()\n",
    "info.set_index('id', inplace=True)\n",
    "# info.head()"
   ]
  },
  {
   "cell_type": "code",
   "execution_count": 6,
   "metadata": {},
   "outputs": [
    {
     "name": "stdout",
     "output_type": "stream",
     "text": [
      "CPU times: user 3.47 s, sys: 986 ms, total: 4.46 s\n",
      "Wall time: 823 ms\n"
     ]
    }
   ],
   "source": [
    "%%time\n",
    "tf_idf  = dt.fread(file_tfidf_2).to_pandas()\n",
    "tf_idf.set_index('id', inplace=True)\n",
    "# tf_idf.head()"
   ]
  },
  {
   "cell_type": "code",
   "execution_count": 7,
   "metadata": {},
   "outputs": [
    {
     "name": "stdout",
     "output_type": "stream",
     "text": [
      "CPU times: user 1.75 s, sys: 575 ms, total: 2.33 s\n",
      "Wall time: 472 ms\n"
     ]
    }
   ],
   "source": [
    "%%time\n",
    "# First row is the head\n",
    "word2vec  = dt.fread(file_word2vec_2, header=True).to_pandas()\n",
    "word2vec.set_index('id', inplace=True)\n",
    "# word2vec.head()"
   ]
  },
  {
   "cell_type": "code",
   "execution_count": 8,
   "metadata": {},
   "outputs": [
    {
     "name": "stdout",
     "output_type": "stream",
     "text": [
      "CPU times: user 4.73 s, sys: 1.68 s, total: 6.41 s\n",
      "Wall time: 1.2 s\n"
     ]
    }
   ],
   "source": [
    "%%time\n",
    "# First row is the head\n",
    "bert = dt.fread(file_bert_2,header=True).to_pandas()\n",
    "bert.set_index('id', inplace=True)\n",
    "# bert.head()"
   ]
  },
  {
   "cell_type": "code",
   "execution_count": 9,
   "metadata": {},
   "outputs": [
    {
     "name": "stdout",
     "output_type": "stream",
     "text": [
      "CPU times: user 5.5 s, sys: 1.88 s, total: 7.38 s\n",
      "Wall time: 1.41 s\n"
     ]
    }
   ],
   "source": [
    "%%time\n",
    "blf_correlation  = dt.fread(file_blf_correlation).to_pandas()\n",
    "blf_correlation.set_index('id', inplace=True)\n",
    "# blf_correlation.head()"
   ]
  },
  {
   "cell_type": "code",
   "execution_count": 10,
   "metadata": {},
   "outputs": [
    {
     "name": "stdout",
     "output_type": "stream",
     "text": [
      "CPU times: user 5.13 s, sys: 1.69 s, total: 6.82 s\n",
      "Wall time: 1.39 s\n"
     ]
    }
   ],
   "source": [
    "%%time\n",
    "blf_deltaspectral  = dt.fread(file_blf_deltaspectral).to_pandas()\n",
    "blf_deltaspectral.set_index('id', inplace=True)\n",
    "# blf_deltaspectral.head()"
   ]
  },
  {
   "cell_type": "code",
   "execution_count": 32,
   "metadata": {},
   "outputs": [
    {
     "name": "stdout",
     "output_type": "stream",
     "text": [
      "CPU times: user 15.7 s, sys: 1.73 s, total: 17.4 s\n",
      "Wall time: 2.65 s\n"
     ]
    }
   ],
   "source": [
    "%%time\n",
    "blf_logfluc  = dt.fread(file_blf_logfluc)\n",
    "\n",
    "# This is done because in the csv it has an extra column name, \n",
    "# so in case someone with the original dataset tries to run it, it fixes that error\n",
    "# It looks weird, but it is because first i am loading the data into datatable and then pass it to dataframe\n",
    "new_cols = ['id']\n",
    "new_cols.extend(list(blf_logfluc.names[2:]))\n",
    "new_cols = tuple(new_cols)\n",
    "del blf_logfluc[:, -1]\n",
    "\n",
    "blf_logfluc.names = new_cols\n",
    "blf_logfluc = blf_logfluc.to_pandas()\n",
    "blf_logfluc.set_index('id', inplace=True)"
   ]
  },
  {
   "cell_type": "code",
   "execution_count": 34,
   "metadata": {},
   "outputs": [],
   "source": [
    "# blf_logfluc.head()"
   ]
  },
  {
   "cell_type": "code",
   "execution_count": 7,
   "metadata": {},
   "outputs": [
    {
     "name": "stdout",
     "output_type": "stream",
     "text": [
      "CPU times: user 3.66 s, sys: 1.12 s, total: 4.78 s\n",
      "Wall time: 933 ms\n"
     ]
    }
   ],
   "source": [
    "%%time\n",
    "blf_spectral  = dt.fread(file_blf_spectral).to_pandas()\n",
    "blf_spectral.set_index('id', inplace=True)\n",
    "# blf_spectral.head()"
   ]
  },
  {
   "cell_type": "code",
   "execution_count": 9,
   "metadata": {},
   "outputs": [
    {
     "name": "stdout",
     "output_type": "stream",
     "text": [
      "CPU times: user 2.96 s, sys: 966 ms, total: 3.92 s\n",
      "Wall time: 788 ms\n"
     ]
    }
   ],
   "source": [
    "%%time\n",
    "blf_spectralcontrast  = dt.fread(file_blf_spectralcontrast).to_pandas()\n",
    "blf_spectralcontrast.set_index('id', inplace=True)\n",
    "# blf_spectralcontrast.head()"
   ]
  },
  {
   "cell_type": "code",
   "execution_count": 11,
   "metadata": {},
   "outputs": [
    {
     "name": "stdout",
     "output_type": "stream",
     "text": [
      "CPU times: user 4.75 s, sys: 1.51 s, total: 6.26 s\n",
      "Wall time: 1.26 s\n"
     ]
    }
   ],
   "source": [
    "%%time\n",
    "blf_vardeltaspectral  = dt.fread(file_blf_vardeltaspectral).to_pandas()\n",
    "blf_vardeltaspectral.set_index('id', inplace=True)\n",
    "# blf_vardeltaspectral.head()"
   ]
  },
  {
   "cell_type": "code",
   "execution_count": 15,
   "metadata": {},
   "outputs": [
    {
     "name": "stdout",
     "output_type": "stream",
     "text": [
      "CPU times: user 4.11 s, sys: 1.19 s, total: 5.31 s\n",
      "Wall time: 1.01 s\n"
     ]
    }
   ],
   "source": [
    "%%time\n",
    "essentia  = dt.fread(file_essentia).to_pandas()\n",
    "essentia.set_index('id', inplace=True)\n",
    "# essentia.head()"
   ]
  },
  {
   "cell_type": "code",
   "execution_count": 16,
   "metadata": {},
   "outputs": [
    {
     "name": "stdout",
     "output_type": "stream",
     "text": [
      "CPU times: user 17.7 s, sys: 10.4 s, total: 28.1 s\n",
      "Wall time: 4.64 s\n"
     ]
    }
   ],
   "source": [
    "%%time\n",
    "incp  = dt.fread(file_incp).to_pandas()\n",
    "incp.set_index('id', inplace=True)\n",
    "# incp.head()"
   ]
  },
  {
   "cell_type": "code",
   "execution_count": 17,
   "metadata": {},
   "outputs": [
    {
     "name": "stdout",
     "output_type": "stream",
     "text": [
      "CPU times: user 2.27 s, sys: 525 ms, total: 2.8 s\n",
      "Wall time: 512 ms\n"
     ]
    }
   ],
   "source": [
    "%%time\n",
    "mfcc_bow  = dt.fread(file_mfcc_bow).to_pandas()\n",
    "mfcc_bow.set_index('id', inplace=True)\n",
    "# mfcc_bow.head()"
   ]
  },
  {
   "cell_type": "code",
   "execution_count": 18,
   "metadata": {},
   "outputs": [
    {
     "name": "stdout",
     "output_type": "stream",
     "text": [
      "CPU times: user 909 ms, sys: 195 ms, total: 1.1 s\n",
      "Wall time: 182 ms\n"
     ]
    }
   ],
   "source": [
    "%%time\n",
    "mfcc_stats  = dt.fread(file_mfcc_stats).to_pandas()\n",
    "mfcc_stats.set_index('id', inplace=True)\n",
    "#  mfcc_stats.head()"
   ]
  },
  {
   "cell_type": "code",
   "execution_count": 19,
   "metadata": {},
   "outputs": [
    {
     "name": "stdout",
     "output_type": "stream",
     "text": [
      "CPU times: user 17.8 s, sys: 4.02 s, total: 21.8 s\n",
      "Wall time: 3.76 s\n"
     ]
    }
   ],
   "source": [
    "%%time\n",
    "resnet  = dt.fread(file_resnet).to_pandas()\n",
    "resnet.set_index('id', inplace=True)\n",
    "# resnet.head()"
   ]
  },
  {
   "cell_type": "code",
   "execution_count": 20,
   "metadata": {},
   "outputs": [
    {
     "name": "stdout",
     "output_type": "stream",
     "text": [
      "CPU times: user 41.9 s, sys: 24.1 s, total: 1min 5s\n",
      "Wall time: 10.3 s\n"
     ]
    }
   ],
   "source": [
    "%%time\n",
    "vgg19  = dt.fread(file_vgg19).to_pandas()\n",
    "vgg19.set_index('id', inplace=True)\n",
    "# vgg19.head()"
   ]
  },
  {
   "cell_type": "code",
   "execution_count": 21,
   "metadata": {},
   "outputs": [
    {
     "name": "stdout",
     "output_type": "stream",
     "text": [
      "Lyrics Features\n",
      "\n",
      "tfidf dataset:    (68641, 1000)\n",
      "word2vec dataset: (68641, 300)\n",
      "bert dataset:     (68641, 768)\n",
      "\n",
      "\n",
      "Audio Features\n",
      "\n",
      "mfcc bow dataset:   (68641, 500)\n",
      "mfcc stats dataset: (68641, 104)\n",
      "essentia dataset:   (68641, 1034)\n",
      "blf correlation dataset:      (68641, 1326)\n",
      "blf delta spectral dataset:   (68641, 1372)\n",
      "blf logfluc dataset:          (68641, 3627)\n",
      "blf spectral dataset:         (68641, 980)\n",
      "blf spectralcontrast dataset: (68641, 800)\n",
      "blf vardeltaspectral dataset: (68641, 1344)\n",
      "\n",
      "\n",
      "Video Features\n",
      "\n",
      "incp dataset:       (68641, 4096)\n",
      "resnet dataset:     (68641, 4096)\n",
      "vgg19 dataset:      (68641, 8192)\n"
     ]
    }
   ],
   "source": [
    "# Audio Features\n",
    "print(\"Lyrics Features\\n\")\n",
    "## Mel Frequency Cepstral Coefficients (MFFCs)\n",
    "print(\"tfidf dataset:   \", tf_idf.shape)\n",
    "print(\"word2vec dataset:\", word2vec.shape)\n",
    "print(\"bert dataset:    \", bert.shape)\n",
    "\n",
    "# Audio Features\n",
    "print(\"\\n\\nAudio Features\\n\")\n",
    "## Mel Frequency Cepstral Coefficients (MFFCs)\n",
    "print(\"mfcc bow dataset:  \", mfcc_bow.shape)\n",
    "print(\"mfcc stats dataset:\", mfcc_stats.shape)\n",
    "\n",
    "## Essentia: An Audio Analysis Library for Music Information Retrieval\n",
    "print(\"essentia dataset:  \", essentia.shape)\n",
    "\n",
    "## Block Level features (BLFs)\n",
    "\n",
    "print(\"blf correlation dataset:     \", blf_correlation.shape)\n",
    "print(\"blf delta spectral dataset:  \", blf_deltaspectral.shape)\n",
    "print(\"blf logfluc dataset:         \", blf_logfluc.shape)\n",
    "print(\"blf spectral dataset:        \", blf_spectral.shape)\n",
    "print(\"blf spectralcontrast dataset:\", blf_spectralcontrast.shape)\n",
    "print(\"blf vardeltaspectral dataset:\", blf_vardeltaspectral.shape)\n",
    "\n",
    "\n",
    "# Video Features\n",
    "print(\"\\n\\nVideo Features\\n\")\n",
    "## Derivative Content DC, Video Features\n",
    "print(\"incp dataset:      \", incp.shape)\n",
    "print(\"resnet dataset:    \", resnet.shape)\n",
    "print(\"vgg19 dataset:     \", vgg19.shape)"
   ]
  },
  {
   "cell_type": "markdown",
   "metadata": {},
   "source": [
    "## Similiraty functions"
   ]
  },
  {
   "cell_type": "code",
   "execution_count": 14,
   "metadata": {},
   "outputs": [],
   "source": [
    "def get_cosine_similarity2(arr_a, arr_b):\n",
    "    norms_a = np.linalg.norm(arr_a, axis=-1)[:, np.newaxis]\n",
    "    norms_b = np.linalg.norm(arr_b, axis=-1)[:, np.newaxis]\n",
    "    divisor = norms_a * norms_b.T\n",
    "    dotp = arr_a @ arr_b.T\n",
    "    r = np.divide(dotp, divisor, np.zeros_like(divisor), where=divisor > 0)\n",
    "    return r\n",
    "\n",
    "def get_jaccard_similarity2(arr_a: np.array, arr_b: np.array):\n",
    "    norms_a = np.linalg.norm(arr_a, axis=-1)[:, np.newaxis]\n",
    "    norms_b = np.linalg.norm(arr_b, axis=-1)[:, np.newaxis]\n",
    "    divisor = norms_a + norms_b.T\n",
    "    dotp = arr_a @ arr_b.T\n",
    "    r = dotp / (divisor-dotp)\n",
    "    return r\n",
    "\n",
    "def get_innerProduct_similarity2(arr_a: np.array, arr_b: np.array):\n",
    "    return arr_a @ arr_b.T"
   ]
  },
  {
   "cell_type": "markdown",
   "metadata": {},
   "source": [
    "## Helper Functions"
   ]
  },
  {
   "cell_type": "code",
   "execution_count": 15,
   "metadata": {},
   "outputs": [],
   "source": [
    "def getSongIdByQuery(artist, track):\n",
    "    id_ = info[(info['artist'] == artist) & (info['song'] == track)]\n",
    "    if len(id_) == 0: # If the data entered dont return any song\n",
    "        return None\n",
    "    return id_.index.values[0]"
   ]
  },
  {
   "cell_type": "code",
   "execution_count": 16,
   "metadata": {},
   "outputs": [],
   "source": [
    "# def topIdsQueries(dfQueries, topNumber):\n",
    "#     # Data frame to store the top 100 of each query\n",
    "#     top_idsongs = pd.DataFrame(index=dfQueries.index.values, columns=range(topNumber))\n",
    "#     for query in tqdm(dfQueries.index.values): # For each query done get the top 100 songs\n",
    "# #         top = dfQueries.loc[query].sort_values(ascending=False).drop(axis=0, index=[query]).head(topNumber) # Top n songs values\n",
    "#         top = dfQueries.loc[query].sort_values(ascending=False).head(topNumber)\n",
    "#         top_idsongs.loc[query] = top.index.values\n",
    "#     return top_idsongs"
   ]
  },
  {
   "cell_type": "code",
   "execution_count": 17,
   "metadata": {},
   "outputs": [],
   "source": [
    "def compute_in_batches(arr_a: np.array, arr_b: np.array, simfunction, batches:int = 1):\n",
    "    # arr_a: full Data array\n",
    "    # arr_b: full Data array arr_a or just some songs\n",
    "    # batches: split arr_b into chunks for multiprocess and less RAM usage    \n",
    "    splits_b = np.array_split(arr_b, batches, axis=0)\n",
    "    r = []\n",
    "    for b in tqdm(splits_b):\n",
    "        r.append(simfunction(arr_a, b))\n",
    "    return np.concatenate(r, axis=1)"
   ]
  },
  {
   "cell_type": "code",
   "execution_count": 18,
   "metadata": {},
   "outputs": [],
   "source": [
    "def compute_in_batches_topIds(results: np.array, idx_values: np.array, top: int=100, batches:int = 1 ):\n",
    "    splits_b = np.array_split(results, batches, axis=0)\n",
    "    return np.concatenate([idx_values[np.argsort(b * -1, axis=1)][:,:top] for b in tqdm(splits_b)], axis=0)"
   ]
  },
  {
   "cell_type": "markdown",
   "metadata": {},
   "source": [
    "## Computation of Top 100 ids with different feature vectors cosine similarity"
   ]
  },
  {
   "cell_type": "markdown",
   "metadata": {},
   "source": [
    "### TF-IDF -- Cosine Similarity"
   ]
  },
  {
   "cell_type": "code",
   "execution_count": 29,
   "metadata": {},
   "outputs": [
    {
     "name": "stderr",
     "output_type": "stream",
     "text": [
      "100%|█████████████████████████████████████████| 100/100 [01:48<00:00,  1.09s/it]\n"
     ]
    }
   ],
   "source": [
    "result = compute_in_batches(tf_idf.to_numpy(),tf_idf.to_numpy(), simfunction = get_cosine_similarity2, batches=100)"
   ]
  },
  {
   "cell_type": "code",
   "execution_count": 30,
   "metadata": {},
   "outputs": [
    {
     "name": "stdout",
     "output_type": "stream",
     "text": [
      "(68641, 68641)\n"
     ]
    }
   ],
   "source": [
    "print(result.shape)\n",
    "np.fill_diagonal(result, -1)"
   ]
  },
  {
   "cell_type": "code",
   "execution_count": 32,
   "metadata": {},
   "outputs": [
    {
     "name": "stderr",
     "output_type": "stream",
     "text": [
      "100%|█████████████████████████████████████████| 100/100 [07:31<00:00,  4.51s/it]\n"
     ]
    }
   ],
   "source": [
    "dt.Frame(pd.DataFrame(compute_in_batches_topIds(result,tf_idf.index.values,100,100), index=tf_idf.index.values ).reset_index()).to_csv('./TopIdsTask2/top_ids_cosine_tfidf_complete_.csv')"
   ]
  },
  {
   "cell_type": "code",
   "execution_count": 33,
   "metadata": {},
   "outputs": [],
   "source": [
    "del result"
   ]
  },
  {
   "cell_type": "markdown",
   "metadata": {},
   "source": [
    "### Word2vec -- Cosine Similarity"
   ]
  },
  {
   "cell_type": "code",
   "execution_count": 34,
   "metadata": {},
   "outputs": [
    {
     "name": "stderr",
     "output_type": "stream",
     "text": [
      "100%|█████████████████████████████████████████| 100/100 [00:50<00:00,  2.00it/s]\n"
     ]
    }
   ],
   "source": [
    "result = compute_in_batches(word2vec.to_numpy(),word2vec.to_numpy(), simfunction = get_cosine_similarity2, batches=100)"
   ]
  },
  {
   "cell_type": "code",
   "execution_count": 35,
   "metadata": {},
   "outputs": [
    {
     "name": "stdout",
     "output_type": "stream",
     "text": [
      "(68641, 68641)\n"
     ]
    }
   ],
   "source": [
    "print(result.shape)\n",
    "np.fill_diagonal(result, -1)"
   ]
  },
  {
   "cell_type": "code",
   "execution_count": 36,
   "metadata": {},
   "outputs": [
    {
     "name": "stderr",
     "output_type": "stream",
     "text": [
      "100%|█████████████████████████████████████████| 100/100 [08:39<00:00,  5.20s/it]\n"
     ]
    }
   ],
   "source": [
    "dt.Frame(pd.DataFrame(compute_in_batches_topIds(result,word2vec.index.values,100,100), index=word2vec.index.values ).reset_index()).to_csv('./TopIdsTask2/top_ids_cosine_word2vec_complete_.csv')"
   ]
  },
  {
   "cell_type": "code",
   "execution_count": 37,
   "metadata": {},
   "outputs": [],
   "source": [
    "del result"
   ]
  },
  {
   "cell_type": "markdown",
   "metadata": {},
   "source": [
    "### Bert -- Cosine Similarity"
   ]
  },
  {
   "cell_type": "code",
   "execution_count": 39,
   "metadata": {},
   "outputs": [
    {
     "name": "stderr",
     "output_type": "stream",
     "text": [
      "100%|█████████████████████████████████████████| 100/100 [01:16<00:00,  1.31it/s]\n"
     ]
    }
   ],
   "source": [
    "result = compute_in_batches(bert.to_numpy(),bert.to_numpy(), simfunction = get_cosine_similarity2, batches=100)"
   ]
  },
  {
   "cell_type": "code",
   "execution_count": 40,
   "metadata": {},
   "outputs": [
    {
     "name": "stdout",
     "output_type": "stream",
     "text": [
      "(68641, 68641)\n"
     ]
    }
   ],
   "source": [
    "print(result.shape)\n",
    "np.fill_diagonal(result, -1)"
   ]
  },
  {
   "cell_type": "code",
   "execution_count": 41,
   "metadata": {},
   "outputs": [
    {
     "name": "stderr",
     "output_type": "stream",
     "text": [
      "100%|█████████████████████████████████████████| 100/100 [07:13<00:00,  4.33s/it]\n"
     ]
    }
   ],
   "source": [
    "dt.Frame(pd.DataFrame(compute_in_batches_topIds(result,bert.index.values,100,100), index=bert.index.values ).reset_index()).to_csv('./TopIdsTask2/top_ids_cosine_bert_complete_.csv')"
   ]
  },
  {
   "cell_type": "code",
   "execution_count": 42,
   "metadata": {},
   "outputs": [],
   "source": [
    "del result"
   ]
  },
  {
   "cell_type": "markdown",
   "metadata": {},
   "source": [
    "### MFCC BoW -- Cosine Similarity"
   ]
  },
  {
   "cell_type": "code",
   "execution_count": 46,
   "metadata": {},
   "outputs": [
    {
     "name": "stderr",
     "output_type": "stream",
     "text": [
      "100%|█████████████████████████████████████████| 100/100 [01:01<00:00,  1.61it/s]\n"
     ]
    }
   ],
   "source": [
    "result = compute_in_batches(mfcc_bow.to_numpy(),mfcc_bow.to_numpy(), simfunction = get_cosine_similarity2, batches=100)"
   ]
  },
  {
   "cell_type": "code",
   "execution_count": 47,
   "metadata": {},
   "outputs": [
    {
     "name": "stdout",
     "output_type": "stream",
     "text": [
      "(68641, 68641)\n"
     ]
    }
   ],
   "source": [
    "print(result.shape)\n",
    "np.fill_diagonal(result, -1)"
   ]
  },
  {
   "cell_type": "code",
   "execution_count": 48,
   "metadata": {},
   "outputs": [
    {
     "name": "stderr",
     "output_type": "stream",
     "text": [
      "100%|█████████████████████████████████████████| 100/100 [07:17<00:00,  4.37s/it]\n"
     ]
    }
   ],
   "source": [
    "dt.Frame(pd.DataFrame(compute_in_batches_topIds(result,mfcc_bow.index.values,100,100), index=mfcc_bow.index.values ).reset_index()).to_csv('./TopIdsTask2/top_ids_cosine_mfcc_bow_complete_.csv')"
   ]
  },
  {
   "cell_type": "code",
   "execution_count": 49,
   "metadata": {},
   "outputs": [],
   "source": [
    "del result"
   ]
  },
  {
   "cell_type": "markdown",
   "metadata": {},
   "source": [
    "### MFCC stats -- Cosine Similarity"
   ]
  },
  {
   "cell_type": "code",
   "execution_count": 53,
   "metadata": {},
   "outputs": [
    {
     "name": "stderr",
     "output_type": "stream",
     "text": [
      "100%|█████████████████████████████████████████| 100/100 [00:40<00:00,  2.45it/s]\n"
     ]
    }
   ],
   "source": [
    "result = compute_in_batches(mfcc_stats.to_numpy(),mfcc_stats.to_numpy(), simfunction = get_cosine_similarity2, batches=100)"
   ]
  },
  {
   "cell_type": "code",
   "execution_count": 54,
   "metadata": {},
   "outputs": [
    {
     "name": "stdout",
     "output_type": "stream",
     "text": [
      "(68641, 68641)\n"
     ]
    }
   ],
   "source": [
    "print(result.shape)\n",
    "np.fill_diagonal(result, -1)"
   ]
  },
  {
   "cell_type": "code",
   "execution_count": 55,
   "metadata": {},
   "outputs": [
    {
     "name": "stderr",
     "output_type": "stream",
     "text": [
      "100%|█████████████████████████████████████████| 100/100 [07:17<00:00,  4.38s/it]\n"
     ]
    }
   ],
   "source": [
    "dt.Frame(pd.DataFrame(compute_in_batches_topIds(result,mfcc_stats.index.values,100,100), index=mfcc_stats.index.values ).reset_index()).to_csv('./TopIdsTask2/top_ids_cosine_mfcc_stats_complete_.csv')"
   ]
  },
  {
   "cell_type": "code",
   "execution_count": 56,
   "metadata": {},
   "outputs": [],
   "source": [
    "del result"
   ]
  },
  {
   "cell_type": "markdown",
   "metadata": {},
   "source": [
    "### Essentia -- Cosine Similarity"
   ]
  },
  {
   "cell_type": "code",
   "execution_count": 60,
   "metadata": {},
   "outputs": [
    {
     "name": "stderr",
     "output_type": "stream",
     "text": [
      "100%|█████████████████████████████████████████| 100/100 [01:42<00:00,  1.03s/it]\n"
     ]
    }
   ],
   "source": [
    "result = compute_in_batches(essentia.to_numpy(),essentia.to_numpy(), simfunction = get_cosine_similarity2, batches=100)"
   ]
  },
  {
   "cell_type": "code",
   "execution_count": 61,
   "metadata": {},
   "outputs": [
    {
     "name": "stdout",
     "output_type": "stream",
     "text": [
      "(68641, 68641)\n"
     ]
    }
   ],
   "source": [
    "print(result.shape)\n",
    "np.fill_diagonal(result, -1)"
   ]
  },
  {
   "cell_type": "code",
   "execution_count": 62,
   "metadata": {},
   "outputs": [
    {
     "name": "stderr",
     "output_type": "stream",
     "text": [
      "100%|█████████████████████████████████████████| 100/100 [07:26<00:00,  4.46s/it]\n"
     ]
    }
   ],
   "source": [
    "dt.Frame(pd.DataFrame(compute_in_batches_topIds(result,essentia.index.values,100,100), index=essentia.index.values ).reset_index()).to_csv('./TopIdsTask2/top_ids_cosine_essentia_complete_.csv')"
   ]
  },
  {
   "cell_type": "code",
   "execution_count": 63,
   "metadata": {},
   "outputs": [],
   "source": [
    "del result"
   ]
  },
  {
   "cell_type": "markdown",
   "metadata": {},
   "source": [
    "### INCP -- Cosine Similarity"
   ]
  },
  {
   "cell_type": "code",
   "execution_count": 67,
   "metadata": {},
   "outputs": [
    {
     "name": "stderr",
     "output_type": "stream",
     "text": [
      "100%|█████████████████████████████████████████| 100/100 [05:35<00:00,  3.35s/it]\n"
     ]
    }
   ],
   "source": [
    "result = compute_in_batches(incp.to_numpy(),incp.to_numpy(), simfunction = get_cosine_similarity2, batches=100)"
   ]
  },
  {
   "cell_type": "code",
   "execution_count": 68,
   "metadata": {},
   "outputs": [
    {
     "name": "stdout",
     "output_type": "stream",
     "text": [
      "(68641, 68641)\n"
     ]
    }
   ],
   "source": [
    "print(result.shape)\n",
    "np.fill_diagonal(result, -1)"
   ]
  },
  {
   "cell_type": "code",
   "execution_count": 69,
   "metadata": {},
   "outputs": [
    {
     "name": "stderr",
     "output_type": "stream",
     "text": [
      "100%|█████████████████████████████████████████| 100/100 [07:46<00:00,  4.66s/it]\n"
     ]
    }
   ],
   "source": [
    "dt.Frame(pd.DataFrame(compute_in_batches_topIds(result,incp.index.values,100,100), index=incp.index.values ).reset_index()).to_csv('./TopIdsTask2/top_ids_cosine_incp_complete_.csv')"
   ]
  },
  {
   "cell_type": "code",
   "execution_count": 70,
   "metadata": {},
   "outputs": [],
   "source": [
    "del result"
   ]
  },
  {
   "cell_type": "markdown",
   "metadata": {},
   "source": [
    "### resnet -- Cosine Similarity"
   ]
  },
  {
   "cell_type": "code",
   "execution_count": 76,
   "metadata": {},
   "outputs": [
    {
     "name": "stderr",
     "output_type": "stream",
     "text": [
      "100%|█████████████████████████████████████████| 100/100 [05:14<00:00,  3.15s/it]\n"
     ]
    }
   ],
   "source": [
    "result = compute_in_batches(resnet.to_numpy(),resnet.to_numpy(), simfunction = get_cosine_similarity2, batches=100)"
   ]
  },
  {
   "cell_type": "code",
   "execution_count": 77,
   "metadata": {},
   "outputs": [
    {
     "name": "stdout",
     "output_type": "stream",
     "text": [
      "(68641, 68641)\n"
     ]
    }
   ],
   "source": [
    "print(result.shape)\n",
    "np.fill_diagonal(result, -1)"
   ]
  },
  {
   "cell_type": "code",
   "execution_count": 78,
   "metadata": {},
   "outputs": [
    {
     "name": "stderr",
     "output_type": "stream",
     "text": [
      "100%|█████████████████████████████████████████| 100/100 [09:10<00:00,  5.50s/it]\n"
     ]
    }
   ],
   "source": [
    "dt.Frame(pd.DataFrame(compute_in_batches_topIds(result,resnet.index.values,100,100), index=resnet.index.values ).reset_index()).to_csv('./TopIdsTask2/top_ids_cosine_resnet_complete_.csv')"
   ]
  },
  {
   "cell_type": "code",
   "execution_count": 79,
   "metadata": {},
   "outputs": [],
   "source": [
    "del result"
   ]
  },
  {
   "cell_type": "markdown",
   "metadata": {},
   "source": [
    "### vgg19 -- Cosine Similarity"
   ]
  },
  {
   "cell_type": "code",
   "execution_count": 87,
   "metadata": {},
   "outputs": [
    {
     "name": "stderr",
     "output_type": "stream",
     "text": [
      "100%|█████████████████████████████████████████| 100/100 [10:59<00:00,  6.60s/it]\n"
     ]
    }
   ],
   "source": [
    "result = compute_in_batches(vgg19.to_numpy(),vgg19.to_numpy(), simfunction = get_cosine_similarity2, batches=100)"
   ]
  },
  {
   "cell_type": "code",
   "execution_count": 88,
   "metadata": {},
   "outputs": [
    {
     "name": "stdout",
     "output_type": "stream",
     "text": [
      "(68641, 68641)\n"
     ]
    }
   ],
   "source": [
    "print(result.shape)\n",
    "np.fill_diagonal(result, -1)"
   ]
  },
  {
   "cell_type": "code",
   "execution_count": 89,
   "metadata": {},
   "outputs": [
    {
     "name": "stderr",
     "output_type": "stream",
     "text": [
      "100%|█████████████████████████████████████████| 100/100 [10:04<00:00,  6.04s/it]\n"
     ]
    }
   ],
   "source": [
    "dt.Frame(pd.DataFrame(compute_in_batches_topIds(result,vgg19.index.values,100,100), index=vgg19.index.values ).reset_index()).to_csv('./TopIdsTask2/top_ids_cosine_vgg19_complete_.csv')"
   ]
  },
  {
   "cell_type": "code",
   "execution_count": 90,
   "metadata": {},
   "outputs": [],
   "source": [
    "del result"
   ]
  },
  {
   "cell_type": "markdown",
   "metadata": {},
   "source": [
    "### BLF correlation -- Cosine Similarity"
   ]
  },
  {
   "cell_type": "code",
   "execution_count": 97,
   "metadata": {},
   "outputs": [
    {
     "name": "stderr",
     "output_type": "stream",
     "text": [
      "100%|█████████████████████████████████████████| 100/100 [03:33<00:00,  2.14s/it]\n"
     ]
    }
   ],
   "source": [
    "result = compute_in_batches(blf_correlation.to_numpy(),blf_correlation.to_numpy(), simfunction = get_cosine_similarity2, batches=100)"
   ]
  },
  {
   "cell_type": "code",
   "execution_count": 98,
   "metadata": {},
   "outputs": [
    {
     "name": "stdout",
     "output_type": "stream",
     "text": [
      "(68641, 68641)\n"
     ]
    }
   ],
   "source": [
    "print(result.shape)\n",
    "np.fill_diagonal(result, -1)"
   ]
  },
  {
   "cell_type": "code",
   "execution_count": 99,
   "metadata": {},
   "outputs": [
    {
     "name": "stderr",
     "output_type": "stream",
     "text": [
      "100%|█████████████████████████████████████████| 100/100 [09:36<00:00,  5.77s/it]\n"
     ]
    }
   ],
   "source": [
    "dt.Frame(pd.DataFrame(compute_in_batches_topIds(result,blf_correlation.index.values,100,100), index=blf_correlation.index.values ).reset_index()).to_csv('./TopIdsTask2/top_ids_cosine_blf_correlation_complete_.csv')"
   ]
  },
  {
   "cell_type": "code",
   "execution_count": 100,
   "metadata": {},
   "outputs": [],
   "source": [
    "del result"
   ]
  },
  {
   "cell_type": "markdown",
   "metadata": {},
   "source": [
    "### BLF delta spectral -- Cosine Similarity"
   ]
  },
  {
   "cell_type": "code",
   "execution_count": 101,
   "metadata": {},
   "outputs": [
    {
     "name": "stderr",
     "output_type": "stream",
     "text": [
      "100%|█████████████████████████████████████████| 100/100 [02:06<00:00,  1.26s/it]\n"
     ]
    }
   ],
   "source": [
    "result = compute_in_batches(blf_deltaspectral.to_numpy(),blf_deltaspectral.to_numpy(), simfunction = get_cosine_similarity2, batches=100)"
   ]
  },
  {
   "cell_type": "code",
   "execution_count": 102,
   "metadata": {},
   "outputs": [
    {
     "name": "stdout",
     "output_type": "stream",
     "text": [
      "(68641, 68641)\n"
     ]
    }
   ],
   "source": [
    "print(result.shape)\n",
    "np.fill_diagonal(result, -1)"
   ]
  },
  {
   "cell_type": "code",
   "execution_count": 103,
   "metadata": {},
   "outputs": [
    {
     "name": "stderr",
     "output_type": "stream",
     "text": [
      "100%|█████████████████████████████████████████| 100/100 [08:08<00:00,  4.89s/it]\n"
     ]
    }
   ],
   "source": [
    "dt.Frame(pd.DataFrame(compute_in_batches_topIds(result,blf_deltaspectral.index.values,100,100), index=blf_deltaspectral.index.values ).reset_index()).to_csv('./TopIdsTask2/top_ids_cosine_blf_deltaspectral_complete_.csv')"
   ]
  },
  {
   "cell_type": "code",
   "execution_count": 104,
   "metadata": {},
   "outputs": [],
   "source": [
    "del result"
   ]
  },
  {
   "cell_type": "markdown",
   "metadata": {},
   "source": [
    "### BLF logfluc -- Cosine Similarity"
   ]
  },
  {
   "cell_type": "code",
   "execution_count": 35,
   "metadata": {},
   "outputs": [
    {
     "name": "stderr",
     "output_type": "stream",
     "text": [
      "100%|█████████████████████████████████████████| 100/100 [05:05<00:00,  3.05s/it]\n"
     ]
    }
   ],
   "source": [
    "result = compute_in_batches(blf_logfluc.to_numpy(),blf_logfluc.to_numpy(), simfunction = get_cosine_similarity2, batches=100)"
   ]
  },
  {
   "cell_type": "code",
   "execution_count": 36,
   "metadata": {},
   "outputs": [
    {
     "name": "stdout",
     "output_type": "stream",
     "text": [
      "(68641, 68641)\n"
     ]
    }
   ],
   "source": [
    "print(result.shape)\n",
    "np.fill_diagonal(result, -1)"
   ]
  },
  {
   "cell_type": "code",
   "execution_count": 37,
   "metadata": {},
   "outputs": [
    {
     "name": "stderr",
     "output_type": "stream",
     "text": [
      "100%|█████████████████████████████████████████| 100/100 [07:47<00:00,  4.68s/it]\n"
     ]
    }
   ],
   "source": [
    "dt.Frame(pd.DataFrame(compute_in_batches_topIds(result,blf_logfluc.index.values,100,100), index=blf_logfluc.index.values ).reset_index()).to_csv('./TopIdsTask2/top_ids_cosine_blf_logfluc_complete_.csv')"
   ]
  },
  {
   "cell_type": "code",
   "execution_count": 38,
   "metadata": {},
   "outputs": [],
   "source": [
    "del result"
   ]
  },
  {
   "cell_type": "markdown",
   "metadata": {},
   "source": [
    "### BLF spectral -- Cosine Similarity"
   ]
  },
  {
   "cell_type": "code",
   "execution_count": 19,
   "metadata": {},
   "outputs": [
    {
     "name": "stderr",
     "output_type": "stream",
     "text": [
      "100%|█████████████████████████████████████████| 100/100 [01:58<00:00,  1.18s/it]\n"
     ]
    }
   ],
   "source": [
    "result = compute_in_batches(blf_spectral.to_numpy(),blf_spectral.to_numpy(), simfunction = get_cosine_similarity2, batches=100)"
   ]
  },
  {
   "cell_type": "code",
   "execution_count": 20,
   "metadata": {},
   "outputs": [
    {
     "name": "stdout",
     "output_type": "stream",
     "text": [
      "(68641, 68641)\n"
     ]
    }
   ],
   "source": [
    "print(result.shape)\n",
    "np.fill_diagonal(result, -1)"
   ]
  },
  {
   "cell_type": "code",
   "execution_count": 21,
   "metadata": {},
   "outputs": [
    {
     "name": "stderr",
     "output_type": "stream",
     "text": [
      "100%|█████████████████████████████████████████| 100/100 [08:10<00:00,  4.91s/it]\n"
     ]
    }
   ],
   "source": [
    "dt.Frame(pd.DataFrame(compute_in_batches_topIds(result,blf_spectral.index.values,100,100), index=blf_spectral.index.values ).reset_index()).to_csv('./TopIdsTask2/top_ids_cosine_blf_spectral_complete_.csv')"
   ]
  },
  {
   "cell_type": "code",
   "execution_count": 22,
   "metadata": {},
   "outputs": [],
   "source": [
    "del result"
   ]
  },
  {
   "cell_type": "markdown",
   "metadata": {},
   "source": [
    "### BLF spectral contrast -- Cosine Similarity"
   ]
  },
  {
   "cell_type": "code",
   "execution_count": 23,
   "metadata": {},
   "outputs": [
    {
     "name": "stderr",
     "output_type": "stream",
     "text": [
      "100%|█████████████████████████████████████████| 100/100 [01:25<00:00,  1.17it/s]\n"
     ]
    }
   ],
   "source": [
    "result = compute_in_batches(blf_spectralcontrast.to_numpy(),blf_spectralcontrast.to_numpy(), simfunction = get_cosine_similarity2, batches=100)"
   ]
  },
  {
   "cell_type": "code",
   "execution_count": 24,
   "metadata": {},
   "outputs": [
    {
     "name": "stdout",
     "output_type": "stream",
     "text": [
      "(68641, 68641)\n"
     ]
    }
   ],
   "source": [
    "print(result.shape)\n",
    "np.fill_diagonal(result, -1)"
   ]
  },
  {
   "cell_type": "code",
   "execution_count": 25,
   "metadata": {},
   "outputs": [
    {
     "name": "stderr",
     "output_type": "stream",
     "text": [
      "100%|█████████████████████████████████████████| 100/100 [08:39<00:00,  5.19s/it]\n"
     ]
    }
   ],
   "source": [
    "dt.Frame(pd.DataFrame(compute_in_batches_topIds(result,blf_spectralcontrast.index.values,100,100), index=blf_spectralcontrast.index.values ).reset_index()).to_csv('./TopIdsTask2/top_ids_cosine_blf_spectralcontrast_complete_.csv')"
   ]
  },
  {
   "cell_type": "code",
   "execution_count": 26,
   "metadata": {},
   "outputs": [],
   "source": [
    "del result"
   ]
  },
  {
   "cell_type": "markdown",
   "metadata": {},
   "source": [
    "### BLF var delta spectral-- Cosine Similarity"
   ]
  },
  {
   "cell_type": "code",
   "execution_count": 27,
   "metadata": {},
   "outputs": [
    {
     "name": "stderr",
     "output_type": "stream",
     "text": [
      "100%|█████████████████████████████████████████| 100/100 [02:10<00:00,  1.30s/it]\n"
     ]
    }
   ],
   "source": [
    "result = compute_in_batches(blf_vardeltaspectral.to_numpy(),blf_vardeltaspectral.to_numpy(), simfunction = get_cosine_similarity2, batches=100)"
   ]
  },
  {
   "cell_type": "code",
   "execution_count": 28,
   "metadata": {},
   "outputs": [
    {
     "name": "stdout",
     "output_type": "stream",
     "text": [
      "(68641, 68641)\n"
     ]
    }
   ],
   "source": [
    "print(result.shape)\n",
    "np.fill_diagonal(result, -1)"
   ]
  },
  {
   "cell_type": "code",
   "execution_count": 29,
   "metadata": {},
   "outputs": [
    {
     "name": "stderr",
     "output_type": "stream",
     "text": [
      "100%|█████████████████████████████████████████| 100/100 [07:24<00:00,  4.45s/it]\n"
     ]
    }
   ],
   "source": [
    "dt.Frame(pd.DataFrame(compute_in_batches_topIds(result,blf_vardeltaspectral.index.values,100,100), index=blf_vardeltaspectral.index.values ).reset_index()).to_csv('./TopIdsTask2/top_ids_cosine_blf_vardeltaspectral_complete_.csv')"
   ]
  },
  {
   "cell_type": "code",
   "execution_count": 30,
   "metadata": {},
   "outputs": [],
   "source": [
    "del result"
   ]
  },
  {
   "cell_type": "markdown",
   "metadata": {},
   "source": [
    "## TOP 100 Ids using each song as a query with jaccard similarity"
   ]
  },
  {
   "cell_type": "code",
   "execution_count": null,
   "metadata": {},
   "outputs": [],
   "source": [
    "# %whos"
   ]
  }
 ],
 "metadata": {
  "kernelspec": {
   "display_name": "Python3 (new)",
   "language": "python",
   "name": "python3"
  },
  "language_info": {
   "codemirror_mode": {
    "name": "ipython",
    "version": 3
   },
   "file_extension": ".py",
   "mimetype": "text/x-python",
   "name": "python",
   "nbconvert_exporter": "python",
   "pygments_lexer": "ipython3",
   "version": "3.8.13"
  }
 },
 "nbformat": 4,
 "nbformat_minor": 4
}
