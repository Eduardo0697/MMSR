{
 "cells": [
  {
   "cell_type": "code",
   "execution_count": 12,
   "metadata": {
    "pycharm": {
     "is_executing": true
    }
   },
   "outputs": [],
   "source": [
    "import pandas as pd\n",
    "import numpy as np\n",
    "from os.path import exists\n",
    "from tqdm import tqdm\n",
    "from numba import jit\n",
    "import re"
   ]
  },
  {
   "cell_type": "markdown",
   "metadata": {},
   "source": [
    "# Data"
   ]
  },
  {
   "cell_type": "code",
   "execution_count": 2,
   "metadata": {},
   "outputs": [
    {
     "data": {
      "text/html": [
       "<div>\n",
       "<style scoped>\n",
       "    .dataframe tbody tr th:only-of-type {\n",
       "        vertical-align: middle;\n",
       "    }\n",
       "\n",
       "    .dataframe tbody tr th {\n",
       "        vertical-align: top;\n",
       "    }\n",
       "\n",
       "    .dataframe thead th {\n",
       "        text-align: right;\n",
       "    }\n",
       "</style>\n",
       "<table border=\"1\" class=\"dataframe\">\n",
       "  <thead>\n",
       "    <tr style=\"text-align: right;\">\n",
       "      <th></th>\n",
       "      <th>abl</th>\n",
       "      <th>accept</th>\n",
       "      <th>across</th>\n",
       "      <th>act</th>\n",
       "      <th>addict</th>\n",
       "      <th>afraid</th>\n",
       "      <th>age</th>\n",
       "      <th>ago</th>\n",
       "      <th>ah</th>\n",
       "      <th>ahead</th>\n",
       "      <th>...</th>\n",
       "      <th>yea</th>\n",
       "      <th>yeah</th>\n",
       "      <th>year</th>\n",
       "      <th>yellow</th>\n",
       "      <th>yes</th>\n",
       "      <th>yesterday</th>\n",
       "      <th>yet</th>\n",
       "      <th>yo</th>\n",
       "      <th>young</th>\n",
       "      <th>youth</th>\n",
       "    </tr>\n",
       "    <tr>\n",
       "      <th>id</th>\n",
       "      <th></th>\n",
       "      <th></th>\n",
       "      <th></th>\n",
       "      <th></th>\n",
       "      <th></th>\n",
       "      <th></th>\n",
       "      <th></th>\n",
       "      <th></th>\n",
       "      <th></th>\n",
       "      <th></th>\n",
       "      <th></th>\n",
       "      <th></th>\n",
       "      <th></th>\n",
       "      <th></th>\n",
       "      <th></th>\n",
       "      <th></th>\n",
       "      <th></th>\n",
       "      <th></th>\n",
       "      <th></th>\n",
       "      <th></th>\n",
       "      <th></th>\n",
       "    </tr>\n",
       "  </thead>\n",
       "  <tbody>\n",
       "    <tr>\n",
       "      <th>9jbSytob9XRzwvB6</th>\n",
       "      <td>0.0</td>\n",
       "      <td>0.0</td>\n",
       "      <td>0.0</td>\n",
       "      <td>0.0</td>\n",
       "      <td>0.0</td>\n",
       "      <td>0.000000</td>\n",
       "      <td>0.0</td>\n",
       "      <td>0.0</td>\n",
       "      <td>0.0</td>\n",
       "      <td>0.0</td>\n",
       "      <td>...</td>\n",
       "      <td>0.0</td>\n",
       "      <td>0.0</td>\n",
       "      <td>0.0</td>\n",
       "      <td>0.0</td>\n",
       "      <td>0.0</td>\n",
       "      <td>0.000000</td>\n",
       "      <td>0.0</td>\n",
       "      <td>0.0</td>\n",
       "      <td>0.0</td>\n",
       "      <td>0.150511</td>\n",
       "    </tr>\n",
       "    <tr>\n",
       "      <th>Njp6JPM8vitbhVJU</th>\n",
       "      <td>0.0</td>\n",
       "      <td>0.0</td>\n",
       "      <td>0.0</td>\n",
       "      <td>0.0</td>\n",
       "      <td>0.0</td>\n",
       "      <td>0.000000</td>\n",
       "      <td>0.0</td>\n",
       "      <td>0.0</td>\n",
       "      <td>0.0</td>\n",
       "      <td>0.0</td>\n",
       "      <td>...</td>\n",
       "      <td>0.0</td>\n",
       "      <td>0.0</td>\n",
       "      <td>0.0</td>\n",
       "      <td>0.0</td>\n",
       "      <td>0.0</td>\n",
       "      <td>0.000000</td>\n",
       "      <td>0.0</td>\n",
       "      <td>0.0</td>\n",
       "      <td>0.0</td>\n",
       "      <td>0.000000</td>\n",
       "    </tr>\n",
       "    <tr>\n",
       "      <th>h48f46ZsT9h0Z5Dm</th>\n",
       "      <td>0.0</td>\n",
       "      <td>0.0</td>\n",
       "      <td>0.0</td>\n",
       "      <td>0.0</td>\n",
       "      <td>0.0</td>\n",
       "      <td>0.000000</td>\n",
       "      <td>0.0</td>\n",
       "      <td>0.0</td>\n",
       "      <td>0.0</td>\n",
       "      <td>0.0</td>\n",
       "      <td>...</td>\n",
       "      <td>0.0</td>\n",
       "      <td>0.0</td>\n",
       "      <td>0.0</td>\n",
       "      <td>0.0</td>\n",
       "      <td>0.0</td>\n",
       "      <td>0.149783</td>\n",
       "      <td>0.0</td>\n",
       "      <td>0.0</td>\n",
       "      <td>0.0</td>\n",
       "      <td>0.000000</td>\n",
       "    </tr>\n",
       "    <tr>\n",
       "      <th>ZmXVK43zlqdeq6z8</th>\n",
       "      <td>0.0</td>\n",
       "      <td>0.0</td>\n",
       "      <td>0.0</td>\n",
       "      <td>0.0</td>\n",
       "      <td>0.0</td>\n",
       "      <td>0.000000</td>\n",
       "      <td>0.0</td>\n",
       "      <td>0.0</td>\n",
       "      <td>0.0</td>\n",
       "      <td>0.0</td>\n",
       "      <td>...</td>\n",
       "      <td>0.0</td>\n",
       "      <td>0.0</td>\n",
       "      <td>0.0</td>\n",
       "      <td>0.0</td>\n",
       "      <td>0.0</td>\n",
       "      <td>0.000000</td>\n",
       "      <td>0.0</td>\n",
       "      <td>0.0</td>\n",
       "      <td>0.0</td>\n",
       "      <td>0.000000</td>\n",
       "    </tr>\n",
       "    <tr>\n",
       "      <th>PV5EXN6AIVBqvsLO</th>\n",
       "      <td>0.0</td>\n",
       "      <td>0.0</td>\n",
       "      <td>0.0</td>\n",
       "      <td>0.0</td>\n",
       "      <td>0.0</td>\n",
       "      <td>0.327025</td>\n",
       "      <td>0.0</td>\n",
       "      <td>0.0</td>\n",
       "      <td>0.0</td>\n",
       "      <td>0.0</td>\n",
       "      <td>...</td>\n",
       "      <td>0.0</td>\n",
       "      <td>0.0</td>\n",
       "      <td>0.0</td>\n",
       "      <td>0.0</td>\n",
       "      <td>0.0</td>\n",
       "      <td>0.000000</td>\n",
       "      <td>0.0</td>\n",
       "      <td>0.0</td>\n",
       "      <td>0.0</td>\n",
       "      <td>0.000000</td>\n",
       "    </tr>\n",
       "  </tbody>\n",
       "</table>\n",
       "<p>5 rows × 1000 columns</p>\n",
       "</div>"
      ],
      "text/plain": [
       "                  abl  accept  across  act  addict    afraid  age  ago   ah  \\\n",
       "id                                                                            \n",
       "9jbSytob9XRzwvB6  0.0     0.0     0.0  0.0     0.0  0.000000  0.0  0.0  0.0   \n",
       "Njp6JPM8vitbhVJU  0.0     0.0     0.0  0.0     0.0  0.000000  0.0  0.0  0.0   \n",
       "h48f46ZsT9h0Z5Dm  0.0     0.0     0.0  0.0     0.0  0.000000  0.0  0.0  0.0   \n",
       "ZmXVK43zlqdeq6z8  0.0     0.0     0.0  0.0     0.0  0.000000  0.0  0.0  0.0   \n",
       "PV5EXN6AIVBqvsLO  0.0     0.0     0.0  0.0     0.0  0.327025  0.0  0.0  0.0   \n",
       "\n",
       "                  ahead  ...  yea  yeah  year  yellow  yes  yesterday  yet  \\\n",
       "id                       ...                                                 \n",
       "9jbSytob9XRzwvB6    0.0  ...  0.0   0.0   0.0     0.0  0.0   0.000000  0.0   \n",
       "Njp6JPM8vitbhVJU    0.0  ...  0.0   0.0   0.0     0.0  0.0   0.000000  0.0   \n",
       "h48f46ZsT9h0Z5Dm    0.0  ...  0.0   0.0   0.0     0.0  0.0   0.149783  0.0   \n",
       "ZmXVK43zlqdeq6z8    0.0  ...  0.0   0.0   0.0     0.0  0.0   0.000000  0.0   \n",
       "PV5EXN6AIVBqvsLO    0.0  ...  0.0   0.0   0.0     0.0  0.0   0.000000  0.0   \n",
       "\n",
       "                   yo  young     youth  \n",
       "id                                      \n",
       "9jbSytob9XRzwvB6  0.0    0.0  0.150511  \n",
       "Njp6JPM8vitbhVJU  0.0    0.0  0.000000  \n",
       "h48f46ZsT9h0Z5Dm  0.0    0.0  0.000000  \n",
       "ZmXVK43zlqdeq6z8  0.0    0.0  0.000000  \n",
       "PV5EXN6AIVBqvsLO  0.0    0.0  0.000000  \n",
       "\n",
       "[5 rows x 1000 columns]"
      ]
     },
     "execution_count": 2,
     "metadata": {},
     "output_type": "execute_result"
    }
   ],
   "source": [
    "tf_idf = pd.read_table(\"./../MMSR_WT22_Task1_Data/id_lyrics_tf-idf_mmsr.tsv\", index_col=\"id\")\n",
    "tf_idf.head()"
   ]
  },
  {
   "cell_type": "code",
   "execution_count": 3,
   "metadata": {
    "pycharm": {
     "is_executing": true
    }
   },
   "outputs": [],
   "source": [
    "# Other Feature vectors to use\n",
    "word2vec = pd.read_table(\"./../MMSR_WT22_Task1_Data/id_lyrics_word2vec_mmsr.tsv\", index_col='id')\n",
    "bert = pd.read_table(\"./../MMSR_WT22_Task1_Data/id_bert_mmsr.tsv\", index_col='id')"
   ]
  },
  {
   "cell_type": "code",
   "execution_count": 4,
   "metadata": {
    "pycharm": {
     "is_executing": true
    }
   },
   "outputs": [
    {
     "data": {
      "text/html": [
       "<div>\n",
       "<style scoped>\n",
       "    .dataframe tbody tr th:only-of-type {\n",
       "        vertical-align: middle;\n",
       "    }\n",
       "\n",
       "    .dataframe tbody tr th {\n",
       "        vertical-align: top;\n",
       "    }\n",
       "\n",
       "    .dataframe thead th {\n",
       "        text-align: right;\n",
       "    }\n",
       "</style>\n",
       "<table border=\"1\" class=\"dataframe\">\n",
       "  <thead>\n",
       "    <tr style=\"text-align: right;\">\n",
       "      <th></th>\n",
       "      <th>genre</th>\n",
       "    </tr>\n",
       "    <tr>\n",
       "      <th>id</th>\n",
       "      <th></th>\n",
       "    </tr>\n",
       "  </thead>\n",
       "  <tbody>\n",
       "    <tr>\n",
       "      <th>0009fFIM1eYThaPg</th>\n",
       "      <td>['pop']</td>\n",
       "    </tr>\n",
       "    <tr>\n",
       "      <th>0010xmHR6UICBOYT</th>\n",
       "      <td>['beats', 'underground hip hop', 'lo fi']</td>\n",
       "    </tr>\n",
       "    <tr>\n",
       "      <th>002Jyd0vN4HyCpqL</th>\n",
       "      <td>['hard rock', 'classic rock', 'rock', 'progres...</td>\n",
       "    </tr>\n",
       "    <tr>\n",
       "      <th>006TYKNjNxWjfKjy</th>\n",
       "      <td>['power metal', 'symphonic metal', 'symphonic ...</td>\n",
       "    </tr>\n",
       "    <tr>\n",
       "      <th>007LIJOPQ4Sb98qV</th>\n",
       "      <td>['post punk', 'new wave', 'dream pop', 'altern...</td>\n",
       "    </tr>\n",
       "  </tbody>\n",
       "</table>\n",
       "</div>"
      ],
      "text/plain": [
       "                                                              genre\n",
       "id                                                                 \n",
       "0009fFIM1eYThaPg                                            ['pop']\n",
       "0010xmHR6UICBOYT          ['beats', 'underground hip hop', 'lo fi']\n",
       "002Jyd0vN4HyCpqL  ['hard rock', 'classic rock', 'rock', 'progres...\n",
       "006TYKNjNxWjfKjy  ['power metal', 'symphonic metal', 'symphonic ...\n",
       "007LIJOPQ4Sb98qV  ['post punk', 'new wave', 'dream pop', 'altern..."
      ]
     },
     "execution_count": 4,
     "metadata": {},
     "output_type": "execute_result"
    }
   ],
   "source": [
    "genres = pd.read_table(\"./../MMSR_WT22_Task1_Data/id_genres_mmsr.tsv\", index_col=\"id\")\n",
    "genres.head()"
   ]
  },
  {
   "cell_type": "code",
   "execution_count": 5,
   "metadata": {
    "pycharm": {
     "is_executing": true
    }
   },
   "outputs": [
    {
     "data": {
      "text/html": [
       "<div>\n",
       "<style scoped>\n",
       "    .dataframe tbody tr th:only-of-type {\n",
       "        vertical-align: middle;\n",
       "    }\n",
       "\n",
       "    .dataframe tbody tr th {\n",
       "        vertical-align: top;\n",
       "    }\n",
       "\n",
       "    .dataframe thead th {\n",
       "        text-align: right;\n",
       "    }\n",
       "</style>\n",
       "<table border=\"1\" class=\"dataframe\">\n",
       "  <thead>\n",
       "    <tr style=\"text-align: right;\">\n",
       "      <th></th>\n",
       "      <th>artist</th>\n",
       "      <th>song</th>\n",
       "      <th>album_name</th>\n",
       "    </tr>\n",
       "    <tr>\n",
       "      <th>id</th>\n",
       "      <th></th>\n",
       "      <th></th>\n",
       "      <th></th>\n",
       "    </tr>\n",
       "  </thead>\n",
       "  <tbody>\n",
       "    <tr>\n",
       "      <th>0009fFIM1eYThaPg</th>\n",
       "      <td>Cheryl</td>\n",
       "      <td>Rain on Me</td>\n",
       "      <td>3 Words</td>\n",
       "    </tr>\n",
       "    <tr>\n",
       "      <th>0010xmHR6UICBOYT</th>\n",
       "      <td>Oddisee</td>\n",
       "      <td>After Thoughts</td>\n",
       "      <td>The Beauty in All</td>\n",
       "    </tr>\n",
       "    <tr>\n",
       "      <th>002Jyd0vN4HyCpqL</th>\n",
       "      <td>Blue Öyster Cult</td>\n",
       "      <td>ME 262</td>\n",
       "      <td>Secret Treaties</td>\n",
       "    </tr>\n",
       "    <tr>\n",
       "      <th>006TYKNjNxWjfKjy</th>\n",
       "      <td>Rhapsody</td>\n",
       "      <td>Flames of Revenge</td>\n",
       "      <td>Legendary Years (Re-Recorded)</td>\n",
       "    </tr>\n",
       "    <tr>\n",
       "      <th>007LIJOPQ4Sb98qV</th>\n",
       "      <td>The Chameleons</td>\n",
       "      <td>Nostalgia</td>\n",
       "      <td>What Does Anything Mean? Basically (2009 Remas...</td>\n",
       "    </tr>\n",
       "  </tbody>\n",
       "</table>\n",
       "</div>"
      ],
      "text/plain": [
       "                            artist               song  \\\n",
       "id                                                      \n",
       "0009fFIM1eYThaPg            Cheryl         Rain on Me   \n",
       "0010xmHR6UICBOYT           Oddisee     After Thoughts   \n",
       "002Jyd0vN4HyCpqL  Blue Öyster Cult             ME 262   \n",
       "006TYKNjNxWjfKjy          Rhapsody  Flames of Revenge   \n",
       "007LIJOPQ4Sb98qV    The Chameleons          Nostalgia   \n",
       "\n",
       "                                                         album_name  \n",
       "id                                                                   \n",
       "0009fFIM1eYThaPg                                            3 Words  \n",
       "0010xmHR6UICBOYT                                  The Beauty in All  \n",
       "002Jyd0vN4HyCpqL                                    Secret Treaties  \n",
       "006TYKNjNxWjfKjy                      Legendary Years (Re-Recorded)  \n",
       "007LIJOPQ4Sb98qV  What Does Anything Mean? Basically (2009 Remas...  "
      ]
     },
     "execution_count": 5,
     "metadata": {},
     "output_type": "execute_result"
    }
   ],
   "source": [
    "info = pd.read_table(\"./../MMSR_WT22_Task1_Data/id_information_mmsr.tsv\", index_col=\"id\")\n",
    "info.head()"
   ]
  },
  {
   "cell_type": "code",
   "execution_count": 6,
   "metadata": {},
   "outputs": [
    {
     "data": {
      "text/plain": [
       "0"
      ]
     },
     "execution_count": 6,
     "metadata": {},
     "output_type": "execute_result"
    }
   ],
   "source": [
    "# Check if there is any null value in tf_idf values\n",
    "tf_idf.isnull().sum().sum()"
   ]
  },
  {
   "cell_type": "markdown",
   "metadata": {},
   "source": [
    "# Similarity functions"
   ]
  },
  {
   "cell_type": "code",
   "execution_count": 15,
   "metadata": {},
   "outputs": [],
   "source": [
    "@jit(nopython=True)\n",
    "def cosine_similarity(d1, d2):\n",
    "    divisor = np.linalg.norm(d1) * np.linalg.norm(d2)\n",
    "    if divisor == 0:\n",
    "        return 0\n",
    "    return (d1 @ d2) / divisor"
   ]
  },
  {
   "cell_type": "code",
   "execution_count": 16,
   "metadata": {},
   "outputs": [],
   "source": [
    "@jit(nopython=True)\n",
    "def inner_product(d1, d2):\n",
    "    return (d1 @ d2) "
   ]
  },
  {
   "cell_type": "code",
   "execution_count": 17,
   "metadata": {},
   "outputs": [],
   "source": [
    "# I am not sure if it is correct\n",
    "# Richi: should be fine\n",
    "@jit(nopython=True)\n",
    "def jaccard_formulation(d1, d2):\n",
    "    divisor = np.linalg.norm(d1) + np.linalg.norm(d2) - (d1 @ d2)\n",
    "    if divisor == 0:\n",
    "        return 0\n",
    "    return (d1 @ d2) / divisor"
   ]
  },
  {
   "cell_type": "code",
   "execution_count": 18,
   "metadata": {},
   "outputs": [
    {
     "name": "stdout",
     "output_type": "stream",
     "text": [
      "0.08598512652034522 0.04492395942776836\n"
     ]
    }
   ],
   "source": [
    "# test_vectors\n",
    "a, b = tf_idf.iloc[0].values, tf_idf.iloc[2].values\n",
    "print(cosine_similarity(np.array(a), np.array(b)),jaccard_formulation(np.array(a), np.array(b)))"
   ]
  },
  {
   "cell_type": "markdown",
   "metadata": {},
   "source": [
    "# Storage for computed data"
   ]
  },
  {
   "cell_type": "code",
   "execution_count": 19,
   "metadata": {},
   "outputs": [],
   "source": [
    "# Matrix to store the values\n",
    "# cosine_sim = np.zeros((len(tf_idf.index),len(tf_idf.index)))\n",
    "\n",
    "# cosine_sim = np.zeros((len(tf_idf.index),len(tf_idf.index)))\n",
    "# print(cosine_sim.shape) # (76115, 76115) \n",
    "\n",
    "# To calculate the similarity between all songs\n",
    "# for row, id1 in enumerate(tf_idf.index):\n",
    "#     for col,id2 in enumerate(tf_idf.index):\n",
    "#         # print(row,col)\n",
    "#         cosine_sim[row,col] = cosine_similarity(tf_idf.loc[id1].values, tf_idf.loc[id2].values)"
   ]
  },
  {
   "cell_type": "code",
   "execution_count": 20,
   "metadata": {},
   "outputs": [],
   "source": [
    "# The index depends in the features vector, so it is better to assign \n",
    "# it depending on which feature vector we are using\n",
    "\n",
    "# change to bert.index or word2vec.index\n",
    "index_values = tf_idf.index\n",
    "\n",
    "if exists('cosine_distances_tfidf.csv'):\n",
    "    df_cosineDistance_tfidf = pd.read_csv(\"cosine_distances_tfidf.csv\", index_col=\"id\")\n",
    "else:\n",
    "    df_cosineDistance_tfidf = pd.DataFrame(index=index_values)\n",
    "    \n",
    "if exists('innerProduct_distances_tfidf.csv'):\n",
    "    df_innerProductDistance_tfidf = pd.read_csv(\"innerProduct_distances_tfidf.csv\", index_col=\"id\")\n",
    "else:\n",
    "    df_innerProductDistance_tfidf = pd.DataFrame(index=index_values)\n",
    "    \n",
    "if exists('jaccard_distances_tfidf.csv'):\n",
    "    df_jaccardDistance_tfidf = pd.read_csv(\"jaccard_distances_tfidf.csv\", index_col=\"id\")\n",
    "else:\n",
    "    df_jaccardDistance_tfidf = pd.DataFrame(index=index_values)\n",
    "    \n",
    "    \n",
    "index_values = word2vec.index\n",
    "\n",
    "if exists('cosine_distances_word2vec.csv'):\n",
    "    df_cosineDistance_word2vec = pd.read_csv(\"cosine_distances_word2vec.csv\", index_col=\"id\")\n",
    "else:\n",
    "    df_cosineDistance_word2vec = pd.DataFrame(index=index_values)\n",
    "    \n",
    "if exists('innerProduct_distances_word2vec.csv'):\n",
    "    df_innerProductDistance_word2vec = pd.read_csv(\"innerProduct_distances_word2vec.csv\", index_col=\"id\")\n",
    "else:\n",
    "    df_innerProductDistance_word2vec = pd.DataFrame(index=index_values)\n",
    "    \n",
    "if exists('jaccard_distances_word2vec.csv'):\n",
    "    df_jaccardDistance_word2vec = pd.read_csv(\"jaccard_distances_word2vec.csv\", index_col=\"id\")\n",
    "else:\n",
    "    df_jaccardDistance_word2vec = pd.DataFrame(index=index_values)\n",
    "    \n",
    "    \n",
    "index_values = bert.index\n",
    "\n",
    "if exists('cosine_distances_bert.csv'):\n",
    "    df_cosineDistance_bert = pd.read_csv(\"cosine_distances_bert.csv\", index_col=\"id\")\n",
    "else:\n",
    "    df_cosineDistance_bert = pd.DataFrame(index=index_values)\n",
    "    \n",
    "if exists('innerProduct_distances_bert.csv'):\n",
    "    df_innerProductDistance_bert = pd.read_csv(\"innerProduct_distances_bert.csv\", index_col=\"id\")\n",
    "else:\n",
    "    df_innerProductDistance_bert = pd.DataFrame(index=index_values)\n",
    "    \n",
    "if exists('jaccard_distances_bert.csv'):\n",
    "    df_jaccardDistance_bert = pd.read_csv(\"jaccard_distances_bert.csv\", index_col=\"id\")\n",
    "else:\n",
    "    df_jaccardDistance_bert = pd.DataFrame(index=index_values)"
   ]
  },
  {
   "cell_type": "code",
   "execution_count": 21,
   "metadata": {},
   "outputs": [],
   "source": [
    "def saveDataToFile():\n",
    "    # TFIDF\n",
    "    df_cosineDistance_tfidf.to_csv('cosine_distances_tfidf.csv',sep=',')\n",
    "    df_innerProductDistance_tfidf.to_csv('innerProduct_distances_tfidf.csv',sep=',')\n",
    "    df_jaccardDistance_tfidf.to_csv('jaccard_distances_tfidf.csv',sep=',')\n",
    "    \n",
    "    # WORD2VEC\n",
    "    df_cosineDistance_word2vec.to_csv('cosine_distances_word2vec.csv',sep=',')\n",
    "    df_innerProductDistance_word2vec.to_csv('innerProduct_distances_word2vec.csv',sep=',')\n",
    "    df_jaccardDistance_word2vec.to_csv('jaccard_distances_word2vec.csv',sep=',')\n",
    "\n",
    "    # BERT\n",
    "    df_cosineDistance_bert.to_csv('cosine_distances_bert.csv',sep=',')\n",
    "    df_innerProductDistance_bert.to_csv('innerProduct_distances_bert.csv',sep=',')\n",
    "    df_jaccardDistance_bert.to_csv('jaccard_distances_bert.csv',sep=',')"
   ]
  },
  {
   "cell_type": "markdown",
   "metadata": {},
   "source": [
    "# Query for song ID"
   ]
  },
  {
   "cell_type": "code",
   "execution_count": 22,
   "metadata": {},
   "outputs": [],
   "source": [
    "def getSongIdByQuery(query):\n",
    "    artist, track =query.split(',')\n",
    "    id_ = info[(info['artist'] == artist) & (info['song'] == track)].index.values[0]\n",
    "    return id_"
   ]
  },
  {
   "cell_type": "markdown",
   "metadata": {},
   "source": [
    "lets Test it if the Query works correct:"
   ]
  },
  {
   "cell_type": "code",
   "execution_count": 23,
   "metadata": {},
   "outputs": [
    {
     "data": {
      "text/html": [
       "<div>\n",
       "<style scoped>\n",
       "    .dataframe tbody tr th:only-of-type {\n",
       "        vertical-align: middle;\n",
       "    }\n",
       "\n",
       "    .dataframe tbody tr th {\n",
       "        vertical-align: top;\n",
       "    }\n",
       "\n",
       "    .dataframe thead th {\n",
       "        text-align: right;\n",
       "    }\n",
       "</style>\n",
       "<table border=\"1\" class=\"dataframe\">\n",
       "  <thead>\n",
       "    <tr style=\"text-align: right;\">\n",
       "      <th></th>\n",
       "      <th>artist</th>\n",
       "      <th>song</th>\n",
       "      <th>album_name</th>\n",
       "    </tr>\n",
       "    <tr>\n",
       "      <th>id</th>\n",
       "      <th></th>\n",
       "      <th></th>\n",
       "      <th></th>\n",
       "    </tr>\n",
       "  </thead>\n",
       "  <tbody>\n",
       "    <tr>\n",
       "      <th>007LIJOPQ4Sb98qV</th>\n",
       "      <td>The Chameleons</td>\n",
       "      <td>Nostalgia</td>\n",
       "      <td>What Does Anything Mean? Basically (2009 Remas...</td>\n",
       "    </tr>\n",
       "  </tbody>\n",
       "</table>\n",
       "</div>"
      ],
      "text/plain": [
       "                          artist       song  \\\n",
       "id                                            \n",
       "007LIJOPQ4Sb98qV  The Chameleons  Nostalgia   \n",
       "\n",
       "                                                         album_name  \n",
       "id                                                                   \n",
       "007LIJOPQ4Sb98qV  What Does Anything Mean? Basically (2009 Remas...  "
      ]
     },
     "execution_count": 23,
     "metadata": {},
     "output_type": "execute_result"
    }
   ],
   "source": [
    "# User query \"The Chameleons, Nostalgia\"\n",
    "info[(info['artist'] == 'The Chameleons') & (info['song'] == 'Nostalgia')]"
   ]
  },
  {
   "cell_type": "code",
   "execution_count": 24,
   "metadata": {},
   "outputs": [
    {
     "name": "stdout",
     "output_type": "stream",
     "text": [
      "007LIJOPQ4Sb98qV\n"
     ]
    }
   ],
   "source": [
    "# artist,song\n",
    "id_song = getSongIdByQuery(\"The Chameleons,Nostalgia\")\n",
    "print(id_song)"
   ]
  },
  {
   "cell_type": "markdown",
   "metadata": {},
   "source": [
    "# Distance computation"
   ]
  },
  {
   "cell_type": "code",
   "execution_count": 25,
   "metadata": {},
   "outputs": [],
   "source": [
    "# def distanceToSongs(idSong, similarity_function, df, features_vector):\n",
    "#     if idSong in df.columns.values:\n",
    "#         print(\"Already in data\")\n",
    "#     else:\n",
    "#         songs = features_vector.index.values\n",
    "#         distances = [similarity_function(features_vector.loc[idSong], features_vector.loc[song]) for index,song in enumerate(songs)]\n",
    "#         df[idSong]  = distances "
   ]
  },
  {
   "cell_type": "code",
   "execution_count": 31,
   "metadata": {},
   "outputs": [],
   "source": [
    "# this is much faster with jit\n",
    "@jit(nopython=True)\n",
    "def distance(v:np.array, df:np.array, songs:list, similarity_function):\n",
    "    return [similarity_function(v, df[index]) for index,song in enumerate(songs)]\n",
    "\n",
    "def distanceToSongs(idSong, similarity_function, df, features_vector):\n",
    "    if idSong in df.columns.values:\n",
    "        print(\"Already in data\")\n",
    "    else:\n",
    "        songs = np.array(features_vector.index.tolist())\n",
    "        v = np.array(features_vector.loc[idSong]) \n",
    "        distances = distance(v, np.array(features_vector), songs, similarity_function)\n",
    "        #distances = [similarity_function(v, np.array(features_vector.loc[song])) for index,song in enumerate(songs)]\n",
    "        df[idSong]  = distances "
   ]
  },
  {
   "cell_type": "code",
   "execution_count": 32,
   "metadata": {},
   "outputs": [
    {
     "name": "stdout",
     "output_type": "stream",
     "text": [
      "Already in data\n"
     ]
    }
   ],
   "source": [
    "distanceToSongs(id_song, cosine_similarity, df_cosineDistance_tfidf, tf_idf)"
   ]
  },
  {
   "cell_type": "code",
   "execution_count": 33,
   "metadata": {},
   "outputs": [
    {
     "data": {
      "text/html": [
       "<div>\n",
       "<style scoped>\n",
       "    .dataframe tbody tr th:only-of-type {\n",
       "        vertical-align: middle;\n",
       "    }\n",
       "\n",
       "    .dataframe tbody tr th {\n",
       "        vertical-align: top;\n",
       "    }\n",
       "\n",
       "    .dataframe thead th {\n",
       "        text-align: right;\n",
       "    }\n",
       "</style>\n",
       "<table border=\"1\" class=\"dataframe\">\n",
       "  <thead>\n",
       "    <tr style=\"text-align: right;\">\n",
       "      <th></th>\n",
       "      <th>007LIJOPQ4Sb98qV</th>\n",
       "      <th>0009fFIM1eYThaPg</th>\n",
       "      <th>wdAhzJrYFsHfCyCl</th>\n",
       "      <th>9jbSytob9XRzwvB6</th>\n",
       "      <th>Njp6JPM8vitbhVJU</th>\n",
       "      <th>h48f46ZsT9h0Z5Dm</th>\n",
       "      <th>ZmXVK43zlqdeq6z8</th>\n",
       "    </tr>\n",
       "    <tr>\n",
       "      <th>id</th>\n",
       "      <th></th>\n",
       "      <th></th>\n",
       "      <th></th>\n",
       "      <th></th>\n",
       "      <th></th>\n",
       "      <th></th>\n",
       "      <th></th>\n",
       "    </tr>\n",
       "  </thead>\n",
       "  <tbody>\n",
       "    <tr>\n",
       "      <th>9jbSytob9XRzwvB6</th>\n",
       "      <td>0.048452</td>\n",
       "      <td>0.006539</td>\n",
       "      <td>0.051474</td>\n",
       "      <td>1.000000</td>\n",
       "      <td>0.097104</td>\n",
       "      <td>0.085985</td>\n",
       "      <td>0.128681</td>\n",
       "    </tr>\n",
       "    <tr>\n",
       "      <th>Njp6JPM8vitbhVJU</th>\n",
       "      <td>0.001441</td>\n",
       "      <td>0.013563</td>\n",
       "      <td>0.009384</td>\n",
       "      <td>0.097104</td>\n",
       "      <td>1.000000</td>\n",
       "      <td>0.024038</td>\n",
       "      <td>0.010407</td>\n",
       "    </tr>\n",
       "    <tr>\n",
       "      <th>h48f46ZsT9h0Z5Dm</th>\n",
       "      <td>0.102718</td>\n",
       "      <td>0.015595</td>\n",
       "      <td>0.040152</td>\n",
       "      <td>0.085985</td>\n",
       "      <td>0.024038</td>\n",
       "      <td>1.000000</td>\n",
       "      <td>0.081802</td>\n",
       "    </tr>\n",
       "    <tr>\n",
       "      <th>ZmXVK43zlqdeq6z8</th>\n",
       "      <td>0.098409</td>\n",
       "      <td>0.015704</td>\n",
       "      <td>0.028695</td>\n",
       "      <td>0.128681</td>\n",
       "      <td>0.010407</td>\n",
       "      <td>0.081802</td>\n",
       "      <td>1.000000</td>\n",
       "    </tr>\n",
       "    <tr>\n",
       "      <th>PV5EXN6AIVBqvsLO</th>\n",
       "      <td>0.013196</td>\n",
       "      <td>0.017603</td>\n",
       "      <td>0.015591</td>\n",
       "      <td>0.078034</td>\n",
       "      <td>0.015830</td>\n",
       "      <td>0.048689</td>\n",
       "      <td>0.124416</td>\n",
       "    </tr>\n",
       "  </tbody>\n",
       "</table>\n",
       "</div>"
      ],
      "text/plain": [
       "                  007LIJOPQ4Sb98qV  0009fFIM1eYThaPg  wdAhzJrYFsHfCyCl  \\\n",
       "id                                                                       \n",
       "9jbSytob9XRzwvB6          0.048452          0.006539          0.051474   \n",
       "Njp6JPM8vitbhVJU          0.001441          0.013563          0.009384   \n",
       "h48f46ZsT9h0Z5Dm          0.102718          0.015595          0.040152   \n",
       "ZmXVK43zlqdeq6z8          0.098409          0.015704          0.028695   \n",
       "PV5EXN6AIVBqvsLO          0.013196          0.017603          0.015591   \n",
       "\n",
       "                  9jbSytob9XRzwvB6  Njp6JPM8vitbhVJU  h48f46ZsT9h0Z5Dm  \\\n",
       "id                                                                       \n",
       "9jbSytob9XRzwvB6          1.000000          0.097104          0.085985   \n",
       "Njp6JPM8vitbhVJU          0.097104          1.000000          0.024038   \n",
       "h48f46ZsT9h0Z5Dm          0.085985          0.024038          1.000000   \n",
       "ZmXVK43zlqdeq6z8          0.128681          0.010407          0.081802   \n",
       "PV5EXN6AIVBqvsLO          0.078034          0.015830          0.048689   \n",
       "\n",
       "                  ZmXVK43zlqdeq6z8  \n",
       "id                                  \n",
       "9jbSytob9XRzwvB6          0.128681  \n",
       "Njp6JPM8vitbhVJU          0.010407  \n",
       "h48f46ZsT9h0Z5Dm          0.081802  \n",
       "ZmXVK43zlqdeq6z8          1.000000  \n",
       "PV5EXN6AIVBqvsLO          0.124416  "
      ]
     },
     "execution_count": 33,
     "metadata": {},
     "output_type": "execute_result"
    }
   ],
   "source": [
    "df_cosineDistance_tfidf.head()"
   ]
  },
  {
   "cell_type": "markdown",
   "metadata": {},
   "source": [
    "We can compute more distances if neccesary:"
   ]
  },
  {
   "cell_type": "code",
   "execution_count": 34,
   "metadata": {},
   "outputs": [
    {
     "name": "stdout",
     "output_type": "stream",
     "text": [
      "Already in data\n",
      "Already in data\n"
     ]
    }
   ],
   "source": [
    "distanceToSongs(getSongIdByQuery(\"Cheryl,Rain on Me\"), cosine_similarity, df_cosineDistance_tfidf, tf_idf)\n",
    "distanceToSongs(getSongIdByQuery(\"Doda,Riotka\"), cosine_similarity, df_cosineDistance_tfidf, tf_idf)"
   ]
  },
  {
   "cell_type": "code",
   "execution_count": 35,
   "metadata": {},
   "outputs": [
    {
     "name": "stdout",
     "output_type": "stream",
     "text": [
      "Already in data\n",
      "Already in data\n",
      "Already in data\n"
     ]
    }
   ],
   "source": [
    "# Distances with innerProduct\n",
    "distanceToSongs(getSongIdByQuery(\"The Chameleons,Nostalgia\"), inner_product, df_innerProductDistance_tfidf, tf_idf)\n",
    "distanceToSongs(getSongIdByQuery(\"Cheryl,Rain on Me\"), inner_product, df_innerProductDistance_tfidf, tf_idf)\n",
    "distanceToSongs(getSongIdByQuery(\"Doda,Riotka\"), inner_product, df_innerProductDistance_tfidf, tf_idf)"
   ]
  },
  {
   "cell_type": "code",
   "execution_count": 36,
   "metadata": {},
   "outputs": [
    {
     "name": "stdout",
     "output_type": "stream",
     "text": [
      "Already in data\n",
      "Already in data\n",
      "Already in data\n"
     ]
    }
   ],
   "source": [
    "# Distances with jaccard similarity\n",
    "distanceToSongs(getSongIdByQuery(\"The Chameleons,Nostalgia\"), jaccard_formulation, df_jaccardDistance_tfidf, tf_idf)\n",
    "distanceToSongs(getSongIdByQuery(\"Cheryl,Rain on Me\"), jaccard_formulation, df_jaccardDistance_tfidf, tf_idf)\n",
    "distanceToSongs(getSongIdByQuery(\"Doda,Riotka\"), jaccard_formulation, df_jaccardDistance_tfidf, tf_idf)"
   ]
  },
  {
   "cell_type": "markdown",
   "metadata": {},
   "source": [
    "And more with different feature vectors:"
   ]
  },
  {
   "cell_type": "code",
   "execution_count": 37,
   "metadata": {},
   "outputs": [
    {
     "name": "stdout",
     "output_type": "stream",
     "text": [
      "Already in data\n",
      "Already in data\n",
      "Already in data\n"
     ]
    }
   ],
   "source": [
    "distanceToSongs(getSongIdByQuery(\"The Chameleons,Nostalgia\"), cosine_similarity, df_cosineDistance_word2vec, word2vec)\n",
    "distanceToSongs(getSongIdByQuery(\"Cheryl,Rain on Me\"), cosine_similarity, df_cosineDistance_word2vec, word2vec)\n",
    "distanceToSongs(getSongIdByQuery(\"Doda,Riotka\"), cosine_similarity, df_cosineDistance_word2vec, word2vec)"
   ]
  },
  {
   "cell_type": "code",
   "execution_count": 38,
   "metadata": {},
   "outputs": [
    {
     "name": "stdout",
     "output_type": "stream",
     "text": [
      "Already in data\n",
      "Already in data\n",
      "Already in data\n"
     ]
    }
   ],
   "source": [
    "distanceToSongs(getSongIdByQuery(\"The Chameleons,Nostalgia\"), cosine_similarity, df_cosineDistance_bert, bert)\n",
    "distanceToSongs(getSongIdByQuery(\"Cheryl,Rain on Me\"), cosine_similarity, df_cosineDistance_bert, bert)\n",
    "distanceToSongs(getSongIdByQuery(\"Doda,Riotka\"), cosine_similarity, df_cosineDistance_bert, bert)"
   ]
  },
  {
   "cell_type": "markdown",
   "metadata": {
    "tags": []
   },
   "source": [
    "## The distance is the same with the inner product and cosine similarities because vectors are normalized"
   ]
  },
  {
   "cell_type": "code",
   "execution_count": 39,
   "metadata": {},
   "outputs": [
    {
     "data": {
      "text/html": [
       "<div>\n",
       "<style scoped>\n",
       "    .dataframe tbody tr th:only-of-type {\n",
       "        vertical-align: middle;\n",
       "    }\n",
       "\n",
       "    .dataframe tbody tr th {\n",
       "        vertical-align: top;\n",
       "    }\n",
       "\n",
       "    .dataframe thead th {\n",
       "        text-align: right;\n",
       "    }\n",
       "</style>\n",
       "<table border=\"1\" class=\"dataframe\">\n",
       "  <thead>\n",
       "    <tr style=\"text-align: right;\">\n",
       "      <th></th>\n",
       "      <th>007LIJOPQ4Sb98qV</th>\n",
       "      <th>0009fFIM1eYThaPg</th>\n",
       "      <th>wdAhzJrYFsHfCyCl</th>\n",
       "      <th>9jbSytob9XRzwvB6</th>\n",
       "      <th>Njp6JPM8vitbhVJU</th>\n",
       "      <th>h48f46ZsT9h0Z5Dm</th>\n",
       "      <th>ZmXVK43zlqdeq6z8</th>\n",
       "    </tr>\n",
       "    <tr>\n",
       "      <th>id</th>\n",
       "      <th></th>\n",
       "      <th></th>\n",
       "      <th></th>\n",
       "      <th></th>\n",
       "      <th></th>\n",
       "      <th></th>\n",
       "      <th></th>\n",
       "    </tr>\n",
       "  </thead>\n",
       "  <tbody>\n",
       "    <tr>\n",
       "      <th>9jbSytob9XRzwvB6</th>\n",
       "      <td>0.048452</td>\n",
       "      <td>0.006539</td>\n",
       "      <td>0.051474</td>\n",
       "      <td>1.000000</td>\n",
       "      <td>0.097104</td>\n",
       "      <td>0.085985</td>\n",
       "      <td>0.128681</td>\n",
       "    </tr>\n",
       "    <tr>\n",
       "      <th>Njp6JPM8vitbhVJU</th>\n",
       "      <td>0.001441</td>\n",
       "      <td>0.013563</td>\n",
       "      <td>0.009384</td>\n",
       "      <td>0.097104</td>\n",
       "      <td>1.000000</td>\n",
       "      <td>0.024038</td>\n",
       "      <td>0.010407</td>\n",
       "    </tr>\n",
       "    <tr>\n",
       "      <th>h48f46ZsT9h0Z5Dm</th>\n",
       "      <td>0.102718</td>\n",
       "      <td>0.015595</td>\n",
       "      <td>0.040152</td>\n",
       "      <td>0.085985</td>\n",
       "      <td>0.024038</td>\n",
       "      <td>1.000000</td>\n",
       "      <td>0.081802</td>\n",
       "    </tr>\n",
       "    <tr>\n",
       "      <th>ZmXVK43zlqdeq6z8</th>\n",
       "      <td>0.098409</td>\n",
       "      <td>0.015704</td>\n",
       "      <td>0.028695</td>\n",
       "      <td>0.128681</td>\n",
       "      <td>0.010407</td>\n",
       "      <td>0.081802</td>\n",
       "      <td>1.000000</td>\n",
       "    </tr>\n",
       "    <tr>\n",
       "      <th>PV5EXN6AIVBqvsLO</th>\n",
       "      <td>0.013196</td>\n",
       "      <td>0.017603</td>\n",
       "      <td>0.015591</td>\n",
       "      <td>0.078034</td>\n",
       "      <td>0.015830</td>\n",
       "      <td>0.048689</td>\n",
       "      <td>0.124416</td>\n",
       "    </tr>\n",
       "    <tr>\n",
       "      <th>...</th>\n",
       "      <td>...</td>\n",
       "      <td>...</td>\n",
       "      <td>...</td>\n",
       "      <td>...</td>\n",
       "      <td>...</td>\n",
       "      <td>...</td>\n",
       "      <td>...</td>\n",
       "    </tr>\n",
       "    <tr>\n",
       "      <th>R4VMVAxVOAEWBjgg</th>\n",
       "      <td>0.021491</td>\n",
       "      <td>0.214575</td>\n",
       "      <td>0.012384</td>\n",
       "      <td>0.205137</td>\n",
       "      <td>0.017796</td>\n",
       "      <td>0.013691</td>\n",
       "      <td>0.058160</td>\n",
       "    </tr>\n",
       "    <tr>\n",
       "      <th>YgII1tHAaAnh14Kf</th>\n",
       "      <td>0.000000</td>\n",
       "      <td>0.000000</td>\n",
       "      <td>0.000000</td>\n",
       "      <td>0.000000</td>\n",
       "      <td>0.000000</td>\n",
       "      <td>0.000000</td>\n",
       "      <td>0.000000</td>\n",
       "    </tr>\n",
       "    <tr>\n",
       "      <th>76qenAf8gYlH4pfq</th>\n",
       "      <td>0.022365</td>\n",
       "      <td>0.039680</td>\n",
       "      <td>0.006073</td>\n",
       "      <td>0.063405</td>\n",
       "      <td>0.011773</td>\n",
       "      <td>0.056524</td>\n",
       "      <td>0.057915</td>\n",
       "    </tr>\n",
       "    <tr>\n",
       "      <th>9F8jQjeibAuZinEP</th>\n",
       "      <td>0.027799</td>\n",
       "      <td>0.020988</td>\n",
       "      <td>0.036169</td>\n",
       "      <td>0.108322</td>\n",
       "      <td>0.053566</td>\n",
       "      <td>0.079405</td>\n",
       "      <td>0.134340</td>\n",
       "    </tr>\n",
       "    <tr>\n",
       "      <th>njEze6oZPy3MX2dN</th>\n",
       "      <td>0.000000</td>\n",
       "      <td>0.045710</td>\n",
       "      <td>0.004862</td>\n",
       "      <td>0.004530</td>\n",
       "      <td>0.136071</td>\n",
       "      <td>0.054645</td>\n",
       "      <td>0.036527</td>\n",
       "    </tr>\n",
       "  </tbody>\n",
       "</table>\n",
       "<p>76115 rows × 7 columns</p>\n",
       "</div>"
      ],
      "text/plain": [
       "                  007LIJOPQ4Sb98qV  0009fFIM1eYThaPg  wdAhzJrYFsHfCyCl  \\\n",
       "id                                                                       \n",
       "9jbSytob9XRzwvB6          0.048452          0.006539          0.051474   \n",
       "Njp6JPM8vitbhVJU          0.001441          0.013563          0.009384   \n",
       "h48f46ZsT9h0Z5Dm          0.102718          0.015595          0.040152   \n",
       "ZmXVK43zlqdeq6z8          0.098409          0.015704          0.028695   \n",
       "PV5EXN6AIVBqvsLO          0.013196          0.017603          0.015591   \n",
       "...                            ...               ...               ...   \n",
       "R4VMVAxVOAEWBjgg          0.021491          0.214575          0.012384   \n",
       "YgII1tHAaAnh14Kf          0.000000          0.000000          0.000000   \n",
       "76qenAf8gYlH4pfq          0.022365          0.039680          0.006073   \n",
       "9F8jQjeibAuZinEP          0.027799          0.020988          0.036169   \n",
       "njEze6oZPy3MX2dN          0.000000          0.045710          0.004862   \n",
       "\n",
       "                  9jbSytob9XRzwvB6  Njp6JPM8vitbhVJU  h48f46ZsT9h0Z5Dm  \\\n",
       "id                                                                       \n",
       "9jbSytob9XRzwvB6          1.000000          0.097104          0.085985   \n",
       "Njp6JPM8vitbhVJU          0.097104          1.000000          0.024038   \n",
       "h48f46ZsT9h0Z5Dm          0.085985          0.024038          1.000000   \n",
       "ZmXVK43zlqdeq6z8          0.128681          0.010407          0.081802   \n",
       "PV5EXN6AIVBqvsLO          0.078034          0.015830          0.048689   \n",
       "...                            ...               ...               ...   \n",
       "R4VMVAxVOAEWBjgg          0.205137          0.017796          0.013691   \n",
       "YgII1tHAaAnh14Kf          0.000000          0.000000          0.000000   \n",
       "76qenAf8gYlH4pfq          0.063405          0.011773          0.056524   \n",
       "9F8jQjeibAuZinEP          0.108322          0.053566          0.079405   \n",
       "njEze6oZPy3MX2dN          0.004530          0.136071          0.054645   \n",
       "\n",
       "                  ZmXVK43zlqdeq6z8  \n",
       "id                                  \n",
       "9jbSytob9XRzwvB6          0.128681  \n",
       "Njp6JPM8vitbhVJU          0.010407  \n",
       "h48f46ZsT9h0Z5Dm          0.081802  \n",
       "ZmXVK43zlqdeq6z8          1.000000  \n",
       "PV5EXN6AIVBqvsLO          0.124416  \n",
       "...                            ...  \n",
       "R4VMVAxVOAEWBjgg          0.058160  \n",
       "YgII1tHAaAnh14Kf          0.000000  \n",
       "76qenAf8gYlH4pfq          0.057915  \n",
       "9F8jQjeibAuZinEP          0.134340  \n",
       "njEze6oZPy3MX2dN          0.036527  \n",
       "\n",
       "[76115 rows x 7 columns]"
      ]
     },
     "execution_count": 39,
     "metadata": {},
     "output_type": "execute_result"
    }
   ],
   "source": [
    "df_cosineDistance_tfidf"
   ]
  },
  {
   "cell_type": "code",
   "execution_count": 40,
   "metadata": {},
   "outputs": [
    {
     "data": {
      "text/html": [
       "<div>\n",
       "<style scoped>\n",
       "    .dataframe tbody tr th:only-of-type {\n",
       "        vertical-align: middle;\n",
       "    }\n",
       "\n",
       "    .dataframe tbody tr th {\n",
       "        vertical-align: top;\n",
       "    }\n",
       "\n",
       "    .dataframe thead th {\n",
       "        text-align: right;\n",
       "    }\n",
       "</style>\n",
       "<table border=\"1\" class=\"dataframe\">\n",
       "  <thead>\n",
       "    <tr style=\"text-align: right;\">\n",
       "      <th></th>\n",
       "      <th>007LIJOPQ4Sb98qV</th>\n",
       "      <th>0009fFIM1eYThaPg</th>\n",
       "      <th>wdAhzJrYFsHfCyCl</th>\n",
       "    </tr>\n",
       "    <tr>\n",
       "      <th>id</th>\n",
       "      <th></th>\n",
       "      <th></th>\n",
       "      <th></th>\n",
       "    </tr>\n",
       "  </thead>\n",
       "  <tbody>\n",
       "    <tr>\n",
       "      <th>9jbSytob9XRzwvB6</th>\n",
       "      <td>0.048452</td>\n",
       "      <td>0.006539</td>\n",
       "      <td>0.051474</td>\n",
       "    </tr>\n",
       "    <tr>\n",
       "      <th>Njp6JPM8vitbhVJU</th>\n",
       "      <td>0.001441</td>\n",
       "      <td>0.013563</td>\n",
       "      <td>0.009384</td>\n",
       "    </tr>\n",
       "    <tr>\n",
       "      <th>h48f46ZsT9h0Z5Dm</th>\n",
       "      <td>0.102718</td>\n",
       "      <td>0.015595</td>\n",
       "      <td>0.040152</td>\n",
       "    </tr>\n",
       "    <tr>\n",
       "      <th>ZmXVK43zlqdeq6z8</th>\n",
       "      <td>0.098409</td>\n",
       "      <td>0.015704</td>\n",
       "      <td>0.028695</td>\n",
       "    </tr>\n",
       "    <tr>\n",
       "      <th>PV5EXN6AIVBqvsLO</th>\n",
       "      <td>0.013196</td>\n",
       "      <td>0.017603</td>\n",
       "      <td>0.015591</td>\n",
       "    </tr>\n",
       "    <tr>\n",
       "      <th>...</th>\n",
       "      <td>...</td>\n",
       "      <td>...</td>\n",
       "      <td>...</td>\n",
       "    </tr>\n",
       "    <tr>\n",
       "      <th>R4VMVAxVOAEWBjgg</th>\n",
       "      <td>0.021491</td>\n",
       "      <td>0.214575</td>\n",
       "      <td>0.012384</td>\n",
       "    </tr>\n",
       "    <tr>\n",
       "      <th>YgII1tHAaAnh14Kf</th>\n",
       "      <td>0.000000</td>\n",
       "      <td>0.000000</td>\n",
       "      <td>0.000000</td>\n",
       "    </tr>\n",
       "    <tr>\n",
       "      <th>76qenAf8gYlH4pfq</th>\n",
       "      <td>0.022365</td>\n",
       "      <td>0.039680</td>\n",
       "      <td>0.006073</td>\n",
       "    </tr>\n",
       "    <tr>\n",
       "      <th>9F8jQjeibAuZinEP</th>\n",
       "      <td>0.027799</td>\n",
       "      <td>0.020988</td>\n",
       "      <td>0.036169</td>\n",
       "    </tr>\n",
       "    <tr>\n",
       "      <th>njEze6oZPy3MX2dN</th>\n",
       "      <td>0.000000</td>\n",
       "      <td>0.045710</td>\n",
       "      <td>0.004862</td>\n",
       "    </tr>\n",
       "  </tbody>\n",
       "</table>\n",
       "<p>76115 rows × 3 columns</p>\n",
       "</div>"
      ],
      "text/plain": [
       "                  007LIJOPQ4Sb98qV  0009fFIM1eYThaPg  wdAhzJrYFsHfCyCl\n",
       "id                                                                    \n",
       "9jbSytob9XRzwvB6          0.048452          0.006539          0.051474\n",
       "Njp6JPM8vitbhVJU          0.001441          0.013563          0.009384\n",
       "h48f46ZsT9h0Z5Dm          0.102718          0.015595          0.040152\n",
       "ZmXVK43zlqdeq6z8          0.098409          0.015704          0.028695\n",
       "PV5EXN6AIVBqvsLO          0.013196          0.017603          0.015591\n",
       "...                            ...               ...               ...\n",
       "R4VMVAxVOAEWBjgg          0.021491          0.214575          0.012384\n",
       "YgII1tHAaAnh14Kf          0.000000          0.000000          0.000000\n",
       "76qenAf8gYlH4pfq          0.022365          0.039680          0.006073\n",
       "9F8jQjeibAuZinEP          0.027799          0.020988          0.036169\n",
       "njEze6oZPy3MX2dN          0.000000          0.045710          0.004862\n",
       "\n",
       "[76115 rows x 3 columns]"
      ]
     },
     "execution_count": 40,
     "metadata": {},
     "output_type": "execute_result"
    }
   ],
   "source": [
    "df_innerProductDistance_tfidf"
   ]
  },
  {
   "cell_type": "markdown",
   "metadata": {},
   "source": [
    "# Get Top Values"
   ]
  },
  {
   "cell_type": "code",
   "execution_count": 41,
   "metadata": {},
   "outputs": [],
   "source": [
    "# Set values to None to displau all the data\n",
    "pd.options.display.max_colwidth = None\n",
    "pd.options.display.max_columns = None"
   ]
  },
  {
   "cell_type": "code",
   "execution_count": 42,
   "metadata": {},
   "outputs": [],
   "source": [
    "def getTopValues(idSong, df_metricUsed):\n",
    "    top_values = df_metricUsed[idSong].sort_values(ascending=False)\n",
    "    return genres.loc[top_values.index].join(info, on=\"id\", how=\"left\")"
   ]
  },
  {
   "cell_type": "markdown",
   "metadata": {},
   "source": [
    "We can get now our top recommendations to a song:"
   ]
  },
  {
   "cell_type": "code",
   "execution_count": 43,
   "metadata": {},
   "outputs": [
    {
     "name": "stdout",
     "output_type": "stream",
     "text": [
      "artist                                            The Chameleons\n",
      "song                                                   Nostalgia\n",
      "album_name    What Does Anything Mean? Basically (2009 Remaster)\n",
      "Name: 007LIJOPQ4Sb98qV, dtype: object\n"
     ]
    },
    {
     "data": {
      "text/html": [
       "<div>\n",
       "<style scoped>\n",
       "    .dataframe tbody tr th:only-of-type {\n",
       "        vertical-align: middle;\n",
       "    }\n",
       "\n",
       "    .dataframe tbody tr th {\n",
       "        vertical-align: top;\n",
       "    }\n",
       "\n",
       "    .dataframe thead th {\n",
       "        text-align: right;\n",
       "    }\n",
       "</style>\n",
       "<table border=\"1\" class=\"dataframe\">\n",
       "  <thead>\n",
       "    <tr style=\"text-align: right;\">\n",
       "      <th></th>\n",
       "      <th>genre</th>\n",
       "      <th>artist</th>\n",
       "      <th>song</th>\n",
       "      <th>album_name</th>\n",
       "    </tr>\n",
       "    <tr>\n",
       "      <th>id</th>\n",
       "      <th></th>\n",
       "      <th></th>\n",
       "      <th></th>\n",
       "      <th></th>\n",
       "    </tr>\n",
       "  </thead>\n",
       "  <tbody>\n",
       "    <tr>\n",
       "      <th>007LIJOPQ4Sb98qV</th>\n",
       "      <td>['post punk', 'new wave', 'dream pop', 'alternative rock', 'madchester', 'rock']</td>\n",
       "      <td>The Chameleons</td>\n",
       "      <td>Nostalgia</td>\n",
       "      <td>What Does Anything Mean? Basically (2009 Remaster)</td>\n",
       "    </tr>\n",
       "    <tr>\n",
       "      <th>fqotTYeTLpnRj3lF</th>\n",
       "      <td>['pop', 'teen pop', 'rock', 'pop rock', 'disney', 'hip hop', 'grunge', 'alternative rock', 'rap', 'power pop', 'singer songwriter', 'synthpop']</td>\n",
       "      <td>Hilary Duff</td>\n",
       "      <td>So Yesterday</td>\n",
       "      <td>Metamorphosis</td>\n",
       "    </tr>\n",
       "    <tr>\n",
       "      <th>E7t3Y9cW86HLOFZp</th>\n",
       "      <td>['electronica', 'electro', 'disco', 'funk', 'house', 'indietronica', 'dance rock', 'rock', 'electropop', 'indie rock', 'indie pop', 'electro house', 'space rock', 'pop', 'techno', 'beats', 'disco house', 'indie electronica', 'dance punk', 'background music']</td>\n",
       "      <td>Midnight Juggernauts</td>\n",
       "      <td>Shadows</td>\n",
       "      <td>Shadows</td>\n",
       "    </tr>\n",
       "    <tr>\n",
       "      <th>wdAhzJrYFsHfCyCl</th>\n",
       "      <td>['electropop', 'pop', 'synthpop']</td>\n",
       "      <td>Doda</td>\n",
       "      <td>Riotka</td>\n",
       "      <td>Riotka</td>\n",
       "    </tr>\n",
       "    <tr>\n",
       "      <th>wbUm7Kdu4u7CSG39</th>\n",
       "      <td>['disco', 'singer songwriter', 'classic soul']</td>\n",
       "      <td>Grace Jones</td>\n",
       "      <td>Tomorrow</td>\n",
       "      <td>Portfolio</td>\n",
       "    </tr>\n",
       "    <tr>\n",
       "      <th>8crboBOJbzovC9SC</th>\n",
       "      <td>['psychedelic rock']</td>\n",
       "      <td>Ulver</td>\n",
       "      <td>Where Is Yesterday</td>\n",
       "      <td>Childhood's End</td>\n",
       "    </tr>\n",
       "    <tr>\n",
       "      <th>gcFfKAX8vSRWOtqk</th>\n",
       "      <td>['psychedelic rock', 'experimental', 'rock', 'art rock', 'classic rock', 'baroque', 'choral', 'baroque pop', 'psychedelic pop', 'gregorian chant']</td>\n",
       "      <td>The United States of America</td>\n",
       "      <td>Where Is Yesterday</td>\n",
       "      <td>The United States Of America</td>\n",
       "    </tr>\n",
       "    <tr>\n",
       "      <th>ExbzgBOxVe8jTGKx</th>\n",
       "      <td>['pop', 'singer songwriter', 'rumba']</td>\n",
       "      <td>Colbie Caillat</td>\n",
       "      <td>Like Yesterday</td>\n",
       "      <td>All Of You</td>\n",
       "    </tr>\n",
       "    <tr>\n",
       "      <th>qSEy5OiW84jPqQb5</th>\n",
       "      <td>['classic rock', 'rock', 'pop rock', 'pop', 'soft rock', 'hard rock', 'progressive rock', 'new wave', 'easy listening', 'metal', 'alternative rock', 'singer songwriter', 'album rock', 'glam metal']</td>\n",
       "      <td>Foreigner</td>\n",
       "      <td>That Was Yesterday</td>\n",
       "      <td>Agent Provocateur</td>\n",
       "    </tr>\n",
       "    <tr>\n",
       "      <th>WWvFN9dBhrf255ar</th>\n",
       "      <td>['rock', 'alternative rock', 'polish rock', 'punk', 'blues rock', 'ska']</td>\n",
       "      <td>happysad</td>\n",
       "      <td>Taką wodą być</td>\n",
       "      <td>Mów mi dobrze</td>\n",
       "    </tr>\n",
       "    <tr>\n",
       "      <th>LBUErWY7L9XEkM3b</th>\n",
       "      <td>['rock en espanol', 'latin', 'latin rock', 'pop', 'rock', 'pop rock', 'latin pop', 'latin alternative', 'electronica', 'britpop', 'lounge', 'spanish rock']</td>\n",
       "      <td>Soda Stereo</td>\n",
       "      <td>Paseando por Roma</td>\n",
       "      <td>Sueño Stereo</td>\n",
       "    </tr>\n",
       "  </tbody>\n",
       "</table>\n",
       "</div>"
      ],
      "text/plain": [
       "                                                                                                                                                                                                                                                                               genre  \\\n",
       "id                                                                                                                                                                                                                                                                                     \n",
       "007LIJOPQ4Sb98qV                                                                                                                                                                                    ['post punk', 'new wave', 'dream pop', 'alternative rock', 'madchester', 'rock']   \n",
       "fqotTYeTLpnRj3lF                                                                                                                     ['pop', 'teen pop', 'rock', 'pop rock', 'disney', 'hip hop', 'grunge', 'alternative rock', 'rap', 'power pop', 'singer songwriter', 'synthpop']   \n",
       "E7t3Y9cW86HLOFZp  ['electronica', 'electro', 'disco', 'funk', 'house', 'indietronica', 'dance rock', 'rock', 'electropop', 'indie rock', 'indie pop', 'electro house', 'space rock', 'pop', 'techno', 'beats', 'disco house', 'indie electronica', 'dance punk', 'background music']   \n",
       "wdAhzJrYFsHfCyCl                                                                                                                                                                                                                                   ['electropop', 'pop', 'synthpop']   \n",
       "wbUm7Kdu4u7CSG39                                                                                                                                                                                                                      ['disco', 'singer songwriter', 'classic soul']   \n",
       "8crboBOJbzovC9SC                                                                                                                                                                                                                                                ['psychedelic rock']   \n",
       "gcFfKAX8vSRWOtqk                                                                                                                  ['psychedelic rock', 'experimental', 'rock', 'art rock', 'classic rock', 'baroque', 'choral', 'baroque pop', 'psychedelic pop', 'gregorian chant']   \n",
       "ExbzgBOxVe8jTGKx                                                                                                                                                                                                                               ['pop', 'singer songwriter', 'rumba']   \n",
       "qSEy5OiW84jPqQb5                                                               ['classic rock', 'rock', 'pop rock', 'pop', 'soft rock', 'hard rock', 'progressive rock', 'new wave', 'easy listening', 'metal', 'alternative rock', 'singer songwriter', 'album rock', 'glam metal']   \n",
       "WWvFN9dBhrf255ar                                                                                                                                                                                            ['rock', 'alternative rock', 'polish rock', 'punk', 'blues rock', 'ska']   \n",
       "LBUErWY7L9XEkM3b                                                                                                         ['rock en espanol', 'latin', 'latin rock', 'pop', 'rock', 'pop rock', 'latin pop', 'latin alternative', 'electronica', 'britpop', 'lounge', 'spanish rock']   \n",
       "\n",
       "                                        artist                song  \\\n",
       "id                                                                   \n",
       "007LIJOPQ4Sb98qV                The Chameleons           Nostalgia   \n",
       "fqotTYeTLpnRj3lF                   Hilary Duff        So Yesterday   \n",
       "E7t3Y9cW86HLOFZp          Midnight Juggernauts             Shadows   \n",
       "wdAhzJrYFsHfCyCl                          Doda              Riotka   \n",
       "wbUm7Kdu4u7CSG39                   Grace Jones            Tomorrow   \n",
       "8crboBOJbzovC9SC                         Ulver  Where Is Yesterday   \n",
       "gcFfKAX8vSRWOtqk  The United States of America  Where Is Yesterday   \n",
       "ExbzgBOxVe8jTGKx                Colbie Caillat      Like Yesterday   \n",
       "qSEy5OiW84jPqQb5                     Foreigner  That Was Yesterday   \n",
       "WWvFN9dBhrf255ar                      happysad       Taką wodą być   \n",
       "LBUErWY7L9XEkM3b                   Soda Stereo   Paseando por Roma   \n",
       "\n",
       "                                                          album_name  \n",
       "id                                                                    \n",
       "007LIJOPQ4Sb98qV  What Does Anything Mean? Basically (2009 Remaster)  \n",
       "fqotTYeTLpnRj3lF                                       Metamorphosis  \n",
       "E7t3Y9cW86HLOFZp                                             Shadows  \n",
       "wdAhzJrYFsHfCyCl                                              Riotka  \n",
       "wbUm7Kdu4u7CSG39                                           Portfolio  \n",
       "8crboBOJbzovC9SC                                     Childhood's End  \n",
       "gcFfKAX8vSRWOtqk                        The United States Of America  \n",
       "ExbzgBOxVe8jTGKx                                          All Of You  \n",
       "qSEy5OiW84jPqQb5                                   Agent Provocateur  \n",
       "WWvFN9dBhrf255ar                                       Mów mi dobrze  \n",
       "LBUErWY7L9XEkM3b                                        Sueño Stereo  "
      ]
     },
     "execution_count": 43,
     "metadata": {},
     "output_type": "execute_result"
    }
   ],
   "source": [
    "print(info.loc[id_song])\n",
    "getTopValues(id_song, df_cosineDistance_tfidf).head(11)"
   ]
  },
  {
   "cell_type": "markdown",
   "metadata": {},
   "source": [
    "# Compare Results\n",
    "We can compare now the top results and check the differences."
   ]
  },
  {
   "cell_type": "markdown",
   "metadata": {},
   "source": [
    "## 1. Different similarity functions on tf-idf vectors"
   ]
  },
  {
   "cell_type": "code",
   "execution_count": 44,
   "metadata": {},
   "outputs": [],
   "source": [
    "# get a song ID from a query\n",
    "id_song = getSongIdByQuery(\"The Chameleons,Nostalgia\")"
   ]
  },
  {
   "cell_type": "code",
   "execution_count": 45,
   "metadata": {},
   "outputs": [
    {
     "data": {
      "text/html": [
       "<div>\n",
       "<style scoped>\n",
       "    .dataframe tbody tr th:only-of-type {\n",
       "        vertical-align: middle;\n",
       "    }\n",
       "\n",
       "    .dataframe tbody tr th {\n",
       "        vertical-align: top;\n",
       "    }\n",
       "\n",
       "    .dataframe thead th {\n",
       "        text-align: right;\n",
       "    }\n",
       "</style>\n",
       "<table border=\"1\" class=\"dataframe\">\n",
       "  <thead>\n",
       "    <tr style=\"text-align: right;\">\n",
       "      <th></th>\n",
       "      <th>genre</th>\n",
       "      <th>artist</th>\n",
       "      <th>song</th>\n",
       "      <th>album_name</th>\n",
       "    </tr>\n",
       "    <tr>\n",
       "      <th>id</th>\n",
       "      <th></th>\n",
       "      <th></th>\n",
       "      <th></th>\n",
       "      <th></th>\n",
       "    </tr>\n",
       "  </thead>\n",
       "  <tbody>\n",
       "    <tr>\n",
       "      <th>007LIJOPQ4Sb98qV</th>\n",
       "      <td>['post punk', 'new wave', 'dream pop', 'alternative rock', 'madchester', 'rock']</td>\n",
       "      <td>The Chameleons</td>\n",
       "      <td>Nostalgia</td>\n",
       "      <td>What Does Anything Mean? Basically (2009 Remaster)</td>\n",
       "    </tr>\n",
       "    <tr>\n",
       "      <th>fqotTYeTLpnRj3lF</th>\n",
       "      <td>['pop', 'teen pop', 'rock', 'pop rock', 'disney', 'hip hop', 'grunge', 'alternative rock', 'rap', 'power pop', 'singer songwriter', 'synthpop']</td>\n",
       "      <td>Hilary Duff</td>\n",
       "      <td>So Yesterday</td>\n",
       "      <td>Metamorphosis</td>\n",
       "    </tr>\n",
       "    <tr>\n",
       "      <th>E7t3Y9cW86HLOFZp</th>\n",
       "      <td>['electronica', 'electro', 'disco', 'funk', 'house', 'indietronica', 'dance rock', 'rock', 'electropop', 'indie rock', 'indie pop', 'electro house', 'space rock', 'pop', 'techno', 'beats', 'disco house', 'indie electronica', 'dance punk', 'background music']</td>\n",
       "      <td>Midnight Juggernauts</td>\n",
       "      <td>Shadows</td>\n",
       "      <td>Shadows</td>\n",
       "    </tr>\n",
       "    <tr>\n",
       "      <th>wdAhzJrYFsHfCyCl</th>\n",
       "      <td>['electropop', 'pop', 'synthpop']</td>\n",
       "      <td>Doda</td>\n",
       "      <td>Riotka</td>\n",
       "      <td>Riotka</td>\n",
       "    </tr>\n",
       "    <tr>\n",
       "      <th>wbUm7Kdu4u7CSG39</th>\n",
       "      <td>['disco', 'singer songwriter', 'classic soul']</td>\n",
       "      <td>Grace Jones</td>\n",
       "      <td>Tomorrow</td>\n",
       "      <td>Portfolio</td>\n",
       "    </tr>\n",
       "    <tr>\n",
       "      <th>8crboBOJbzovC9SC</th>\n",
       "      <td>['psychedelic rock']</td>\n",
       "      <td>Ulver</td>\n",
       "      <td>Where Is Yesterday</td>\n",
       "      <td>Childhood's End</td>\n",
       "    </tr>\n",
       "    <tr>\n",
       "      <th>gcFfKAX8vSRWOtqk</th>\n",
       "      <td>['psychedelic rock', 'experimental', 'rock', 'art rock', 'classic rock', 'baroque', 'choral', 'baroque pop', 'psychedelic pop', 'gregorian chant']</td>\n",
       "      <td>The United States of America</td>\n",
       "      <td>Where Is Yesterday</td>\n",
       "      <td>The United States Of America</td>\n",
       "    </tr>\n",
       "    <tr>\n",
       "      <th>ExbzgBOxVe8jTGKx</th>\n",
       "      <td>['pop', 'singer songwriter', 'rumba']</td>\n",
       "      <td>Colbie Caillat</td>\n",
       "      <td>Like Yesterday</td>\n",
       "      <td>All Of You</td>\n",
       "    </tr>\n",
       "    <tr>\n",
       "      <th>qSEy5OiW84jPqQb5</th>\n",
       "      <td>['classic rock', 'rock', 'pop rock', 'pop', 'soft rock', 'hard rock', 'progressive rock', 'new wave', 'easy listening', 'metal', 'alternative rock', 'singer songwriter', 'album rock', 'glam metal']</td>\n",
       "      <td>Foreigner</td>\n",
       "      <td>That Was Yesterday</td>\n",
       "      <td>Agent Provocateur</td>\n",
       "    </tr>\n",
       "    <tr>\n",
       "      <th>WWvFN9dBhrf255ar</th>\n",
       "      <td>['rock', 'alternative rock', 'polish rock', 'punk', 'blues rock', 'ska']</td>\n",
       "      <td>happysad</td>\n",
       "      <td>Taką wodą być</td>\n",
       "      <td>Mów mi dobrze</td>\n",
       "    </tr>\n",
       "    <tr>\n",
       "      <th>LBUErWY7L9XEkM3b</th>\n",
       "      <td>['rock en espanol', 'latin', 'latin rock', 'pop', 'rock', 'pop rock', 'latin pop', 'latin alternative', 'electronica', 'britpop', 'lounge', 'spanish rock']</td>\n",
       "      <td>Soda Stereo</td>\n",
       "      <td>Paseando por Roma</td>\n",
       "      <td>Sueño Stereo</td>\n",
       "    </tr>\n",
       "  </tbody>\n",
       "</table>\n",
       "</div>"
      ],
      "text/plain": [
       "                                                                                                                                                                                                                                                                               genre  \\\n",
       "id                                                                                                                                                                                                                                                                                     \n",
       "007LIJOPQ4Sb98qV                                                                                                                                                                                    ['post punk', 'new wave', 'dream pop', 'alternative rock', 'madchester', 'rock']   \n",
       "fqotTYeTLpnRj3lF                                                                                                                     ['pop', 'teen pop', 'rock', 'pop rock', 'disney', 'hip hop', 'grunge', 'alternative rock', 'rap', 'power pop', 'singer songwriter', 'synthpop']   \n",
       "E7t3Y9cW86HLOFZp  ['electronica', 'electro', 'disco', 'funk', 'house', 'indietronica', 'dance rock', 'rock', 'electropop', 'indie rock', 'indie pop', 'electro house', 'space rock', 'pop', 'techno', 'beats', 'disco house', 'indie electronica', 'dance punk', 'background music']   \n",
       "wdAhzJrYFsHfCyCl                                                                                                                                                                                                                                   ['electropop', 'pop', 'synthpop']   \n",
       "wbUm7Kdu4u7CSG39                                                                                                                                                                                                                      ['disco', 'singer songwriter', 'classic soul']   \n",
       "8crboBOJbzovC9SC                                                                                                                                                                                                                                                ['psychedelic rock']   \n",
       "gcFfKAX8vSRWOtqk                                                                                                                  ['psychedelic rock', 'experimental', 'rock', 'art rock', 'classic rock', 'baroque', 'choral', 'baroque pop', 'psychedelic pop', 'gregorian chant']   \n",
       "ExbzgBOxVe8jTGKx                                                                                                                                                                                                                               ['pop', 'singer songwriter', 'rumba']   \n",
       "qSEy5OiW84jPqQb5                                                               ['classic rock', 'rock', 'pop rock', 'pop', 'soft rock', 'hard rock', 'progressive rock', 'new wave', 'easy listening', 'metal', 'alternative rock', 'singer songwriter', 'album rock', 'glam metal']   \n",
       "WWvFN9dBhrf255ar                                                                                                                                                                                            ['rock', 'alternative rock', 'polish rock', 'punk', 'blues rock', 'ska']   \n",
       "LBUErWY7L9XEkM3b                                                                                                         ['rock en espanol', 'latin', 'latin rock', 'pop', 'rock', 'pop rock', 'latin pop', 'latin alternative', 'electronica', 'britpop', 'lounge', 'spanish rock']   \n",
       "\n",
       "                                        artist                song  \\\n",
       "id                                                                   \n",
       "007LIJOPQ4Sb98qV                The Chameleons           Nostalgia   \n",
       "fqotTYeTLpnRj3lF                   Hilary Duff        So Yesterday   \n",
       "E7t3Y9cW86HLOFZp          Midnight Juggernauts             Shadows   \n",
       "wdAhzJrYFsHfCyCl                          Doda              Riotka   \n",
       "wbUm7Kdu4u7CSG39                   Grace Jones            Tomorrow   \n",
       "8crboBOJbzovC9SC                         Ulver  Where Is Yesterday   \n",
       "gcFfKAX8vSRWOtqk  The United States of America  Where Is Yesterday   \n",
       "ExbzgBOxVe8jTGKx                Colbie Caillat      Like Yesterday   \n",
       "qSEy5OiW84jPqQb5                     Foreigner  That Was Yesterday   \n",
       "WWvFN9dBhrf255ar                      happysad       Taką wodą być   \n",
       "LBUErWY7L9XEkM3b                   Soda Stereo   Paseando por Roma   \n",
       "\n",
       "                                                          album_name  \n",
       "id                                                                    \n",
       "007LIJOPQ4Sb98qV  What Does Anything Mean? Basically (2009 Remaster)  \n",
       "fqotTYeTLpnRj3lF                                       Metamorphosis  \n",
       "E7t3Y9cW86HLOFZp                                             Shadows  \n",
       "wdAhzJrYFsHfCyCl                                              Riotka  \n",
       "wbUm7Kdu4u7CSG39                                           Portfolio  \n",
       "8crboBOJbzovC9SC                                     Childhood's End  \n",
       "gcFfKAX8vSRWOtqk                        The United States Of America  \n",
       "ExbzgBOxVe8jTGKx                                          All Of You  \n",
       "qSEy5OiW84jPqQb5                                   Agent Provocateur  \n",
       "WWvFN9dBhrf255ar                                       Mów mi dobrze  \n",
       "LBUErWY7L9XEkM3b                                        Sueño Stereo  "
      ]
     },
     "execution_count": 45,
     "metadata": {},
     "output_type": "execute_result"
    }
   ],
   "source": [
    "# show result on cosine similarity\n",
    "getTopValues(id_song, df_cosineDistance_tfidf).head(11)"
   ]
  },
  {
   "cell_type": "code",
   "execution_count": 46,
   "metadata": {},
   "outputs": [
    {
     "data": {
      "text/html": [
       "<div>\n",
       "<style scoped>\n",
       "    .dataframe tbody tr th:only-of-type {\n",
       "        vertical-align: middle;\n",
       "    }\n",
       "\n",
       "    .dataframe tbody tr th {\n",
       "        vertical-align: top;\n",
       "    }\n",
       "\n",
       "    .dataframe thead th {\n",
       "        text-align: right;\n",
       "    }\n",
       "</style>\n",
       "<table border=\"1\" class=\"dataframe\">\n",
       "  <thead>\n",
       "    <tr style=\"text-align: right;\">\n",
       "      <th></th>\n",
       "      <th>genre</th>\n",
       "      <th>artist</th>\n",
       "      <th>song</th>\n",
       "      <th>album_name</th>\n",
       "    </tr>\n",
       "    <tr>\n",
       "      <th>id</th>\n",
       "      <th></th>\n",
       "      <th></th>\n",
       "      <th></th>\n",
       "      <th></th>\n",
       "    </tr>\n",
       "  </thead>\n",
       "  <tbody>\n",
       "    <tr>\n",
       "      <th>007LIJOPQ4Sb98qV</th>\n",
       "      <td>['post punk', 'new wave', 'dream pop', 'alternative rock', 'madchester', 'rock']</td>\n",
       "      <td>The Chameleons</td>\n",
       "      <td>Nostalgia</td>\n",
       "      <td>What Does Anything Mean? Basically (2009 Remaster)</td>\n",
       "    </tr>\n",
       "    <tr>\n",
       "      <th>fqotTYeTLpnRj3lF</th>\n",
       "      <td>['pop', 'teen pop', 'rock', 'pop rock', 'disney', 'hip hop', 'grunge', 'alternative rock', 'rap', 'power pop', 'singer songwriter', 'synthpop']</td>\n",
       "      <td>Hilary Duff</td>\n",
       "      <td>So Yesterday</td>\n",
       "      <td>Metamorphosis</td>\n",
       "    </tr>\n",
       "    <tr>\n",
       "      <th>E7t3Y9cW86HLOFZp</th>\n",
       "      <td>['electronica', 'electro', 'disco', 'funk', 'house', 'indietronica', 'dance rock', 'rock', 'electropop', 'indie rock', 'indie pop', 'electro house', 'space rock', 'pop', 'techno', 'beats', 'disco house', 'indie electronica', 'dance punk', 'background music']</td>\n",
       "      <td>Midnight Juggernauts</td>\n",
       "      <td>Shadows</td>\n",
       "      <td>Shadows</td>\n",
       "    </tr>\n",
       "    <tr>\n",
       "      <th>wdAhzJrYFsHfCyCl</th>\n",
       "      <td>['electropop', 'pop', 'synthpop']</td>\n",
       "      <td>Doda</td>\n",
       "      <td>Riotka</td>\n",
       "      <td>Riotka</td>\n",
       "    </tr>\n",
       "    <tr>\n",
       "      <th>wbUm7Kdu4u7CSG39</th>\n",
       "      <td>['disco', 'singer songwriter', 'classic soul']</td>\n",
       "      <td>Grace Jones</td>\n",
       "      <td>Tomorrow</td>\n",
       "      <td>Portfolio</td>\n",
       "    </tr>\n",
       "    <tr>\n",
       "      <th>8crboBOJbzovC9SC</th>\n",
       "      <td>['psychedelic rock']</td>\n",
       "      <td>Ulver</td>\n",
       "      <td>Where Is Yesterday</td>\n",
       "      <td>Childhood's End</td>\n",
       "    </tr>\n",
       "    <tr>\n",
       "      <th>gcFfKAX8vSRWOtqk</th>\n",
       "      <td>['psychedelic rock', 'experimental', 'rock', 'art rock', 'classic rock', 'baroque', 'choral', 'baroque pop', 'psychedelic pop', 'gregorian chant']</td>\n",
       "      <td>The United States of America</td>\n",
       "      <td>Where Is Yesterday</td>\n",
       "      <td>The United States Of America</td>\n",
       "    </tr>\n",
       "    <tr>\n",
       "      <th>ExbzgBOxVe8jTGKx</th>\n",
       "      <td>['pop', 'singer songwriter', 'rumba']</td>\n",
       "      <td>Colbie Caillat</td>\n",
       "      <td>Like Yesterday</td>\n",
       "      <td>All Of You</td>\n",
       "    </tr>\n",
       "    <tr>\n",
       "      <th>qSEy5OiW84jPqQb5</th>\n",
       "      <td>['classic rock', 'rock', 'pop rock', 'pop', 'soft rock', 'hard rock', 'progressive rock', 'new wave', 'easy listening', 'metal', 'alternative rock', 'singer songwriter', 'album rock', 'glam metal']</td>\n",
       "      <td>Foreigner</td>\n",
       "      <td>That Was Yesterday</td>\n",
       "      <td>Agent Provocateur</td>\n",
       "    </tr>\n",
       "    <tr>\n",
       "      <th>WWvFN9dBhrf255ar</th>\n",
       "      <td>['rock', 'alternative rock', 'polish rock', 'punk', 'blues rock', 'ska']</td>\n",
       "      <td>happysad</td>\n",
       "      <td>Taką wodą być</td>\n",
       "      <td>Mów mi dobrze</td>\n",
       "    </tr>\n",
       "    <tr>\n",
       "      <th>LBUErWY7L9XEkM3b</th>\n",
       "      <td>['rock en espanol', 'latin', 'latin rock', 'pop', 'rock', 'pop rock', 'latin pop', 'latin alternative', 'electronica', 'britpop', 'lounge', 'spanish rock']</td>\n",
       "      <td>Soda Stereo</td>\n",
       "      <td>Paseando por Roma</td>\n",
       "      <td>Sueño Stereo</td>\n",
       "    </tr>\n",
       "  </tbody>\n",
       "</table>\n",
       "</div>"
      ],
      "text/plain": [
       "                                                                                                                                                                                                                                                                               genre  \\\n",
       "id                                                                                                                                                                                                                                                                                     \n",
       "007LIJOPQ4Sb98qV                                                                                                                                                                                    ['post punk', 'new wave', 'dream pop', 'alternative rock', 'madchester', 'rock']   \n",
       "fqotTYeTLpnRj3lF                                                                                                                     ['pop', 'teen pop', 'rock', 'pop rock', 'disney', 'hip hop', 'grunge', 'alternative rock', 'rap', 'power pop', 'singer songwriter', 'synthpop']   \n",
       "E7t3Y9cW86HLOFZp  ['electronica', 'electro', 'disco', 'funk', 'house', 'indietronica', 'dance rock', 'rock', 'electropop', 'indie rock', 'indie pop', 'electro house', 'space rock', 'pop', 'techno', 'beats', 'disco house', 'indie electronica', 'dance punk', 'background music']   \n",
       "wdAhzJrYFsHfCyCl                                                                                                                                                                                                                                   ['electropop', 'pop', 'synthpop']   \n",
       "wbUm7Kdu4u7CSG39                                                                                                                                                                                                                      ['disco', 'singer songwriter', 'classic soul']   \n",
       "8crboBOJbzovC9SC                                                                                                                                                                                                                                                ['psychedelic rock']   \n",
       "gcFfKAX8vSRWOtqk                                                                                                                  ['psychedelic rock', 'experimental', 'rock', 'art rock', 'classic rock', 'baroque', 'choral', 'baroque pop', 'psychedelic pop', 'gregorian chant']   \n",
       "ExbzgBOxVe8jTGKx                                                                                                                                                                                                                               ['pop', 'singer songwriter', 'rumba']   \n",
       "qSEy5OiW84jPqQb5                                                               ['classic rock', 'rock', 'pop rock', 'pop', 'soft rock', 'hard rock', 'progressive rock', 'new wave', 'easy listening', 'metal', 'alternative rock', 'singer songwriter', 'album rock', 'glam metal']   \n",
       "WWvFN9dBhrf255ar                                                                                                                                                                                            ['rock', 'alternative rock', 'polish rock', 'punk', 'blues rock', 'ska']   \n",
       "LBUErWY7L9XEkM3b                                                                                                         ['rock en espanol', 'latin', 'latin rock', 'pop', 'rock', 'pop rock', 'latin pop', 'latin alternative', 'electronica', 'britpop', 'lounge', 'spanish rock']   \n",
       "\n",
       "                                        artist                song  \\\n",
       "id                                                                   \n",
       "007LIJOPQ4Sb98qV                The Chameleons           Nostalgia   \n",
       "fqotTYeTLpnRj3lF                   Hilary Duff        So Yesterday   \n",
       "E7t3Y9cW86HLOFZp          Midnight Juggernauts             Shadows   \n",
       "wdAhzJrYFsHfCyCl                          Doda              Riotka   \n",
       "wbUm7Kdu4u7CSG39                   Grace Jones            Tomorrow   \n",
       "8crboBOJbzovC9SC                         Ulver  Where Is Yesterday   \n",
       "gcFfKAX8vSRWOtqk  The United States of America  Where Is Yesterday   \n",
       "ExbzgBOxVe8jTGKx                Colbie Caillat      Like Yesterday   \n",
       "qSEy5OiW84jPqQb5                     Foreigner  That Was Yesterday   \n",
       "WWvFN9dBhrf255ar                      happysad       Taką wodą być   \n",
       "LBUErWY7L9XEkM3b                   Soda Stereo   Paseando por Roma   \n",
       "\n",
       "                                                          album_name  \n",
       "id                                                                    \n",
       "007LIJOPQ4Sb98qV  What Does Anything Mean? Basically (2009 Remaster)  \n",
       "fqotTYeTLpnRj3lF                                       Metamorphosis  \n",
       "E7t3Y9cW86HLOFZp                                             Shadows  \n",
       "wdAhzJrYFsHfCyCl                                              Riotka  \n",
       "wbUm7Kdu4u7CSG39                                           Portfolio  \n",
       "8crboBOJbzovC9SC                                     Childhood's End  \n",
       "gcFfKAX8vSRWOtqk                        The United States Of America  \n",
       "ExbzgBOxVe8jTGKx                                          All Of You  \n",
       "qSEy5OiW84jPqQb5                                   Agent Provocateur  \n",
       "WWvFN9dBhrf255ar                                       Mów mi dobrze  \n",
       "LBUErWY7L9XEkM3b                                        Sueño Stereo  "
      ]
     },
     "execution_count": 46,
     "metadata": {},
     "output_type": "execute_result"
    }
   ],
   "source": [
    "# show result on jacard distance\n",
    "getTopValues(id_song, df_jaccardDistance_tfidf).head(11)"
   ]
  },
  {
   "cell_type": "markdown",
   "metadata": {},
   "source": [
    "Between cosine similarity and jaccard distance there is no difference on this selected song in the top 10."
   ]
  },
  {
   "cell_type": "markdown",
   "metadata": {},
   "source": [
    "## 2. Different feature vectors on cosine similarity"
   ]
  },
  {
   "cell_type": "code",
   "execution_count": 47,
   "metadata": {},
   "outputs": [
    {
     "data": {
      "text/html": [
       "<div>\n",
       "<style scoped>\n",
       "    .dataframe tbody tr th:only-of-type {\n",
       "        vertical-align: middle;\n",
       "    }\n",
       "\n",
       "    .dataframe tbody tr th {\n",
       "        vertical-align: top;\n",
       "    }\n",
       "\n",
       "    .dataframe thead th {\n",
       "        text-align: right;\n",
       "    }\n",
       "</style>\n",
       "<table border=\"1\" class=\"dataframe\">\n",
       "  <thead>\n",
       "    <tr style=\"text-align: right;\">\n",
       "      <th></th>\n",
       "      <th>genre</th>\n",
       "      <th>artist</th>\n",
       "      <th>song</th>\n",
       "      <th>album_name</th>\n",
       "    </tr>\n",
       "    <tr>\n",
       "      <th>id</th>\n",
       "      <th></th>\n",
       "      <th></th>\n",
       "      <th></th>\n",
       "      <th></th>\n",
       "    </tr>\n",
       "  </thead>\n",
       "  <tbody>\n",
       "    <tr>\n",
       "      <th>007LIJOPQ4Sb98qV</th>\n",
       "      <td>['post punk', 'new wave', 'dream pop', 'alternative rock', 'madchester', 'rock']</td>\n",
       "      <td>The Chameleons</td>\n",
       "      <td>Nostalgia</td>\n",
       "      <td>What Does Anything Mean? Basically (2009 Remaster)</td>\n",
       "    </tr>\n",
       "    <tr>\n",
       "      <th>fqotTYeTLpnRj3lF</th>\n",
       "      <td>['pop', 'teen pop', 'rock', 'pop rock', 'disney', 'hip hop', 'grunge', 'alternative rock', 'rap', 'power pop', 'singer songwriter', 'synthpop']</td>\n",
       "      <td>Hilary Duff</td>\n",
       "      <td>So Yesterday</td>\n",
       "      <td>Metamorphosis</td>\n",
       "    </tr>\n",
       "    <tr>\n",
       "      <th>E7t3Y9cW86HLOFZp</th>\n",
       "      <td>['electronica', 'electro', 'disco', 'funk', 'house', 'indietronica', 'dance rock', 'rock', 'electropop', 'indie rock', 'indie pop', 'electro house', 'space rock', 'pop', 'techno', 'beats', 'disco house', 'indie electronica', 'dance punk', 'background music']</td>\n",
       "      <td>Midnight Juggernauts</td>\n",
       "      <td>Shadows</td>\n",
       "      <td>Shadows</td>\n",
       "    </tr>\n",
       "    <tr>\n",
       "      <th>wdAhzJrYFsHfCyCl</th>\n",
       "      <td>['electropop', 'pop', 'synthpop']</td>\n",
       "      <td>Doda</td>\n",
       "      <td>Riotka</td>\n",
       "      <td>Riotka</td>\n",
       "    </tr>\n",
       "    <tr>\n",
       "      <th>wbUm7Kdu4u7CSG39</th>\n",
       "      <td>['disco', 'singer songwriter', 'classic soul']</td>\n",
       "      <td>Grace Jones</td>\n",
       "      <td>Tomorrow</td>\n",
       "      <td>Portfolio</td>\n",
       "    </tr>\n",
       "    <tr>\n",
       "      <th>8crboBOJbzovC9SC</th>\n",
       "      <td>['psychedelic rock']</td>\n",
       "      <td>Ulver</td>\n",
       "      <td>Where Is Yesterday</td>\n",
       "      <td>Childhood's End</td>\n",
       "    </tr>\n",
       "    <tr>\n",
       "      <th>gcFfKAX8vSRWOtqk</th>\n",
       "      <td>['psychedelic rock', 'experimental', 'rock', 'art rock', 'classic rock', 'baroque', 'choral', 'baroque pop', 'psychedelic pop', 'gregorian chant']</td>\n",
       "      <td>The United States of America</td>\n",
       "      <td>Where Is Yesterday</td>\n",
       "      <td>The United States Of America</td>\n",
       "    </tr>\n",
       "    <tr>\n",
       "      <th>ExbzgBOxVe8jTGKx</th>\n",
       "      <td>['pop', 'singer songwriter', 'rumba']</td>\n",
       "      <td>Colbie Caillat</td>\n",
       "      <td>Like Yesterday</td>\n",
       "      <td>All Of You</td>\n",
       "    </tr>\n",
       "    <tr>\n",
       "      <th>qSEy5OiW84jPqQb5</th>\n",
       "      <td>['classic rock', 'rock', 'pop rock', 'pop', 'soft rock', 'hard rock', 'progressive rock', 'new wave', 'easy listening', 'metal', 'alternative rock', 'singer songwriter', 'album rock', 'glam metal']</td>\n",
       "      <td>Foreigner</td>\n",
       "      <td>That Was Yesterday</td>\n",
       "      <td>Agent Provocateur</td>\n",
       "    </tr>\n",
       "    <tr>\n",
       "      <th>WWvFN9dBhrf255ar</th>\n",
       "      <td>['rock', 'alternative rock', 'polish rock', 'punk', 'blues rock', 'ska']</td>\n",
       "      <td>happysad</td>\n",
       "      <td>Taką wodą być</td>\n",
       "      <td>Mów mi dobrze</td>\n",
       "    </tr>\n",
       "    <tr>\n",
       "      <th>LBUErWY7L9XEkM3b</th>\n",
       "      <td>['rock en espanol', 'latin', 'latin rock', 'pop', 'rock', 'pop rock', 'latin pop', 'latin alternative', 'electronica', 'britpop', 'lounge', 'spanish rock']</td>\n",
       "      <td>Soda Stereo</td>\n",
       "      <td>Paseando por Roma</td>\n",
       "      <td>Sueño Stereo</td>\n",
       "    </tr>\n",
       "  </tbody>\n",
       "</table>\n",
       "</div>"
      ],
      "text/plain": [
       "                                                                                                                                                                                                                                                                               genre  \\\n",
       "id                                                                                                                                                                                                                                                                                     \n",
       "007LIJOPQ4Sb98qV                                                                                                                                                                                    ['post punk', 'new wave', 'dream pop', 'alternative rock', 'madchester', 'rock']   \n",
       "fqotTYeTLpnRj3lF                                                                                                                     ['pop', 'teen pop', 'rock', 'pop rock', 'disney', 'hip hop', 'grunge', 'alternative rock', 'rap', 'power pop', 'singer songwriter', 'synthpop']   \n",
       "E7t3Y9cW86HLOFZp  ['electronica', 'electro', 'disco', 'funk', 'house', 'indietronica', 'dance rock', 'rock', 'electropop', 'indie rock', 'indie pop', 'electro house', 'space rock', 'pop', 'techno', 'beats', 'disco house', 'indie electronica', 'dance punk', 'background music']   \n",
       "wdAhzJrYFsHfCyCl                                                                                                                                                                                                                                   ['electropop', 'pop', 'synthpop']   \n",
       "wbUm7Kdu4u7CSG39                                                                                                                                                                                                                      ['disco', 'singer songwriter', 'classic soul']   \n",
       "8crboBOJbzovC9SC                                                                                                                                                                                                                                                ['psychedelic rock']   \n",
       "gcFfKAX8vSRWOtqk                                                                                                                  ['psychedelic rock', 'experimental', 'rock', 'art rock', 'classic rock', 'baroque', 'choral', 'baroque pop', 'psychedelic pop', 'gregorian chant']   \n",
       "ExbzgBOxVe8jTGKx                                                                                                                                                                                                                               ['pop', 'singer songwriter', 'rumba']   \n",
       "qSEy5OiW84jPqQb5                                                               ['classic rock', 'rock', 'pop rock', 'pop', 'soft rock', 'hard rock', 'progressive rock', 'new wave', 'easy listening', 'metal', 'alternative rock', 'singer songwriter', 'album rock', 'glam metal']   \n",
       "WWvFN9dBhrf255ar                                                                                                                                                                                            ['rock', 'alternative rock', 'polish rock', 'punk', 'blues rock', 'ska']   \n",
       "LBUErWY7L9XEkM3b                                                                                                         ['rock en espanol', 'latin', 'latin rock', 'pop', 'rock', 'pop rock', 'latin pop', 'latin alternative', 'electronica', 'britpop', 'lounge', 'spanish rock']   \n",
       "\n",
       "                                        artist                song  \\\n",
       "id                                                                   \n",
       "007LIJOPQ4Sb98qV                The Chameleons           Nostalgia   \n",
       "fqotTYeTLpnRj3lF                   Hilary Duff        So Yesterday   \n",
       "E7t3Y9cW86HLOFZp          Midnight Juggernauts             Shadows   \n",
       "wdAhzJrYFsHfCyCl                          Doda              Riotka   \n",
       "wbUm7Kdu4u7CSG39                   Grace Jones            Tomorrow   \n",
       "8crboBOJbzovC9SC                         Ulver  Where Is Yesterday   \n",
       "gcFfKAX8vSRWOtqk  The United States of America  Where Is Yesterday   \n",
       "ExbzgBOxVe8jTGKx                Colbie Caillat      Like Yesterday   \n",
       "qSEy5OiW84jPqQb5                     Foreigner  That Was Yesterday   \n",
       "WWvFN9dBhrf255ar                      happysad       Taką wodą być   \n",
       "LBUErWY7L9XEkM3b                   Soda Stereo   Paseando por Roma   \n",
       "\n",
       "                                                          album_name  \n",
       "id                                                                    \n",
       "007LIJOPQ4Sb98qV  What Does Anything Mean? Basically (2009 Remaster)  \n",
       "fqotTYeTLpnRj3lF                                       Metamorphosis  \n",
       "E7t3Y9cW86HLOFZp                                             Shadows  \n",
       "wdAhzJrYFsHfCyCl                                              Riotka  \n",
       "wbUm7Kdu4u7CSG39                                           Portfolio  \n",
       "8crboBOJbzovC9SC                                     Childhood's End  \n",
       "gcFfKAX8vSRWOtqk                        The United States Of America  \n",
       "ExbzgBOxVe8jTGKx                                          All Of You  \n",
       "qSEy5OiW84jPqQb5                                   Agent Provocateur  \n",
       "WWvFN9dBhrf255ar                                       Mów mi dobrze  \n",
       "LBUErWY7L9XEkM3b                                        Sueño Stereo  "
      ]
     },
     "execution_count": 47,
     "metadata": {},
     "output_type": "execute_result"
    }
   ],
   "source": [
    "# show result on tf-idf\n",
    "tfidf_cos = getTopValues(id_song, df_cosineDistance_tfidf).head(11)\n",
    "tfidf_cos_list = tfidf_cos[['artist','song']].iloc[1:11]\n",
    "tfidf_cos.head(11)"
   ]
  },
  {
   "cell_type": "code",
   "execution_count": 48,
   "metadata": {},
   "outputs": [
    {
     "data": {
      "text/html": [
       "<div>\n",
       "<style scoped>\n",
       "    .dataframe tbody tr th:only-of-type {\n",
       "        vertical-align: middle;\n",
       "    }\n",
       "\n",
       "    .dataframe tbody tr th {\n",
       "        vertical-align: top;\n",
       "    }\n",
       "\n",
       "    .dataframe thead th {\n",
       "        text-align: right;\n",
       "    }\n",
       "</style>\n",
       "<table border=\"1\" class=\"dataframe\">\n",
       "  <thead>\n",
       "    <tr style=\"text-align: right;\">\n",
       "      <th></th>\n",
       "      <th>genre</th>\n",
       "      <th>artist</th>\n",
       "      <th>song</th>\n",
       "      <th>album_name</th>\n",
       "    </tr>\n",
       "    <tr>\n",
       "      <th>id</th>\n",
       "      <th></th>\n",
       "      <th></th>\n",
       "      <th></th>\n",
       "      <th></th>\n",
       "    </tr>\n",
       "  </thead>\n",
       "  <tbody>\n",
       "    <tr>\n",
       "      <th>007LIJOPQ4Sb98qV</th>\n",
       "      <td>['post punk', 'new wave', 'dream pop', 'alternative rock', 'madchester', 'rock']</td>\n",
       "      <td>The Chameleons</td>\n",
       "      <td>Nostalgia</td>\n",
       "      <td>What Does Anything Mean? Basically (2009 Remaster)</td>\n",
       "    </tr>\n",
       "    <tr>\n",
       "      <th>tqc0WIiaCUyFpbU0</th>\n",
       "      <td>['punk', 'rock', 'new wave', 'classic rock', 'alternative rock', 'power pop', 'post punk', 'pop punk', 'madchester']</td>\n",
       "      <td>Buzzcocks</td>\n",
       "      <td>Nostalgia</td>\n",
       "      <td>Operators Manual (Buzzcocks Best)</td>\n",
       "    </tr>\n",
       "    <tr>\n",
       "      <th>dqBAZj6zw8CsY4Cf</th>\n",
       "      <td>['rock', 'christian rock', 'hard rock', 'alternative rock', 'christian hard rock']</td>\n",
       "      <td>Skillet</td>\n",
       "      <td>One Day Too Late</td>\n",
       "      <td>Awake</td>\n",
       "    </tr>\n",
       "    <tr>\n",
       "      <th>m71LtJ9HiCiE4ewm</th>\n",
       "      <td>['rock', 'punk', 'alternative rock', 'pop punk', 'skate punk', 'hard rock', 'grunge', 'hardcore', 'folk', 'pop rock', 'ska', 'alternative metal']</td>\n",
       "      <td>The Offspring</td>\n",
       "      <td>Can't Repeat</td>\n",
       "      <td>Greatest Hits</td>\n",
       "    </tr>\n",
       "    <tr>\n",
       "      <th>mTYfNBxLlX14TmTK</th>\n",
       "      <td>['punk', 'rock', 'rockabilly', 'alternative rock', 'hardcore punk', 'cowpunk', 'punk n roll', 'garage punk', 'metal', 'hardcore', 'hard rock', 'post punk']</td>\n",
       "      <td>Social Distortion</td>\n",
       "      <td>Reach for the Sky</td>\n",
       "      <td>Sex, Love And Rock 'N' Roll</td>\n",
       "    </tr>\n",
       "    <tr>\n",
       "      <th>dfMDtC99XxwJBTho</th>\n",
       "      <td>['pop']</td>\n",
       "      <td>Take That</td>\n",
       "      <td>These Days</td>\n",
       "      <td>III</td>\n",
       "    </tr>\n",
       "    <tr>\n",
       "      <th>n01h8e2sZgEOTzkf</th>\n",
       "      <td>['punk', 'rock', 'pop punk', 'alternative rock', 'grunge', 'jazz', 'hard rock']</td>\n",
       "      <td>Green Day</td>\n",
       "      <td>I Was There</td>\n",
       "      <td>1,039 / Smoothed out Slappy Hours</td>\n",
       "    </tr>\n",
       "    <tr>\n",
       "      <th>e2KFUcizqLnGSPcy</th>\n",
       "      <td>['pop', 'rock', 'pop rock', 'folk', 'folk rock']</td>\n",
       "      <td>Nina Nesbitt</td>\n",
       "      <td>Don't Stop</td>\n",
       "      <td>Peroxide (Deluxe)</td>\n",
       "    </tr>\n",
       "    <tr>\n",
       "      <th>mc489rIzGdg83sG4</th>\n",
       "      <td>['indietronica', 'pop', 'new rave', 'indie pop', 'indie rock']</td>\n",
       "      <td>Friendly Fires</td>\n",
       "      <td>Live Those Days Tonight</td>\n",
       "      <td>Pala</td>\n",
       "    </tr>\n",
       "    <tr>\n",
       "      <th>bberSed6okySBCjE</th>\n",
       "      <td>['rock', 'alternative rock', 'indie rock']</td>\n",
       "      <td>The Classic Crime</td>\n",
       "      <td>All The Memories</td>\n",
       "      <td>What Was Done, Vol. 1: A Decade Revisited</td>\n",
       "    </tr>\n",
       "    <tr>\n",
       "      <th>TjO2mDe3AnekjwiE</th>\n",
       "      <td>['alternative rock']</td>\n",
       "      <td>Capital Inicial</td>\n",
       "      <td>Melhor do Que Ontem</td>\n",
       "      <td>Viva a Revolução</td>\n",
       "    </tr>\n",
       "  </tbody>\n",
       "</table>\n",
       "</div>"
      ],
      "text/plain": [
       "                                                                                                                                                                        genre  \\\n",
       "id                                                                                                                                                                              \n",
       "007LIJOPQ4Sb98qV                                                                             ['post punk', 'new wave', 'dream pop', 'alternative rock', 'madchester', 'rock']   \n",
       "tqc0WIiaCUyFpbU0                                         ['punk', 'rock', 'new wave', 'classic rock', 'alternative rock', 'power pop', 'post punk', 'pop punk', 'madchester']   \n",
       "dqBAZj6zw8CsY4Cf                                                                           ['rock', 'christian rock', 'hard rock', 'alternative rock', 'christian hard rock']   \n",
       "m71LtJ9HiCiE4ewm            ['rock', 'punk', 'alternative rock', 'pop punk', 'skate punk', 'hard rock', 'grunge', 'hardcore', 'folk', 'pop rock', 'ska', 'alternative metal']   \n",
       "mTYfNBxLlX14TmTK  ['punk', 'rock', 'rockabilly', 'alternative rock', 'hardcore punk', 'cowpunk', 'punk n roll', 'garage punk', 'metal', 'hardcore', 'hard rock', 'post punk']   \n",
       "dfMDtC99XxwJBTho                                                                                                                                                      ['pop']   \n",
       "n01h8e2sZgEOTzkf                                                                              ['punk', 'rock', 'pop punk', 'alternative rock', 'grunge', 'jazz', 'hard rock']   \n",
       "e2KFUcizqLnGSPcy                                                                                                             ['pop', 'rock', 'pop rock', 'folk', 'folk rock']   \n",
       "mc489rIzGdg83sG4                                                                                               ['indietronica', 'pop', 'new rave', 'indie pop', 'indie rock']   \n",
       "bberSed6okySBCjE                                                                                                                   ['rock', 'alternative rock', 'indie rock']   \n",
       "TjO2mDe3AnekjwiE                                                                                                                                         ['alternative rock']   \n",
       "\n",
       "                             artist                     song  \\\n",
       "id                                                             \n",
       "007LIJOPQ4Sb98qV     The Chameleons                Nostalgia   \n",
       "tqc0WIiaCUyFpbU0          Buzzcocks                Nostalgia   \n",
       "dqBAZj6zw8CsY4Cf            Skillet         One Day Too Late   \n",
       "m71LtJ9HiCiE4ewm      The Offspring             Can't Repeat   \n",
       "mTYfNBxLlX14TmTK  Social Distortion        Reach for the Sky   \n",
       "dfMDtC99XxwJBTho          Take That               These Days   \n",
       "n01h8e2sZgEOTzkf          Green Day              I Was There   \n",
       "e2KFUcizqLnGSPcy       Nina Nesbitt               Don't Stop   \n",
       "mc489rIzGdg83sG4     Friendly Fires  Live Those Days Tonight   \n",
       "bberSed6okySBCjE  The Classic Crime         All The Memories   \n",
       "TjO2mDe3AnekjwiE    Capital Inicial      Melhor do Que Ontem   \n",
       "\n",
       "                                                          album_name  \n",
       "id                                                                    \n",
       "007LIJOPQ4Sb98qV  What Does Anything Mean? Basically (2009 Remaster)  \n",
       "tqc0WIiaCUyFpbU0                   Operators Manual (Buzzcocks Best)  \n",
       "dqBAZj6zw8CsY4Cf                                               Awake  \n",
       "m71LtJ9HiCiE4ewm                                       Greatest Hits  \n",
       "mTYfNBxLlX14TmTK                         Sex, Love And Rock 'N' Roll  \n",
       "dfMDtC99XxwJBTho                                                 III  \n",
       "n01h8e2sZgEOTzkf                   1,039 / Smoothed out Slappy Hours  \n",
       "e2KFUcizqLnGSPcy                                   Peroxide (Deluxe)  \n",
       "mc489rIzGdg83sG4                                                Pala  \n",
       "bberSed6okySBCjE           What Was Done, Vol. 1: A Decade Revisited  \n",
       "TjO2mDe3AnekjwiE                                    Viva a Revolução  "
      ]
     },
     "execution_count": 48,
     "metadata": {},
     "output_type": "execute_result"
    }
   ],
   "source": [
    "# show result on bert\n",
    "bert_cos = getTopValues(id_song, df_cosineDistance_bert).head(11)\n",
    "bert_cos_list = bert_cos[['artist','song']].iloc[1:11]\n",
    "bert_cos.head(11)"
   ]
  },
  {
   "cell_type": "code",
   "execution_count": 49,
   "metadata": {},
   "outputs": [
    {
     "data": {
      "text/html": [
       "<div>\n",
       "<style scoped>\n",
       "    .dataframe tbody tr th:only-of-type {\n",
       "        vertical-align: middle;\n",
       "    }\n",
       "\n",
       "    .dataframe tbody tr th {\n",
       "        vertical-align: top;\n",
       "    }\n",
       "\n",
       "    .dataframe thead th {\n",
       "        text-align: right;\n",
       "    }\n",
       "</style>\n",
       "<table border=\"1\" class=\"dataframe\">\n",
       "  <thead>\n",
       "    <tr style=\"text-align: right;\">\n",
       "      <th></th>\n",
       "      <th>genre</th>\n",
       "      <th>artist</th>\n",
       "      <th>song</th>\n",
       "      <th>album_name</th>\n",
       "    </tr>\n",
       "    <tr>\n",
       "      <th>id</th>\n",
       "      <th></th>\n",
       "      <th></th>\n",
       "      <th></th>\n",
       "      <th></th>\n",
       "    </tr>\n",
       "  </thead>\n",
       "  <tbody>\n",
       "    <tr>\n",
       "      <th>007LIJOPQ4Sb98qV</th>\n",
       "      <td>['post punk', 'new wave', 'dream pop', 'alternative rock', 'madchester', 'rock']</td>\n",
       "      <td>The Chameleons</td>\n",
       "      <td>Nostalgia</td>\n",
       "      <td>What Does Anything Mean? Basically (2009 Remaster)</td>\n",
       "    </tr>\n",
       "    <tr>\n",
       "      <th>qSEy5OiW84jPqQb5</th>\n",
       "      <td>['classic rock', 'rock', 'pop rock', 'pop', 'soft rock', 'hard rock', 'progressive rock', 'new wave', 'easy listening', 'metal', 'alternative rock', 'singer songwriter', 'album rock', 'glam metal']</td>\n",
       "      <td>Foreigner</td>\n",
       "      <td>That Was Yesterday</td>\n",
       "      <td>Agent Provocateur</td>\n",
       "    </tr>\n",
       "    <tr>\n",
       "      <th>j2wn3enEucwIMiGR</th>\n",
       "      <td>['new wave', 'pop', 'synthpop', 'post punk', 'electronica', 'new romantic', 'rock', 'twee pop', 'electro', 'chill out']</td>\n",
       "      <td>Strawberry Switchblade</td>\n",
       "      <td>Since Yesterday</td>\n",
       "      <td>Strawberry Switchblade</td>\n",
       "    </tr>\n",
       "    <tr>\n",
       "      <th>TjO2mDe3AnekjwiE</th>\n",
       "      <td>['alternative rock']</td>\n",
       "      <td>Capital Inicial</td>\n",
       "      <td>Melhor do Que Ontem</td>\n",
       "      <td>Viva a Revolução</td>\n",
       "    </tr>\n",
       "    <tr>\n",
       "      <th>wdAhzJrYFsHfCyCl</th>\n",
       "      <td>['electropop', 'pop', 'synthpop']</td>\n",
       "      <td>Doda</td>\n",
       "      <td>Riotka</td>\n",
       "      <td>Riotka</td>\n",
       "    </tr>\n",
       "    <tr>\n",
       "      <th>xBI4ltwyJRfkSZ68</th>\n",
       "      <td>['rock en espanol', 'pop chileno']</td>\n",
       "      <td>La Ley</td>\n",
       "      <td>Día Cero</td>\n",
       "      <td>Invisible</td>\n",
       "    </tr>\n",
       "    <tr>\n",
       "      <th>6ZFvx0Vu2O50WgUZ</th>\n",
       "      <td>['melodic death metal', 'metal', 'death metal', 'swedish metal', 'metalcore', 'gothenburg metal', 'thrash metal', 'black metal', 'rock', 'progressive metal', 'speed metal', 'alternative metal', 'industrial metal', 'symphonic metal', 'power metal', 'melodic metal', 'melodic power metal', 'emo']</td>\n",
       "      <td>In Flames</td>\n",
       "      <td>Tilt</td>\n",
       "      <td>Hot Topic Exclusive EP</td>\n",
       "    </tr>\n",
       "    <tr>\n",
       "      <th>fqotTYeTLpnRj3lF</th>\n",
       "      <td>['pop', 'teen pop', 'rock', 'pop rock', 'disney', 'hip hop', 'grunge', 'alternative rock', 'rap', 'power pop', 'singer songwriter', 'synthpop']</td>\n",
       "      <td>Hilary Duff</td>\n",
       "      <td>So Yesterday</td>\n",
       "      <td>Metamorphosis</td>\n",
       "    </tr>\n",
       "    <tr>\n",
       "      <th>DsaREfFnArvBrzMm</th>\n",
       "      <td>['pop', 'easy listening', 'soft rock', 'rock', 'romantico', 'acoustic pop']</td>\n",
       "      <td>Carpenters</td>\n",
       "      <td>Only Yesterday</td>\n",
       "      <td>Horizon</td>\n",
       "    </tr>\n",
       "    <tr>\n",
       "      <th>kgmUex6GMPGuEq2R</th>\n",
       "      <td>['mpb', 'samba', 'poetry', 'bossa nova']</td>\n",
       "      <td>Chico Buarque</td>\n",
       "      <td>Apesar de você</td>\n",
       "      <td>Chico Buarque: Favourites - 60 years on</td>\n",
       "    </tr>\n",
       "    <tr>\n",
       "      <th>8YOX3xx1jaCJlQjN</th>\n",
       "      <td>['pop', 'k pop', 'hip hop', 'rap', 'pop rap', 'boy band']</td>\n",
       "      <td>BTS</td>\n",
       "      <td>Tomorrow</td>\n",
       "      <td>Skool Luv Affair</td>\n",
       "    </tr>\n",
       "  </tbody>\n",
       "</table>\n",
       "</div>"
      ],
      "text/plain": [
       "                                                                                                                                                                                                                                                                                                                   genre  \\\n",
       "id                                                                                                                                                                                                                                                                                                                         \n",
       "007LIJOPQ4Sb98qV                                                                                                                                                                                                                        ['post punk', 'new wave', 'dream pop', 'alternative rock', 'madchester', 'rock']   \n",
       "qSEy5OiW84jPqQb5                                                                                                   ['classic rock', 'rock', 'pop rock', 'pop', 'soft rock', 'hard rock', 'progressive rock', 'new wave', 'easy listening', 'metal', 'alternative rock', 'singer songwriter', 'album rock', 'glam metal']   \n",
       "j2wn3enEucwIMiGR                                                                                                                                                                                 ['new wave', 'pop', 'synthpop', 'post punk', 'electronica', 'new romantic', 'rock', 'twee pop', 'electro', 'chill out']   \n",
       "TjO2mDe3AnekjwiE                                                                                                                                                                                                                                                                                    ['alternative rock']   \n",
       "wdAhzJrYFsHfCyCl                                                                                                                                                                                                                                                                       ['electropop', 'pop', 'synthpop']   \n",
       "xBI4ltwyJRfkSZ68                                                                                                                                                                                                                                                                      ['rock en espanol', 'pop chileno']   \n",
       "6ZFvx0Vu2O50WgUZ  ['melodic death metal', 'metal', 'death metal', 'swedish metal', 'metalcore', 'gothenburg metal', 'thrash metal', 'black metal', 'rock', 'progressive metal', 'speed metal', 'alternative metal', 'industrial metal', 'symphonic metal', 'power metal', 'melodic metal', 'melodic power metal', 'emo']   \n",
       "fqotTYeTLpnRj3lF                                                                                                                                                         ['pop', 'teen pop', 'rock', 'pop rock', 'disney', 'hip hop', 'grunge', 'alternative rock', 'rap', 'power pop', 'singer songwriter', 'synthpop']   \n",
       "DsaREfFnArvBrzMm                                                                                                                                                                                                                             ['pop', 'easy listening', 'soft rock', 'rock', 'romantico', 'acoustic pop']   \n",
       "kgmUex6GMPGuEq2R                                                                                                                                                                                                                                                                ['mpb', 'samba', 'poetry', 'bossa nova']   \n",
       "8YOX3xx1jaCJlQjN                                                                                                                                                                                                                                               ['pop', 'k pop', 'hip hop', 'rap', 'pop rap', 'boy band']   \n",
       "\n",
       "                                  artist                 song  \\\n",
       "id                                                              \n",
       "007LIJOPQ4Sb98qV          The Chameleons            Nostalgia   \n",
       "qSEy5OiW84jPqQb5               Foreigner   That Was Yesterday   \n",
       "j2wn3enEucwIMiGR  Strawberry Switchblade      Since Yesterday   \n",
       "TjO2mDe3AnekjwiE         Capital Inicial  Melhor do Que Ontem   \n",
       "wdAhzJrYFsHfCyCl                    Doda               Riotka   \n",
       "xBI4ltwyJRfkSZ68                  La Ley             Día Cero   \n",
       "6ZFvx0Vu2O50WgUZ               In Flames                 Tilt   \n",
       "fqotTYeTLpnRj3lF             Hilary Duff         So Yesterday   \n",
       "DsaREfFnArvBrzMm              Carpenters       Only Yesterday   \n",
       "kgmUex6GMPGuEq2R           Chico Buarque       Apesar de você   \n",
       "8YOX3xx1jaCJlQjN                     BTS             Tomorrow   \n",
       "\n",
       "                                                          album_name  \n",
       "id                                                                    \n",
       "007LIJOPQ4Sb98qV  What Does Anything Mean? Basically (2009 Remaster)  \n",
       "qSEy5OiW84jPqQb5                                   Agent Provocateur  \n",
       "j2wn3enEucwIMiGR                              Strawberry Switchblade  \n",
       "TjO2mDe3AnekjwiE                                    Viva a Revolução  \n",
       "wdAhzJrYFsHfCyCl                                              Riotka  \n",
       "xBI4ltwyJRfkSZ68                                           Invisible  \n",
       "6ZFvx0Vu2O50WgUZ                              Hot Topic Exclusive EP  \n",
       "fqotTYeTLpnRj3lF                                       Metamorphosis  \n",
       "DsaREfFnArvBrzMm                                             Horizon  \n",
       "kgmUex6GMPGuEq2R             Chico Buarque: Favourites - 60 years on  \n",
       "8YOX3xx1jaCJlQjN                                    Skool Luv Affair  "
      ]
     },
     "execution_count": 49,
     "metadata": {},
     "output_type": "execute_result"
    }
   ],
   "source": [
    "# show result on word2vec\n",
    "word2vec_cos = getTopValues(id_song, df_cosineDistance_word2vec).head(11)\n",
    "word2vec_cos_list = word2vec_cos[['artist','song']].iloc[1:11]\n",
    "word2vec_cos.head(11)"
   ]
  },
  {
   "cell_type": "markdown",
   "metadata": {},
   "source": [
    "let us get the intersect of the top 10:"
   ]
  },
  {
   "cell_type": "code",
   "execution_count": 50,
   "metadata": {},
   "outputs": [
    {
     "data": {
      "text/html": [
       "<div>\n",
       "<style scoped>\n",
       "    .dataframe tbody tr th:only-of-type {\n",
       "        vertical-align: middle;\n",
       "    }\n",
       "\n",
       "    .dataframe tbody tr th {\n",
       "        vertical-align: top;\n",
       "    }\n",
       "\n",
       "    .dataframe thead th {\n",
       "        text-align: right;\n",
       "    }\n",
       "</style>\n",
       "<table border=\"1\" class=\"dataframe\">\n",
       "  <thead>\n",
       "    <tr style=\"text-align: right;\">\n",
       "      <th></th>\n",
       "      <th>artist</th>\n",
       "      <th>song</th>\n",
       "    </tr>\n",
       "  </thead>\n",
       "  <tbody>\n",
       "  </tbody>\n",
       "</table>\n",
       "</div>"
      ],
      "text/plain": [
       "Empty DataFrame\n",
       "Columns: [artist, song]\n",
       "Index: []"
      ]
     },
     "execution_count": 50,
     "metadata": {},
     "output_type": "execute_result"
    }
   ],
   "source": [
    "# intersect between tf-idf and bert\n",
    "pd.merge(tfidf_cos_list, bert_cos_list, how ='inner')"
   ]
  },
  {
   "cell_type": "code",
   "execution_count": 51,
   "metadata": {},
   "outputs": [
    {
     "data": {
      "text/html": [
       "<div>\n",
       "<style scoped>\n",
       "    .dataframe tbody tr th:only-of-type {\n",
       "        vertical-align: middle;\n",
       "    }\n",
       "\n",
       "    .dataframe tbody tr th {\n",
       "        vertical-align: top;\n",
       "    }\n",
       "\n",
       "    .dataframe thead th {\n",
       "        text-align: right;\n",
       "    }\n",
       "</style>\n",
       "<table border=\"1\" class=\"dataframe\">\n",
       "  <thead>\n",
       "    <tr style=\"text-align: right;\">\n",
       "      <th></th>\n",
       "      <th>artist</th>\n",
       "      <th>song</th>\n",
       "    </tr>\n",
       "  </thead>\n",
       "  <tbody>\n",
       "    <tr>\n",
       "      <th>0</th>\n",
       "      <td>Hilary Duff</td>\n",
       "      <td>So Yesterday</td>\n",
       "    </tr>\n",
       "    <tr>\n",
       "      <th>1</th>\n",
       "      <td>Doda</td>\n",
       "      <td>Riotka</td>\n",
       "    </tr>\n",
       "    <tr>\n",
       "      <th>2</th>\n",
       "      <td>Foreigner</td>\n",
       "      <td>That Was Yesterday</td>\n",
       "    </tr>\n",
       "  </tbody>\n",
       "</table>\n",
       "</div>"
      ],
      "text/plain": [
       "        artist                song\n",
       "0  Hilary Duff        So Yesterday\n",
       "1         Doda              Riotka\n",
       "2    Foreigner  That Was Yesterday"
      ]
     },
     "execution_count": 51,
     "metadata": {},
     "output_type": "execute_result"
    }
   ],
   "source": [
    "# intersect between tf-idf and word2vec\n",
    "pd.merge(tfidf_cos_list, word2vec_cos_list, how ='inner')"
   ]
  },
  {
   "cell_type": "code",
   "execution_count": 52,
   "metadata": {},
   "outputs": [
    {
     "data": {
      "text/html": [
       "<div>\n",
       "<style scoped>\n",
       "    .dataframe tbody tr th:only-of-type {\n",
       "        vertical-align: middle;\n",
       "    }\n",
       "\n",
       "    .dataframe tbody tr th {\n",
       "        vertical-align: top;\n",
       "    }\n",
       "\n",
       "    .dataframe thead th {\n",
       "        text-align: right;\n",
       "    }\n",
       "</style>\n",
       "<table border=\"1\" class=\"dataframe\">\n",
       "  <thead>\n",
       "    <tr style=\"text-align: right;\">\n",
       "      <th></th>\n",
       "      <th>artist</th>\n",
       "      <th>song</th>\n",
       "    </tr>\n",
       "  </thead>\n",
       "  <tbody>\n",
       "    <tr>\n",
       "      <th>0</th>\n",
       "      <td>Capital Inicial</td>\n",
       "      <td>Melhor do Que Ontem</td>\n",
       "    </tr>\n",
       "  </tbody>\n",
       "</table>\n",
       "</div>"
      ],
      "text/plain": [
       "            artist                 song\n",
       "0  Capital Inicial  Melhor do Que Ontem"
      ]
     },
     "execution_count": 52,
     "metadata": {},
     "output_type": "execute_result"
    }
   ],
   "source": [
    "# intersect between word2vec and bert\n",
    "pd.merge(word2vec_cos_list, bert_cos_list, how ='inner')"
   ]
  },
  {
   "cell_type": "markdown",
   "metadata": {},
   "source": [
    "# Save Results"
   ]
  },
  {
   "cell_type": "code",
   "execution_count": 53,
   "metadata": {},
   "outputs": [],
   "source": [
    "# Restore col width as default\n",
    "pd.options.display.max_colwidth = 5\n",
    "pd.options.display.max_columns = 20\n",
    "# End of program\n",
    "# Always at the end the program saves the results in to one file, if the file doesn't exist it creates a new one.\n",
    "saveDataToFile()"
   ]
  },
  {
   "cell_type": "markdown",
   "metadata": {},
   "source": [
    "# Evaluation of retrieval system\n",
    "\n",
    "Evaluate your retrieval system using genre as relevance criterion (i.e., a song in the list of retrieved songs (results list) is relevant if any of its genres matches any of the query song's genres). "
   ]
  },
  {
   "cell_type": "code",
   "execution_count": 54,
   "metadata": {},
   "outputs": [],
   "source": [
    "def get_genres(field):\n",
    "    return re.findall(r\"\\'(.*?)\\'\", field)\n",
    "\n",
    "\n",
    "# Check if any genre of the song one is in the genres of song two, if yes returns True\n",
    "def isResultRelevant(songOneGenres, songTwoGenres):\n",
    "    return any(item in get_genres(songOneGenres) for item in get_genres(songTwoGenres))"
   ]
  },
  {
   "cell_type": "markdown",
   "metadata": {},
   "source": [
    "## Precision\n",
    "Calculate number of relevant results for each query done. \n",
    "Each column in the dataframes created is a perfomed query"
   ]
  },
  {
   "cell_type": "code",
   "execution_count": 55,
   "metadata": {},
   "outputs": [],
   "source": [
    "def precision(dfQueries, topNumber):\n",
    "\n",
    "    precision = []\n",
    "    for query in dfQueries.columns.values:\n",
    "        querySong = getTopValues(query, dfQueries).loc[query]\n",
    "        top = getTopValues(query, dfQueries).drop(axis=0, index=[query]).head(topNumber)\n",
    "        # Get if each of the results are relevant, if yes is True\n",
    "        relevant_results = [isResultRelevant(querySong['genre'], genres) for genres in top['genre'].values]\n",
    "        precision.append(np.mean(relevant_results))\n",
    "        \n",
    "    return np.mean(precision)"
   ]
  },
  {
   "cell_type": "code",
   "execution_count": 56,
   "metadata": {},
   "outputs": [],
   "source": [
    "def meanAveragePrecision(dfQueries, topNumber):\n",
    "    \n",
    "    AP_ = []\n",
    "    for query in dfQueries.columns.values: # For each query done\n",
    "        querySong = getTopValues(query, dfQueries).loc[query] # Data of song queried\n",
    "        top = getTopValues(query, dfQueries).drop(axis=0, index=[query]).head(topNumber) # Top n songs values\n",
    "        # Get if each of the results are relevant, if yes is True\n",
    "        # Array containing for each result if it is relevant or not eg. Top5 [True, True, False, True, False]   \n",
    "        relevant_results = [isResultRelevant(querySong['genre'], genres) for genres in top['genre'].values]\n",
    "    \n",
    "        REL = np.sum(relevant_results)\n",
    "        # print([relevant_results[i] * (np.sum(relevant_results[:i+1]) / (i+1))   for i in range(topNumber)])\n",
    "        if REL == 0: # Case when there is no relevant result in the top@K\n",
    "            AP = 0\n",
    "        else:\n",
    "            AP = (1/REL) * np.sum([relevant_results[i] * (np.sum(relevant_results[:i+1]) / (i+1))   for i in range(topNumber)])\n",
    "        \n",
    "        AP_.append(AP)\n",
    "        \n",
    "    return np.mean(AP_)"
   ]
  },
  {
   "cell_type": "code",
   "execution_count": 57,
   "metadata": {},
   "outputs": [
    {
     "name": "stdout",
     "output_type": "stream",
     "text": [
      "MAP@10  : 0.6149470899470899\n",
      "MAP@100 : 0.49664190904709304\n"
     ]
    }
   ],
   "source": [
    "p10 = meanAveragePrecision(df_innerProductDistance_bert, 10)\n",
    "p100 = meanAveragePrecision(df_innerProductDistance_bert, 100)\n",
    "print(\"MAP@10  :\", p10)\n",
    "print(\"MAP@100 :\", p100)"
   ]
  },
  {
   "cell_type": "code",
   "execution_count": 58,
   "metadata": {},
   "outputs": [
    {
     "name": "stdout",
     "output_type": "stream",
     "text": [
      "MAP@10  : 0.562347507038242\n",
      "MAP@100 : 0.5021999875537271\n"
     ]
    }
   ],
   "source": [
    "p10 = meanAveragePrecision(df_jaccardDistance_word2vec, 10)\n",
    "p100 = meanAveragePrecision(df_jaccardDistance_word2vec, 100)\n",
    "print(\"MAP@10  :\", p10)\n",
    "print(\"MAP@100 :\", p100)"
   ]
  },
  {
   "cell_type": "code",
   "execution_count": 59,
   "metadata": {},
   "outputs": [
    {
     "name": "stdout",
     "output_type": "stream",
     "text": [
      "MAP@10  : 0.6682931783824639\n",
      "MAP@100 : 0.6048157259403416\n"
     ]
    }
   ],
   "source": [
    "p10 = meanAveragePrecision(df_cosineDistance_tfidf, 10)\n",
    "p100 = meanAveragePrecision(df_cosineDistance_tfidf, 100)\n",
    "print(\"MAP@10  :\", p10)\n",
    "print(\"MAP@100 :\", p100)"
   ]
  },
  {
   "cell_type": "markdown",
   "metadata": {},
   "source": [
    "## MRR"
   ]
  },
  {
   "cell_type": "code",
   "execution_count": 60,
   "metadata": {},
   "outputs": [],
   "source": [
    "def meanReciprocalRank(dfQueries, topNumber):\n",
    "    RR = []\n",
    "    for query in dfQueries.columns.values: # For each query done\n",
    "#         print(query)\n",
    "        querySong = getTopValues(query, dfQueries).loc[query] # Data of song queried\n",
    "        top = getTopValues(query, dfQueries).drop(axis=0, index=[query]).head(topNumber) # Top n songs values\n",
    "        # Get if each of the results are relevant, if yes is True\n",
    "        # Array containing for each result if it is relevant or not eg. Top5 [True, True, False, True, False]   \n",
    "        relevant_results = [isResultRelevant(querySong['genre'], genres) for genres in top['genre'].values]\n",
    "#         print(relevant_results)\n",
    "        \n",
    "        if True in relevant_results:\n",
    "            min_idx_rel = relevant_results.index(True) + 1\n",
    "            RR.append(1/min_idx_rel)\n",
    "        else: # Case when there is no relevant result in the top@K\n",
    "            RR.append(0)\n",
    "            \n",
    "        # print(min_idx_rel)\n",
    "       \n",
    "    return np.mean(RR)"
   ]
  },
  {
   "cell_type": "code",
   "execution_count": 61,
   "metadata": {},
   "outputs": [
    {
     "name": "stdout",
     "output_type": "stream",
     "text": [
      "MRR@10  : 0.6666666666666666\n",
      "MRR@100 : 0.6666666666666666\n"
     ]
    }
   ],
   "source": [
    "mrr10 = meanReciprocalRank(df_innerProductDistance_bert, 10)\n",
    "mrr100 = meanReciprocalRank(df_innerProductDistance_bert, 100)\n",
    "print(\"MRR@10  :\", mrr10)\n",
    "print(\"MRR@100 :\", mrr100)"
   ]
  },
  {
   "cell_type": "code",
   "execution_count": 62,
   "metadata": {},
   "outputs": [
    {
     "name": "stdout",
     "output_type": "stream",
     "text": [
      "MRR@10  : 0.677536231884058\n",
      "MRR@100 : 0.6850244270300372\n"
     ]
    }
   ],
   "source": [
    "mrr10 = meanReciprocalRank(df_jaccardDistance_word2vec, 10)\n",
    "mrr100 = meanReciprocalRank(df_jaccardDistance_word2vec, 100)\n",
    "print(\"MRR@10  :\", mrr10)\n",
    "print(\"MRR@100 :\", mrr100)"
   ]
  },
  {
   "cell_type": "code",
   "execution_count": 63,
   "metadata": {},
   "outputs": [
    {
     "name": "stdout",
     "output_type": "stream",
     "text": [
      "MRR@10  : 0.8061224489795918\n",
      "MRR@100 : 0.8061224489795918\n"
     ]
    }
   ],
   "source": [
    "mrr10 = meanReciprocalRank(df_cosineDistance_tfidf, 10)\n",
    "mrr100 = meanReciprocalRank(df_cosineDistance_tfidf, 100)\n",
    "print(\"MRR@10  :\", mrr10)\n",
    "print(\"MRR@100 :\", mrr100)"
   ]
  },
  {
   "cell_type": "markdown",
   "metadata": {},
   "source": [
    "## nDCG"
   ]
  },
  {
   "cell_type": "code",
   "execution_count": 64,
   "metadata": {},
   "outputs": [],
   "source": [
    "# Gain for the user is considered with the genre, if the song retrieved contains the genre the gain will be 1, \n",
    "# if not 0.\n",
    "\n",
    "# Also the gain could be considered in descending order from k,..., 0\n",
    "\n",
    "# For example:\n",
    "# Given the array of results marked as relevant  [1, 0, 0, 1, 1] for @k = @5\n",
    "# For the first consideration the user gain will be the same d1(1), d2(0), d3(0), d4(1), d5(1)\n",
    "\n",
    "# Not implemented\n",
    "# For the second one the user gain could be d1(5), d2(0), d3(0), d4(4), d5(3),\n",
    "# reducing in one the relevance everytime a new relevant doc appears\n",
    "\n",
    "def ndcgMean(dfQueries, topNumber):\n",
    "    ndcg = []\n",
    "    for query in dfQueries.columns.values: # For each query done\n",
    "        querySong = getTopValues(query, dfQueries).loc[query] # Data of song queried\n",
    "        top = getTopValues(query, dfQueries).drop(axis=0, index=[query]).head(topNumber) # Top n songs values\n",
    "        # Get if each of the results are relevant, if yes is True\n",
    "        # Array containing for each result if it is relevant or not eg. Top5 [True, True, False, True, False]   \n",
    "        relevant_results = [isResultRelevant(querySong['genre'], genres) for genres in top['genre'].values]\n",
    "        sorted_results = sorted(relevant_results, reverse=True)\n",
    "        # print(relevant_results)\n",
    "        # print(sorted_results)\n",
    "        # print(\".........\")\n",
    "        dcg = np.sum([ res/np.log2(i+1) if i+1 > 1 else float(res) for i,res in enumerate(relevant_results)])\n",
    "        # print([ res/np.log2(i+1) if i+1 > 1 else float(res) for i,res in enumerate(relevant_results)])\n",
    "        idcg = np.sum([ res/np.log2(i+1) if i+1 > 1 else float(res) for i,res in enumerate(sorted_results)])\n",
    "        if idcg == 0: # Case when there is no relevant result in the top@K\n",
    "            ndcg.append(0)\n",
    "        else:\n",
    "            ndcg.append(dcg / idcg)\n",
    "#         print(dcg, idcg)\n",
    "      \n",
    "        \n",
    "    return (ndcg, np.mean(ndcg))"
   ]
  },
  {
   "cell_type": "code",
   "execution_count": 65,
   "metadata": {},
   "outputs": [
    {
     "name": "stdout",
     "output_type": "stream",
     "text": [
      "NDCG@10  : 0.783060751802182\n",
      "NDCG@100 : 0.791442108944539\n"
     ]
    }
   ],
   "source": [
    "_, ndcg10 = ndcgMean(df_innerProductDistance_bert, 10)\n",
    "_, ndcg100 = ndcgMean(df_innerProductDistance_bert, 100)\n",
    "print(\"NDCG@10  :\", ndcg10)\n",
    "print(\"NDCG@100 :\", ndcg100)"
   ]
  },
  {
   "cell_type": "code",
   "execution_count": 66,
   "metadata": {},
   "outputs": [
    {
     "name": "stdout",
     "output_type": "stream",
     "text": [
      "NDCG@10  : 0.6324209373878787\n",
      "NDCG@100 : 0.7147653300465455\n"
     ]
    }
   ],
   "source": [
    "_, ndcg10 = ndcgMean(df_jaccardDistance_word2vec, 10)\n",
    "_, ndcg100 = ndcgMean(df_jaccardDistance_word2vec, 100)\n",
    "print(\"NDCG@10  :\", ndcg10)\n",
    "print(\"NDCG@100 :\", ndcg100)"
   ]
  },
  {
   "cell_type": "code",
   "execution_count": 67,
   "metadata": {},
   "outputs": [
    {
     "name": "stdout",
     "output_type": "stream",
     "text": [
      "NDCG@10  : 0.7855969047342278\n",
      "NDCG@100 : 0.8305503150056186\n"
     ]
    }
   ],
   "source": [
    "_, ndcg10 = ndcgMean(df_cosineDistance_tfidf, 10)\n",
    "_, ndcg100 = ndcgMean(df_cosineDistance_tfidf, 100)\n",
    "print(\"NDCG@10  :\", ndcg10)\n",
    "print(\"NDCG@100 :\", ndcg100)"
   ]
  },
  {
   "cell_type": "markdown",
   "metadata": {
    "tags": []
   },
   "source": [
    "## Create a Test Set since 76115 songs is to much to compute at once."
   ]
  },
  {
   "cell_type": "code",
   "execution_count": 69,
   "metadata": {},
   "outputs": [
    {
     "data": {
      "text/plain": [
       "array([33242, 58825, 41772, 18438, 68103, 22258, 57629, 11254, 52569,\n",
       "       65490, 48725, 41582,  2832, 55840, 39186, 69977, 19611, 47349,\n",
       "       23075, 52546, 44807, 74198,  7097, 49243,  8859, 28290, 34698,\n",
       "       16083, 31892, 10404, 61823, 56693, 74112, 28578, 36058, 28680,\n",
       "       35845, 43405, 52903,  7841, 15413,  1601, 26073, 37439,  2840,\n",
       "       63330,  6346, 40293, 11975, 15719, 74571,  6120, 11201, 53128,\n",
       "        4793, 67930, 23608, 66746, 47187, 16386, 47070, 14400, 53202,\n",
       "        1268, 64612, 20173, 68989, 56734, 54160, 44644, 25702,  8935,\n",
       "       49625, 34132, 12206, 61110,  6639, 40785, 69203, 67148, 36664,\n",
       "       31263, 58140, 49016, 45172, 13820, 47910, 66012, 65470, 58940,\n",
       "       61139, 44117, 12688, 44026, 40620, 54072, 52684, 60328, 70572,\n",
       "       33408])"
      ]
     },
     "execution_count": 69,
     "metadata": {},
     "output_type": "execute_result"
    }
   ],
   "source": [
    "np.random.seed = 101\n",
    "indicies_test = np.random.randint(0, len(info), size=100, dtype=int)\n",
    "indicies_test"
   ]
  },
  {
   "cell_type": "code",
   "execution_count": 70,
   "metadata": {},
   "outputs": [],
   "source": [
    "song_id_test = info.iloc[indicies_test].index.tolist()"
   ]
  },
  {
   "cell_type": "markdown",
   "metadata": {},
   "source": [
    "### Jaccard formulation with word2vec"
   ]
  },
  {
   "cell_type": "code",
   "execution_count": 71,
   "metadata": {},
   "outputs": [
    {
     "name": "stderr",
     "output_type": "stream",
     "text": [
      "  0%|          | 0/100 [00:00<?, ?it/s]V:\\Temp\\ipykernel_30540\\3502656753.py:4: NumbaPerformanceWarning: \u001b[1m\u001b[1m\u001b[1m'@' is faster on contiguous arrays, called on (array(float64, 1d, C), array(float64, 1d, A))\u001b[0m\u001b[0m\u001b[0m\n",
      "  return [similarity_function(v, df[index]) for index,song in enumerate(songs)]\n",
      "V:\\Temp\\ipykernel_30540\\3502656753.py:4: NumbaPerformanceWarning: \u001b[1m\u001b[1m'@' is faster on contiguous arrays, called on (array(float64, 1d, C), array(float64, 1d, A))\u001b[0m\u001b[0m\n",
      "  return [similarity_function(v, df[index]) for index,song in enumerate(songs)]\n",
      " 99%|█████████▉| 99/100 [00:20<00:00,  4.98it/s]V:\\Temp\\ipykernel_30540\\3502656753.py:14: PerformanceWarning: DataFrame is highly fragmented.  This is usually the result of calling `frame.insert` many times, which has poor performance.  Consider joining all columns at once using pd.concat(axis=1) instead. To get a de-fragmented frame, use `newframe = frame.copy()`\n",
      "  df[idSong]  = distances\n",
      "100%|██████████| 100/100 [00:20<00:00,  4.88it/s]\n"
     ]
    }
   ],
   "source": [
    "for i in tqdm(song_id_test):\n",
    "    distanceToSongs(i, jaccard_formulation, df_jaccardDistance_word2vec, word2vec)"
   ]
  },
  {
   "cell_type": "markdown",
   "metadata": {},
   "source": [
    "### Jaccard formulation with tfidf"
   ]
  },
  {
   "cell_type": "code",
   "execution_count": 72,
   "metadata": {},
   "outputs": [
    {
     "name": "stderr",
     "output_type": "stream",
     "text": [
      " 99%|█████████▉| 99/100 [01:03<00:00,  1.55it/s]V:\\Temp\\ipykernel_30540\\3502656753.py:14: PerformanceWarning: DataFrame is highly fragmented.  This is usually the result of calling `frame.insert` many times, which has poor performance.  Consider joining all columns at once using pd.concat(axis=1) instead. To get a de-fragmented frame, use `newframe = frame.copy()`\n",
      "  df[idSong]  = distances\n",
      "100%|██████████| 100/100 [01:04<00:00,  1.56it/s]\n"
     ]
    }
   ],
   "source": [
    "for i in tqdm(song_id_test):\n",
    "    distanceToSongs(i, jaccard_formulation, df_jaccardDistance_tfidf, tf_idf)"
   ]
  },
  {
   "cell_type": "markdown",
   "metadata": {},
   "source": [
    "### Jaccard formulation with bert"
   ]
  },
  {
   "cell_type": "code",
   "execution_count": 73,
   "metadata": {},
   "outputs": [
    {
     "name": "stderr",
     "output_type": "stream",
     "text": [
      " 99%|█████████▉| 99/100 [00:51<00:00,  1.96it/s]V:\\Temp\\ipykernel_30540\\3502656753.py:14: PerformanceWarning: DataFrame is highly fragmented.  This is usually the result of calling `frame.insert` many times, which has poor performance.  Consider joining all columns at once using pd.concat(axis=1) instead. To get a de-fragmented frame, use `newframe = frame.copy()`\n",
      "  df[idSong]  = distances\n",
      "100%|██████████| 100/100 [00:52<00:00,  1.91it/s]\n"
     ]
    }
   ],
   "source": [
    "for i in tqdm(song_id_test):\n",
    "    distanceToSongs(i, jaccard_formulation, df_jaccardDistance_bert, bert)"
   ]
  },
  {
   "cell_type": "markdown",
   "metadata": {},
   "source": [
    "### Cosine Similarity with word2vec"
   ]
  },
  {
   "cell_type": "code",
   "execution_count": 74,
   "metadata": {},
   "outputs": [
    {
     "name": "stderr",
     "output_type": "stream",
     "text": [
      " 99%|█████████▉| 99/100 [00:17<00:00,  5.82it/s]V:\\Temp\\ipykernel_30540\\3502656753.py:14: PerformanceWarning: DataFrame is highly fragmented.  This is usually the result of calling `frame.insert` many times, which has poor performance.  Consider joining all columns at once using pd.concat(axis=1) instead. To get a de-fragmented frame, use `newframe = frame.copy()`\n",
      "  df[idSong]  = distances\n",
      "100%|██████████| 100/100 [00:17<00:00,  5.78it/s]\n"
     ]
    }
   ],
   "source": [
    "for i in tqdm(song_id_test):\n",
    "    distanceToSongs(i, cosine_similarity, df_cosineDistance_word2vec, word2vec)"
   ]
  },
  {
   "cell_type": "markdown",
   "metadata": {},
   "source": [
    "### Cosine Similarity with tfidf"
   ]
  },
  {
   "cell_type": "code",
   "execution_count": 75,
   "metadata": {},
   "outputs": [
    {
     "name": "stderr",
     "output_type": "stream",
     "text": [
      " 99%|█████████▉| 99/100 [00:53<00:00,  1.86it/s]V:\\Temp\\ipykernel_30540\\3502656753.py:14: PerformanceWarning: DataFrame is highly fragmented.  This is usually the result of calling `frame.insert` many times, which has poor performance.  Consider joining all columns at once using pd.concat(axis=1) instead. To get a de-fragmented frame, use `newframe = frame.copy()`\n",
      "  df[idSong]  = distances\n",
      "100%|██████████| 100/100 [00:54<00:00,  1.84it/s]\n"
     ]
    }
   ],
   "source": [
    "for i in tqdm(song_id_test):\n",
    "    distanceToSongs(i, cosine_similarity, df_cosineDistance_tfidf, tf_idf)"
   ]
  },
  {
   "cell_type": "markdown",
   "metadata": {},
   "source": [
    "### Cosine Similarity with bert"
   ]
  },
  {
   "cell_type": "code",
   "execution_count": 76,
   "metadata": {},
   "outputs": [
    {
     "name": "stderr",
     "output_type": "stream",
     "text": [
      " 99%|█████████▉| 99/100 [00:43<00:00,  2.32it/s]V:\\Temp\\ipykernel_30540\\3502656753.py:14: PerformanceWarning: DataFrame is highly fragmented.  This is usually the result of calling `frame.insert` many times, which has poor performance.  Consider joining all columns at once using pd.concat(axis=1) instead. To get a de-fragmented frame, use `newframe = frame.copy()`\n",
      "  df[idSong]  = distances\n",
      "100%|██████████| 100/100 [00:43<00:00,  2.31it/s]\n"
     ]
    }
   ],
   "source": [
    "for i in tqdm(song_id_test):\n",
    "    distanceToSongs(i, cosine_similarity, df_cosineDistance_bert, bert)"
   ]
  },
  {
   "cell_type": "code",
   "execution_count": 77,
   "metadata": {},
   "outputs": [],
   "source": [
    "# save Data\n",
    "saveDataToFile()"
   ]
  },
  {
   "cell_type": "code",
   "execution_count": null,
   "metadata": {},
   "outputs": [],
   "source": []
  }
 ],
 "metadata": {
  "kernelspec": {
   "display_name": "Python 3 (ipykernel)",
   "language": "python",
   "name": "python3"
  },
  "language_info": {
   "codemirror_mode": {
    "name": "ipython",
    "version": 3
   },
   "file_extension": ".py",
   "mimetype": "text/x-python",
   "name": "python",
   "nbconvert_exporter": "python",
   "pygments_lexer": "ipython3",
   "version": "3.9.13"
  }
 },
 "nbformat": 4,
 "nbformat_minor": 4
}
