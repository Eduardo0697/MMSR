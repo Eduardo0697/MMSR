{
 "cells": [
  {
   "cell_type": "code",
   "execution_count": 1,
   "metadata": {},
   "outputs": [],
   "source": [
    "import pandas as pd\n",
    "import numpy as np\n",
    "from os.path import exists\n",
    "import re"
   ]
  },
  {
   "cell_type": "code",
   "execution_count": 2,
   "metadata": {},
   "outputs": [
    {
     "data": {
      "text/html": [
       "<div>\n",
       "<style scoped>\n",
       "    .dataframe tbody tr th:only-of-type {\n",
       "        vertical-align: middle;\n",
       "    }\n",
       "\n",
       "    .dataframe tbody tr th {\n",
       "        vertical-align: top;\n",
       "    }\n",
       "\n",
       "    .dataframe thead th {\n",
       "        text-align: right;\n",
       "    }\n",
       "</style>\n",
       "<table border=\"1\" class=\"dataframe\">\n",
       "  <thead>\n",
       "    <tr style=\"text-align: right;\">\n",
       "      <th></th>\n",
       "      <th>abl</th>\n",
       "      <th>accept</th>\n",
       "      <th>across</th>\n",
       "      <th>act</th>\n",
       "      <th>addict</th>\n",
       "      <th>afraid</th>\n",
       "      <th>age</th>\n",
       "      <th>ago</th>\n",
       "      <th>ah</th>\n",
       "      <th>ahead</th>\n",
       "      <th>...</th>\n",
       "      <th>yea</th>\n",
       "      <th>yeah</th>\n",
       "      <th>year</th>\n",
       "      <th>yellow</th>\n",
       "      <th>yes</th>\n",
       "      <th>yesterday</th>\n",
       "      <th>yet</th>\n",
       "      <th>yo</th>\n",
       "      <th>young</th>\n",
       "      <th>youth</th>\n",
       "    </tr>\n",
       "    <tr>\n",
       "      <th>id</th>\n",
       "      <th></th>\n",
       "      <th></th>\n",
       "      <th></th>\n",
       "      <th></th>\n",
       "      <th></th>\n",
       "      <th></th>\n",
       "      <th></th>\n",
       "      <th></th>\n",
       "      <th></th>\n",
       "      <th></th>\n",
       "      <th></th>\n",
       "      <th></th>\n",
       "      <th></th>\n",
       "      <th></th>\n",
       "      <th></th>\n",
       "      <th></th>\n",
       "      <th></th>\n",
       "      <th></th>\n",
       "      <th></th>\n",
       "      <th></th>\n",
       "      <th></th>\n",
       "    </tr>\n",
       "  </thead>\n",
       "  <tbody>\n",
       "    <tr>\n",
       "      <th>9jbSytob9XRzwvB6</th>\n",
       "      <td>0.0</td>\n",
       "      <td>0.0</td>\n",
       "      <td>0.0</td>\n",
       "      <td>0.0</td>\n",
       "      <td>0.0</td>\n",
       "      <td>0.000000</td>\n",
       "      <td>0.0</td>\n",
       "      <td>0.0</td>\n",
       "      <td>0.0</td>\n",
       "      <td>0.0</td>\n",
       "      <td>...</td>\n",
       "      <td>0.0</td>\n",
       "      <td>0.0</td>\n",
       "      <td>0.0</td>\n",
       "      <td>0.0</td>\n",
       "      <td>0.0</td>\n",
       "      <td>0.000000</td>\n",
       "      <td>0.0</td>\n",
       "      <td>0.0</td>\n",
       "      <td>0.0</td>\n",
       "      <td>0.150511</td>\n",
       "    </tr>\n",
       "    <tr>\n",
       "      <th>Njp6JPM8vitbhVJU</th>\n",
       "      <td>0.0</td>\n",
       "      <td>0.0</td>\n",
       "      <td>0.0</td>\n",
       "      <td>0.0</td>\n",
       "      <td>0.0</td>\n",
       "      <td>0.000000</td>\n",
       "      <td>0.0</td>\n",
       "      <td>0.0</td>\n",
       "      <td>0.0</td>\n",
       "      <td>0.0</td>\n",
       "      <td>...</td>\n",
       "      <td>0.0</td>\n",
       "      <td>0.0</td>\n",
       "      <td>0.0</td>\n",
       "      <td>0.0</td>\n",
       "      <td>0.0</td>\n",
       "      <td>0.000000</td>\n",
       "      <td>0.0</td>\n",
       "      <td>0.0</td>\n",
       "      <td>0.0</td>\n",
       "      <td>0.000000</td>\n",
       "    </tr>\n",
       "    <tr>\n",
       "      <th>h48f46ZsT9h0Z5Dm</th>\n",
       "      <td>0.0</td>\n",
       "      <td>0.0</td>\n",
       "      <td>0.0</td>\n",
       "      <td>0.0</td>\n",
       "      <td>0.0</td>\n",
       "      <td>0.000000</td>\n",
       "      <td>0.0</td>\n",
       "      <td>0.0</td>\n",
       "      <td>0.0</td>\n",
       "      <td>0.0</td>\n",
       "      <td>...</td>\n",
       "      <td>0.0</td>\n",
       "      <td>0.0</td>\n",
       "      <td>0.0</td>\n",
       "      <td>0.0</td>\n",
       "      <td>0.0</td>\n",
       "      <td>0.149783</td>\n",
       "      <td>0.0</td>\n",
       "      <td>0.0</td>\n",
       "      <td>0.0</td>\n",
       "      <td>0.000000</td>\n",
       "    </tr>\n",
       "    <tr>\n",
       "      <th>ZmXVK43zlqdeq6z8</th>\n",
       "      <td>0.0</td>\n",
       "      <td>0.0</td>\n",
       "      <td>0.0</td>\n",
       "      <td>0.0</td>\n",
       "      <td>0.0</td>\n",
       "      <td>0.000000</td>\n",
       "      <td>0.0</td>\n",
       "      <td>0.0</td>\n",
       "      <td>0.0</td>\n",
       "      <td>0.0</td>\n",
       "      <td>...</td>\n",
       "      <td>0.0</td>\n",
       "      <td>0.0</td>\n",
       "      <td>0.0</td>\n",
       "      <td>0.0</td>\n",
       "      <td>0.0</td>\n",
       "      <td>0.000000</td>\n",
       "      <td>0.0</td>\n",
       "      <td>0.0</td>\n",
       "      <td>0.0</td>\n",
       "      <td>0.000000</td>\n",
       "    </tr>\n",
       "    <tr>\n",
       "      <th>PV5EXN6AIVBqvsLO</th>\n",
       "      <td>0.0</td>\n",
       "      <td>0.0</td>\n",
       "      <td>0.0</td>\n",
       "      <td>0.0</td>\n",
       "      <td>0.0</td>\n",
       "      <td>0.327025</td>\n",
       "      <td>0.0</td>\n",
       "      <td>0.0</td>\n",
       "      <td>0.0</td>\n",
       "      <td>0.0</td>\n",
       "      <td>...</td>\n",
       "      <td>0.0</td>\n",
       "      <td>0.0</td>\n",
       "      <td>0.0</td>\n",
       "      <td>0.0</td>\n",
       "      <td>0.0</td>\n",
       "      <td>0.000000</td>\n",
       "      <td>0.0</td>\n",
       "      <td>0.0</td>\n",
       "      <td>0.0</td>\n",
       "      <td>0.000000</td>\n",
       "    </tr>\n",
       "  </tbody>\n",
       "</table>\n",
       "<p>5 rows × 1000 columns</p>\n",
       "</div>"
      ],
      "text/plain": [
       "                  abl  accept  across  act  addict    afraid  age  ago   ah  \\\n",
       "id                                                                            \n",
       "9jbSytob9XRzwvB6  0.0     0.0     0.0  0.0     0.0  0.000000  0.0  0.0  0.0   \n",
       "Njp6JPM8vitbhVJU  0.0     0.0     0.0  0.0     0.0  0.000000  0.0  0.0  0.0   \n",
       "h48f46ZsT9h0Z5Dm  0.0     0.0     0.0  0.0     0.0  0.000000  0.0  0.0  0.0   \n",
       "ZmXVK43zlqdeq6z8  0.0     0.0     0.0  0.0     0.0  0.000000  0.0  0.0  0.0   \n",
       "PV5EXN6AIVBqvsLO  0.0     0.0     0.0  0.0     0.0  0.327025  0.0  0.0  0.0   \n",
       "\n",
       "                  ahead  ...  yea  yeah  year  yellow  yes  yesterday  yet  \\\n",
       "id                       ...                                                 \n",
       "9jbSytob9XRzwvB6    0.0  ...  0.0   0.0   0.0     0.0  0.0   0.000000  0.0   \n",
       "Njp6JPM8vitbhVJU    0.0  ...  0.0   0.0   0.0     0.0  0.0   0.000000  0.0   \n",
       "h48f46ZsT9h0Z5Dm    0.0  ...  0.0   0.0   0.0     0.0  0.0   0.149783  0.0   \n",
       "ZmXVK43zlqdeq6z8    0.0  ...  0.0   0.0   0.0     0.0  0.0   0.000000  0.0   \n",
       "PV5EXN6AIVBqvsLO    0.0  ...  0.0   0.0   0.0     0.0  0.0   0.000000  0.0   \n",
       "\n",
       "                   yo  young     youth  \n",
       "id                                      \n",
       "9jbSytob9XRzwvB6  0.0    0.0  0.150511  \n",
       "Njp6JPM8vitbhVJU  0.0    0.0  0.000000  \n",
       "h48f46ZsT9h0Z5Dm  0.0    0.0  0.000000  \n",
       "ZmXVK43zlqdeq6z8  0.0    0.0  0.000000  \n",
       "PV5EXN6AIVBqvsLO  0.0    0.0  0.000000  \n",
       "\n",
       "[5 rows x 1000 columns]"
      ]
     },
     "execution_count": 2,
     "metadata": {},
     "output_type": "execute_result"
    }
   ],
   "source": [
    "tf_idf = pd.read_table(\"./../MMSR_WT22_Task1_Data/id_lyrics_tf-idf_mmsr.tsv\", index_col=\"id\")\n",
    "tf_idf.head()"
   ]
  },
  {
   "cell_type": "code",
   "execution_count": 3,
   "metadata": {},
   "outputs": [],
   "source": [
    "# Other Feature vectors to use\n",
    "word2vec = pd.read_table(\"./../MMSR_WT22_Task1_Data/id_lyrics_word2vec_mmsr.tsv\", index_col='id')\n",
    "bert = pd.read_table(\"./../MMSR_WT22_Task1_Data/id_bert_mmsr.tsv\", index_col='id')"
   ]
  },
  {
   "cell_type": "code",
   "execution_count": 4,
   "metadata": {},
   "outputs": [
    {
     "data": {
      "text/html": [
       "<div>\n",
       "<style scoped>\n",
       "    .dataframe tbody tr th:only-of-type {\n",
       "        vertical-align: middle;\n",
       "    }\n",
       "\n",
       "    .dataframe tbody tr th {\n",
       "        vertical-align: top;\n",
       "    }\n",
       "\n",
       "    .dataframe thead th {\n",
       "        text-align: right;\n",
       "    }\n",
       "</style>\n",
       "<table border=\"1\" class=\"dataframe\">\n",
       "  <thead>\n",
       "    <tr style=\"text-align: right;\">\n",
       "      <th></th>\n",
       "      <th>genre</th>\n",
       "    </tr>\n",
       "    <tr>\n",
       "      <th>id</th>\n",
       "      <th></th>\n",
       "    </tr>\n",
       "  </thead>\n",
       "  <tbody>\n",
       "    <tr>\n",
       "      <th>0009fFIM1eYThaPg</th>\n",
       "      <td>['pop']</td>\n",
       "    </tr>\n",
       "    <tr>\n",
       "      <th>0010xmHR6UICBOYT</th>\n",
       "      <td>['beats', 'underground hip hop', 'lo fi']</td>\n",
       "    </tr>\n",
       "    <tr>\n",
       "      <th>002Jyd0vN4HyCpqL</th>\n",
       "      <td>['hard rock', 'classic rock', 'rock', 'progres...</td>\n",
       "    </tr>\n",
       "    <tr>\n",
       "      <th>006TYKNjNxWjfKjy</th>\n",
       "      <td>['power metal', 'symphonic metal', 'symphonic ...</td>\n",
       "    </tr>\n",
       "    <tr>\n",
       "      <th>007LIJOPQ4Sb98qV</th>\n",
       "      <td>['post punk', 'new wave', 'dream pop', 'altern...</td>\n",
       "    </tr>\n",
       "  </tbody>\n",
       "</table>\n",
       "</div>"
      ],
      "text/plain": [
       "                                                              genre\n",
       "id                                                                 \n",
       "0009fFIM1eYThaPg                                            ['pop']\n",
       "0010xmHR6UICBOYT          ['beats', 'underground hip hop', 'lo fi']\n",
       "002Jyd0vN4HyCpqL  ['hard rock', 'classic rock', 'rock', 'progres...\n",
       "006TYKNjNxWjfKjy  ['power metal', 'symphonic metal', 'symphonic ...\n",
       "007LIJOPQ4Sb98qV  ['post punk', 'new wave', 'dream pop', 'altern..."
      ]
     },
     "execution_count": 4,
     "metadata": {},
     "output_type": "execute_result"
    }
   ],
   "source": [
    "genres = pd.read_table(\"./../MMSR_WT22_Task1_Data/id_genres_mmsr.tsv\", index_col=\"id\")\n",
    "\n",
    "genres.head()"
   ]
  },
  {
   "cell_type": "code",
   "execution_count": 5,
   "metadata": {},
   "outputs": [
    {
     "data": {
      "text/html": [
       "<div>\n",
       "<style scoped>\n",
       "    .dataframe tbody tr th:only-of-type {\n",
       "        vertical-align: middle;\n",
       "    }\n",
       "\n",
       "    .dataframe tbody tr th {\n",
       "        vertical-align: top;\n",
       "    }\n",
       "\n",
       "    .dataframe thead th {\n",
       "        text-align: right;\n",
       "    }\n",
       "</style>\n",
       "<table border=\"1\" class=\"dataframe\">\n",
       "  <thead>\n",
       "    <tr style=\"text-align: right;\">\n",
       "      <th></th>\n",
       "      <th>artist</th>\n",
       "      <th>song</th>\n",
       "      <th>album_name</th>\n",
       "    </tr>\n",
       "    <tr>\n",
       "      <th>id</th>\n",
       "      <th></th>\n",
       "      <th></th>\n",
       "      <th></th>\n",
       "    </tr>\n",
       "  </thead>\n",
       "  <tbody>\n",
       "    <tr>\n",
       "      <th>0009fFIM1eYThaPg</th>\n",
       "      <td>Cheryl</td>\n",
       "      <td>Rain on Me</td>\n",
       "      <td>3 Words</td>\n",
       "    </tr>\n",
       "    <tr>\n",
       "      <th>0010xmHR6UICBOYT</th>\n",
       "      <td>Oddisee</td>\n",
       "      <td>After Thoughts</td>\n",
       "      <td>The Beauty in All</td>\n",
       "    </tr>\n",
       "    <tr>\n",
       "      <th>002Jyd0vN4HyCpqL</th>\n",
       "      <td>Blue Öyster Cult</td>\n",
       "      <td>ME 262</td>\n",
       "      <td>Secret Treaties</td>\n",
       "    </tr>\n",
       "    <tr>\n",
       "      <th>006TYKNjNxWjfKjy</th>\n",
       "      <td>Rhapsody</td>\n",
       "      <td>Flames of Revenge</td>\n",
       "      <td>Legendary Years (Re-Recorded)</td>\n",
       "    </tr>\n",
       "    <tr>\n",
       "      <th>007LIJOPQ4Sb98qV</th>\n",
       "      <td>The Chameleons</td>\n",
       "      <td>Nostalgia</td>\n",
       "      <td>What Does Anything Mean? Basically (2009 Remas...</td>\n",
       "    </tr>\n",
       "  </tbody>\n",
       "</table>\n",
       "</div>"
      ],
      "text/plain": [
       "                            artist               song  \\\n",
       "id                                                      \n",
       "0009fFIM1eYThaPg            Cheryl         Rain on Me   \n",
       "0010xmHR6UICBOYT           Oddisee     After Thoughts   \n",
       "002Jyd0vN4HyCpqL  Blue Öyster Cult             ME 262   \n",
       "006TYKNjNxWjfKjy          Rhapsody  Flames of Revenge   \n",
       "007LIJOPQ4Sb98qV    The Chameleons          Nostalgia   \n",
       "\n",
       "                                                         album_name  \n",
       "id                                                                   \n",
       "0009fFIM1eYThaPg                                            3 Words  \n",
       "0010xmHR6UICBOYT                                  The Beauty in All  \n",
       "002Jyd0vN4HyCpqL                                    Secret Treaties  \n",
       "006TYKNjNxWjfKjy                      Legendary Years (Re-Recorded)  \n",
       "007LIJOPQ4Sb98qV  What Does Anything Mean? Basically (2009 Remas...  "
      ]
     },
     "execution_count": 5,
     "metadata": {},
     "output_type": "execute_result"
    }
   ],
   "source": [
    "info = pd.read_table(\"./../MMSR_WT22_Task1_Data/id_information_mmsr.tsv\", index_col=\"id\")\n",
    "info.head()"
   ]
  },
  {
   "cell_type": "code",
   "execution_count": null,
   "metadata": {},
   "outputs": [],
   "source": []
  },
  {
   "cell_type": "code",
   "execution_count": null,
   "metadata": {},
   "outputs": [],
   "source": []
  },
  {
   "cell_type": "code",
   "execution_count": 6,
   "metadata": {},
   "outputs": [
    {
     "data": {
      "text/plain": [
       "0"
      ]
     },
     "execution_count": 6,
     "metadata": {},
     "output_type": "execute_result"
    }
   ],
   "source": [
    "# Check if there is any null value in tf_idf values\n",
    "tf_idf.isnull().sum().sum()"
   ]
  },
  {
   "cell_type": "code",
   "execution_count": 7,
   "metadata": {},
   "outputs": [],
   "source": [
    "def cosine_similarity(d1, d2):\n",
    "    divisor = np.linalg.norm(d1) * np.linalg.norm(d2)\n",
    "    if divisor == 0:\n",
    "        return 0\n",
    "    return (d1 @ d2) / divisor"
   ]
  },
  {
   "cell_type": "code",
   "execution_count": 8,
   "metadata": {},
   "outputs": [],
   "source": [
    "def inner_product(d1, d2):\n",
    "    return (d1 @ d2) "
   ]
  },
  {
   "cell_type": "code",
   "execution_count": 9,
   "metadata": {},
   "outputs": [],
   "source": [
    "# I am not sure if it is correct\n",
    "def jaccard_formulation(d1, d2):\n",
    "    divisor = np.linalg.norm(d1) + np.linalg.norm(d2) - (d1 @ d2)\n",
    "    if divisor == 0:\n",
    "        return 0\n",
    "    return (d1 @ d2) / divisor"
   ]
  },
  {
   "cell_type": "code",
   "execution_count": 10,
   "metadata": {},
   "outputs": [
    {
     "name": "stdout",
     "output_type": "stream",
     "text": [
      "0.08598512652034522 0.12868134189383443\n"
     ]
    }
   ],
   "source": [
    "# Some calculations\n",
    "print(\n",
    "    cosine_similarity(tf_idf.iloc[0].values, tf_idf.iloc[2].values),\n",
    "    cosine_similarity(tf_idf.iloc[0].values, tf_idf.iloc[3].values)\n",
    ")"
   ]
  },
  {
   "cell_type": "code",
   "execution_count": null,
   "metadata": {},
   "outputs": [],
   "source": []
  },
  {
   "cell_type": "code",
   "execution_count": null,
   "metadata": {},
   "outputs": [],
   "source": []
  },
  {
   "cell_type": "code",
   "execution_count": 11,
   "metadata": {},
   "outputs": [],
   "source": [
    "# Matrix to store the values\n",
    "# cosine_sim = np.zeros((len(tf_idf.index),len(tf_idf.index)))\n",
    "\n",
    "# cosine_sim = np.zeros((len(tf_idf.index),len(tf_idf.index)))\n",
    "# print(cosine_sim.shape) # (76115, 76115) \n",
    "\n",
    "# To calculate the similarity between all songs\n",
    "# for row, id1 in enumerate(tf_idf.index):\n",
    "#     for col,id2 in enumerate(tf_idf.index):\n",
    "#         # print(row,col)\n",
    "#         cosine_sim[row,col] = cosine_similarity(tf_idf.loc[id1].values, tf_idf.loc[id2].values)"
   ]
  },
  {
   "cell_type": "code",
   "execution_count": 12,
   "metadata": {},
   "outputs": [],
   "source": [
    "def getSongIdByQuery(query):\n",
    "    artist, track =query.split(',')\n",
    "    id_ = info[(info['artist'] == artist) & (info['song'] == track)].index.values[0]\n",
    "    return id_"
   ]
  },
  {
   "cell_type": "code",
   "execution_count": 13,
   "metadata": {},
   "outputs": [],
   "source": [
    "# The index depends in the features vector, so it is better to assign \n",
    "# it depending on which feature vector we are using\n",
    "\n",
    "# change to bert.index or word2vec.index\n",
    "index_values = tf_idf.index\n",
    "\n",
    "if exists('cosine_distances_tfidf.csv'):\n",
    "    df_cosineDistance_tfidf = pd.read_csv(\"cosine_distances_tfidf.csv\", index_col=\"id\")\n",
    "else:\n",
    "    df_cosineDistance_tfidf = pd.DataFrame(index=index_values)\n",
    "    \n",
    "if exists('innerProduct_distances_tfidf.csv'):\n",
    "    df_innerProductDistance_tfidf = pd.read_csv(\"innerProduct_distances_tfidf.csv\", index_col=\"id\")\n",
    "else:\n",
    "    df_innerProductDistance_tfidf = pd.DataFrame(index=index_values)\n",
    "    \n",
    "if exists('jaccard_distances_tfidf.csv'):\n",
    "    df_jaccardDistance_tfidf = pd.read_csv(\"jaccard_distances_tfidf.csv\", index_col=\"id\")\n",
    "else:\n",
    "    df_jaccardDistance_tfidf = pd.DataFrame(index=index_values)\n",
    "    \n",
    "    \n",
    "index_values = word2vec.index\n",
    "\n",
    "if exists('cosine_distances_word2vec.csv'):\n",
    "    df_cosineDistance_word2vec = pd.read_csv(\"cosine_distances_word2vec.csv\", index_col=\"id\")\n",
    "else:\n",
    "    df_cosineDistance_word2vec = pd.DataFrame(index=index_values)\n",
    "    \n",
    "if exists('innerProduct_distances_word2vec.csv'):\n",
    "    df_innerProductDistance_word2vec = pd.read_csv(\"innerProduct_distances_word2vec.csv\", index_col=\"id\")\n",
    "else:\n",
    "    df_innerProductDistance_word2vec = pd.DataFrame(index=index_values)\n",
    "    \n",
    "if exists('jaccard_distances_word2vec.csv'):\n",
    "    df_jaccardDistance_word2vec = pd.read_csv(\"jaccard_distances_word2vec.csv\", index_col=\"id\")\n",
    "else:\n",
    "    df_jaccardDistance_word2vec = pd.DataFrame(index=index_values)\n",
    "    \n",
    "    \n",
    "index_values = bert.index\n",
    "\n",
    "if exists('cosine_distances_bert.csv'):\n",
    "    df_cosineDistance_bert = pd.read_csv(\"cosine_distances_bert.csv\", index_col=\"id\")\n",
    "else:\n",
    "    df_cosineDistance_bert = pd.DataFrame(index=index_values)\n",
    "    \n",
    "if exists('innerProduct_distances_bert.csv'):\n",
    "    df_innerProductDistance_bert = pd.read_csv(\"innerProduct_distances_bert.csv\", index_col=\"id\")\n",
    "else:\n",
    "    df_innerProductDistance_bert = pd.DataFrame(index=index_values)\n",
    "    \n",
    "if exists('jaccard_distances_bert.csv'):\n",
    "    df_jaccardDistance_bert = pd.read_csv(\"jaccard_distances_bert.csv\", index_col=\"id\")\n",
    "else:\n",
    "    df_jaccardDistance_bert = pd.DataFrame(index=index_values)"
   ]
  },
  {
   "cell_type": "code",
   "execution_count": null,
   "metadata": {},
   "outputs": [],
   "source": []
  },
  {
   "cell_type": "code",
   "execution_count": null,
   "metadata": {},
   "outputs": [],
   "source": []
  },
  {
   "cell_type": "code",
   "execution_count": 14,
   "metadata": {},
   "outputs": [
    {
     "data": {
      "text/html": [
       "<div>\n",
       "<style scoped>\n",
       "    .dataframe tbody tr th:only-of-type {\n",
       "        vertical-align: middle;\n",
       "    }\n",
       "\n",
       "    .dataframe tbody tr th {\n",
       "        vertical-align: top;\n",
       "    }\n",
       "\n",
       "    .dataframe thead th {\n",
       "        text-align: right;\n",
       "    }\n",
       "</style>\n",
       "<table border=\"1\" class=\"dataframe\">\n",
       "  <thead>\n",
       "    <tr style=\"text-align: right;\">\n",
       "      <th></th>\n",
       "      <th>007LIJOPQ4Sb98qV</th>\n",
       "      <th>0009fFIM1eYThaPg</th>\n",
       "      <th>wdAhzJrYFsHfCyCl</th>\n",
       "    </tr>\n",
       "    <tr>\n",
       "      <th>id</th>\n",
       "      <th></th>\n",
       "      <th></th>\n",
       "      <th></th>\n",
       "    </tr>\n",
       "  </thead>\n",
       "  <tbody>\n",
       "    <tr>\n",
       "      <th>9jbSytob9XRzwvB6</th>\n",
       "      <td>0.048452</td>\n",
       "      <td>0.006539</td>\n",
       "      <td>0.051474</td>\n",
       "    </tr>\n",
       "    <tr>\n",
       "      <th>Njp6JPM8vitbhVJU</th>\n",
       "      <td>0.001441</td>\n",
       "      <td>0.013563</td>\n",
       "      <td>0.009384</td>\n",
       "    </tr>\n",
       "    <tr>\n",
       "      <th>h48f46ZsT9h0Z5Dm</th>\n",
       "      <td>0.102718</td>\n",
       "      <td>0.015595</td>\n",
       "      <td>0.040152</td>\n",
       "    </tr>\n",
       "    <tr>\n",
       "      <th>ZmXVK43zlqdeq6z8</th>\n",
       "      <td>0.098409</td>\n",
       "      <td>0.015704</td>\n",
       "      <td>0.028695</td>\n",
       "    </tr>\n",
       "    <tr>\n",
       "      <th>PV5EXN6AIVBqvsLO</th>\n",
       "      <td>0.013196</td>\n",
       "      <td>0.017603</td>\n",
       "      <td>0.015591</td>\n",
       "    </tr>\n",
       "  </tbody>\n",
       "</table>\n",
       "</div>"
      ],
      "text/plain": [
       "                  007LIJOPQ4Sb98qV  0009fFIM1eYThaPg  wdAhzJrYFsHfCyCl\n",
       "id                                                                    \n",
       "9jbSytob9XRzwvB6          0.048452          0.006539          0.051474\n",
       "Njp6JPM8vitbhVJU          0.001441          0.013563          0.009384\n",
       "h48f46ZsT9h0Z5Dm          0.102718          0.015595          0.040152\n",
       "ZmXVK43zlqdeq6z8          0.098409          0.015704          0.028695\n",
       "PV5EXN6AIVBqvsLO          0.013196          0.017603          0.015591"
      ]
     },
     "execution_count": 14,
     "metadata": {},
     "output_type": "execute_result"
    }
   ],
   "source": [
    "\n",
    "df_cosineDistance_tfidf.head()"
   ]
  },
  {
   "cell_type": "code",
   "execution_count": null,
   "metadata": {},
   "outputs": [],
   "source": []
  },
  {
   "cell_type": "code",
   "execution_count": 15,
   "metadata": {},
   "outputs": [],
   "source": [
    "def distanceToSongs(idSong, similarity_function, df, features_vector):\n",
    "    if idSong in df.columns.values:\n",
    "        print(\"Already in data\")\n",
    "    else:\n",
    "        songs = features_vector.index.values\n",
    "        distances = [similarity_function(features_vector.loc[idSong], features_vector.loc[song]) for index,song in enumerate(songs)]\n",
    "        df[idSong]  = distances "
   ]
  },
  {
   "cell_type": "code",
   "execution_count": 16,
   "metadata": {},
   "outputs": [],
   "source": [
    "#df_cosineDistance['9jbSytob9XRzwvB6'] "
   ]
  },
  {
   "cell_type": "code",
   "execution_count": 17,
   "metadata": {},
   "outputs": [
    {
     "data": {
      "text/html": [
       "<div>\n",
       "<style scoped>\n",
       "    .dataframe tbody tr th:only-of-type {\n",
       "        vertical-align: middle;\n",
       "    }\n",
       "\n",
       "    .dataframe tbody tr th {\n",
       "        vertical-align: top;\n",
       "    }\n",
       "\n",
       "    .dataframe thead th {\n",
       "        text-align: right;\n",
       "    }\n",
       "</style>\n",
       "<table border=\"1\" class=\"dataframe\">\n",
       "  <thead>\n",
       "    <tr style=\"text-align: right;\">\n",
       "      <th></th>\n",
       "      <th>artist</th>\n",
       "      <th>song</th>\n",
       "      <th>album_name</th>\n",
       "    </tr>\n",
       "    <tr>\n",
       "      <th>id</th>\n",
       "      <th></th>\n",
       "      <th></th>\n",
       "      <th></th>\n",
       "    </tr>\n",
       "  </thead>\n",
       "  <tbody>\n",
       "    <tr>\n",
       "      <th>007LIJOPQ4Sb98qV</th>\n",
       "      <td>The Chameleons</td>\n",
       "      <td>Nostalgia</td>\n",
       "      <td>What Does Anything Mean? Basically (2009 Remas...</td>\n",
       "    </tr>\n",
       "  </tbody>\n",
       "</table>\n",
       "</div>"
      ],
      "text/plain": [
       "                          artist       song  \\\n",
       "id                                            \n",
       "007LIJOPQ4Sb98qV  The Chameleons  Nostalgia   \n",
       "\n",
       "                                                         album_name  \n",
       "id                                                                   \n",
       "007LIJOPQ4Sb98qV  What Does Anything Mean? Basically (2009 Remas...  "
      ]
     },
     "execution_count": 17,
     "metadata": {},
     "output_type": "execute_result"
    }
   ],
   "source": [
    "# User query \"The Chameleons, Nostalgia\"\n",
    "info[(info['artist'] == 'The Chameleons') & (info['song'] == 'Nostalgia')]"
   ]
  },
  {
   "cell_type": "code",
   "execution_count": 18,
   "metadata": {},
   "outputs": [
    {
     "name": "stdout",
     "output_type": "stream",
     "text": [
      "007LIJOPQ4Sb98qV\n",
      "Already in data\n"
     ]
    }
   ],
   "source": [
    "# Sample\n",
    "\n",
    "# artist,song\n",
    "id_song = getSongIdByQuery(\"The Chameleons,Nostalgia\")\n",
    "print(id_song)\n",
    "distanceToSongs(id_song, cosine_similarity, df_cosineDistance_tfidf, tf_idf)"
   ]
  },
  {
   "cell_type": "code",
   "execution_count": 19,
   "metadata": {},
   "outputs": [
    {
     "data": {
      "text/html": [
       "<div>\n",
       "<style scoped>\n",
       "    .dataframe tbody tr th:only-of-type {\n",
       "        vertical-align: middle;\n",
       "    }\n",
       "\n",
       "    .dataframe tbody tr th {\n",
       "        vertical-align: top;\n",
       "    }\n",
       "\n",
       "    .dataframe thead th {\n",
       "        text-align: right;\n",
       "    }\n",
       "</style>\n",
       "<table border=\"1\" class=\"dataframe\">\n",
       "  <thead>\n",
       "    <tr style=\"text-align: right;\">\n",
       "      <th></th>\n",
       "      <th>007LIJOPQ4Sb98qV</th>\n",
       "      <th>0009fFIM1eYThaPg</th>\n",
       "      <th>wdAhzJrYFsHfCyCl</th>\n",
       "    </tr>\n",
       "    <tr>\n",
       "      <th>id</th>\n",
       "      <th></th>\n",
       "      <th></th>\n",
       "      <th></th>\n",
       "    </tr>\n",
       "  </thead>\n",
       "  <tbody>\n",
       "    <tr>\n",
       "      <th>9jbSytob9XRzwvB6</th>\n",
       "      <td>0.048452</td>\n",
       "      <td>0.006539</td>\n",
       "      <td>0.051474</td>\n",
       "    </tr>\n",
       "    <tr>\n",
       "      <th>Njp6JPM8vitbhVJU</th>\n",
       "      <td>0.001441</td>\n",
       "      <td>0.013563</td>\n",
       "      <td>0.009384</td>\n",
       "    </tr>\n",
       "    <tr>\n",
       "      <th>h48f46ZsT9h0Z5Dm</th>\n",
       "      <td>0.102718</td>\n",
       "      <td>0.015595</td>\n",
       "      <td>0.040152</td>\n",
       "    </tr>\n",
       "    <tr>\n",
       "      <th>ZmXVK43zlqdeq6z8</th>\n",
       "      <td>0.098409</td>\n",
       "      <td>0.015704</td>\n",
       "      <td>0.028695</td>\n",
       "    </tr>\n",
       "    <tr>\n",
       "      <th>PV5EXN6AIVBqvsLO</th>\n",
       "      <td>0.013196</td>\n",
       "      <td>0.017603</td>\n",
       "      <td>0.015591</td>\n",
       "    </tr>\n",
       "  </tbody>\n",
       "</table>\n",
       "</div>"
      ],
      "text/plain": [
       "                  007LIJOPQ4Sb98qV  0009fFIM1eYThaPg  wdAhzJrYFsHfCyCl\n",
       "id                                                                    \n",
       "9jbSytob9XRzwvB6          0.048452          0.006539          0.051474\n",
       "Njp6JPM8vitbhVJU          0.001441          0.013563          0.009384\n",
       "h48f46ZsT9h0Z5Dm          0.102718          0.015595          0.040152\n",
       "ZmXVK43zlqdeq6z8          0.098409          0.015704          0.028695\n",
       "PV5EXN6AIVBqvsLO          0.013196          0.017603          0.015591"
      ]
     },
     "execution_count": 19,
     "metadata": {},
     "output_type": "execute_result"
    }
   ],
   "source": [
    "df_cosineDistance_tfidf.head()"
   ]
  },
  {
   "cell_type": "code",
   "execution_count": 20,
   "metadata": {},
   "outputs": [
    {
     "name": "stdout",
     "output_type": "stream",
     "text": [
      "Already in data\n",
      "Already in data\n"
     ]
    }
   ],
   "source": [
    "distanceToSongs(getSongIdByQuery(\"Cheryl,Rain on Me\"), cosine_similarity, df_cosineDistance_tfidf, tf_idf)\n",
    "distanceToSongs(getSongIdByQuery(\"Doda,Riotka\"), cosine_similarity, df_cosineDistance_tfidf, tf_idf)"
   ]
  },
  {
   "cell_type": "code",
   "execution_count": null,
   "metadata": {},
   "outputs": [],
   "source": []
  },
  {
   "cell_type": "code",
   "execution_count": 21,
   "metadata": {},
   "outputs": [
    {
     "name": "stdout",
     "output_type": "stream",
     "text": [
      "50\n",
      "20\n"
     ]
    }
   ],
   "source": [
    "# Default width of column and number of columns\n",
    "print(pd.options.display.max_colwidth)\n",
    "print(pd.options.display.max_columns)"
   ]
  },
  {
   "cell_type": "code",
   "execution_count": 22,
   "metadata": {},
   "outputs": [],
   "source": [
    "# Set values to None to displau all the data\n",
    "# pd.set_option(\"max_columns\", None) #In some versions raises an error\n",
    "# pd.set_option(\"max_colwidth\", None)\n",
    "\n",
    "pd.options.display.max_colwidth = None\n",
    "pd.options.display.max_columns = None"
   ]
  },
  {
   "cell_type": "code",
   "execution_count": 23,
   "metadata": {},
   "outputs": [],
   "source": [
    "def getTopValues(idSong, df_metricUsed):\n",
    "    top_values = df_metricUsed[idSong].sort_values(ascending=False)\n",
    "    return genres.loc[top_values.index].join(info, on=\"id\", how=\"left\")"
   ]
  },
  {
   "cell_type": "code",
   "execution_count": 24,
   "metadata": {},
   "outputs": [
    {
     "data": {
      "text/html": [
       "<div>\n",
       "<style scoped>\n",
       "    .dataframe tbody tr th:only-of-type {\n",
       "        vertical-align: middle;\n",
       "    }\n",
       "\n",
       "    .dataframe tbody tr th {\n",
       "        vertical-align: top;\n",
       "    }\n",
       "\n",
       "    .dataframe thead th {\n",
       "        text-align: right;\n",
       "    }\n",
       "</style>\n",
       "<table border=\"1\" class=\"dataframe\">\n",
       "  <thead>\n",
       "    <tr style=\"text-align: right;\">\n",
       "      <th></th>\n",
       "      <th>genre</th>\n",
       "      <th>artist</th>\n",
       "      <th>song</th>\n",
       "      <th>album_name</th>\n",
       "    </tr>\n",
       "    <tr>\n",
       "      <th>id</th>\n",
       "      <th></th>\n",
       "      <th></th>\n",
       "      <th></th>\n",
       "      <th></th>\n",
       "    </tr>\n",
       "  </thead>\n",
       "  <tbody>\n",
       "    <tr>\n",
       "      <th>007LIJOPQ4Sb98qV</th>\n",
       "      <td>['post punk', 'new wave', 'dream pop', 'alternative rock', 'madchester', 'rock']</td>\n",
       "      <td>The Chameleons</td>\n",
       "      <td>Nostalgia</td>\n",
       "      <td>What Does Anything Mean? Basically (2009 Remaster)</td>\n",
       "    </tr>\n",
       "    <tr>\n",
       "      <th>fqotTYeTLpnRj3lF</th>\n",
       "      <td>['pop', 'teen pop', 'rock', 'pop rock', 'disney', 'hip hop', 'grunge', 'alternative rock', 'rap', 'power pop', 'singer songwriter', 'synthpop']</td>\n",
       "      <td>Hilary Duff</td>\n",
       "      <td>So Yesterday</td>\n",
       "      <td>Metamorphosis</td>\n",
       "    </tr>\n",
       "    <tr>\n",
       "      <th>E7t3Y9cW86HLOFZp</th>\n",
       "      <td>['electronica', 'electro', 'disco', 'funk', 'house', 'indietronica', 'dance rock', 'rock', 'electropop', 'indie rock', 'indie pop', 'electro house', 'space rock', 'pop', 'techno', 'beats', 'disco house', 'indie electronica', 'dance punk', 'background music']</td>\n",
       "      <td>Midnight Juggernauts</td>\n",
       "      <td>Shadows</td>\n",
       "      <td>Shadows</td>\n",
       "    </tr>\n",
       "    <tr>\n",
       "      <th>wdAhzJrYFsHfCyCl</th>\n",
       "      <td>['electropop', 'pop', 'synthpop']</td>\n",
       "      <td>Doda</td>\n",
       "      <td>Riotka</td>\n",
       "      <td>Riotka</td>\n",
       "    </tr>\n",
       "    <tr>\n",
       "      <th>wbUm7Kdu4u7CSG39</th>\n",
       "      <td>['disco', 'singer songwriter', 'classic soul']</td>\n",
       "      <td>Grace Jones</td>\n",
       "      <td>Tomorrow</td>\n",
       "      <td>Portfolio</td>\n",
       "    </tr>\n",
       "    <tr>\n",
       "      <th>8crboBOJbzovC9SC</th>\n",
       "      <td>['psychedelic rock']</td>\n",
       "      <td>Ulver</td>\n",
       "      <td>Where Is Yesterday</td>\n",
       "      <td>Childhood's End</td>\n",
       "    </tr>\n",
       "    <tr>\n",
       "      <th>gcFfKAX8vSRWOtqk</th>\n",
       "      <td>['psychedelic rock', 'experimental', 'rock', 'art rock', 'classic rock', 'baroque', 'choral', 'baroque pop', 'psychedelic pop', 'gregorian chant']</td>\n",
       "      <td>The United States of America</td>\n",
       "      <td>Where Is Yesterday</td>\n",
       "      <td>The United States Of America</td>\n",
       "    </tr>\n",
       "    <tr>\n",
       "      <th>ExbzgBOxVe8jTGKx</th>\n",
       "      <td>['pop', 'singer songwriter', 'rumba']</td>\n",
       "      <td>Colbie Caillat</td>\n",
       "      <td>Like Yesterday</td>\n",
       "      <td>All Of You</td>\n",
       "    </tr>\n",
       "    <tr>\n",
       "      <th>qSEy5OiW84jPqQb5</th>\n",
       "      <td>['classic rock', 'rock', 'pop rock', 'pop', 'soft rock', 'hard rock', 'progressive rock', 'new wave', 'easy listening', 'metal', 'alternative rock', 'singer songwriter', 'album rock', 'glam metal']</td>\n",
       "      <td>Foreigner</td>\n",
       "      <td>That Was Yesterday</td>\n",
       "      <td>Agent Provocateur</td>\n",
       "    </tr>\n",
       "    <tr>\n",
       "      <th>WWvFN9dBhrf255ar</th>\n",
       "      <td>['rock', 'alternative rock', 'polish rock', 'punk', 'blues rock', 'ska']</td>\n",
       "      <td>happysad</td>\n",
       "      <td>Taką wodą być</td>\n",
       "      <td>Mów mi dobrze</td>\n",
       "    </tr>\n",
       "    <tr>\n",
       "      <th>LBUErWY7L9XEkM3b</th>\n",
       "      <td>['rock en espanol', 'latin', 'latin rock', 'pop', 'rock', 'pop rock', 'latin pop', 'latin alternative', 'electronica', 'britpop', 'lounge', 'spanish rock']</td>\n",
       "      <td>Soda Stereo</td>\n",
       "      <td>Paseando por Roma</td>\n",
       "      <td>Sueño Stereo</td>\n",
       "    </tr>\n",
       "  </tbody>\n",
       "</table>\n",
       "</div>"
      ],
      "text/plain": [
       "                                                                                                                                                                                                                                                                               genre  \\\n",
       "id                                                                                                                                                                                                                                                                                     \n",
       "007LIJOPQ4Sb98qV                                                                                                                                                                                    ['post punk', 'new wave', 'dream pop', 'alternative rock', 'madchester', 'rock']   \n",
       "fqotTYeTLpnRj3lF                                                                                                                     ['pop', 'teen pop', 'rock', 'pop rock', 'disney', 'hip hop', 'grunge', 'alternative rock', 'rap', 'power pop', 'singer songwriter', 'synthpop']   \n",
       "E7t3Y9cW86HLOFZp  ['electronica', 'electro', 'disco', 'funk', 'house', 'indietronica', 'dance rock', 'rock', 'electropop', 'indie rock', 'indie pop', 'electro house', 'space rock', 'pop', 'techno', 'beats', 'disco house', 'indie electronica', 'dance punk', 'background music']   \n",
       "wdAhzJrYFsHfCyCl                                                                                                                                                                                                                                   ['electropop', 'pop', 'synthpop']   \n",
       "wbUm7Kdu4u7CSG39                                                                                                                                                                                                                      ['disco', 'singer songwriter', 'classic soul']   \n",
       "8crboBOJbzovC9SC                                                                                                                                                                                                                                                ['psychedelic rock']   \n",
       "gcFfKAX8vSRWOtqk                                                                                                                  ['psychedelic rock', 'experimental', 'rock', 'art rock', 'classic rock', 'baroque', 'choral', 'baroque pop', 'psychedelic pop', 'gregorian chant']   \n",
       "ExbzgBOxVe8jTGKx                                                                                                                                                                                                                               ['pop', 'singer songwriter', 'rumba']   \n",
       "qSEy5OiW84jPqQb5                                                               ['classic rock', 'rock', 'pop rock', 'pop', 'soft rock', 'hard rock', 'progressive rock', 'new wave', 'easy listening', 'metal', 'alternative rock', 'singer songwriter', 'album rock', 'glam metal']   \n",
       "WWvFN9dBhrf255ar                                                                                                                                                                                            ['rock', 'alternative rock', 'polish rock', 'punk', 'blues rock', 'ska']   \n",
       "LBUErWY7L9XEkM3b                                                                                                         ['rock en espanol', 'latin', 'latin rock', 'pop', 'rock', 'pop rock', 'latin pop', 'latin alternative', 'electronica', 'britpop', 'lounge', 'spanish rock']   \n",
       "\n",
       "                                        artist                song  \\\n",
       "id                                                                   \n",
       "007LIJOPQ4Sb98qV                The Chameleons           Nostalgia   \n",
       "fqotTYeTLpnRj3lF                   Hilary Duff        So Yesterday   \n",
       "E7t3Y9cW86HLOFZp          Midnight Juggernauts             Shadows   \n",
       "wdAhzJrYFsHfCyCl                          Doda              Riotka   \n",
       "wbUm7Kdu4u7CSG39                   Grace Jones            Tomorrow   \n",
       "8crboBOJbzovC9SC                         Ulver  Where Is Yesterday   \n",
       "gcFfKAX8vSRWOtqk  The United States of America  Where Is Yesterday   \n",
       "ExbzgBOxVe8jTGKx                Colbie Caillat      Like Yesterday   \n",
       "qSEy5OiW84jPqQb5                     Foreigner  That Was Yesterday   \n",
       "WWvFN9dBhrf255ar                      happysad       Taką wodą być   \n",
       "LBUErWY7L9XEkM3b                   Soda Stereo   Paseando por Roma   \n",
       "\n",
       "                                                          album_name  \n",
       "id                                                                    \n",
       "007LIJOPQ4Sb98qV  What Does Anything Mean? Basically (2009 Remaster)  \n",
       "fqotTYeTLpnRj3lF                                       Metamorphosis  \n",
       "E7t3Y9cW86HLOFZp                                             Shadows  \n",
       "wdAhzJrYFsHfCyCl                                              Riotka  \n",
       "wbUm7Kdu4u7CSG39                                           Portfolio  \n",
       "8crboBOJbzovC9SC                                     Childhood's End  \n",
       "gcFfKAX8vSRWOtqk                        The United States Of America  \n",
       "ExbzgBOxVe8jTGKx                                          All Of You  \n",
       "qSEy5OiW84jPqQb5                                   Agent Provocateur  \n",
       "WWvFN9dBhrf255ar                                       Mów mi dobrze  \n",
       "LBUErWY7L9XEkM3b                                        Sueño Stereo  "
      ]
     },
     "execution_count": 24,
     "metadata": {},
     "output_type": "execute_result"
    }
   ],
   "source": [
    "getTopValues('007LIJOPQ4Sb98qV', df_cosineDistance_tfidf).head(11)"
   ]
  },
  {
   "cell_type": "code",
   "execution_count": null,
   "metadata": {},
   "outputs": [],
   "source": []
  },
  {
   "cell_type": "code",
   "execution_count": 25,
   "metadata": {},
   "outputs": [
    {
     "name": "stdout",
     "output_type": "stream",
     "text": [
      "Already in data\n",
      "Already in data\n",
      "Already in data\n"
     ]
    }
   ],
   "source": [
    "# Distances with innerProduct\n",
    "distanceToSongs(getSongIdByQuery(\"The Chameleons,Nostalgia\"), inner_product, df_innerProductDistance_tfidf, tf_idf)\n",
    "distanceToSongs(getSongIdByQuery(\"Cheryl,Rain on Me\"), inner_product, df_innerProductDistance_tfidf, tf_idf)\n",
    "distanceToSongs(getSongIdByQuery(\"Doda,Riotka\"), inner_product, df_innerProductDistance_tfidf, tf_idf)"
   ]
  },
  {
   "cell_type": "code",
   "execution_count": 26,
   "metadata": {},
   "outputs": [
    {
     "name": "stdout",
     "output_type": "stream",
     "text": [
      "Already in data\n",
      "Already in data\n",
      "Already in data\n"
     ]
    }
   ],
   "source": [
    "# Distances with jaccard similarity\n",
    "distanceToSongs(getSongIdByQuery(\"The Chameleons,Nostalgia\"), jaccard_formulation, df_jaccardDistance_tfidf, tf_idf)\n",
    "distanceToSongs(getSongIdByQuery(\"Cheryl,Rain on Me\"), jaccard_formulation, df_jaccardDistance_tfidf, tf_idf)\n",
    "distanceToSongs(getSongIdByQuery(\"Doda,Riotka\"), jaccard_formulation, df_jaccardDistance_tfidf, tf_idf)"
   ]
  },
  {
   "cell_type": "code",
   "execution_count": 27,
   "metadata": {},
   "outputs": [
    {
     "data": {
      "text/html": [
       "<div>\n",
       "<style scoped>\n",
       "    .dataframe tbody tr th:only-of-type {\n",
       "        vertical-align: middle;\n",
       "    }\n",
       "\n",
       "    .dataframe tbody tr th {\n",
       "        vertical-align: top;\n",
       "    }\n",
       "\n",
       "    .dataframe thead th {\n",
       "        text-align: right;\n",
       "    }\n",
       "</style>\n",
       "<table border=\"1\" class=\"dataframe\">\n",
       "  <thead>\n",
       "    <tr style=\"text-align: right;\">\n",
       "      <th></th>\n",
       "      <th>genre</th>\n",
       "      <th>artist</th>\n",
       "      <th>song</th>\n",
       "      <th>album_name</th>\n",
       "    </tr>\n",
       "    <tr>\n",
       "      <th>id</th>\n",
       "      <th></th>\n",
       "      <th></th>\n",
       "      <th></th>\n",
       "      <th></th>\n",
       "    </tr>\n",
       "  </thead>\n",
       "  <tbody>\n",
       "    <tr>\n",
       "      <th>0009fFIM1eYThaPg</th>\n",
       "      <td>['pop']</td>\n",
       "      <td>Cheryl</td>\n",
       "      <td>Rain on Me</td>\n",
       "      <td>3 Words</td>\n",
       "    </tr>\n",
       "    <tr>\n",
       "      <th>Bp2C0upIsbgDIj6g</th>\n",
       "      <td>['pop', 'rain', 'singer songwriter', 'water', 'riot grrrl']</td>\n",
       "      <td>Cyndi Lauper</td>\n",
       "      <td>Who Let in the Rain</td>\n",
       "      <td>Hat Full Of Stars</td>\n",
       "    </tr>\n",
       "    <tr>\n",
       "      <th>ao7dLWmpTymdh4NP</th>\n",
       "      <td>['pop', 'britpop', 'rain', 'jazz', 'rock', 'electropop', 'soul', 'post rock', 'funk', 'acid jazz', 'alternative pop', 'electronica', 'alternative rock', 'power pop']</td>\n",
       "      <td>Mika</td>\n",
       "      <td>Rain</td>\n",
       "      <td>The Boy Who Knew Too Much</td>\n",
       "    </tr>\n",
       "    <tr>\n",
       "      <th>WJRG3U9F9ugC8EGH</th>\n",
       "      <td>['indie rock']</td>\n",
       "      <td>Efek Rumah Kaca</td>\n",
       "      <td>Hujan Jangan Marah</td>\n",
       "      <td>Kamar Gelap</td>\n",
       "    </tr>\n",
       "    <tr>\n",
       "      <th>AnOdZ5pDIL2LhtCb</th>\n",
       "      <td>['quiet storm', 'soul', 'rain', 'r b', 'pop', 'hip hop', 'smooth soul', 'funk', 'jazz funk', 'new jack swing', 'rhythm and blues', 'girl group']</td>\n",
       "      <td>SWV</td>\n",
       "      <td>Rain</td>\n",
       "      <td>Release Some Tension</td>\n",
       "    </tr>\n",
       "    <tr>\n",
       "      <th>pxgFoLb5tSjKO0Rr</th>\n",
       "      <td>['soul', 'pop', 'jazz', 'rock', 'singer songwriter', 'rain', 'lounge', 'ambient', 'indie pop', 'progressive rock', 'easy listening', 'britpop', 'alternative pop', 'neo soul', 'pop folk', 'drama']</td>\n",
       "      <td>Duffy</td>\n",
       "      <td>Rain on Your Parade</td>\n",
       "      <td>Rockferry</td>\n",
       "    </tr>\n",
       "    <tr>\n",
       "      <th>ARAbmSl33s9qdv3W</th>\n",
       "      <td>['pop', 'rock', 'soul', 'funk', 'classic rock', 'soundtrack', 'singer songwriter', 'rain', 'rhythm and blues', 'pop rock', 'easy listening', 'soft rock', 'new wave']</td>\n",
       "      <td>Prince</td>\n",
       "      <td>Purple Rain</td>\n",
       "      <td>Purple Rain</td>\n",
       "    </tr>\n",
       "    <tr>\n",
       "      <th>cUtnKV2vkqB3hhkX</th>\n",
       "      <td>['pop', 'rock', 'funk', 'soul', 'soundtrack', 'soft rock', 'classic rock', 'new wave', 'r b', 'pop rock', 'rain', 'gospel', 'jazz', 'hip hop', 'hard rock', 'singer songwriter', 'psychedelic soul', 'orchestra', 'sleep']</td>\n",
       "      <td>Prince &amp; The Revolution</td>\n",
       "      <td>Purple Rain</td>\n",
       "      <td>Purple Rain</td>\n",
       "    </tr>\n",
       "    <tr>\n",
       "      <th>HFLuvJXc6SjcJt7d</th>\n",
       "      <td>['pop', 'rain']</td>\n",
       "      <td>Cher</td>\n",
       "      <td>Rain, Rain</td>\n",
       "      <td>I Got You Babe / It's Gonna Rain [Digital 45]</td>\n",
       "    </tr>\n",
       "    <tr>\n",
       "      <th>2HMIpSuCforil1f7</th>\n",
       "      <td>['rock nacional']</td>\n",
       "      <td>Biquini Cavadão</td>\n",
       "      <td>Chove Chuva</td>\n",
       "      <td>Agora</td>\n",
       "    </tr>\n",
       "    <tr>\n",
       "      <th>SpXoTY1cFhXQpIST</th>\n",
       "      <td>['rock', 'hard rock', 'gothic rock', 'alternative rock', 'classic rock', 'rain', 'post punk', 'funk', 'metal', 'soul', 'new wave', 'jazz', 'pop', 'motown', 'british invasion']</td>\n",
       "      <td>The Cult</td>\n",
       "      <td>Rain</td>\n",
       "      <td>Love (Expanded Edition)</td>\n",
       "    </tr>\n",
       "  </tbody>\n",
       "</table>\n",
       "</div>"
      ],
      "text/plain": [
       "                                                                                                                                                                                                                                       genre  \\\n",
       "id                                                                                                                                                                                                                                             \n",
       "0009fFIM1eYThaPg                                                                                                                                                                                                                     ['pop']   \n",
       "Bp2C0upIsbgDIj6g                                                                                                                                                                 ['pop', 'rain', 'singer songwriter', 'water', 'riot grrrl']   \n",
       "ao7dLWmpTymdh4NP                                                       ['pop', 'britpop', 'rain', 'jazz', 'rock', 'electropop', 'soul', 'post rock', 'funk', 'acid jazz', 'alternative pop', 'electronica', 'alternative rock', 'power pop']   \n",
       "WJRG3U9F9ugC8EGH                                                                                                                                                                                                              ['indie rock']   \n",
       "AnOdZ5pDIL2LhtCb                                                                            ['quiet storm', 'soul', 'rain', 'r b', 'pop', 'hip hop', 'smooth soul', 'funk', 'jazz funk', 'new jack swing', 'rhythm and blues', 'girl group']   \n",
       "pxgFoLb5tSjKO0Rr                         ['soul', 'pop', 'jazz', 'rock', 'singer songwriter', 'rain', 'lounge', 'ambient', 'indie pop', 'progressive rock', 'easy listening', 'britpop', 'alternative pop', 'neo soul', 'pop folk', 'drama']   \n",
       "ARAbmSl33s9qdv3W                                                       ['pop', 'rock', 'soul', 'funk', 'classic rock', 'soundtrack', 'singer songwriter', 'rain', 'rhythm and blues', 'pop rock', 'easy listening', 'soft rock', 'new wave']   \n",
       "cUtnKV2vkqB3hhkX  ['pop', 'rock', 'funk', 'soul', 'soundtrack', 'soft rock', 'classic rock', 'new wave', 'r b', 'pop rock', 'rain', 'gospel', 'jazz', 'hip hop', 'hard rock', 'singer songwriter', 'psychedelic soul', 'orchestra', 'sleep']   \n",
       "HFLuvJXc6SjcJt7d                                                                                                                                                                                                             ['pop', 'rain']   \n",
       "2HMIpSuCforil1f7                                                                                                                                                                                                           ['rock nacional']   \n",
       "SpXoTY1cFhXQpIST                                             ['rock', 'hard rock', 'gothic rock', 'alternative rock', 'classic rock', 'rain', 'post punk', 'funk', 'metal', 'soul', 'new wave', 'jazz', 'pop', 'motown', 'british invasion']   \n",
       "\n",
       "                                   artist                 song  \\\n",
       "id                                                               \n",
       "0009fFIM1eYThaPg                   Cheryl           Rain on Me   \n",
       "Bp2C0upIsbgDIj6g             Cyndi Lauper  Who Let in the Rain   \n",
       "ao7dLWmpTymdh4NP                     Mika                 Rain   \n",
       "WJRG3U9F9ugC8EGH          Efek Rumah Kaca   Hujan Jangan Marah   \n",
       "AnOdZ5pDIL2LhtCb                      SWV                 Rain   \n",
       "pxgFoLb5tSjKO0Rr                    Duffy  Rain on Your Parade   \n",
       "ARAbmSl33s9qdv3W                   Prince          Purple Rain   \n",
       "cUtnKV2vkqB3hhkX  Prince & The Revolution          Purple Rain   \n",
       "HFLuvJXc6SjcJt7d                     Cher           Rain, Rain   \n",
       "2HMIpSuCforil1f7          Biquini Cavadão          Chove Chuva   \n",
       "SpXoTY1cFhXQpIST                 The Cult                 Rain   \n",
       "\n",
       "                                                     album_name  \n",
       "id                                                               \n",
       "0009fFIM1eYThaPg                                        3 Words  \n",
       "Bp2C0upIsbgDIj6g                              Hat Full Of Stars  \n",
       "ao7dLWmpTymdh4NP                      The Boy Who Knew Too Much  \n",
       "WJRG3U9F9ugC8EGH                                    Kamar Gelap  \n",
       "AnOdZ5pDIL2LhtCb                           Release Some Tension  \n",
       "pxgFoLb5tSjKO0Rr                                      Rockferry  \n",
       "ARAbmSl33s9qdv3W                                    Purple Rain  \n",
       "cUtnKV2vkqB3hhkX                                    Purple Rain  \n",
       "HFLuvJXc6SjcJt7d  I Got You Babe / It's Gonna Rain [Digital 45]  \n",
       "2HMIpSuCforil1f7                                          Agora  \n",
       "SpXoTY1cFhXQpIST                        Love (Expanded Edition)  "
      ]
     },
     "execution_count": 27,
     "metadata": {},
     "output_type": "execute_result"
    }
   ],
   "source": [
    "getTopValues('0009fFIM1eYThaPg', df_innerProductDistance_tfidf).head(11)"
   ]
  },
  {
   "cell_type": "code",
   "execution_count": null,
   "metadata": {},
   "outputs": [],
   "source": []
  },
  {
   "cell_type": "code",
   "execution_count": null,
   "metadata": {},
   "outputs": [],
   "source": []
  },
  {
   "cell_type": "code",
   "execution_count": 28,
   "metadata": {},
   "outputs": [
    {
     "data": {
      "text/html": [
       "<div>\n",
       "<style scoped>\n",
       "    .dataframe tbody tr th:only-of-type {\n",
       "        vertical-align: middle;\n",
       "    }\n",
       "\n",
       "    .dataframe tbody tr th {\n",
       "        vertical-align: top;\n",
       "    }\n",
       "\n",
       "    .dataframe thead th {\n",
       "        text-align: right;\n",
       "    }\n",
       "</style>\n",
       "<table border=\"1\" class=\"dataframe\">\n",
       "  <thead>\n",
       "    <tr style=\"text-align: right;\">\n",
       "      <th></th>\n",
       "      <th>007LIJOPQ4Sb98qV</th>\n",
       "      <th>0009fFIM1eYThaPg</th>\n",
       "      <th>wdAhzJrYFsHfCyCl</th>\n",
       "    </tr>\n",
       "    <tr>\n",
       "      <th>id</th>\n",
       "      <th></th>\n",
       "      <th></th>\n",
       "      <th></th>\n",
       "    </tr>\n",
       "  </thead>\n",
       "  <tbody>\n",
       "    <tr>\n",
       "      <th>9jbSytob9XRzwvB6</th>\n",
       "      <td>0.048452</td>\n",
       "      <td>0.006539</td>\n",
       "      <td>0.051474</td>\n",
       "    </tr>\n",
       "    <tr>\n",
       "      <th>Njp6JPM8vitbhVJU</th>\n",
       "      <td>0.001441</td>\n",
       "      <td>0.013563</td>\n",
       "      <td>0.009384</td>\n",
       "    </tr>\n",
       "    <tr>\n",
       "      <th>h48f46ZsT9h0Z5Dm</th>\n",
       "      <td>0.102718</td>\n",
       "      <td>0.015595</td>\n",
       "      <td>0.040152</td>\n",
       "    </tr>\n",
       "    <tr>\n",
       "      <th>ZmXVK43zlqdeq6z8</th>\n",
       "      <td>0.098409</td>\n",
       "      <td>0.015704</td>\n",
       "      <td>0.028695</td>\n",
       "    </tr>\n",
       "    <tr>\n",
       "      <th>PV5EXN6AIVBqvsLO</th>\n",
       "      <td>0.013196</td>\n",
       "      <td>0.017603</td>\n",
       "      <td>0.015591</td>\n",
       "    </tr>\n",
       "  </tbody>\n",
       "</table>\n",
       "</div>"
      ],
      "text/plain": [
       "                  007LIJOPQ4Sb98qV  0009fFIM1eYThaPg  wdAhzJrYFsHfCyCl\n",
       "id                                                                    \n",
       "9jbSytob9XRzwvB6          0.048452          0.006539          0.051474\n",
       "Njp6JPM8vitbhVJU          0.001441          0.013563          0.009384\n",
       "h48f46ZsT9h0Z5Dm          0.102718          0.015595          0.040152\n",
       "ZmXVK43zlqdeq6z8          0.098409          0.015704          0.028695\n",
       "PV5EXN6AIVBqvsLO          0.013196          0.017603          0.015591"
      ]
     },
     "execution_count": 28,
     "metadata": {},
     "output_type": "execute_result"
    }
   ],
   "source": [
    "df_cosineDistance_tfidf.head()"
   ]
  },
  {
   "cell_type": "code",
   "execution_count": 29,
   "metadata": {},
   "outputs": [
    {
     "data": {
      "text/plain": [
       "1.0000000000000002"
      ]
     },
     "execution_count": 29,
     "metadata": {},
     "output_type": "execute_result"
    }
   ],
   "source": [
    "df_cosineDistance_tfidf.loc['007LIJOPQ4Sb98qV','007LIJOPQ4Sb98qV']"
   ]
  },
  {
   "cell_type": "code",
   "execution_count": 30,
   "metadata": {},
   "outputs": [
    {
     "data": {
      "text/html": [
       "<div>\n",
       "<style scoped>\n",
       "    .dataframe tbody tr th:only-of-type {\n",
       "        vertical-align: middle;\n",
       "    }\n",
       "\n",
       "    .dataframe tbody tr th {\n",
       "        vertical-align: top;\n",
       "    }\n",
       "\n",
       "    .dataframe thead th {\n",
       "        text-align: right;\n",
       "    }\n",
       "</style>\n",
       "<table border=\"1\" class=\"dataframe\">\n",
       "  <thead>\n",
       "    <tr style=\"text-align: right;\">\n",
       "      <th></th>\n",
       "      <th>007LIJOPQ4Sb98qV</th>\n",
       "      <th>0009fFIM1eYThaPg</th>\n",
       "      <th>wdAhzJrYFsHfCyCl</th>\n",
       "    </tr>\n",
       "    <tr>\n",
       "      <th>id</th>\n",
       "      <th></th>\n",
       "      <th></th>\n",
       "      <th></th>\n",
       "    </tr>\n",
       "  </thead>\n",
       "  <tbody>\n",
       "    <tr>\n",
       "      <th>9jbSytob9XRzwvB6</th>\n",
       "      <td>0.024827</td>\n",
       "      <td>0.003280</td>\n",
       "      <td>0.026417</td>\n",
       "    </tr>\n",
       "    <tr>\n",
       "      <th>Njp6JPM8vitbhVJU</th>\n",
       "      <td>0.000721</td>\n",
       "      <td>0.006828</td>\n",
       "      <td>0.004714</td>\n",
       "    </tr>\n",
       "    <tr>\n",
       "      <th>h48f46ZsT9h0Z5Dm</th>\n",
       "      <td>0.054139</td>\n",
       "      <td>0.007859</td>\n",
       "      <td>0.020487</td>\n",
       "    </tr>\n",
       "    <tr>\n",
       "      <th>ZmXVK43zlqdeq6z8</th>\n",
       "      <td>0.051751</td>\n",
       "      <td>0.007914</td>\n",
       "      <td>0.014556</td>\n",
       "    </tr>\n",
       "    <tr>\n",
       "      <th>PV5EXN6AIVBqvsLO</th>\n",
       "      <td>0.006642</td>\n",
       "      <td>0.008880</td>\n",
       "      <td>0.007857</td>\n",
       "    </tr>\n",
       "  </tbody>\n",
       "</table>\n",
       "</div>"
      ],
      "text/plain": [
       "                  007LIJOPQ4Sb98qV  0009fFIM1eYThaPg  wdAhzJrYFsHfCyCl\n",
       "id                                                                    \n",
       "9jbSytob9XRzwvB6          0.024827          0.003280          0.026417\n",
       "Njp6JPM8vitbhVJU          0.000721          0.006828          0.004714\n",
       "h48f46ZsT9h0Z5Dm          0.054139          0.007859          0.020487\n",
       "ZmXVK43zlqdeq6z8          0.051751          0.007914          0.014556\n",
       "PV5EXN6AIVBqvsLO          0.006642          0.008880          0.007857"
      ]
     },
     "execution_count": 30,
     "metadata": {},
     "output_type": "execute_result"
    }
   ],
   "source": [
    "df_jaccardDistance_tfidf.head()\n"
   ]
  },
  {
   "cell_type": "code",
   "execution_count": 31,
   "metadata": {},
   "outputs": [
    {
     "data": {
      "text/plain": [
       "1.0"
      ]
     },
     "execution_count": 31,
     "metadata": {},
     "output_type": "execute_result"
    }
   ],
   "source": [
    "df_jaccardDistance_tfidf.loc['007LIJOPQ4Sb98qV','007LIJOPQ4Sb98qV']"
   ]
  },
  {
   "cell_type": "markdown",
   "metadata": {},
   "source": [
    "## The distance is the same with the inner product and cosine similarities because vectors are normalized"
   ]
  },
  {
   "cell_type": "code",
   "execution_count": 32,
   "metadata": {},
   "outputs": [
    {
     "name": "stdout",
     "output_type": "stream",
     "text": [
      "Already in data\n",
      "Already in data\n",
      "Already in data\n"
     ]
    }
   ],
   "source": [
    "distanceToSongs(getSongIdByQuery(\"The Chameleons,Nostalgia\"), jaccard_formulation, df_jaccardDistance_word2vec, word2vec)\n",
    "distanceToSongs(getSongIdByQuery(\"Cheryl,Rain on Me\"), jaccard_formulation, df_jaccardDistance_word2vec, word2vec)\n",
    "distanceToSongs(getSongIdByQuery(\"Doda,Riotka\"), jaccard_formulation, df_jaccardDistance_word2vec, word2vec)"
   ]
  },
  {
   "cell_type": "code",
   "execution_count": 33,
   "metadata": {},
   "outputs": [
    {
     "name": "stdout",
     "output_type": "stream",
     "text": [
      "Already in data\n",
      "Already in data\n",
      "Already in data\n"
     ]
    }
   ],
   "source": [
    "distanceToSongs(getSongIdByQuery(\"The Chameleons,Nostalgia\"), inner_product, df_innerProductDistance_bert, bert)\n",
    "distanceToSongs(getSongIdByQuery(\"Cheryl,Rain on Me\"), inner_product, df_innerProductDistance_bert, bert)\n",
    "distanceToSongs(getSongIdByQuery(\"Doda,Riotka\"), inner_product, df_innerProductDistance_bert, bert)"
   ]
  },
  {
   "cell_type": "markdown",
   "metadata": {},
   "source": [
    "# Comparison between CosineSimilarity with TF-IDF and Jaccard Formulation with word2vec"
   ]
  },
  {
   "cell_type": "code",
   "execution_count": 34,
   "metadata": {},
   "outputs": [
    {
     "data": {
      "text/html": [
       "<div>\n",
       "<style scoped>\n",
       "    .dataframe tbody tr th:only-of-type {\n",
       "        vertical-align: middle;\n",
       "    }\n",
       "\n",
       "    .dataframe tbody tr th {\n",
       "        vertical-align: top;\n",
       "    }\n",
       "\n",
       "    .dataframe thead th {\n",
       "        text-align: right;\n",
       "    }\n",
       "</style>\n",
       "<table border=\"1\" class=\"dataframe\">\n",
       "  <thead>\n",
       "    <tr style=\"text-align: right;\">\n",
       "      <th></th>\n",
       "      <th>genre</th>\n",
       "      <th>artist</th>\n",
       "      <th>song</th>\n",
       "      <th>album_name</th>\n",
       "    </tr>\n",
       "    <tr>\n",
       "      <th>id</th>\n",
       "      <th></th>\n",
       "      <th></th>\n",
       "      <th></th>\n",
       "      <th></th>\n",
       "    </tr>\n",
       "  </thead>\n",
       "  <tbody>\n",
       "    <tr>\n",
       "      <th>0009fFIM1eYThaPg</th>\n",
       "      <td>['pop']</td>\n",
       "      <td>Cheryl</td>\n",
       "      <td>Rain on Me</td>\n",
       "      <td>3 Words</td>\n",
       "    </tr>\n",
       "    <tr>\n",
       "      <th>Bp2C0upIsbgDIj6g</th>\n",
       "      <td>['pop', 'rain', 'singer songwriter', 'water', 'riot grrrl']</td>\n",
       "      <td>Cyndi Lauper</td>\n",
       "      <td>Who Let in the Rain</td>\n",
       "      <td>Hat Full Of Stars</td>\n",
       "    </tr>\n",
       "    <tr>\n",
       "      <th>ao7dLWmpTymdh4NP</th>\n",
       "      <td>['pop', 'britpop', 'rain', 'jazz', 'rock', 'electropop', 'soul', 'post rock', 'funk', 'acid jazz', 'alternative pop', 'electronica', 'alternative rock', 'power pop']</td>\n",
       "      <td>Mika</td>\n",
       "      <td>Rain</td>\n",
       "      <td>The Boy Who Knew Too Much</td>\n",
       "    </tr>\n",
       "    <tr>\n",
       "      <th>WJRG3U9F9ugC8EGH</th>\n",
       "      <td>['indie rock']</td>\n",
       "      <td>Efek Rumah Kaca</td>\n",
       "      <td>Hujan Jangan Marah</td>\n",
       "      <td>Kamar Gelap</td>\n",
       "    </tr>\n",
       "    <tr>\n",
       "      <th>AnOdZ5pDIL2LhtCb</th>\n",
       "      <td>['quiet storm', 'soul', 'rain', 'r b', 'pop', 'hip hop', 'smooth soul', 'funk', 'jazz funk', 'new jack swing', 'rhythm and blues', 'girl group']</td>\n",
       "      <td>SWV</td>\n",
       "      <td>Rain</td>\n",
       "      <td>Release Some Tension</td>\n",
       "    </tr>\n",
       "    <tr>\n",
       "      <th>pxgFoLb5tSjKO0Rr</th>\n",
       "      <td>['soul', 'pop', 'jazz', 'rock', 'singer songwriter', 'rain', 'lounge', 'ambient', 'indie pop', 'progressive rock', 'easy listening', 'britpop', 'alternative pop', 'neo soul', 'pop folk', 'drama']</td>\n",
       "      <td>Duffy</td>\n",
       "      <td>Rain on Your Parade</td>\n",
       "      <td>Rockferry</td>\n",
       "    </tr>\n",
       "    <tr>\n",
       "      <th>ARAbmSl33s9qdv3W</th>\n",
       "      <td>['pop', 'rock', 'soul', 'funk', 'classic rock', 'soundtrack', 'singer songwriter', 'rain', 'rhythm and blues', 'pop rock', 'easy listening', 'soft rock', 'new wave']</td>\n",
       "      <td>Prince</td>\n",
       "      <td>Purple Rain</td>\n",
       "      <td>Purple Rain</td>\n",
       "    </tr>\n",
       "    <tr>\n",
       "      <th>cUtnKV2vkqB3hhkX</th>\n",
       "      <td>['pop', 'rock', 'funk', 'soul', 'soundtrack', 'soft rock', 'classic rock', 'new wave', 'r b', 'pop rock', 'rain', 'gospel', 'jazz', 'hip hop', 'hard rock', 'singer songwriter', 'psychedelic soul', 'orchestra', 'sleep']</td>\n",
       "      <td>Prince &amp; The Revolution</td>\n",
       "      <td>Purple Rain</td>\n",
       "      <td>Purple Rain</td>\n",
       "    </tr>\n",
       "    <tr>\n",
       "      <th>HFLuvJXc6SjcJt7d</th>\n",
       "      <td>['pop', 'rain']</td>\n",
       "      <td>Cher</td>\n",
       "      <td>Rain, Rain</td>\n",
       "      <td>I Got You Babe / It's Gonna Rain [Digital 45]</td>\n",
       "    </tr>\n",
       "    <tr>\n",
       "      <th>2HMIpSuCforil1f7</th>\n",
       "      <td>['rock nacional']</td>\n",
       "      <td>Biquini Cavadão</td>\n",
       "      <td>Chove Chuva</td>\n",
       "      <td>Agora</td>\n",
       "    </tr>\n",
       "    <tr>\n",
       "      <th>SpXoTY1cFhXQpIST</th>\n",
       "      <td>['rock', 'hard rock', 'gothic rock', 'alternative rock', 'classic rock', 'rain', 'post punk', 'funk', 'metal', 'soul', 'new wave', 'jazz', 'pop', 'motown', 'british invasion']</td>\n",
       "      <td>The Cult</td>\n",
       "      <td>Rain</td>\n",
       "      <td>Love (Expanded Edition)</td>\n",
       "    </tr>\n",
       "  </tbody>\n",
       "</table>\n",
       "</div>"
      ],
      "text/plain": [
       "                                                                                                                                                                                                                                       genre  \\\n",
       "id                                                                                                                                                                                                                                             \n",
       "0009fFIM1eYThaPg                                                                                                                                                                                                                     ['pop']   \n",
       "Bp2C0upIsbgDIj6g                                                                                                                                                                 ['pop', 'rain', 'singer songwriter', 'water', 'riot grrrl']   \n",
       "ao7dLWmpTymdh4NP                                                       ['pop', 'britpop', 'rain', 'jazz', 'rock', 'electropop', 'soul', 'post rock', 'funk', 'acid jazz', 'alternative pop', 'electronica', 'alternative rock', 'power pop']   \n",
       "WJRG3U9F9ugC8EGH                                                                                                                                                                                                              ['indie rock']   \n",
       "AnOdZ5pDIL2LhtCb                                                                            ['quiet storm', 'soul', 'rain', 'r b', 'pop', 'hip hop', 'smooth soul', 'funk', 'jazz funk', 'new jack swing', 'rhythm and blues', 'girl group']   \n",
       "pxgFoLb5tSjKO0Rr                         ['soul', 'pop', 'jazz', 'rock', 'singer songwriter', 'rain', 'lounge', 'ambient', 'indie pop', 'progressive rock', 'easy listening', 'britpop', 'alternative pop', 'neo soul', 'pop folk', 'drama']   \n",
       "ARAbmSl33s9qdv3W                                                       ['pop', 'rock', 'soul', 'funk', 'classic rock', 'soundtrack', 'singer songwriter', 'rain', 'rhythm and blues', 'pop rock', 'easy listening', 'soft rock', 'new wave']   \n",
       "cUtnKV2vkqB3hhkX  ['pop', 'rock', 'funk', 'soul', 'soundtrack', 'soft rock', 'classic rock', 'new wave', 'r b', 'pop rock', 'rain', 'gospel', 'jazz', 'hip hop', 'hard rock', 'singer songwriter', 'psychedelic soul', 'orchestra', 'sleep']   \n",
       "HFLuvJXc6SjcJt7d                                                                                                                                                                                                             ['pop', 'rain']   \n",
       "2HMIpSuCforil1f7                                                                                                                                                                                                           ['rock nacional']   \n",
       "SpXoTY1cFhXQpIST                                             ['rock', 'hard rock', 'gothic rock', 'alternative rock', 'classic rock', 'rain', 'post punk', 'funk', 'metal', 'soul', 'new wave', 'jazz', 'pop', 'motown', 'british invasion']   \n",
       "\n",
       "                                   artist                 song  \\\n",
       "id                                                               \n",
       "0009fFIM1eYThaPg                   Cheryl           Rain on Me   \n",
       "Bp2C0upIsbgDIj6g             Cyndi Lauper  Who Let in the Rain   \n",
       "ao7dLWmpTymdh4NP                     Mika                 Rain   \n",
       "WJRG3U9F9ugC8EGH          Efek Rumah Kaca   Hujan Jangan Marah   \n",
       "AnOdZ5pDIL2LhtCb                      SWV                 Rain   \n",
       "pxgFoLb5tSjKO0Rr                    Duffy  Rain on Your Parade   \n",
       "ARAbmSl33s9qdv3W                   Prince          Purple Rain   \n",
       "cUtnKV2vkqB3hhkX  Prince & The Revolution          Purple Rain   \n",
       "HFLuvJXc6SjcJt7d                     Cher           Rain, Rain   \n",
       "2HMIpSuCforil1f7          Biquini Cavadão          Chove Chuva   \n",
       "SpXoTY1cFhXQpIST                 The Cult                 Rain   \n",
       "\n",
       "                                                     album_name  \n",
       "id                                                               \n",
       "0009fFIM1eYThaPg                                        3 Words  \n",
       "Bp2C0upIsbgDIj6g                              Hat Full Of Stars  \n",
       "ao7dLWmpTymdh4NP                      The Boy Who Knew Too Much  \n",
       "WJRG3U9F9ugC8EGH                                    Kamar Gelap  \n",
       "AnOdZ5pDIL2LhtCb                           Release Some Tension  \n",
       "pxgFoLb5tSjKO0Rr                                      Rockferry  \n",
       "ARAbmSl33s9qdv3W                                    Purple Rain  \n",
       "cUtnKV2vkqB3hhkX                                    Purple Rain  \n",
       "HFLuvJXc6SjcJt7d  I Got You Babe / It's Gonna Rain [Digital 45]  \n",
       "2HMIpSuCforil1f7                                          Agora  \n",
       "SpXoTY1cFhXQpIST                        Love (Expanded Edition)  "
      ]
     },
     "execution_count": 34,
     "metadata": {},
     "output_type": "execute_result"
    }
   ],
   "source": [
    "getTopValues('0009fFIM1eYThaPg', df_cosineDistance_tfidf).head(11)\n"
   ]
  },
  {
   "cell_type": "code",
   "execution_count": 35,
   "metadata": {},
   "outputs": [
    {
     "data": {
      "text/html": [
       "<div>\n",
       "<style scoped>\n",
       "    .dataframe tbody tr th:only-of-type {\n",
       "        vertical-align: middle;\n",
       "    }\n",
       "\n",
       "    .dataframe tbody tr th {\n",
       "        vertical-align: top;\n",
       "    }\n",
       "\n",
       "    .dataframe thead th {\n",
       "        text-align: right;\n",
       "    }\n",
       "</style>\n",
       "<table border=\"1\" class=\"dataframe\">\n",
       "  <thead>\n",
       "    <tr style=\"text-align: right;\">\n",
       "      <th></th>\n",
       "      <th>genre</th>\n",
       "      <th>artist</th>\n",
       "      <th>song</th>\n",
       "      <th>album_name</th>\n",
       "    </tr>\n",
       "    <tr>\n",
       "      <th>id</th>\n",
       "      <th></th>\n",
       "      <th></th>\n",
       "      <th></th>\n",
       "      <th></th>\n",
       "    </tr>\n",
       "  </thead>\n",
       "  <tbody>\n",
       "    <tr>\n",
       "      <th>0009fFIM1eYThaPg</th>\n",
       "      <td>['pop']</td>\n",
       "      <td>Cheryl</td>\n",
       "      <td>Rain on Me</td>\n",
       "      <td>3 Words</td>\n",
       "    </tr>\n",
       "    <tr>\n",
       "      <th>ao7dLWmpTymdh4NP</th>\n",
       "      <td>['pop', 'britpop', 'rain', 'jazz', 'rock', 'electropop', 'soul', 'post rock', 'funk', 'acid jazz', 'alternative pop', 'electronica', 'alternative rock', 'power pop']</td>\n",
       "      <td>Mika</td>\n",
       "      <td>Rain</td>\n",
       "      <td>The Boy Who Knew Too Much</td>\n",
       "    </tr>\n",
       "    <tr>\n",
       "      <th>Bp2C0upIsbgDIj6g</th>\n",
       "      <td>['pop', 'rain', 'singer songwriter', 'water', 'riot grrrl']</td>\n",
       "      <td>Cyndi Lauper</td>\n",
       "      <td>Who Let in the Rain</td>\n",
       "      <td>Hat Full Of Stars</td>\n",
       "    </tr>\n",
       "    <tr>\n",
       "      <th>qhUahI7HuwtK1PxU</th>\n",
       "      <td>['hard rock', 'alternative metal', 'gothic rock', 'industrial rock', 'blues rock']</td>\n",
       "      <td>In This Moment</td>\n",
       "      <td>River of Fire</td>\n",
       "      <td>Ritual</td>\n",
       "    </tr>\n",
       "    <tr>\n",
       "      <th>2HMIpSuCforil1f7</th>\n",
       "      <td>['rock nacional']</td>\n",
       "      <td>Biquini Cavadão</td>\n",
       "      <td>Chove Chuva</td>\n",
       "      <td>Agora</td>\n",
       "    </tr>\n",
       "    <tr>\n",
       "      <th>AnOdZ5pDIL2LhtCb</th>\n",
       "      <td>['quiet storm', 'soul', 'rain', 'r b', 'pop', 'hip hop', 'smooth soul', 'funk', 'jazz funk', 'new jack swing', 'rhythm and blues', 'girl group']</td>\n",
       "      <td>SWV</td>\n",
       "      <td>Rain</td>\n",
       "      <td>Release Some Tension</td>\n",
       "    </tr>\n",
       "    <tr>\n",
       "      <th>HHB09OecPCe3AVRh</th>\n",
       "      <td>['pop', 'synthpop', 'brega', 'tecnobrega']</td>\n",
       "      <td>Jaloo</td>\n",
       "      <td>Chuva</td>\n",
       "      <td>#1</td>\n",
       "    </tr>\n",
       "    <tr>\n",
       "      <th>PJCZM1so3O1xzQPH</th>\n",
       "      <td>['pop', 'rock', 'soft rock', 'classic rock', 'pop rock', 'easy listening', 'rain', 'singer songwriter', 'progressive rock', 'soul', 'emo', 'choral', 'gospel', 'jazz rock']</td>\n",
       "      <td>Phil Collins</td>\n",
       "      <td>I Wish It Would Rain Down</td>\n",
       "      <td>...But Seriously (Deluxe Edition)</td>\n",
       "    </tr>\n",
       "    <tr>\n",
       "      <th>Nv1MG1CNMFIvY5Zc</th>\n",
       "      <td>['mpb', 'bossa nova', 'samba', 'samba rock', 'tropicalia', 'candomble', 'classic rock', 'soul', 'funk', 'latin', 'jazz fusion', 'swing']</td>\n",
       "      <td>Jorge Ben Jor</td>\n",
       "      <td>Chove Chuva</td>\n",
       "      <td>Samba Esquema Novo</td>\n",
       "    </tr>\n",
       "    <tr>\n",
       "      <th>HFLuvJXc6SjcJt7d</th>\n",
       "      <td>['pop', 'rain']</td>\n",
       "      <td>Cher</td>\n",
       "      <td>Rain, Rain</td>\n",
       "      <td>I Got You Babe / It's Gonna Rain [Digital 45]</td>\n",
       "    </tr>\n",
       "    <tr>\n",
       "      <th>aY7VhvjZJ0vLZX5F</th>\n",
       "      <td>['soul', 'rain', 'neo soul', 'singer songwriter', 'r b', 'doo wop']</td>\n",
       "      <td>Mayer Hawthorne</td>\n",
       "      <td>I Wish It Would Rain</td>\n",
       "      <td>A Strange Arrangement</td>\n",
       "    </tr>\n",
       "  </tbody>\n",
       "</table>\n",
       "</div>"
      ],
      "text/plain": [
       "                                                                                                                                                                                        genre  \\\n",
       "id                                                                                                                                                                                              \n",
       "0009fFIM1eYThaPg                                                                                                                                                                      ['pop']   \n",
       "ao7dLWmpTymdh4NP        ['pop', 'britpop', 'rain', 'jazz', 'rock', 'electropop', 'soul', 'post rock', 'funk', 'acid jazz', 'alternative pop', 'electronica', 'alternative rock', 'power pop']   \n",
       "Bp2C0upIsbgDIj6g                                                                                                                  ['pop', 'rain', 'singer songwriter', 'water', 'riot grrrl']   \n",
       "qhUahI7HuwtK1PxU                                                                                           ['hard rock', 'alternative metal', 'gothic rock', 'industrial rock', 'blues rock']   \n",
       "2HMIpSuCforil1f7                                                                                                                                                            ['rock nacional']   \n",
       "AnOdZ5pDIL2LhtCb                             ['quiet storm', 'soul', 'rain', 'r b', 'pop', 'hip hop', 'smooth soul', 'funk', 'jazz funk', 'new jack swing', 'rhythm and blues', 'girl group']   \n",
       "HHB09OecPCe3AVRh                                                                                                                                   ['pop', 'synthpop', 'brega', 'tecnobrega']   \n",
       "PJCZM1so3O1xzQPH  ['pop', 'rock', 'soft rock', 'classic rock', 'pop rock', 'easy listening', 'rain', 'singer songwriter', 'progressive rock', 'soul', 'emo', 'choral', 'gospel', 'jazz rock']   \n",
       "Nv1MG1CNMFIvY5Zc                                     ['mpb', 'bossa nova', 'samba', 'samba rock', 'tropicalia', 'candomble', 'classic rock', 'soul', 'funk', 'latin', 'jazz fusion', 'swing']   \n",
       "HFLuvJXc6SjcJt7d                                                                                                                                                              ['pop', 'rain']   \n",
       "aY7VhvjZJ0vLZX5F                                                                                                          ['soul', 'rain', 'neo soul', 'singer songwriter', 'r b', 'doo wop']   \n",
       "\n",
       "                           artist                       song  \\\n",
       "id                                                             \n",
       "0009fFIM1eYThaPg           Cheryl                 Rain on Me   \n",
       "ao7dLWmpTymdh4NP             Mika                       Rain   \n",
       "Bp2C0upIsbgDIj6g     Cyndi Lauper        Who Let in the Rain   \n",
       "qhUahI7HuwtK1PxU   In This Moment              River of Fire   \n",
       "2HMIpSuCforil1f7  Biquini Cavadão                Chove Chuva   \n",
       "AnOdZ5pDIL2LhtCb              SWV                       Rain   \n",
       "HHB09OecPCe3AVRh            Jaloo                      Chuva   \n",
       "PJCZM1so3O1xzQPH     Phil Collins  I Wish It Would Rain Down   \n",
       "Nv1MG1CNMFIvY5Zc    Jorge Ben Jor                Chove Chuva   \n",
       "HFLuvJXc6SjcJt7d             Cher                 Rain, Rain   \n",
       "aY7VhvjZJ0vLZX5F  Mayer Hawthorne       I Wish It Would Rain   \n",
       "\n",
       "                                                     album_name  \n",
       "id                                                               \n",
       "0009fFIM1eYThaPg                                        3 Words  \n",
       "ao7dLWmpTymdh4NP                      The Boy Who Knew Too Much  \n",
       "Bp2C0upIsbgDIj6g                              Hat Full Of Stars  \n",
       "qhUahI7HuwtK1PxU                                         Ritual  \n",
       "2HMIpSuCforil1f7                                          Agora  \n",
       "AnOdZ5pDIL2LhtCb                           Release Some Tension  \n",
       "HHB09OecPCe3AVRh                                             #1  \n",
       "PJCZM1so3O1xzQPH              ...But Seriously (Deluxe Edition)  \n",
       "Nv1MG1CNMFIvY5Zc                             Samba Esquema Novo  \n",
       "HFLuvJXc6SjcJt7d  I Got You Babe / It's Gonna Rain [Digital 45]  \n",
       "aY7VhvjZJ0vLZX5F                          A Strange Arrangement  "
      ]
     },
     "execution_count": 35,
     "metadata": {},
     "output_type": "execute_result"
    }
   ],
   "source": [
    "getTopValues('0009fFIM1eYThaPg', df_jaccardDistance_word2vec).head(11)"
   ]
  },
  {
   "cell_type": "code",
   "execution_count": 36,
   "metadata": {},
   "outputs": [
    {
     "data": {
      "text/html": [
       "<div>\n",
       "<style scoped>\n",
       "    .dataframe tbody tr th:only-of-type {\n",
       "        vertical-align: middle;\n",
       "    }\n",
       "\n",
       "    .dataframe tbody tr th {\n",
       "        vertical-align: top;\n",
       "    }\n",
       "\n",
       "    .dataframe thead th {\n",
       "        text-align: right;\n",
       "    }\n",
       "</style>\n",
       "<table border=\"1\" class=\"dataframe\">\n",
       "  <thead>\n",
       "    <tr style=\"text-align: right;\">\n",
       "      <th></th>\n",
       "      <th>genre</th>\n",
       "      <th>artist</th>\n",
       "      <th>song</th>\n",
       "      <th>album_name</th>\n",
       "    </tr>\n",
       "    <tr>\n",
       "      <th>id</th>\n",
       "      <th></th>\n",
       "      <th></th>\n",
       "      <th></th>\n",
       "      <th></th>\n",
       "    </tr>\n",
       "  </thead>\n",
       "  <tbody>\n",
       "    <tr>\n",
       "      <th>0009fFIM1eYThaPg</th>\n",
       "      <td>['pop']</td>\n",
       "      <td>Cheryl</td>\n",
       "      <td>Rain on Me</td>\n",
       "      <td>3 Words</td>\n",
       "    </tr>\n",
       "    <tr>\n",
       "      <th>wXcMv63aWS4KEPm8</th>\n",
       "      <td>['pop', 'classic rock', 'country', 'rain', 'rockabilly', 'rock', 'easy listening', 'rock and roll', 'pop rock']</td>\n",
       "      <td>The Everly Brothers</td>\n",
       "      <td>Crying in the Rain</td>\n",
       "      <td>The Golden Hits Of The Everly Brothers</td>\n",
       "    </tr>\n",
       "    <tr>\n",
       "      <th>WAFIWIziIPINi0MC</th>\n",
       "      <td>['pop', 'new wave', 'synthpop', 'rain', 'rock', 'pop rock', 'new romantic', 'easy listening', 'soft rock']</td>\n",
       "      <td>a-ha</td>\n",
       "      <td>Crying in the Rain</td>\n",
       "      <td>East Of The Sun West Of The Moon</td>\n",
       "    </tr>\n",
       "    <tr>\n",
       "      <th>2HMIpSuCforil1f7</th>\n",
       "      <td>['rock nacional']</td>\n",
       "      <td>Biquini Cavadão</td>\n",
       "      <td>Chove Chuva</td>\n",
       "      <td>Agora</td>\n",
       "    </tr>\n",
       "    <tr>\n",
       "      <th>qhUahI7HuwtK1PxU</th>\n",
       "      <td>['hard rock', 'alternative metal', 'gothic rock', 'industrial rock', 'blues rock']</td>\n",
       "      <td>In This Moment</td>\n",
       "      <td>River of Fire</td>\n",
       "      <td>Ritual</td>\n",
       "    </tr>\n",
       "    <tr>\n",
       "      <th>dClpcYbLcrokcbVm</th>\n",
       "      <td>['pop', 'indie pop', 'electronica', 'electropop', 'singer songwriter', 'indie rock', 'indietronica', 'soul', 'experimental', 'world', 'art rock', 'freak folk', 'alternative pop']</td>\n",
       "      <td>Lykke Li</td>\n",
       "      <td>Let It Fall</td>\n",
       "      <td>Youth Novels</td>\n",
       "    </tr>\n",
       "    <tr>\n",
       "      <th>aY7VhvjZJ0vLZX5F</th>\n",
       "      <td>['soul', 'rain', 'neo soul', 'singer songwriter', 'r b', 'doo wop']</td>\n",
       "      <td>Mayer Hawthorne</td>\n",
       "      <td>I Wish It Would Rain</td>\n",
       "      <td>A Strange Arrangement</td>\n",
       "    </tr>\n",
       "    <tr>\n",
       "      <th>rK32HeW1yxenc3k6</th>\n",
       "      <td>['reggae', 'rock', 'experimental dub', 'rock nacional']</td>\n",
       "      <td>Sumo</td>\n",
       "      <td>La Gota En El Ojo</td>\n",
       "      <td>After Chabon</td>\n",
       "    </tr>\n",
       "    <tr>\n",
       "      <th>xEOnJrFpnOiPhdxm</th>\n",
       "      <td>['gothic metal', 'alternative metal', 'metal']</td>\n",
       "      <td>Lacuna Coil</td>\n",
       "      <td>One Cold Day</td>\n",
       "      <td>Broken Crown Halo</td>\n",
       "    </tr>\n",
       "    <tr>\n",
       "      <th>wsoQaKtyjn9EUO2Z</th>\n",
       "      <td>['pop']</td>\n",
       "      <td>Debelah Morgan</td>\n",
       "      <td>Take The Rain Away</td>\n",
       "      <td>Dance With Me</td>\n",
       "    </tr>\n",
       "    <tr>\n",
       "      <th>C0bbVCEpPqc3Gg0K</th>\n",
       "      <td>['experimental', 'shoegaze', 'space rock', 'ambient']</td>\n",
       "      <td>Atlas Sound</td>\n",
       "      <td>Scraping Past</td>\n",
       "      <td>Let the Blind Lead Those Who Can See But Cannot Feel</td>\n",
       "    </tr>\n",
       "  </tbody>\n",
       "</table>\n",
       "</div>"
      ],
      "text/plain": [
       "                                                                                                                                                                                               genre  \\\n",
       "id                                                                                                                                                                                                     \n",
       "0009fFIM1eYThaPg                                                                                                                                                                             ['pop']   \n",
       "wXcMv63aWS4KEPm8                                                                     ['pop', 'classic rock', 'country', 'rain', 'rockabilly', 'rock', 'easy listening', 'rock and roll', 'pop rock']   \n",
       "WAFIWIziIPINi0MC                                                                          ['pop', 'new wave', 'synthpop', 'rain', 'rock', 'pop rock', 'new romantic', 'easy listening', 'soft rock']   \n",
       "2HMIpSuCforil1f7                                                                                                                                                                   ['rock nacional']   \n",
       "qhUahI7HuwtK1PxU                                                                                                  ['hard rock', 'alternative metal', 'gothic rock', 'industrial rock', 'blues rock']   \n",
       "dClpcYbLcrokcbVm  ['pop', 'indie pop', 'electronica', 'electropop', 'singer songwriter', 'indie rock', 'indietronica', 'soul', 'experimental', 'world', 'art rock', 'freak folk', 'alternative pop']   \n",
       "aY7VhvjZJ0vLZX5F                                                                                                                 ['soul', 'rain', 'neo soul', 'singer songwriter', 'r b', 'doo wop']   \n",
       "rK32HeW1yxenc3k6                                                                                                                             ['reggae', 'rock', 'experimental dub', 'rock nacional']   \n",
       "xEOnJrFpnOiPhdxm                                                                                                                                      ['gothic metal', 'alternative metal', 'metal']   \n",
       "wsoQaKtyjn9EUO2Z                                                                                                                                                                             ['pop']   \n",
       "C0bbVCEpPqc3Gg0K                                                                                                                               ['experimental', 'shoegaze', 'space rock', 'ambient']   \n",
       "\n",
       "                               artist                  song  \\\n",
       "id                                                            \n",
       "0009fFIM1eYThaPg               Cheryl            Rain on Me   \n",
       "wXcMv63aWS4KEPm8  The Everly Brothers    Crying in the Rain   \n",
       "WAFIWIziIPINi0MC                 a-ha    Crying in the Rain   \n",
       "2HMIpSuCforil1f7      Biquini Cavadão           Chove Chuva   \n",
       "qhUahI7HuwtK1PxU       In This Moment         River of Fire   \n",
       "dClpcYbLcrokcbVm             Lykke Li           Let It Fall   \n",
       "aY7VhvjZJ0vLZX5F      Mayer Hawthorne  I Wish It Would Rain   \n",
       "rK32HeW1yxenc3k6                 Sumo     La Gota En El Ojo   \n",
       "xEOnJrFpnOiPhdxm          Lacuna Coil          One Cold Day   \n",
       "wsoQaKtyjn9EUO2Z       Debelah Morgan    Take The Rain Away   \n",
       "C0bbVCEpPqc3Gg0K          Atlas Sound         Scraping Past   \n",
       "\n",
       "                                                            album_name  \n",
       "id                                                                      \n",
       "0009fFIM1eYThaPg                                               3 Words  \n",
       "wXcMv63aWS4KEPm8                The Golden Hits Of The Everly Brothers  \n",
       "WAFIWIziIPINi0MC                      East Of The Sun West Of The Moon  \n",
       "2HMIpSuCforil1f7                                                 Agora  \n",
       "qhUahI7HuwtK1PxU                                                Ritual  \n",
       "dClpcYbLcrokcbVm                                          Youth Novels  \n",
       "aY7VhvjZJ0vLZX5F                                 A Strange Arrangement  \n",
       "rK32HeW1yxenc3k6                                          After Chabon  \n",
       "xEOnJrFpnOiPhdxm                                     Broken Crown Halo  \n",
       "wsoQaKtyjn9EUO2Z                                         Dance With Me  \n",
       "C0bbVCEpPqc3Gg0K  Let the Blind Lead Those Who Can See But Cannot Feel  "
      ]
     },
     "execution_count": 36,
     "metadata": {},
     "output_type": "execute_result"
    }
   ],
   "source": [
    "getTopValues('0009fFIM1eYThaPg', df_innerProductDistance_bert).head(11)"
   ]
  },
  {
   "cell_type": "code",
   "execution_count": 37,
   "metadata": {},
   "outputs": [],
   "source": [
    "# Restore col width as default\n",
    "#pd.reset_option(\"max_columns\")\n",
    "#pd.reset_option(\"max_colwidth\")\n",
    "\n",
    "pd.options.display.max_colwidth = 5\n",
    "pd.options.display.max_columns = 20"
   ]
  },
  {
   "cell_type": "code",
   "execution_count": 38,
   "metadata": {},
   "outputs": [
    {
     "name": "stdout",
     "output_type": "stream",
     "text": [
      "20\n",
      "5\n"
     ]
    }
   ],
   "source": [
    "print(pd.options.display.max_columns)\n",
    "print(pd.options.display.max_colwidth)"
   ]
  },
  {
   "cell_type": "code",
   "execution_count": 39,
   "metadata": {},
   "outputs": [],
   "source": [
    "# End of program\n",
    "# Always at the end the program saves the results in to one file, if the file doesn't exist it creates a new one.\n",
    "df_cosineDistance_tfidf.to_csv('cosine_distances_tfidf.csv',sep=',')\n",
    "df_innerProductDistance_tfidf.to_csv('innerProduct_distances_tfidf.csv',sep=',')\n",
    "df_jaccardDistance_tfidf.to_csv('jaccard_distances_tfidf.csv',sep=',')"
   ]
  },
  {
   "cell_type": "code",
   "execution_count": 40,
   "metadata": {},
   "outputs": [],
   "source": [
    "df_cosineDistance_word2vec.to_csv('cosine_distances_word2vec.csv',sep=',')\n",
    "df_innerProductDistance_word2vec.to_csv('innerProduct_distances_word2vec.csv',sep=',')\n",
    "df_jaccardDistance_word2vec.to_csv('jaccard_distances_word2vec.csv',sep=',')"
   ]
  },
  {
   "cell_type": "code",
   "execution_count": 41,
   "metadata": {},
   "outputs": [],
   "source": [
    "df_cosineDistance_bert.to_csv('cosine_distances_bert.csv',sep=',')\n",
    "df_innerProductDistance_bert.to_csv('innerProduct_distances_bert.csv',sep=',')\n",
    "df_jaccardDistance_bert.to_csv('jaccard_distances_bert.csv',sep=',')"
   ]
  },
  {
   "cell_type": "markdown",
   "metadata": {},
   "source": [
    "# Evaluation of retrieval system\n",
    "\n",
    "Evaluate your retrieval system using genre as relevance criterion (i.e., a song in the list of retrieved songs (results list) is relevant if any of its genres matches any of the query song's genres). "
   ]
  },
  {
   "cell_type": "code",
   "execution_count": null,
   "metadata": {},
   "outputs": [],
   "source": []
  },
  {
   "cell_type": "markdown",
   "metadata": {},
   "source": [
    "## Precision"
   ]
  },
  {
   "cell_type": "code",
   "execution_count": 42,
   "metadata": {},
   "outputs": [],
   "source": [
    "def get_genres(field):\n",
    "    return re.findall(r\"\\'(.*?)\\'\", field)"
   ]
  },
  {
   "cell_type": "code",
   "execution_count": 43,
   "metadata": {},
   "outputs": [],
   "source": [
    "# Check if any genre of the song one is in the genres of song two, if yes returns True\n",
    "def isResultRelevant(songOneGenres, songTwoGenres):\n",
    "    return any(item in get_genres(songOneGenres) for item in get_genres(songTwoGenres))"
   ]
  },
  {
   "cell_type": "markdown",
   "metadata": {},
   "source": [
    "### Calculate number of relevant results for each query done\n",
    "Each column in the dataframes created is a perfomed query"
   ]
  },
  {
   "cell_type": "code",
   "execution_count": 44,
   "metadata": {},
   "outputs": [],
   "source": [
    "def precision(dfQueries, topNumber):\n",
    "    \n",
    "    precision = []\n",
    "    for query in dfQueries.columns.values:\n",
    "        querySong = getTopValues(query, dfQueries).loc[query]\n",
    "        top = getTopValues(query, dfQueries).drop(axis=0, index=[query]).head(topNumber)\n",
    "        # Get if each of the results are relevant, if yes is True\n",
    "        relevant_results = [isResultRelevant(querySong['genre'], genres) for genres in top['genre'].values]\n",
    "        precision.append(np.mean(relevant_results))\n",
    "        \n",
    "    return np.mean(precision)"
   ]
  },
  {
   "cell_type": "code",
   "execution_count": 45,
   "metadata": {},
   "outputs": [],
   "source": [
    "def meanAveragePrecision(dfQueries, topNumber):\n",
    "    \n",
    "    AP_ = []\n",
    "    for query in dfQueries.columns.values: # For each query done\n",
    "        querySong = getTopValues(query, dfQueries).loc[query] # Data of song queried\n",
    "        top = getTopValues(query, dfQueries).drop(axis=0, index=[query]).head(topNumber) # Top n songs values\n",
    "        # Get if each of the results are relevant, if yes is True\n",
    "        # Array containing for each result if it is relevant or not eg. Top5 [True, True, False, True, False]   \n",
    "        relevant_results = [isResultRelevant(querySong['genre'], genres) for genres in top['genre'].values]\n",
    "    \n",
    "        REL = np.sum(relevant_results)\n",
    "        # print([relevant_results[i] * (np.sum(relevant_results[:i+1]) / (i+1))   for i in range(topNumber)])\n",
    "        \n",
    "        AP = (1/REL) * np.sum([relevant_results[i] * (np.sum(relevant_results[:i+1]) / (i+1))   for i in range(topNumber)])\n",
    "        \n",
    "        AP_.append(AP)\n",
    "        \n",
    "    return np.mean(AP_)"
   ]
  },
  {
   "cell_type": "code",
   "execution_count": null,
   "metadata": {},
   "outputs": [],
   "source": []
  },
  {
   "cell_type": "code",
   "execution_count": 46,
   "metadata": {},
   "outputs": [
    {
     "name": "stdout",
     "output_type": "stream",
     "text": [
      "MAP@10  : 0.6149470899470899\n",
      "MAP@100 : 0.49664190904709304\n"
     ]
    }
   ],
   "source": [
    "p10 = meanAveragePrecision(df_innerProductDistance_bert, 10)\n",
    "p100 = meanAveragePrecision(df_innerProductDistance_bert, 100)\n",
    "print(\"MAP@10  :\", p10)\n",
    "print(\"MAP@100 :\", p100)"
   ]
  },
  {
   "cell_type": "code",
   "execution_count": 47,
   "metadata": {},
   "outputs": [
    {
     "name": "stdout",
     "output_type": "stream",
     "text": [
      "MAP@10  : 0.8039115646258503\n",
      "MAP@100 : 0.6071114981632889\n"
     ]
    }
   ],
   "source": [
    "p10 = meanAveragePrecision(df_jaccardDistance_word2vec, 10)\n",
    "p100 = meanAveragePrecision(df_jaccardDistance_word2vec, 100)\n",
    "print(\"MAP@10  :\", p10)\n",
    "print(\"MAP@100 :\", p100)"
   ]
  },
  {
   "cell_type": "code",
   "execution_count": 48,
   "metadata": {},
   "outputs": [
    {
     "name": "stdout",
     "output_type": "stream",
     "text": [
      "MAP@10  : 0.7498820546737212\n",
      "MAP@100 : 0.5784505506751908\n"
     ]
    }
   ],
   "source": [
    "p10 = meanAveragePrecision(df_cosineDistance_tfidf, 10)\n",
    "p100 = meanAveragePrecision(df_cosineDistance_tfidf, 100)\n",
    "print(\"MAP@10  :\", p10)\n",
    "print(\"MAP@100 :\", p100)"
   ]
  },
  {
   "cell_type": "markdown",
   "metadata": {},
   "source": [
    "# MRR"
   ]
  },
  {
   "cell_type": "code",
   "execution_count": 49,
   "metadata": {},
   "outputs": [],
   "source": [
    "def meanReciprocalRank(dfQueries, topNumber):\n",
    "    RR = []\n",
    "    for query in dfQueries.columns.values: # For each query done\n",
    "        querySong = getTopValues(query, dfQueries).loc[query] # Data of song queried\n",
    "        top = getTopValues(query, dfQueries).drop(axis=0, index=[query]).head(topNumber) # Top n songs values\n",
    "        # Get if each of the results are relevant, if yes is True\n",
    "        # Array containing for each result if it is relevant or not eg. Top5 [True, True, False, True, False]   \n",
    "        relevant_results = [isResultRelevant(querySong['genre'], genres) for genres in top['genre'].values]\n",
    "        # print(relevant_results)\n",
    "     \n",
    "        min_idx_rel = relevant_results.index(True) + 1\n",
    "        # print(min_idx_rel)\n",
    "        RR.append(1/min_idx_rel) \n",
    "        \n",
    "    return np.mean(RR)"
   ]
  },
  {
   "cell_type": "code",
   "execution_count": 50,
   "metadata": {},
   "outputs": [
    {
     "name": "stdout",
     "output_type": "stream",
     "text": [
      "MRR@10  : 0.6666666666666666\n",
      "MRR@100 : 0.6666666666666666\n"
     ]
    }
   ],
   "source": [
    "mrr10 = meanReciprocalRank(df_innerProductDistance_bert, 10)\n",
    "mrr100 = meanReciprocalRank(df_innerProductDistance_bert, 100)\n",
    "print(\"MRR@10  :\", mrr10)\n",
    "print(\"MRR@100 :\", mrr100)"
   ]
  },
  {
   "cell_type": "code",
   "execution_count": 51,
   "metadata": {},
   "outputs": [
    {
     "name": "stdout",
     "output_type": "stream",
     "text": [
      "MRR@10  : 1.0\n",
      "MRR@100 : 1.0\n"
     ]
    }
   ],
   "source": [
    "mrr10 = meanReciprocalRank(df_jaccardDistance_word2vec, 10)\n",
    "mrr100 = meanReciprocalRank(df_jaccardDistance_word2vec, 100)\n",
    "print(\"MRR@10  :\", mrr10)\n",
    "print(\"MRR@100 :\", mrr100)"
   ]
  },
  {
   "cell_type": "code",
   "execution_count": 52,
   "metadata": {},
   "outputs": [
    {
     "name": "stdout",
     "output_type": "stream",
     "text": [
      "MRR@10  : 1.0\n",
      "MRR@100 : 1.0\n"
     ]
    }
   ],
   "source": [
    "mrr10 = meanReciprocalRank(df_cosineDistance_tfidf, 10)\n",
    "mrr100 = meanReciprocalRank(df_cosineDistance_tfidf, 100)\n",
    "print(\"MRR@10  :\", mrr10)\n",
    "print(\"MRR@100 :\", mrr100)"
   ]
  },
  {
   "cell_type": "markdown",
   "metadata": {},
   "source": [
    "# nDCG"
   ]
  },
  {
   "cell_type": "code",
   "execution_count": null,
   "metadata": {},
   "outputs": [],
   "source": []
  },
  {
   "cell_type": "code",
   "execution_count": 53,
   "metadata": {},
   "outputs": [],
   "source": [
    "# Gain for the user is considered with the genre, if the song retrieved contains the genre the gain will be 1, \n",
    "# if not 0.\n",
    "\n",
    "# Also the gain could be considered in descending order from k,..., 0\n",
    "\n",
    "# For example:\n",
    "# Given the array of results marked as relevant  [1, 0, 0, 1, 1] for @k = @5\n",
    "# For the first consideration the user gain will be the same d1(1), d2(0), d3(0), d4(1), d5(1)\n",
    "\n",
    "# Not implemented\n",
    "# For the second one the user gain could be d1(5), d2(0), d3(0), d4(4), d5(3),\n",
    "# reducing in one the relevance everytime a new relevant doc appears\n",
    "\n",
    "def ndcgMean(dfQueries, topNumber):\n",
    "    ndcg = []\n",
    "    for query in dfQueries.columns.values: # For each query done\n",
    "        querySong = getTopValues(query, dfQueries).loc[query] # Data of song queried\n",
    "        top = getTopValues(query, dfQueries).drop(axis=0, index=[query]).head(topNumber) # Top n songs values\n",
    "        # Get if each of the results are relevant, if yes is True\n",
    "        # Array containing for each result if it is relevant or not eg. Top5 [True, True, False, True, False]   \n",
    "        relevant_results = [isResultRelevant(querySong['genre'], genres) for genres in top['genre'].values]\n",
    "        sorted_results = sorted(relevant_results, reverse=True)\n",
    "        # print(relevant_results)\n",
    "        # print(sorted_results)\n",
    "        # print(\".........\")\n",
    "        dcg = np.sum([ res/np.log2(i+1) if i+1 > 1 else float(res) for i,res in enumerate(relevant_results)])\n",
    "        # print([ res/np.log2(i+1) if i+1 > 1 else float(res) for i,res in enumerate(relevant_results)])\n",
    "        idcg = np.sum([ res/np.log2(i+1) if i+1 > 1 else float(res) for i,res in enumerate(sorted_results)])\n",
    "        ndcg.append(dcg / idcg)\n",
    "        # print(dcg, idcg)\n",
    "      \n",
    "        \n",
    "    return (ndcg, np.mean(ndcg))"
   ]
  },
  {
   "cell_type": "code",
   "execution_count": 54,
   "metadata": {},
   "outputs": [
    {
     "name": "stdout",
     "output_type": "stream",
     "text": [
      "NDCG@10  : 0.783060751802182\n",
      "NDCG@100 : 0.791442108944539\n"
     ]
    }
   ],
   "source": [
    "_, ndcg10 = ndcgMean(df_innerProductDistance_bert, 10)\n",
    "_, ndcg100 = ndcgMean(df_innerProductDistance_bert, 100)\n",
    "print(\"NDCG@10  :\", ndcg10)\n",
    "print(\"NDCG@100 :\", ndcg100)"
   ]
  },
  {
   "cell_type": "code",
   "execution_count": 55,
   "metadata": {},
   "outputs": [
    {
     "name": "stdout",
     "output_type": "stream",
     "text": [
      "NDCG@10  : 0.8804440943269228\n",
      "NDCG@100 : 0.8583213105391603\n"
     ]
    }
   ],
   "source": [
    "_, ndcg10 = ndcgMean(df_jaccardDistance_word2vec, 10)\n",
    "_, ndcg100 = ndcgMean(df_jaccardDistance_word2vec, 100)\n",
    "print(\"NDCG@10  :\", ndcg10)\n",
    "print(\"NDCG@100 :\", ndcg100)"
   ]
  },
  {
   "cell_type": "code",
   "execution_count": 56,
   "metadata": {},
   "outputs": [
    {
     "name": "stdout",
     "output_type": "stream",
     "text": [
      "NDCG@10  : 0.8487915974057271\n",
      "NDCG@100 : 0.840899373902425\n"
     ]
    }
   ],
   "source": [
    "_, ndcg10 = ndcgMean(df_cosineDistance_tfidf, 10)\n",
    "_, ndcg100 = ndcgMean(df_cosineDistance_tfidf, 100)\n",
    "print(\"NDCG@10  :\", ndcg10)\n",
    "print(\"NDCG@100 :\", ndcg100)"
   ]
  },
  {
   "cell_type": "code",
   "execution_count": null,
   "metadata": {},
   "outputs": [],
   "source": []
  },
  {
   "cell_type": "markdown",
   "metadata": {},
   "source": []
  },
  {
   "cell_type": "code",
   "execution_count": null,
   "metadata": {},
   "outputs": [],
   "source": []
  },
  {
   "cell_type": "code",
   "execution_count": null,
   "metadata": {},
   "outputs": [],
   "source": []
  },
  {
   "cell_type": "code",
   "execution_count": null,
   "metadata": {},
   "outputs": [],
   "source": []
  },
  {
   "cell_type": "code",
   "execution_count": null,
   "metadata": {},
   "outputs": [],
   "source": []
  },
  {
   "cell_type": "code",
   "execution_count": null,
   "metadata": {},
   "outputs": [],
   "source": []
  },
  {
   "cell_type": "code",
   "execution_count": null,
   "metadata": {},
   "outputs": [],
   "source": []
  },
  {
   "cell_type": "code",
   "execution_count": null,
   "metadata": {},
   "outputs": [],
   "source": []
  }
 ],
 "metadata": {
  "kernelspec": {
   "display_name": "venv",
   "language": "python",
   "name": "venv"
  },
  "language_info": {
   "codemirror_mode": {
    "name": "ipython",
    "version": 3
   },
   "file_extension": ".py",
   "mimetype": "text/x-python",
   "name": "python",
   "nbconvert_exporter": "python",
   "pygments_lexer": "ipython3",
   "version": "3.9.13"
  }
 },
 "nbformat": 4,
 "nbformat_minor": 4
}
